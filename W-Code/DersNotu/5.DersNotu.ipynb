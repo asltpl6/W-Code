{
 "cells": [
  {
   "cell_type": "markdown",
   "id": "039aa0e3-8380-4193-8332-37ea66e6910b",
   "metadata": {},
   "source": [
    "# Kendi Notum"
   ]
  },
  {
   "cell_type": "markdown",
   "id": "ae36988d-c975-4ffb-889f-5e19ae2bc56d",
   "metadata": {},
   "source": [
    "\n",
    "NumPy, bilimsel hesaplamalar için yaygın olarak kullanılan güçlü bir Python kütüphanesidir. Numerical Python anlamına gelir ve özellikle büyük veri kümeleriyle ve çok boyutlu dizilerle (arrays) çalışmayı kolaylaştırır. NumPy, matematiksel işlemler için optimize edilmiş ve verimli yöntemler sunar. Temel olarak, veri işleme ve analiz süreçlerinde kullanılan matris işlemleri ve lineer cebir fonksiyonlarını sağlar."
   ]
  },
  {
   "cell_type": "markdown",
   "id": "b2d88f99-a71d-4581-99d9-70ebf0bb5145",
   "metadata": {},
   "source": [
    "## NumPy Neden Kullanılır?\n",
    "Verimli Çok Boyutlu Diziler (Arrays): NumPy'nin temel veri yapısı ndarray (N-dimensional array) yani çok boyutlu dizilerdir. Bu diziler, Python'un yerleşik listelerine kıyasla daha hızlı ve daha az bellek kullanır."
   ]
  },
  {
   "cell_type": "code",
   "execution_count": 38,
   "id": "a1752979-5c28-453b-83bc-7e51e6f9c3d9",
   "metadata": {},
   "outputs": [
    {
     "name": "stdout",
     "output_type": "stream",
     "text": [
      "[1 2 3 4]\n"
     ]
    }
   ],
   "source": [
    "import numpy as np\n",
    "\n",
    "# 1 boyutlu dizi oluşturma\n",
    "a = np.array([1, 2, 3, 4])\n",
    "print(a)"
   ]
  },
  {
   "cell_type": "code",
   "execution_count": 39,
   "id": "5005621b-214b-4392-b860-89c865fe95ca",
   "metadata": {},
   "outputs": [
    {
     "name": "stdout",
     "output_type": "stream",
     "text": [
      "[[1 2]\n",
      " [3 4]]\n"
     ]
    }
   ],
   "source": [
    "# 2 boyutlu dizi oluşturma\n",
    "b = np.array([[1, 2], [3, 4]])\n",
    "print(b)  "
   ]
  },
  {
   "cell_type": "markdown",
   "id": "829c49ab-b534-4fda-8916-65b568f408c9",
   "metadata": {},
   "source": [
    "Yüksek Performanslı Matematiksel İşlemler: NumPy, vektörler, matrisler ve genel çok boyutlu diziler üzerinde hızlı matematiksel işlemler yapar. Bu işlemler, Python listelerine göre daha optimize edilmiş ve daha hızlıdır."
   ]
  },
  {
   "cell_type": "code",
   "execution_count": 4,
   "id": "93d48d5d-35dc-4d4d-ad0f-48c575e77dc8",
   "metadata": {},
   "outputs": [
    {
     "name": "stdout",
     "output_type": "stream",
     "text": [
      "[5 7 9]\n"
     ]
    }
   ],
   "source": [
    "import numpy as np\n",
    "\n",
    "a = np.array([1, 2, 3])\n",
    "b = np.array([4, 5, 6])\n",
    "\n",
    "# İki dizinin eleman bazlı toplanması\n",
    "toplam = a + b\n",
    "print(toplam)"
   ]
  },
  {
   "cell_type": "code",
   "execution_count": 5,
   "id": "fdbff0cf-2d70-4bb7-88c8-8b022e1f9faf",
   "metadata": {},
   "outputs": [
    {
     "name": "stdout",
     "output_type": "stream",
     "text": [
      "[[19 22]\n",
      " [43 50]]\n"
     ]
    }
   ],
   "source": [
    "# Matris çarpımı\n",
    "matris1 = np.array([[1, 2], [3, 4]])\n",
    "matris2 = np.array([[5, 6], [7, 8]])\n",
    "carpim = np.dot(matris1, matris2)\n",
    "print(carpim)"
   ]
  },
  {
   "cell_type": "markdown",
   "id": "ae1e466e-984b-4455-9d2b-41cbda38e9d2",
   "metadata": {},
   "source": [
    "Büyük Veri Setleri ile Etkili Çalışma: NumPy, milyonlarca veri içeren diziler üzerinde çalışmayı verimli hale getirir. Bu, veri bilimi, makine öğrenimi ve yapay zeka uygulamalarında büyük miktarda veriyi işleme sürecini hızlandırır."
   ]
  },
  {
   "cell_type": "markdown",
   "id": "db84d417-5eea-49f3-9cff-f3f72d027cef",
   "metadata": {},
   "source": [
    "Gelişmiş Matematiksel Fonksiyonlar: NumPy, lineer cebir, istatistik, Fourier dönüşümü gibi matematiksel işlemler için geniş bir fonksiyon yelpazesi sunar."
   ]
  },
  {
   "cell_type": "code",
   "execution_count": 6,
   "id": "cc307f31-c02c-4d5a-b1d7-04ca477767cf",
   "metadata": {},
   "outputs": [
    {
     "name": "stdout",
     "output_type": "stream",
     "text": [
      "[0.0000000e+00 1.0000000e+00 1.2246468e-16]\n"
     ]
    }
   ],
   "source": [
    "# Sinüs fonksiyonu\n",
    "açı = np.array([0, np.pi/2, np.pi])\n",
    "print(np.sin(açı))"
   ]
  },
  {
   "cell_type": "markdown",
   "id": "0d843015-07b3-4e3f-af18-c393c3473c1a",
   "metadata": {},
   "source": [
    "Broadcasting Desteği: NumPy, farklı boyutlardaki dizilerle matematiksel işlemler yapabilen broadcasting özelliğini destekler. Bu, küçük bir dizinin boyutlarının, daha büyük bir diziyle uyumlu olacak şekilde otomatik olarak genişletilmesini sağlar."
   ]
  },
  {
   "cell_type": "code",
   "execution_count": 7,
   "id": "509eafdd-98f8-49cf-9dc4-4d7f8d6dd511",
   "metadata": {},
   "outputs": [
    {
     "name": "stdout",
     "output_type": "stream",
     "text": [
      "[[2 3 4]\n",
      " [3 4 5]\n",
      " [4 5 6]]\n"
     ]
    }
   ],
   "source": [
    "a = np.array([1, 2, 3])\n",
    "b = np.array([[1], [2], [3]])\n",
    "\n",
    "# Eleman bazlı toplama (broadcasting ile)\n",
    "sonuc = a + b\n",
    "print(sonuc)"
   ]
  },
  {
   "cell_type": "markdown",
   "id": "0c823f87-3eef-4221-bcc3-ed134e6858b7",
   "metadata": {},
   "source": [
    "Kolay Veri İthalatı ve İhracatı: NumPy, dosya formatları arasında veri aktarmayı kolaylaştırır. Örneğin, bir diziyi bir dosyaya kaydedebilir veya bir dosyadan yükleyebilirsiniz."
   ]
  },
  {
   "cell_type": "code",
   "execution_count": 8,
   "id": "c3ea2de4-aea6-4ac4-8d3d-a833533dcb30",
   "metadata": {},
   "outputs": [
    {
     "name": "stdout",
     "output_type": "stream",
     "text": [
      "[1 2 3]\n"
     ]
    }
   ],
   "source": [
    "# Dizi kaydetme\n",
    "np.save('veri.npy', a)\n",
    "\n",
    "# Dizi yükleme\n",
    "veri = np.load('veri.npy')\n",
    "print(veri) "
   ]
  },
  {
   "cell_type": "markdown",
   "id": "aafefff1-797b-4ed9-ab06-55851e11b6f4",
   "metadata": {},
   "source": [
    "# NumPy'ye Giriş\n",
    "\n",
    "**Neden NumPy?**\n",
    "\n",
    "- Hızlı ve verimli veri işlemleri\n",
    "- Çok boyutlu diziler (ndarray)\n",
    "- NumPy'nin avantajları ve veri biliminde önemi\n",
    "\n",
    "**NumPy Kurulumu**\n",
    "\n",
    "Python ortamında NumPy kurulumu:\n",
    "\n",
    "```bash\n",
    "pip install numpy\n",
    "```\n",
    "\n",
    "NumPy kütüphanesinin projeye dahil edilmesi:\n",
    "```python\n",
    "import numpy as np\n",
    "```\n",
    "numpy as np\n",
    "```\n"
   ]
  },
  {
   "cell_type": "markdown",
   "id": "fe1beec4-372d-4062-a36e-411e046b0e4d",
   "metadata": {},
   "source": [
    "## NumPy Dizileri (ndarray)\n",
    "\n",
    "**NumPy Dizisi Oluşturma**\n",
    "\n",
    "NumPy ile oluşturduğumuz dizilerin Python ile oluşturulan listelerden birkaç temel farkı ve benzerlikleri var bunları şu şekilde inceleyebiliriz.\n",
    "\n",
    "Benzerlikleri:\n",
    "- İkisi de birden fazla veri saklar.\n",
    "- Sıfırdan başlayan indeksleme ve dilimleme yapılabilir.\n",
    "  \n",
    "Farklılıkları:\n",
    "- Python Listesi: Farklı türde verileri bir arada tutabilir, daha -yavaş çalışır.\n",
    "- NumPy Dizisi: Tek bir türde veri içerir, daha hızlı ve verimli, \n",
    "matematiksel işlemler kolayca yapılabilir.\n"
   ]
  },
  {
   "cell_type": "markdown",
   "id": "d4ccff86-68b1-40a5-8254-87b0d7a74fa0",
   "metadata": {},
   "source": [
    "Kütüphanenin projeye dahil edilmesi\n",
    "- Burada kullandığımız import anahtar kelimesi kutuphanemizi projemize eklememizi sağlar\n",
    "- Ardından gelen as ifadesi proje içerisinde kütüphanemize erişirken kullanacağımız ifadeyi belirler"
   ]
  },
  {
   "cell_type": "markdown",
   "id": "fb544dad-4b7d-41e4-b9ea-cd948b7e367f",
   "metadata": {},
   "source": [
    "import numpy as np"
   ]
  },
  {
   "cell_type": "markdown",
   "id": "c201030d-5e6d-44c3-85c8-812956074534",
   "metadata": {},
   "source": [
    "`np.array()`\n",
    "- içerisine verdiğizmiz listeleri NumPy arraylerine çeviren fonksiyondu"
   ]
  },
  {
   "cell_type": "code",
   "execution_count": 43,
   "id": "1b4531d8-8297-43fe-a2dc-82919cfce14a",
   "metadata": {},
   "outputs": [
    {
     "name": "stdout",
     "output_type": "stream",
     "text": [
      "Array a: [1 2 3]\n"
     ]
    }
   ],
   "source": [
    "a = np.array([1, 2, 3])\n",
    "print('Array a:', a)"
   ]
  },
  {
   "cell_type": "markdown",
   "id": "005dca4b-8a9a-4397-96ac-9c03b2a5007c",
   "metadata": {},
   "source": [
    "`np.zeros()`\n",
    "- Sıfırlardan oluşan bir dizi oluşturmak için zeros fonksiyonunu kullanıyoruz  \n",
    "- Burada 2x2 boyutunda bir dizi oluşturuyoruz  \n",
    "- ilk parametre satır sayısını, ikinci parametre sütun sayısını belirtiyor  "
   ]
  },
  {
   "cell_type": "code",
   "execution_count": 44,
   "id": "8d446d4c-b548-409d-ac38-244726246e57",
   "metadata": {},
   "outputs": [
    {
     "name": "stdout",
     "output_type": "stream",
     "text": [
      "Zeros:\n",
      " [[0. 0.]\n",
      " [0. 0.]]\n"
     ]
    }
   ],
   "source": [
    "zeros = np.zeros((2, 2))\n",
    "print('Zeros:\\n', zeros)"
   ]
  },
  {
   "cell_type": "code",
   "execution_count": 45,
   "id": "957178c9-bca1-4214-a57b-83f0b4f3e124",
   "metadata": {},
   "outputs": [
    {
     "data": {
      "text/plain": [
       "array([[0., 0., 0.],\n",
       "       [0., 0., 0.],\n",
       "       [0., 0., 0.]])"
      ]
     },
     "execution_count": 45,
     "metadata": {},
     "output_type": "execute_result"
    }
   ],
   "source": [
    "a=np.zeros((3,3))\n",
    "a"
   ]
  },
  {
   "cell_type": "markdown",
   "id": "7114de09-22a3-469e-b9b0-cc67b97aa614",
   "metadata": {},
   "source": [
    "`np.ones()`\n",
    "- Birlerden oluşan bir dizi  \n",
    "- 3x3 boyutunda bir dizi oluşturuyoruz  \n",
    "- ilk parametre satır sayısını, ikinci parametre sütun sayısını belirtiyor  "
   ]
  },
  {
   "cell_type": "code",
   "execution_count": 46,
   "id": "727f9cb0-c751-41e5-bfb5-c02eaa5eb323",
   "metadata": {},
   "outputs": [
    {
     "name": "stdout",
     "output_type": "stream",
     "text": [
      "Ones:\n",
      " [[1. 1. 1.]\n",
      " [1. 1. 1.]\n",
      " [1. 1. 1.]]\n"
     ]
    }
   ],
   "source": [
    "ones = np.ones((3, 3))\n",
    "print('Ones:\\n', ones)"
   ]
  },
  {
   "cell_type": "code",
   "execution_count": 47,
   "id": "f60d8c83-ae9e-4988-857b-130ec6bf28e0",
   "metadata": {},
   "outputs": [
    {
     "data": {
      "text/plain": [
       "array([[1., 1., 1., 1., 1., 1., 1., 1.],\n",
       "       [1., 1., 1., 1., 1., 1., 1., 1.],\n",
       "       [1., 1., 1., 1., 1., 1., 1., 1.],\n",
       "       [1., 1., 1., 1., 1., 1., 1., 1.],\n",
       "       [1., 1., 1., 1., 1., 1., 1., 1.],\n",
       "       [1., 1., 1., 1., 1., 1., 1., 1.],\n",
       "       [1., 1., 1., 1., 1., 1., 1., 1.],\n",
       "       [1., 1., 1., 1., 1., 1., 1., 1.]])"
      ]
     },
     "execution_count": 47,
     "metadata": {},
     "output_type": "execute_result"
    }
   ],
   "source": [
    "b=np.ones((8,8))\n",
    "b"
   ]
  },
  {
   "cell_type": "markdown",
   "id": "edc3c9be-ca71-420a-8e1f-763955909688",
   "metadata": {},
   "source": [
    "`np.full()`\n",
    "- Sabit bir değerden oluşan bir dizi oluşturmak için kullanırız\n",
    "- 2x2 boyutunda bir dizi oluşturuyoruz\n",
    "- ilk parametre olarak verdiğimiz tuple, dizinin boyutunu belirtir\n",
    "- tuple içerisindeki ilk parametre satır sayısını, ikinci parametre sütun sayısını belirtir\n",
    "- ikinci parametre ise dizinin içerisindeki sabit değeri belirtir"
   ]
  },
  {
   "cell_type": "code",
   "execution_count": 48,
   "id": "7d4d6676-8578-4a29-8836-971c43f33ca3",
   "metadata": {},
   "outputs": [
    {
     "name": "stdout",
     "output_type": "stream",
     "text": [
      "Full:\n",
      " [[5 5]\n",
      " [5 5]]\n"
     ]
    }
   ],
   "source": [
    "full = np.full((2, 2), 5)\n",
    "print('Full:\\n', full)"
   ]
  },
  {
   "cell_type": "code",
   "execution_count": 49,
   "id": "2bdfcc3d-e30d-4a9c-a3f5-84316f09e202",
   "metadata": {},
   "outputs": [
    {
     "data": {
      "text/plain": [
       "array([[5, 5, 5, 5, 5, 5],\n",
       "       [5, 5, 5, 5, 5, 5],\n",
       "       [5, 5, 5, 5, 5, 5],\n",
       "       [5, 5, 5, 5, 5, 5]])"
      ]
     },
     "execution_count": 49,
     "metadata": {},
     "output_type": "execute_result"
    }
   ],
   "source": [
    "c = np.full((4, 6), 5)\n",
    "c"
   ]
  },
  {
   "cell_type": "markdown",
   "id": "b2b77db1-7bde-4a84-88a8-1d6d030f1b57",
   "metadata": {},
   "source": [
    "`np.eye()`\n",
    "- Birim matris oluşturmak için kullandığımız komut\n",
    "- içerisine yalnızca birim matrisin köşegen uzunluğunu alır"
   ]
  },
  {
   "cell_type": "code",
   "execution_count": 50,
   "id": "14fc0a70-b477-4ad3-9ae3-cdf103da70e6",
   "metadata": {},
   "outputs": [
    {
     "name": "stdout",
     "output_type": "stream",
     "text": [
      "Eye:\n",
      " [[1. 0. 0. 0. 0.]\n",
      " [0. 1. 0. 0. 0.]\n",
      " [0. 0. 1. 0. 0.]\n",
      " [0. 0. 0. 1. 0.]\n",
      " [0. 0. 0. 0. 1.]]\n"
     ]
    }
   ],
   "source": [
    "eye = np.eye(5)\n",
    "print('Eye:\\n', eye)"
   ]
  },
  {
   "cell_type": "code",
   "execution_count": 51,
   "id": "375b30a5-5117-4db2-a127-f4b927b9303f",
   "metadata": {},
   "outputs": [
    {
     "data": {
      "text/plain": [
       "array([[1., 0., 0., 0., 0., 0., 0., 0., 0.],\n",
       "       [0., 1., 0., 0., 0., 0., 0., 0., 0.],\n",
       "       [0., 0., 1., 0., 0., 0., 0., 0., 0.],\n",
       "       [0., 0., 0., 1., 0., 0., 0., 0., 0.],\n",
       "       [0., 0., 0., 0., 1., 0., 0., 0., 0.],\n",
       "       [0., 0., 0., 0., 0., 1., 0., 0., 0.],\n",
       "       [0., 0., 0., 0., 0., 0., 1., 0., 0.],\n",
       "       [0., 0., 0., 0., 0., 0., 0., 1., 0.],\n",
       "       [0., 0., 0., 0., 0., 0., 0., 0., 1.]])"
      ]
     },
     "execution_count": 51,
     "metadata": {},
     "output_type": "execute_result"
    }
   ],
   "source": [
    "d = np.eye(9)\n",
    "d"
   ]
  },
  {
   "cell_type": "markdown",
   "id": "e3385014-456a-4f67-a2b5-8999d791df5b",
   "metadata": {},
   "source": [
    "`np.arange(x,y,z)`\n",
    "- x sayısından y sayısına kadar istediğimiz adım aralığı ile değerler oluşturmamızı sağlar.\n",
    "- x başlangıç sayımız\n",
    "- y bitiş sayımız (y'e kadar olduğundan y dahil değil)\n",
    "- z adım aralığımız"
   ]
  },
  {
   "cell_type": "code",
   "execution_count": 52,
   "id": "44dc56d1-cea3-4aaa-bf7d-25903228725e",
   "metadata": {},
   "outputs": [
    {
     "name": "stdout",
     "output_type": "stream",
     "text": [
      "Arange: [0 2 4 6 8]\n"
     ]
    }
   ],
   "source": [
    "arange = np.arange(0, 10, 2)\n",
    "print('Arange:', arange)"
   ]
  },
  {
   "cell_type": "code",
   "execution_count": 53,
   "id": "01a8f0a3-b3ed-492e-81c2-6d677b4c1da1",
   "metadata": {},
   "outputs": [
    {
     "name": "stdout",
     "output_type": "stream",
     "text": [
      "Arange: [[ 0  2  4  6]\n",
      " [ 8 10 12 14]\n",
      " [16 18 20 22]]\n"
     ]
    }
   ],
   "source": [
    "arange = np.arange(0, 100, 2)\n",
    "arange.resize(3,4)\n",
    "print('Arange:', arange)"
   ]
  },
  {
   "cell_type": "markdown",
   "id": "31ed5071-9464-4b05-b856-59c573fe17ac",
   "metadata": {},
   "source": [
    "`np.linspace(x, y, z)`\n",
    "\n",
    "- x sayısından y sayısına kadar z sayısında eşit aralıklı değerler oluşturmamızı sağlar.\n",
    "- x başlangıç sayımız\n",
    "- y bitiş sayımız (y'e kadar olan değerler, y dahil)\n",
    "- z oluşturulacak değer sayısı"
   ]
  },
  {
   "cell_type": "code",
   "execution_count": 13,
   "id": "145b20c8-f537-4c99-afc2-b7efed775455",
   "metadata": {},
   "outputs": [
    {
     "name": "stdout",
     "output_type": "stream",
     "text": [
      "Linspace: [0.  0.1 0.2 0.3 0.4 0.5 0.6 0.7 0.8 0.9 1. ]\n"
     ]
    }
   ],
   "source": [
    "linspace = np.linspace(0, 1, 11)\n",
    "print('Linspace:', linspace)"
   ]
  },
  {
   "cell_type": "markdown",
   "id": "0f95e329-cc6b-48ec-9ff5-47824c00f1bb",
   "metadata": {},
   "source": [
    "## Dizi Özellikleri"
   ]
  },
  {
   "cell_type": "markdown",
   "id": "4e6bdd32-c3bf-47aa-8143-2c3a8a6e841f",
   "metadata": {},
   "source": [
    "Dizi boyutları (shape), veri tipi (dtype), boyut sayısı (ndim), dizi boyutu (size)\n",
    "\n",
    "- **a.shape**: Dizinin boyutlarını verir. Kaç satır ve sütundan oluştuğunu gösterir.\n",
    "    - Örneğin: `(2, 3)` -> 2. satır, 3. sütun.\n",
    "  \n",
    "- **a.dtype**: Dizideki elemanların veri tipini döner. NumPy dizileri tek bir veri türünden elemanlar içerir.\n",
    "    - Örneğin: `int32`, `float64` gibi veri tipleri olabilir.\n",
    "  \n",
    "- **a.ndim**: Dizinin boyut sayısını döner. Tek boyutlu, iki boyutlu veya daha yüksek boyutlu bir dizi olup olmadığını gösterir.\n",
    "    - Örneğin: 2D diziler için `2`, 3D diziler için `3`.\n",
    "  \n",
    "- **a.size**: Dizinin toplam kaç elemandan oluştuğunu gösterir.\n",
    "    - Örneğin: `(2, 3)` boyutlu bir dizi için 6 eleman olacaktır."
   ]
  },
  {
   "cell_type": "code",
   "execution_count": 54,
   "id": "b2da9f61-ffda-4e26-aa3e-da95453061ff",
   "metadata": {},
   "outputs": [
    {
     "name": "stdout",
     "output_type": "stream",
     "text": [
      "Shape: (2, 3)\n",
      "Data type: int32\n",
      "Number of dimensions: 2\n",
      "Size: 6\n"
     ]
    }
   ],
   "source": [
    "a = np.array([[1, 2, 3], [4, 5, 6]])\n",
    "print('Shape:', a.shape)\n",
    "print('Data type:', a.dtype)\n",
    "print('Number of dimensions:', a.ndim)\n",
    "print('Size:', a.size)"
   ]
  },
  {
   "cell_type": "markdown",
   "id": "98c4a052-9620-4ef2-a421-7d389defb4ab",
   "metadata": {},
   "source": [
    "`np.reshape()`\r\n",
    "\r\n",
    "- x.reshape() fonksiyonu, `x` dizisini yeniden şekillendirerek, dizinin elemanlarının sırasını değiştirmeden 3 satır ve 2 sütundan oluşan yeni bir dizi oluşturur."
   ]
  },
  {
   "cell_type": "code",
   "execution_count": 55,
   "id": "3ba9314d-a82e-4316-bf93-28e5378898d3",
   "metadata": {},
   "outputs": [
    {
     "name": "stdout",
     "output_type": "stream",
     "text": [
      "Reshaped array:\n",
      " [[1 2]\n",
      " [3 4]\n",
      " [5 6]]\n"
     ]
    }
   ],
   "source": [
    "reshaped = a.reshape(3, 2)\n",
    "print('Reshaped array:\\n', reshaped)"
   ]
  },
  {
   "cell_type": "code",
   "execution_count": 56,
   "id": "ec871372-94e7-474d-bee6-2991e0de44b7",
   "metadata": {},
   "outputs": [
    {
     "data": {
      "text/plain": [
       "array([[1, 2, 3],\n",
       "       [4, 5, 6]])"
      ]
     },
     "execution_count": 56,
     "metadata": {},
     "output_type": "execute_result"
    }
   ],
   "source": [
    "z = a.reshape(2, 3)\n",
    "z"
   ]
  },
  {
   "cell_type": "markdown",
   "id": "40ce8fe9-19fa-4adc-bd17-2b0dc9d9418c",
   "metadata": {},
   "source": [
    "## Dizilerde Elemanlara Erişim"
   ]
  },
  {
   "cell_type": "markdown",
   "id": "2289f305-472d-43f4-a852-42c28a43c9c9",
   "metadata": {},
   "source": [
    "**Dizinin Elemanlarına Erişim**\n",
    "\n",
    "Bir NumPy dizisinin belirli bir elemanına indeksleyerek erişebiliriz. İndeksleme, tıpkı Python listelerinde olduğu gibi sıfırdan başlar. Ayrıca, negatif indeksleme kullanarak dizinin sonundan başlayarak elemanlara erişebilirsiniz."
   ]
  },
  {
   "cell_type": "code",
   "execution_count": 58,
   "id": "369b7062-4c44-41e4-a54f-996a08e55929",
   "metadata": {},
   "outputs": [
    {
     "name": "stdout",
     "output_type": "stream",
     "text": [
      "İlk eleman: 1\n",
      "Son eleman: 5\n"
     ]
    }
   ],
   "source": [
    "a = np.array([1, 2, 3, 4, 5])\n",
    "print('İlk eleman:', a[0])\n",
    "print('Son eleman:', a[-1])"
   ]
  },
  {
   "cell_type": "markdown",
   "id": "e18752ee-7444-4856-9503-88e6e01f32c1",
   "metadata": {},
   "source": [
    "## Çok Boyutlu Dizilerde Elemanlara Erişim\n",
    "\n",
    "NumPy, çok boyutlu dizilerle çalışmayı kolaylaştırır. İki boyutlu dizilerde, elemanlara, satırlara ve sütunlara kolayca erişebilirsiniz.\n",
    "\n",
    "- b[x, y]: Dizinin (x, y) pozisyonundaki elemanına erişir (ilk satır, ikinci sütun).\n",
    "- b[x, :]: Dizinin x. satırındaki tüm elemanlara erişir.\n",
    "- b[:, y]: Dizinin y. sütunundaki tüm elemanlara erişir."
   ]
  },
  {
   "cell_type": "code",
   "execution_count": 59,
   "id": "2a729f7a-1c50-45ab-91cd-bfbf44781b80",
   "metadata": {},
   "outputs": [
    {
     "name": "stdout",
     "output_type": "stream",
     "text": [
      "Element at position (0, 1): 2\n",
      "Row 1: [4 5 6]\n",
      "Column 0: [1 4]\n"
     ]
    }
   ],
   "source": [
    "b = np.array([[1, 2, 3], [4, 5, 6]])\n",
    "print('Element at position (0, 1):', b[0, 1])\n",
    "print('Row 1:', b[1, :])\n",
    "print('Column 0:', b[:, 0])"
   ]
  },
  {
   "cell_type": "markdown",
   "id": "af372451-e540-42de-bc59-2bf489d3c3a2",
   "metadata": {},
   "source": [
    "**Slicing(Dilimleme)**\n",
    "\n",
    "- c[1:4]: Dizinin 1. indeksinden başlayarak 4. indekse kadar olan (4 dahil değil) elemanları alır.\n",
    "- Dilimleme işlemi, [başlangıç,bitiş] formatında yapılır. Bitiş indeksi dahil edilmez."
   ]
  },
  {
   "cell_type": "code",
   "execution_count": 60,
   "id": "81ff67c0-0847-4501-ad49-bd450c548abd",
   "metadata": {},
   "outputs": [
    {
     "name": "stdout",
     "output_type": "stream",
     "text": [
      "Slice of array: [20 30 40]\n"
     ]
    }
   ],
   "source": [
    "# Dizi dilimleme ve indeksleme\n",
    "c = np.array([10, 20, 30, 40, 50])\n",
    "print('Slice of array:', c[1:4])"
   ]
  },
  {
   "cell_type": "markdown",
   "id": "c94ebdcf-48b5-41d6-98fc-c423e51d0fea",
   "metadata": {},
   "source": [
    "## NumPy ile Matematiksel İşlemler"
   ]
  },
  {
   "cell_type": "code",
   "execution_count": 61,
   "id": "b5c90850-d2fa-4ba4-9e46-05fe189b3b8f",
   "metadata": {},
   "outputs": [],
   "source": [
    "a = np.array([1, 2, 3])\n",
    "b = np.array([4, 5, 6])"
   ]
  },
  {
   "cell_type": "markdown",
   "id": "b9ae23ca-8076-4055-9149-b5a582df70bd",
   "metadata": {},
   "source": [
    "**Elemanlar Üzerinde Matematiksel İşlemler**"
   ]
  },
  {
   "cell_type": "markdown",
   "id": "d6bb3170-6952-4246-a810-18dbe77c0ea6",
   "metadata": {},
   "source": [
    "**Toplama (a + b):**\n",
    "- Dizinin her bir elemanı sırayla toplanır. Örneğin:\n",
    "  - İlk elemanlar (1 + 4 = 5), ikinci elemanlar (2 + 5 = 7), üçüncü elemanlar (3 + 6 = 9) olarak hesaplanır.  \n",
    "     Sonuç: [5, 7, 9]"
   ]
  },
  {
   "cell_type": "code",
   "execution_count": 62,
   "id": "77f1721e-6ba3-4e6c-8866-db347a278ad6",
   "metadata": {},
   "outputs": [
    {
     "name": "stdout",
     "output_type": "stream",
     "text": [
      "a + b: [5 7 9]\n"
     ]
    }
   ],
   "source": [
    "print('a + b:', a + b)"
   ]
  },
  {
   "cell_type": "markdown",
   "id": "f075725c-4819-49b9-b42a-4d37de17ca11",
   "metadata": {},
   "source": [
    "**Çıkarma (a - b):**\n",
    "- Aynı konumdaki elemanlar sırayla çıkarılır. Örneğin:\n",
    "  - İlk elemanlar (1 - 4 = -3), ikinci elemanlar (2 - 5 = -3), üçüncü elemanlar (3 - 6 = -3).\n",
    "    -Sonuç: [-3, -3, -3]"
   ]
  },
  {
   "cell_type": "code",
   "execution_count": 63,
   "id": "867f4e45-de55-4823-9148-4d7e270f2598",
   "metadata": {},
   "outputs": [
    {
     "name": "stdout",
     "output_type": "stream",
     "text": [
      "a - b: [-3 -3 -3]\n"
     ]
    }
   ],
   "source": [
    "print('a - b:', a - b)"
   ]
  },
  {
   "cell_type": "markdown",
   "id": "44aef885-4733-4e6c-93f4-f53de3cbc812",
   "metadata": {},
   "source": [
    "**Çarpma (a * b):**\n",
    "- Dizilerin elemanları sırayla çarpılır. Örneğin:\n",
    "  - İlk elemanlar (1 * 4 = 4), ikinci elemanlar (2 * 5 = 10), üçüncü elemanlar (3 * 6 = 18).\n",
    "    - Sonuç: [4, 10, 18]"
   ]
  },
  {
   "cell_type": "code",
   "execution_count": 64,
   "id": "8e7f2311-fa16-4800-856a-fe6f71ab566d",
   "metadata": {},
   "outputs": [
    {
     "name": "stdout",
     "output_type": "stream",
     "text": [
      "a * b: [ 4 10 18]\n"
     ]
    }
   ],
   "source": [
    "print('a * b:', a * b)"
   ]
  },
  {
   "cell_type": "markdown",
   "id": "0981f3eb-246c-4357-b42a-85fe9c563d63",
   "metadata": {},
   "source": [
    "**Bölme (a / b):**\n",
    "- Dizilerin elemanları sırayla bölünür. Örneğin:\n",
    "  - İlk elemanlar (1 / 4 = 0.25), ikinci elemanlar (2 / 5 = 0.4), üçüncü elemanlar (3 / 6 = 0.5).\n",
    "    - Sonuç: [0.25, 0.4, 0.5]"
   ]
  },
  {
   "cell_type": "code",
   "execution_count": 65,
   "id": "3aa4fb38-6c54-4796-ba02-85547e10e8fa",
   "metadata": {},
   "outputs": [
    {
     "name": "stdout",
     "output_type": "stream",
     "text": [
      "a / b: [0.25 0.4  0.5 ]\n"
     ]
    }
   ],
   "source": [
    "print('a / b:', a / b)"
   ]
  },
  {
   "cell_type": "markdown",
   "id": "d339a053-5e0b-405c-87f3-cbd6c9ae92fa",
   "metadata": {},
   "source": [
    "**Üs alma (a ** 2):**\n",
    "- Dizinin her bir elemanının karesi alınır. Örneğin:\n",
    "  - İlk eleman (1 ** 2 = 1), ikinci eleman (2 ** 2 = 4), üçüncü eleman (3 ** 2 = 9).\n",
    "    - Sonuç: [1, 4, 9]"
   ]
  },
  {
   "cell_type": "code",
   "execution_count": 66,
   "id": "7d866952-650c-4d7e-8488-688a59399827",
   "metadata": {},
   "outputs": [
    {
     "name": "stdout",
     "output_type": "stream",
     "text": [
      "a ** 2: [1 4 9]\n"
     ]
    }
   ],
   "source": [
    "print('a ** 2:', a ** 2)"
   ]
  },
  {
   "cell_type": "markdown",
   "id": "e58629a8-97c2-4b16-b350-88ca9531d73e",
   "metadata": {},
   "source": [
    "**Karekök (np.sqrt(a)):**\n",
    "- Dizinin her bir elemanının karekökü alınır. Örneğin:\n",
    "  - İlk eleman √1 = 1.0, ikinci eleman √2 ≈ 1.41, üçüncü eleman √3 ≈ 1.73.\n",
    "    - Sonuç: [1.0, 1.41, 1.73]"
   ]
  },
  {
   "cell_type": "code",
   "execution_count": 67,
   "id": "86d09b9e-0a91-4f81-a915-8b5d4e734cb1",
   "metadata": {},
   "outputs": [
    {
     "name": "stdout",
     "output_type": "stream",
     "text": [
      "sqrt(a): [1.         1.41421356 1.73205081]\n"
     ]
    }
   ],
   "source": [
    "print('sqrt(a):', np.sqrt(a))"
   ]
  },
  {
   "cell_type": "markdown",
   "id": "976ec8dc-ef83-4caa-a914-3e86e5c7ae30",
   "metadata": {},
   "source": [
    "**Logaritma (np.log(a)):**\n",
    "- Dizinin her bir elemanının doğal logaritması alınır. Örneğin:\n",
    "  - İlk eleman log(1) = 0, ikinci eleman log(2) ≈ 0.69, üçüncü eleman log(3) ≈ 1.10."
   ]
  },
  {
   "cell_type": "code",
   "execution_count": 68,
   "id": "34cc7c1e-9f6e-4b5b-aa2e-2f014e076aeb",
   "metadata": {},
   "outputs": [
    {
     "name": "stdout",
     "output_type": "stream",
     "text": [
      "log(a): [0.         0.69314718 1.09861229]\n"
     ]
    }
   ],
   "source": [
    "print('log(a):', np.log(a))"
   ]
  },
  {
   "cell_type": "markdown",
   "id": "f86e4c35-b92f-42a2-a20e-4df6b1b85141",
   "metadata": {},
   "source": [
    "**Matris İşlemleri**"
   ]
  },
  {
   "cell_type": "code",
   "execution_count": 69,
   "id": "f09bc2b4-105a-40c4-9d61-9594198efe70",
   "metadata": {},
   "outputs": [],
   "source": [
    "A = np.array([[1, 2], [3, 4]])\n",
    "B = np.array([[5, 6], [7, 8]])"
   ]
  },
  {
   "cell_type": "markdown",
   "id": "07926676-0298-4dca-bc55-2b290403406b",
   "metadata": {},
   "source": [
    "1. **Matris Çarpımı (np.dot(A, B))**:\n",
    "    - İki matrisin çarpımını verir. Matris çarpımı, iki matrisin elemanlarının belirli bir düzenle çarpılıp toplanması ile yapılır.\n",
    "    \n",
    "    - Sonuç:\n",
    "    $$\n",
    "    A \\cdot B = \\begin{bmatrix} 1*5 + 2*7 & 1*6 + 2*8 \\\\ 3*5 + 4*7 & 3*6 + 4*8 \\end{bmatrix} = \\begin{bmatrix} 19 & 22 \\\\ 43 & 50 \\end{bmatrix}\n",
    "    $$"
   ]
  },
  {
   "cell_type": "code",
   "execution_count": 70,
   "id": "7b8ed9a8-eb63-46b0-885e-7e48ac79a6f2",
   "metadata": {},
   "outputs": [
    {
     "name": "stdout",
     "output_type": "stream",
     "text": [
      "A dot B:\n",
      " [[19 22]\n",
      " [43 50]]\n"
     ]
    }
   ],
   "source": [
    "# Matris çarpımı\n",
    "print('A dot B:\\n', np.dot(A, B))"
   ]
  },
  {
   "cell_type": "markdown",
   "id": "da24184d-deae-4a62-877a-fd13f23171ec",
   "metadata": {},
   "source": [
    "2. **Transpoz (A.T)**:\n",
    "    - Matrisin satır ve sütunlarının yer değiştirmesi anlamına gelir.\n",
    "    \n",
    "    - Örneğin, \\(\\text{A}^T\\) şu şekilde olur:\n",
    "    \n",
    "    $$\n",
    "    A^T = \\begin{bmatrix} 1 & 2 \\\\ 3 & 4 \\end{bmatrix}^T = \\begin{bmatrix} 1 & 3 \\\\ 2 & 4 \\end{bmatrix}\n",
    "    $$"
   ]
  },
  {
   "cell_type": "code",
   "execution_count": 71,
   "id": "e6234f5a-24b9-4066-bac3-528f98cc3fa3",
   "metadata": {},
   "outputs": [
    {
     "name": "stdout",
     "output_type": "stream",
     "text": [
      "Transpose of A:\n",
      " [[1 3]\n",
      " [2 4]]\n"
     ]
    }
   ],
   "source": [
    "# Transpoz\n",
    "print('Transpose of A:\\n', A.T)"
   ]
  },
  {
   "cell_type": "markdown",
   "id": "3b949f3b-067a-4193-8002-71228de70586",
   "metadata": {},
   "source": [
    "3. **Ters Matris (np.linalg.inv(A))**:\n",
    "    - Bir kare X matrisi ile çarpımı birim matris olan matrise X matrisinin ters matrisi denir\n",
    "    \n",
    "    - A matrisinin tersi şu şekilde hesaplanır:\n",
    "    \n",
    "    $$\n",
    "    A^{-1} = \\begin{bmatrix} 1 & 2 \\\\ 3 & 4 \\end{bmatrix}^{-1} = \\frac{1}{(1*4 - 2*3)} \\begin{bmatrix} 4 & -2 \\\\ -3 & 1 \\end{bmatrix} = \\begin{bmatrix} -2 & 1 \\\\ 1.5 & -0.5 \\end{bmatrix}\n",
    "    $$"
   ]
  },
  {
   "cell_type": "code",
   "execution_count": 72,
   "id": "80a6713b-c882-4361-ae63-fd63ffd0c424",
   "metadata": {},
   "outputs": [
    {
     "name": "stdout",
     "output_type": "stream",
     "text": [
      "Inverse of A:\n",
      " [[-2.   1. ]\n",
      " [ 1.5 -0.5]]\n"
     ]
    }
   ],
   "source": [
    "# Ters matris\n",
    "print('Inverse of A:\\n', np.linalg.inv(A))"
   ]
  },
  {
   "cell_type": "markdown",
   "id": "83037c5f-6bcf-46db-8cc6-a9ccea426997",
   "metadata": {},
   "source": [
    "## NumPy ile Veri Manipülasyonu\n",
    "\n",
    "**Dizi Birleştirme ve Ayırma**"
   ]
  },
  {
   "cell_type": "code",
   "execution_count": 73,
   "id": "5f2e1a6a-d6ec-4e73-82a0-20ecaa2dc21f",
   "metadata": {},
   "outputs": [],
   "source": [
    "a = np.array([1, 2])\n",
    "b = np.array([3, 4])"
   ]
  },
  {
   "cell_type": "markdown",
   "id": "f56452e0-fd16-46e6-9cbd-ae7c72c5d313",
   "metadata": {},
   "source": [
    "### Yatay Birleştirme (np.hstack):\n",
    "\n",
    "`np.hstack()` fonksiyonu, dizileri yatay olarak birleştirir. Bu işlemde diziler yanyana eklenir.  \n",
    "Örneğin: `[1, 2]` ve `[3, 4]` dizileri birleştirildiğinde sonuç `[1, 2, 3, 4]` olacaktır."
   ]
  },
  {
   "cell_type": "code",
   "execution_count": 75,
   "id": "46502ea7-0d34-464d-b14b-f978b7140683",
   "metadata": {},
   "outputs": [
    {
     "name": "stdout",
     "output_type": "stream",
     "text": [
      "Horizontal stack: [1 2 3 4]\n"
     ]
    }
   ],
   "source": [
    "# Yatay birleştirme\n",
    "hstack = np.hstack((a, b))\n",
    "print('Horizontal stack:', hstack)"
   ]
  },
  {
   "cell_type": "markdown",
   "id": "04efd73f-b29c-4ad8-a128-5ab593eac999",
   "metadata": {},
   "source": [
    "### Dikey Birleştirme (np.vstack):\n",
    "\n",
    "`np.vstack()` fonksiyonu, dizileri dikey olarak birleştirir. Bu işlemde diziler alt alta eklenir.  \n",
    "Örneğin: `[1, 2]` ve `[3, 4]` dizileri birleştirildiğinde sonuç şu şekilde olur:\n",
    "\n",
    "$$\n",
    "\\begin{bmatrix} \n",
    "1 & 2 \\\\\n",
    "3 & 4 \n",
    "\\end{bmatrix}\n",
    "$$"
   ]
  },
  {
   "cell_type": "code",
   "execution_count": 76,
   "id": "1a8314d8-e418-460a-880c-4e6e4af83bbb",
   "metadata": {},
   "outputs": [
    {
     "name": "stdout",
     "output_type": "stream",
     "text": [
      "Vertical stack:\n",
      " [[1 2]\n",
      " [3 4]]\n"
     ]
    }
   ],
   "source": [
    "# Dikey birleştirme\n",
    "vstack = np.vstack((a, b))\n",
    "print('Vertical stack:\\n', vstack)"
   ]
  },
  {
   "cell_type": "markdown",
   "id": "d43cd848-b7fa-4bec-bbe4-04d80bd5ce49",
   "metadata": {},
   "source": [
    "### Dizi Ayırma (np.array_split):\n",
    "\n",
    "`np.array_split()` fonksiyonu, diziyi belirli bir sayıda alt dizilere ayırır.  \n",
    "Örneğin, `[1, 2, 3, 4]` dizisini 2 parçaya böldüğümüzde sonuç `[[1, 2], [3, 4]]` olacaktır."
   ]
  },
  {
   "cell_type": "code",
   "execution_count": 77,
   "id": "2a1b7829-1bcd-4463-8388-fcc8bcfffa08",
   "metadata": {},
   "outputs": [
    {
     "name": "stdout",
     "output_type": "stream",
     "text": [
      "Split arrays: [array([1, 2]), array([3, 4])]\n"
     ]
    }
   ],
   "source": [
    "# Dizi ayırma\n",
    "split = np.array_split(hstack, 2)\n",
    "print('Split arrays:', split)"
   ]
  },
  {
   "cell_type": "markdown",
   "id": "0d891fe3-e9c1-4117-85e1-49a890100b4a",
   "metadata": {},
   "source": [
    "### Dizilerde Filtreleme"
   ]
  },
  {
   "cell_type": "code",
   "execution_count": 78,
   "id": "6ff6fb72-5758-46ac-9d7e-d56bc8ccd274",
   "metadata": {},
   "outputs": [],
   "source": [
    "a = np.array([1, 2, 3, 4, 5])"
   ]
  },
  {
   "cell_type": "markdown",
   "id": "24ea71f3-0ecc-4205-88b7-01f479283ae3",
   "metadata": {},
   "source": [
    "Filtreleme işlemi dizilerin içerisinden belirli aralıklar ile değer almaktan fazlasını yamamızı sağlayan yöntemdir.  "
   ]
  },
  {
   "cell_type": "markdown",
   "id": "29bb0f8f-b712-4aca-9404-bdad2d34a6f8",
   "metadata": {},
   "source": [
    "Bir filtre belirlemenin birkaç yolu vardır bunlardan bir tanesi bir diziye göre belirli bir kontrol ifadesi kullanmaktır.  "
   ]
  },
  {
   "cell_type": "code",
   "execution_count": 79,
   "id": "751724b3-bb7a-466e-b911-87308f441973",
   "metadata": {},
   "outputs": [
    {
     "name": "stdout",
     "output_type": "stream",
     "text": [
      "filter is : [False False False  True  True]\n",
      "Filtered array: [4 5]\n"
     ]
    }
   ],
   "source": [
    "# Koşullu filtreleme ile dizi elemanlarını seçme\n",
    "filtered = a[a > 3]\n",
    "print('filter is :', a>3)\n",
    "print('Filtered array:', filtered)"
   ]
  },
  {
   "cell_type": "code",
   "execution_count": 80,
   "id": "5db521dc-2b72-44c5-bf98-2e0169db104a",
   "metadata": {},
   "outputs": [
    {
     "name": "stdout",
     "output_type": "stream",
     "text": [
      "filter is : [False False False  True  True]\n",
      "Filtered array: [array([False, False, False,  True,  True])]\n"
     ]
    }
   ],
   "source": [
    "filtered = [a > 3]\n",
    "print('filter is :', a>3)\n",
    "print('Filtered array:', filtered)"
   ]
  },
  {
   "cell_type": "code",
   "execution_count": 81,
   "id": "0695f5ea-37a3-4a76-bf96-72324c6151cf",
   "metadata": {},
   "outputs": [
    {
     "name": "stdout",
     "output_type": "stream",
     "text": [
      "Boolean array: [False  True False  True False]\n",
      "Even elements: [2 4]\n"
     ]
    }
   ],
   "source": [
    "# Boolean filtreleme ile dizi elemanlarını seçme\n",
    "a_filter = (a % 2 == 0) # filter ifadesini yazmama sebebim onun fir fonjksiyon olması\n",
    "print('Boolean array:', a_filter)\n",
    "print('Even elements:', a[a_filter])"
   ]
  },
  {
   "cell_type": "markdown",
   "id": "40d78f62-3ad3-4093-8ca3-893d117f9e35",
   "metadata": {},
   "source": [
    "Diğer bir yöntem de **filter** fonksiyonu ile bu işlemi yapmaktır.  \n",
    "filter fonsiyonu iki parametre alır bunlardan 1.si bir fonksiyon 2.ise dizimizdir.  \n",
    "Bu 2 değeri verdiğimiz filter fonksiyonu dizimizdeki değerleri bir bir fonksiyona gönderip kontrol eder.\n",
    "Ardından bir filterlenmiş dizi verir.  \n",
    "Ama burada elemanlara erişebilmek için ya bu filtreli içeriği for döngüsü ile işlemeliyiz ya da tip değiştirme ile `list` tipine çevirmeliyiz"
   ]
  },
  {
   "cell_type": "code",
   "execution_count": 82,
   "id": "23beb1c2-ee99-452b-8b0c-f19eca585f18",
   "metadata": {},
   "outputs": [
    {
     "name": "stdout",
     "output_type": "stream",
     "text": [
      "Filtered array: [2, 4]\n"
     ]
    }
   ],
   "source": [
    "def myfunc(x):\n",
    "    if x % 2 == 0:\n",
    "        return True\n",
    "    else:\n",
    "        return False\n",
    "    \n",
    "filtered = filter(myfunc, a)\n",
    "print('Filtered array:', list(filtered))"
   ]
  },
  {
   "cell_type": "markdown",
   "id": "c03c26ed-f61e-498e-9a0b-a1a0577716bd",
   "metadata": {},
   "source": [
    "### Dizilerde İşlemler"
   ]
  },
  {
   "cell_type": "code",
   "execution_count": 32,
   "id": "98f0d173-9e8f-4797-bb1c-0c3ca59c5c61",
   "metadata": {},
   "outputs": [],
   "source": [
    "a = np.array([5, 2, 9, 1, 5, 6])"
   ]
  },
  {
   "cell_type": "markdown",
   "id": "9308de6b-8fd8-4d44-a92f-669521bf81c3",
   "metadata": {},
   "source": [
    "`Sıralama (np.sort()):`\n",
    "\n",
    "np.sort() fonksiyonu, diziyi küçükten büyüğe doğru sıralar.  \n",
    "Örneğin: [5, 2, 9, 1, 5, 6] dizisini sıraladığınızda sonuç [1, 2, 5, 5, 6, 9] olacaktır."
   ]
  },
  {
   "cell_type": "code",
   "execution_count": 83,
   "id": "823d60e5-305f-4a73-b33b-f571699b353e",
   "metadata": {},
   "outputs": [
    {
     "name": "stdout",
     "output_type": "stream",
     "text": [
      "Sorted array: [1 2 3 4 5]\n"
     ]
    }
   ],
   "source": [
    "# Sıralama\n",
    "print('Sorted array:', np.sort(a))"
   ]
  },
  {
   "cell_type": "markdown",
   "id": "e9c0be1b-67fd-4d6b-9857-6745d541b668",
   "metadata": {},
   "source": [
    "`Benzersiz Elemanlar (np.unique()):`\n",
    "\n",
    "np.unique() fonksiyonu, dizideki tekrar eden elemanları kaldırarak yalnızca benzersiz elemanları döner.  \n",
    "Örneğin: [5, 2, 9, 1, 5, 6] dizisinde tekrar eden 5 elemanı bir kez gösterilir ve sonuç [1, 2, 5, 6, 9] olacaktır."
   ]
  },
  {
   "cell_type": "code",
   "execution_count": 84,
   "id": "119b523e-06c3-46b3-be4d-f09e350e970b",
   "metadata": {},
   "outputs": [
    {
     "name": "stdout",
     "output_type": "stream",
     "text": [
      "Unique elements: [1 2 3 4 5]\n"
     ]
    }
   ],
   "source": [
    "# Unique elemanlar\n",
    "print('Unique elements:', np.unique(a))"
   ]
  },
  {
   "cell_type": "code",
   "execution_count": 85,
   "id": "df6d088a-41fe-47e3-ae1c-188c0e5986ac",
   "metadata": {},
   "outputs": [
    {
     "name": "stdout",
     "output_type": "stream",
     "text": [
      "Indices of 5: (array([4], dtype=int64),)\n"
     ]
    }
   ],
   "source": [
    "# Arama\n",
    "print('Indices of 5:', np.where(a == 5))"
   ]
  },
  {
   "cell_type": "markdown",
   "id": "be1ae3d4-5f12-414d-b0aa-19854fbdb9ed",
   "metadata": {},
   "source": [
    "## NumPy'de İleri Seviye Konular\n",
    "\n",
    "`Broadcasting`"
   ]
  },
  {
   "cell_type": "markdown",
   "id": "e518a024-c9c5-4fad-97a4-11496d37f614",
   "metadata": {},
   "source": [
    "a ve b NumPy dizileri olarak tanımlanmış.\n",
    "\n",
    "a = np.array([1, 2, 3]): Bu, tek boyutlu bir dizi (vektör).\n",
    "b = np.array([[1], [2], [3]]): Bu ise 3x1 boyutunda bir iki boyutlu dizi.\n",
    "Broadcasting işlemi sayesinde, iki dizi farklı boyutlara sahip olmasına rağmen element bazlı toplama işlemi yapılabiliyor.\n",
    "\n",
    "broadcasted = a + b: Burada her iki dizi, şekil farklılıklarına rağmen toplama işlemi yapılarak yayılma (broadcasting) uygulanıyor.\n",
    "Sonuçta, iki boyutlu bir dizi elde ediliyor ve bu sonuç ekrana yazdırılıyor.\n"
   ]
  },
  {
   "cell_type": "markdown",
   "id": "79dfa411-5955-4447-a313-1800dfac2894",
   "metadata": {},
   "source": [
    "#### Peki brodcasting nasıl çalışır? ####\n",
    "Elimizdeki örnek için ilk dizimiz 1,2,3 elemanlarını içeren 1 satır ve 3 sütundan oluşurken ikinci dizimiz 3 satır ve 1 sütundan oluşuyor\n",
    "\n",
    "normalde bizim yaptığımız işlemlerde ilk dizideki x'inci sütun ve y'inci satıradaki değer ile ikinci dizideki x'inci sütun ve y'inci satırdaki eleman işleme tabi tutuluyordu ama bu örnekte ilk sütunda 1.satır 2 sütun varken ikinci dizide bu yok. bu nedenden ötürü numpy bizim ilk dizimizi\n",
    "$$\n",
    "\\begin{bmatrix} \n",
    "1 & 2 & 3 \\\\\n",
    "1 & 2 & 3 \\\\\n",
    "1 & 2 & 3 \\\\ \n",
    "\\end{bmatrix}\n",
    "$$\n",
    "şeklinde bir listeye dönüştürüyor  \n",
    "aynı sebepten dolayı ikinci listemizi de\n",
    "$$\n",
    "\\begin{bmatrix} \n",
    "1 & 1 & 1 \\\\\n",
    "2 & 2 & 2 \\\\\n",
    "3 & 3 & 3 \\\\ \n",
    "\\end{bmatrix}\n",
    "$$\n",
    "şeklinde bir listeye çevirir ve toplama işlemleri yapar"
   ]
  },
  {
   "cell_type": "code",
   "execution_count": 86,
   "id": "e184cd52-ba14-4aef-9788-6f03cd6d3249",
   "metadata": {},
   "outputs": [
    {
     "name": "stdout",
     "output_type": "stream",
     "text": [
      "Broadcasted array:\n",
      " [[2 3 4]\n",
      " [3 4 5]\n",
      " [4 5 6]]\n"
     ]
    }
   ],
   "source": [
    "a = np.array([1, 2, 3])\n",
    "b = np.array([[1], [2], [3]])\n",
    "\n",
    "# Broadcasting örneği\n",
    "broadcasted = a + b\n",
    "print('Broadcasted array:\\n', broadcasted)"
   ]
  },
  {
   "cell_type": "markdown",
   "id": "bc62dfe1-4fd6-41d2-a384-70bf9128299a",
   "metadata": {},
   "source": [
    "### Fancy Indexing"
   ]
  },
  {
   "cell_type": "markdown",
   "id": "f5a80dd9-0fb9-4621-853c-b68207e8336a",
   "metadata": {},
   "source": [
    "- Fancy indexing, NumPy dizilerinde özel indeksler kullanarak belirli elemanları seçmenin bir yoludur.\n",
    "- a[indices] ifadesi ile, a dizisindeki 0, 2 ve 4 indekslerine sahip elemanlar seçilir ve yeni bir dizi oluşturulur.\n",
    "- Bu teknik, çok büyük diziler üzerinde belirli elemanları veya alt dizileri seçerken oldukça kullanışlıdır."
   ]
  },
  {
   "cell_type": "code",
   "execution_count": 37,
   "id": "97f4d8b9-8ba1-4f18-add9-fc1cb9b9356e",
   "metadata": {},
   "outputs": [
    {
     "name": "stdout",
     "output_type": "stream",
     "text": [
      "Fancy indexed array: [10 30 50 50]\n"
     ]
    }
   ],
   "source": [
    "a = np.array([10, 20, 30, 40, 50])\n",
    "indices = [0, 2, 4, 4]\n",
    "\n",
    "# Fancy indexing\n",
    "fancy_indexed = a[indices]\n",
    "print('Fancy indexed array:', fancy_indexed)"
   ]
  },
  {
   "cell_type": "markdown",
   "id": "07108a20-01d0-4bb1-b142-26b5ad8b3a28",
   "metadata": {},
   "source": [
    "### NumPy ile Random Sayılar"
   ]
  },
  {
   "cell_type": "markdown",
   "id": "868bc6eb-380e-4dec-94db-7ccbc19b5ff4",
   "metadata": {},
   "source": [
    "`np.random.random()` fonksiyonu, (0, 1) aralığında (0 dahil, 1 hariç) rastgele float tipinde değerler üretir. Yani burada, 3 satır ve 3 sütundan oluşan rastgele bir matris elde ederiz."
   ]
  },
  {
   "cell_type": "code",
   "execution_count": 87,
   "id": "e0dc33a0-196f-479b-b2cb-1a0e388c3b00",
   "metadata": {},
   "outputs": [
    {
     "name": "stdout",
     "output_type": "stream",
     "text": [
      "Random array:\n",
      " [[0.72862627 0.69702608 0.31639899]\n",
      " [0.99063913 0.49513098 0.12629482]\n",
      " [0.12388979 0.44722553 0.7385488 ]]\n"
     ]
    }
   ],
   "source": [
    "# Rastgele sayı üretimi\n",
    "random_arr = np.random.random((3, 3))\n",
    "print('Random array:\\n', random_arr)"
   ]
  },
  {
   "cell_type": "code",
   "execution_count": 90,
   "id": "6f3a0f6e-930d-4893-85a5-88d26ef40413",
   "metadata": {},
   "outputs": [
    {
     "name": "stdout",
     "output_type": "stream",
     "text": [
      "Random array:\n",
      " [[0.99705046]\n",
      " [0.95756282]]\n"
     ]
    }
   ],
   "source": [
    "random_arr = np.random.random((2, 1))\n",
    "print('Random array:\\n', random_arr)"
   ]
  },
  {
   "cell_type": "markdown",
   "id": "2a6e45b2-7fd9-44e0-b619-ed6db69a0135",
   "metadata": {},
   "source": [
    "`np.random.randint` fonksiyonu, verilen iki sayı arasında rastgele tam sayılar üretir (0 dahil, 10 hariç).Yani burada, 4 satır ve 3 sütundan oluşan rastgele bir matris elde ederiz."
   ]
  },
  {
   "cell_type": "code",
   "execution_count": 95,
   "id": "4ef4d59c-d922-4540-88e2-442c56f260ef",
   "metadata": {},
   "outputs": [
    {
     "name": "stdout",
     "output_type": "stream",
     "text": [
      "Random array2:\n",
      " [[2 2 9]\n",
      " [8 9 4]\n",
      " [2 9 0]\n",
      " [4 2 6]]\n"
     ]
    }
   ],
   "source": [
    "# Rastegele sayı üretimi 2. metod\n",
    "random_arr2 = np.random.randint(0, 10, (4, 3))\n",
    "print('Random array2:\\n', random_arr2)"
   ]
  },
  {
   "cell_type": "code",
   "execution_count": 96,
   "id": "b39a7f74-e97f-41cb-aa45-03b8997aab7f",
   "metadata": {},
   "outputs": [
    {
     "name": "stdout",
     "output_type": "stream",
     "text": [
      "Random array2:\n",
      " [[83 47 74]\n",
      " [70 62 62]\n",
      " [97 46 73]\n",
      " [17 76 44]]\n"
     ]
    }
   ],
   "source": [
    "random_arr2 = np.random.randint(0, 100, (4, 3))\n",
    "print('Random array2:\\n', random_arr2)"
   ]
  },
  {
   "cell_type": "markdown",
   "id": "eacf3f7b-58e2-40d7-a776-1db384127e69",
   "metadata": {},
   "source": [
    "`np.random.choice` fonksiyonu, bir diziden rastgele elemanlar seçmeyi sağlar. Burada replace=False olduğu için aynı eleman birden fazla kez seçilemez, yani tekrar etmeyen örnekler seçilir. Eğer replace=True olsaydı, aynı eleman birden fazla kez seçilebilirdi."
   ]
  },
  {
   "cell_type": "code",
   "execution_count": 50,
   "id": "fb180213-588f-4a9d-9ce3-6fd234529132",
   "metadata": {},
   "outputs": [
    {
     "name": "stdout",
     "output_type": "stream",
     "text": [
      "Randomly sampled elements: [10 40 50]\n"
     ]
    }
   ],
   "source": [
    "# Rastgele örnekleme\n",
    "sampled = np.random.choice(a, 3, replace=False)\n",
    "print('Randomly sampled elements:', sampled)"
   ]
  },
  {
   "cell_type": "markdown",
   "id": "bc4d9135-1a89-4a65-b615-adc2679cb5d2",
   "metadata": {},
   "source": [
    "## NumPy Neden önemli"
   ]
  },
  {
   "cell_type": "markdown",
   "id": "091b9bb8-3309-4006-b9a8-cba79536262b",
   "metadata": {},
   "source": [
    "### Neden NumPy Daha Hızlıdır?\n",
    "- **C ile yazılmıştır**: NumPy, arka planda C dilinde optimize edilmiş fonksiyonlar kullanır. Bu nedenle, Python'un yerleşik fonksiyonlarına göre çok daha hızlıdır.\n",
    "- **Vektörleştirme**: NumPy, işlemleri vektörleştirir ve böylece tüm dizi üzerinde tek seferde işlem yapar, Python ise döngü kullanarak eleman eleman işlem yapar, bu da daha yavaştır.\n",
    "- **Düşük Seviye Optimizasyonlar**: NumPy, donanım kaynaklarını (örneğin işlemci, bellek) daha verimli kullanır, bu da büyük veri işlemlerinde büyük bir avantaj sağlar."
   ]
  },
  {
   "cell_type": "markdown",
   "id": "70b4a214-6bc3-44c6-9c15-37ea5ac76aad",
   "metadata": {},
   "source": [
    "Bu satır, 1 milyon elemandan oluşan rastgele tam sayılar içeren bir NumPy dizisi oluşturur. Elemanlar 0 ile 100 arasında rastgele seçilir. Bu büyük dizi, zamanlama karşılaştırması yapmak için kullanılacak."
   ]
  },
  {
   "cell_type": "code",
   "execution_count": 97,
   "id": "b2035a9d-b0f7-4c1c-af43-f3a4f4c9d445",
   "metadata": {},
   "outputs": [],
   "source": [
    "import time\n",
    "\n",
    "# Büyük bir dizi oluşturma\n",
    "large_array = np.random.randint(0,100,1000000)"
   ]
  },
  {
   "cell_type": "markdown",
   "id": "67d274b9-a726-43cd-a334-46bdeec6973f",
   "metadata": {},
   "source": [
    "Bu kısım, NumPy'nin np.sum() fonksiyonunun hızını ölçer. NumPy'nin sum() fonksiyonu, dizideki tüm elemanların toplamını hesaplar ve başlangıç (start) ile bitiş (end) zamanları arasındaki fark hesaplanarak işlem süresi yazdırılır."
   ]
  },
  {
   "cell_type": "code",
   "execution_count": 98,
   "id": "28511d43-992d-40ea-9588-140d2fab1c21",
   "metadata": {},
   "outputs": [
    {
     "name": "stdout",
     "output_type": "stream",
     "text": [
      "Time taken by NumPy sum: 0.0005505084991455078\n"
     ]
    }
   ],
   "source": [
    "# NumPy işlemlerinin zamanlaması\n",
    "start = time.time()\n",
    "np.sum(large_array)\n",
    "end = time.time()\n",
    "print('Time taken by NumPy sum:', end - start)"
   ]
  },
  {
   "cell_type": "markdown",
   "id": "82ebc7e2-35b7-47c6-bb06-4e4790b2e9bd",
   "metadata": {},
   "source": [
    "Burada ise Python'un yerleşik sum() fonksiyonu aynı işlem için kullanılır, ancak bu fonksiyon saf Python ile çalıştığından NumPy'ye kıyasla daha yavaş çalışır. Yine işlem süresi başlangıç ve bitiş zamanları arasındaki fark olarak yazdırılır."
   ]
  },
  {
   "cell_type": "code",
   "execution_count": 99,
   "id": "d6341fed-d2ee-4255-90ea-1679d86c3cc7",
   "metadata": {},
   "outputs": [
    {
     "name": "stdout",
     "output_type": "stream",
     "text": [
      "Time taken by Python sum: 0.11905288696289062\n"
     ]
    }
   ],
   "source": [
    "# Python yerleşik fonksiyonu ile zamanlama\n",
    "start = time.time()\n",
    "sum(large_array)\n",
    "end = time.time()\n",
    "print('Time taken by Python sum:', end - start)"
   ]
  },
  {
   "cell_type": "markdown",
   "id": "cc718f0e-70b5-4785-9e39-fa595728bf3d",
   "metadata": {},
   "source": [
    "Sonuç olarak:  \n",
    "NumPy, büyük veri setleri ve yoğun hesaplamalarla çalışırken Python'un yerleşik fonksiyonlarına kıyasla çok daha hızlıdır. Bu yüzden veri bilimi, makine öğrenimi ve diğer bilimsel hesaplamalar için vazgeçilmez bir araçtır."
   ]
  },
  {
   "cell_type": "code",
   "execution_count": null,
   "id": "42ea89c6-68af-489c-8653-b3dcbd187a2b",
   "metadata": {},
   "outputs": [],
   "source": []
  }
 ],
 "metadata": {
  "kernelspec": {
   "display_name": "Python 3 (ipykernel)",
   "language": "python",
   "name": "python3"
  },
  "language_info": {
   "codemirror_mode": {
    "name": "ipython",
    "version": 3
   },
   "file_extension": ".py",
   "mimetype": "text/x-python",
   "name": "python",
   "nbconvert_exporter": "python",
   "pygments_lexer": "ipython3",
   "version": "3.11.7"
  }
 },
 "nbformat": 4,
 "nbformat_minor": 5
}
