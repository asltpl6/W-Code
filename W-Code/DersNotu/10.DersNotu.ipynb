{
 "cells": [
  {
   "cell_type": "markdown",
   "id": "abd1ecd1",
   "metadata": {},
   "source": [
    "# Energy Efficiency Dataset ile Regresyon Modelleri"
   ]
  },
  {
   "cell_type": "markdown",
   "id": "8e599326",
   "metadata": {},
   "source": [
    "Bu atölyede, enerji verimliliği veri setini kullanarak regresyon modelleri üzerine çalışacağız. Teorik açıklamalar ve Python kodları ile adım adım regresyon modellerini inceleyeceğiz."
   ]
  },
  {
   "cell_type": "code",
   "execution_count": 2,
   "id": "b501015b",
   "metadata": {},
   "outputs": [],
   "source": [
    "\n",
    "# Gerekli kütüphaneleri yükleyelim\n",
    "import pandas as pd\n",
    "import numpy as np\n",
    "import matplotlib.pyplot as plt\n",
    "import seaborn as sns\n",
    "from sklearn.model_selection import train_test_split\n",
    "from sklearn.linear_model import LinearRegression\n",
    "from sklearn.metrics import mean_squared_error, r2_score\n",
    "from sklearn.preprocessing import PolynomialFeatures, StandardScaler\n",
    "from sklearn.linear_model import Ridge, Lasso, ElasticNet\n",
    "\n",
    "# Grafikler için stil ayarlaması\n",
    "sns.set(style=\"whitegrid\")\n"
   ]
  },
  {
   "cell_type": "markdown",
   "id": "1557c208",
   "metadata": {},
   "source": [
    "## Veri Setinin Yüklenmesi ve İncelenmesi"
   ]
  },
  {
   "cell_type": "code",
   "execution_count": 3,
   "id": "5689d1a4",
   "metadata": {},
   "outputs": [
    {
     "name": "stdout",
     "output_type": "stream",
     "text": [
      "   Göreli_Kompaktlık  Yüzey_Alanı  Duvar_Alanı  Çatı_Alanı  Toplam_Yükseklik  \\\n",
      "0               0.98        514.5        294.0      110.25               7.0   \n",
      "1               0.98        514.5        294.0      110.25               7.0   \n",
      "2               0.98        514.5        294.0      110.25               7.0   \n",
      "3               0.98        514.5        294.0      110.25               7.0   \n",
      "4               0.90        563.5        318.5      122.50               7.0   \n",
      "\n",
      "   Yönelim  Cam_Alanı  Cam_Alanı_Dağılımı  Isıtma_Yükü  Soğutma_Yükü  \n",
      "0        2        0.0                   0        15.55         21.33  \n",
      "1        3        0.0                   0        15.55         21.33  \n",
      "2        4        0.0                   0        15.55         21.33  \n",
      "3        5        0.0                   0        15.55         21.33  \n",
      "4        2        0.0                   0        20.84         28.28  \n"
     ]
    }
   ],
   "source": [
    "\n",
    "# Veri setini yükleme\n",
    "df = pd.read_csv(\"data.csv\")\n",
    "\n",
    "# Sütun isimlerini Türkçeye çevirelim\n",
    "df.columns = [\n",
    "    \"Göreli_Kompaktlık\",       # X1 - Relative Compactness\n",
    "    \"Yüzey_Alanı\",             # X2 - Surface Area\n",
    "    \"Duvar_Alanı\",             # X3 - Wall Area\n",
    "    \"Çatı_Alanı\",              # X4 - Roof Area\n",
    "    \"Toplam_Yükseklik\",        # X5 - Overall Height\n",
    "    \"Yönelim\",                 # X6 - Orientation\n",
    "    \"Cam_Alanı\",               # X7 - Glazing Area\n",
    "    \"Cam_Alanı_Dağılımı\",      # X8 - Glazing Area Distribution\n",
    "    \"Isıtma_Yükü\",             # Y1 - Heating Load\n",
    "    \"Soğutma_Yükü\"             # Y2 - Cooling Load\n",
    "]\n",
    "\n",
    "# İlk birkaç satırı görüntüleme\n",
    "print(df.head())\n"
   ]
  },
  {
   "cell_type": "code",
   "execution_count": 6,
   "id": "959b29ab",
   "metadata": {},
   "outputs": [
    {
     "data": {
      "text/html": [
       "<div>\n",
       "<style scoped>\n",
       "    .dataframe tbody tr th:only-of-type {\n",
       "        vertical-align: middle;\n",
       "    }\n",
       "\n",
       "    .dataframe tbody tr th {\n",
       "        vertical-align: top;\n",
       "    }\n",
       "\n",
       "    .dataframe thead th {\n",
       "        text-align: right;\n",
       "    }\n",
       "</style>\n",
       "<table border=\"1\" class=\"dataframe\">\n",
       "  <thead>\n",
       "    <tr style=\"text-align: right;\">\n",
       "      <th></th>\n",
       "      <th>Isıtma_Yükü</th>\n",
       "    </tr>\n",
       "  </thead>\n",
       "  <tbody>\n",
       "    <tr>\n",
       "      <th>0</th>\n",
       "      <td>15.55</td>\n",
       "    </tr>\n",
       "    <tr>\n",
       "      <th>1</th>\n",
       "      <td>15.55</td>\n",
       "    </tr>\n",
       "    <tr>\n",
       "      <th>2</th>\n",
       "      <td>15.55</td>\n",
       "    </tr>\n",
       "    <tr>\n",
       "      <th>3</th>\n",
       "      <td>15.55</td>\n",
       "    </tr>\n",
       "    <tr>\n",
       "      <th>4</th>\n",
       "      <td>20.84</td>\n",
       "    </tr>\n",
       "    <tr>\n",
       "      <th>...</th>\n",
       "      <td>...</td>\n",
       "    </tr>\n",
       "    <tr>\n",
       "      <th>763</th>\n",
       "      <td>17.88</td>\n",
       "    </tr>\n",
       "    <tr>\n",
       "      <th>764</th>\n",
       "      <td>16.54</td>\n",
       "    </tr>\n",
       "    <tr>\n",
       "      <th>765</th>\n",
       "      <td>16.44</td>\n",
       "    </tr>\n",
       "    <tr>\n",
       "      <th>766</th>\n",
       "      <td>16.48</td>\n",
       "    </tr>\n",
       "    <tr>\n",
       "      <th>767</th>\n",
       "      <td>16.64</td>\n",
       "    </tr>\n",
       "  </tbody>\n",
       "</table>\n",
       "<p>768 rows × 1 columns</p>\n",
       "</div>"
      ],
      "text/plain": [
       "     Isıtma_Yükü\n",
       "0          15.55\n",
       "1          15.55\n",
       "2          15.55\n",
       "3          15.55\n",
       "4          20.84\n",
       "..           ...\n",
       "763        17.88\n",
       "764        16.54\n",
       "765        16.44\n",
       "766        16.48\n",
       "767        16.64\n",
       "\n",
       "[768 rows x 1 columns]"
      ]
     },
     "execution_count": 6,
     "metadata": {},
     "output_type": "execute_result"
    }
   ],
   "source": [
    "df[[\"Isıtma_Yükü\"]]"
   ]
  },
  {
   "cell_type": "code",
   "execution_count": 61,
   "id": "eccdf1c9",
   "metadata": {},
   "outputs": [
    {
     "name": "stdout",
     "output_type": "stream",
     "text": [
      "<class 'pandas.core.frame.DataFrame'>\n",
      "RangeIndex: 768 entries, 0 to 767\n",
      "Data columns (total 10 columns):\n",
      " #   Column              Non-Null Count  Dtype  \n",
      "---  ------              --------------  -----  \n",
      " 0   Göreli_Kompaktlık   768 non-null    float64\n",
      " 1   Yüzey_Alanı         768 non-null    float64\n",
      " 2   Duvar_Alanı         768 non-null    float64\n",
      " 3   Çatı_Alanı          768 non-null    float64\n",
      " 4   Toplam_Yükseklik    768 non-null    float64\n",
      " 5   Yönelim             768 non-null    int64  \n",
      " 6   Cam_Alanı           768 non-null    float64\n",
      " 7   Cam_Alanı_Dağılımı  768 non-null    int64  \n",
      " 8   Isıtma_Yükü         768 non-null    float64\n",
      " 9   Soğutma_Yükü        768 non-null    float64\n",
      "dtypes: float64(8), int64(2)\n",
      "memory usage: 60.1 KB\n"
     ]
    }
   ],
   "source": [
    "df.info()"
   ]
  },
  {
   "cell_type": "code",
   "execution_count": 62,
   "id": "cd824763",
   "metadata": {},
   "outputs": [
    {
     "name": "stdout",
     "output_type": "stream",
     "text": [
      "Veri Seti Sütunları: Index(['Göreli_Kompaktlık', 'Yüzey_Alanı', 'Duvar_Alanı', 'Çatı_Alanı',\n",
      "       'Toplam_Yükseklik', 'Yönelim', 'Cam_Alanı', 'Cam_Alanı_Dağılımı',\n",
      "       'Isıtma_Yükü', 'Soğutma_Yükü'],\n",
      "      dtype='object')\n",
      "Eksik Değerler: Göreli_Kompaktlık     0\n",
      "Yüzey_Alanı           0\n",
      "Duvar_Alanı           0\n",
      "Çatı_Alanı            0\n",
      "Toplam_Yükseklik      0\n",
      "Yönelim               0\n",
      "Cam_Alanı             0\n",
      "Cam_Alanı_Dağılımı    0\n",
      "Isıtma_Yükü           0\n",
      "Soğutma_Yükü          0\n",
      "dtype: int64\n"
     ]
    }
   ],
   "source": [
    "\n",
    "# Veri setindeki sütunları ve eksik değerleri inceleme\n",
    "print(\"Veri Seti Sütunları:\", df.columns)\n",
    "print(\"Eksik Değerler:\", df.isnull().sum())\n"
   ]
  },
  {
   "cell_type": "markdown",
   "id": "0939e38b",
   "metadata": {},
   "source": [
    "## Bağımlı ve Bağımsız Değişkenlerin Ayrılması"
   ]
  },
  {
   "cell_type": "code",
   "execution_count": 63,
   "id": "dee37cea",
   "metadata": {},
   "outputs": [
    {
     "data": {
      "text/html": [
       "<div>\n",
       "<style scoped>\n",
       "    .dataframe tbody tr th:only-of-type {\n",
       "        vertical-align: middle;\n",
       "    }\n",
       "\n",
       "    .dataframe tbody tr th {\n",
       "        vertical-align: top;\n",
       "    }\n",
       "\n",
       "    .dataframe thead th {\n",
       "        text-align: right;\n",
       "    }\n",
       "</style>\n",
       "<table border=\"1\" class=\"dataframe\">\n",
       "  <thead>\n",
       "    <tr style=\"text-align: right;\">\n",
       "      <th></th>\n",
       "      <th>Göreli_Kompaktlık</th>\n",
       "      <th>Yüzey_Alanı</th>\n",
       "      <th>Duvar_Alanı</th>\n",
       "      <th>Çatı_Alanı</th>\n",
       "      <th>Toplam_Yükseklik</th>\n",
       "      <th>Yönelim</th>\n",
       "      <th>Cam_Alanı</th>\n",
       "      <th>Cam_Alanı_Dağılımı</th>\n",
       "      <th>Isıtma_Yükü</th>\n",
       "    </tr>\n",
       "  </thead>\n",
       "  <tbody>\n",
       "    <tr>\n",
       "      <th>0</th>\n",
       "      <td>0.98</td>\n",
       "      <td>514.5</td>\n",
       "      <td>294.0</td>\n",
       "      <td>110.25</td>\n",
       "      <td>7.0</td>\n",
       "      <td>2</td>\n",
       "      <td>0.0</td>\n",
       "      <td>0</td>\n",
       "      <td>15.55</td>\n",
       "    </tr>\n",
       "    <tr>\n",
       "      <th>1</th>\n",
       "      <td>0.98</td>\n",
       "      <td>514.5</td>\n",
       "      <td>294.0</td>\n",
       "      <td>110.25</td>\n",
       "      <td>7.0</td>\n",
       "      <td>3</td>\n",
       "      <td>0.0</td>\n",
       "      <td>0</td>\n",
       "      <td>15.55</td>\n",
       "    </tr>\n",
       "    <tr>\n",
       "      <th>2</th>\n",
       "      <td>0.98</td>\n",
       "      <td>514.5</td>\n",
       "      <td>294.0</td>\n",
       "      <td>110.25</td>\n",
       "      <td>7.0</td>\n",
       "      <td>4</td>\n",
       "      <td>0.0</td>\n",
       "      <td>0</td>\n",
       "      <td>15.55</td>\n",
       "    </tr>\n",
       "    <tr>\n",
       "      <th>3</th>\n",
       "      <td>0.98</td>\n",
       "      <td>514.5</td>\n",
       "      <td>294.0</td>\n",
       "      <td>110.25</td>\n",
       "      <td>7.0</td>\n",
       "      <td>5</td>\n",
       "      <td>0.0</td>\n",
       "      <td>0</td>\n",
       "      <td>15.55</td>\n",
       "    </tr>\n",
       "    <tr>\n",
       "      <th>4</th>\n",
       "      <td>0.90</td>\n",
       "      <td>563.5</td>\n",
       "      <td>318.5</td>\n",
       "      <td>122.50</td>\n",
       "      <td>7.0</td>\n",
       "      <td>2</td>\n",
       "      <td>0.0</td>\n",
       "      <td>0</td>\n",
       "      <td>20.84</td>\n",
       "    </tr>\n",
       "  </tbody>\n",
       "</table>\n",
       "</div>"
      ],
      "text/plain": [
       "   Göreli_Kompaktlık  Yüzey_Alanı  Duvar_Alanı  Çatı_Alanı  Toplam_Yükseklik  \\\n",
       "0               0.98        514.5        294.0      110.25               7.0   \n",
       "1               0.98        514.5        294.0      110.25               7.0   \n",
       "2               0.98        514.5        294.0      110.25               7.0   \n",
       "3               0.98        514.5        294.0      110.25               7.0   \n",
       "4               0.90        563.5        318.5      122.50               7.0   \n",
       "\n",
       "   Yönelim  Cam_Alanı  Cam_Alanı_Dağılımı  Isıtma_Yükü  \n",
       "0        2        0.0                   0        15.55  \n",
       "1        3        0.0                   0        15.55  \n",
       "2        4        0.0                   0        15.55  \n",
       "3        5        0.0                   0        15.55  \n",
       "4        2        0.0                   0        20.84  "
      ]
     },
     "execution_count": 63,
     "metadata": {},
     "output_type": "execute_result"
    }
   ],
   "source": [
    "df_ısıtma = df.copy()\n",
    "df_ısıtma.drop(\"Soğutma_Yükü\", axis=1, inplace=True)\n",
    "df_ısıtma.head()"
   ]
  },
  {
   "cell_type": "code",
   "execution_count": 64,
   "id": "4be32b73",
   "metadata": {},
   "outputs": [
    {
     "data": {
      "text/html": [
       "<div>\n",
       "<style scoped>\n",
       "    .dataframe tbody tr th:only-of-type {\n",
       "        vertical-align: middle;\n",
       "    }\n",
       "\n",
       "    .dataframe tbody tr th {\n",
       "        vertical-align: top;\n",
       "    }\n",
       "\n",
       "    .dataframe thead th {\n",
       "        text-align: right;\n",
       "    }\n",
       "</style>\n",
       "<table border=\"1\" class=\"dataframe\">\n",
       "  <thead>\n",
       "    <tr style=\"text-align: right;\">\n",
       "      <th></th>\n",
       "      <th>Göreli_Kompaktlık</th>\n",
       "      <th>Yüzey_Alanı</th>\n",
       "      <th>Duvar_Alanı</th>\n",
       "      <th>Çatı_Alanı</th>\n",
       "      <th>Toplam_Yükseklik</th>\n",
       "      <th>Yönelim</th>\n",
       "      <th>Cam_Alanı</th>\n",
       "      <th>Cam_Alanı_Dağılımı</th>\n",
       "      <th>Soğutma_Yükü</th>\n",
       "    </tr>\n",
       "  </thead>\n",
       "  <tbody>\n",
       "    <tr>\n",
       "      <th>0</th>\n",
       "      <td>0.98</td>\n",
       "      <td>514.5</td>\n",
       "      <td>294.0</td>\n",
       "      <td>110.25</td>\n",
       "      <td>7.0</td>\n",
       "      <td>2</td>\n",
       "      <td>0.0</td>\n",
       "      <td>0</td>\n",
       "      <td>21.33</td>\n",
       "    </tr>\n",
       "    <tr>\n",
       "      <th>1</th>\n",
       "      <td>0.98</td>\n",
       "      <td>514.5</td>\n",
       "      <td>294.0</td>\n",
       "      <td>110.25</td>\n",
       "      <td>7.0</td>\n",
       "      <td>3</td>\n",
       "      <td>0.0</td>\n",
       "      <td>0</td>\n",
       "      <td>21.33</td>\n",
       "    </tr>\n",
       "    <tr>\n",
       "      <th>2</th>\n",
       "      <td>0.98</td>\n",
       "      <td>514.5</td>\n",
       "      <td>294.0</td>\n",
       "      <td>110.25</td>\n",
       "      <td>7.0</td>\n",
       "      <td>4</td>\n",
       "      <td>0.0</td>\n",
       "      <td>0</td>\n",
       "      <td>21.33</td>\n",
       "    </tr>\n",
       "    <tr>\n",
       "      <th>3</th>\n",
       "      <td>0.98</td>\n",
       "      <td>514.5</td>\n",
       "      <td>294.0</td>\n",
       "      <td>110.25</td>\n",
       "      <td>7.0</td>\n",
       "      <td>5</td>\n",
       "      <td>0.0</td>\n",
       "      <td>0</td>\n",
       "      <td>21.33</td>\n",
       "    </tr>\n",
       "    <tr>\n",
       "      <th>4</th>\n",
       "      <td>0.90</td>\n",
       "      <td>563.5</td>\n",
       "      <td>318.5</td>\n",
       "      <td>122.50</td>\n",
       "      <td>7.0</td>\n",
       "      <td>2</td>\n",
       "      <td>0.0</td>\n",
       "      <td>0</td>\n",
       "      <td>28.28</td>\n",
       "    </tr>\n",
       "  </tbody>\n",
       "</table>\n",
       "</div>"
      ],
      "text/plain": [
       "   Göreli_Kompaktlık  Yüzey_Alanı  Duvar_Alanı  Çatı_Alanı  Toplam_Yükseklik  \\\n",
       "0               0.98        514.5        294.0      110.25               7.0   \n",
       "1               0.98        514.5        294.0      110.25               7.0   \n",
       "2               0.98        514.5        294.0      110.25               7.0   \n",
       "3               0.98        514.5        294.0      110.25               7.0   \n",
       "4               0.90        563.5        318.5      122.50               7.0   \n",
       "\n",
       "   Yönelim  Cam_Alanı  Cam_Alanı_Dağılımı  Soğutma_Yükü  \n",
       "0        2        0.0                   0         21.33  \n",
       "1        3        0.0                   0         21.33  \n",
       "2        4        0.0                   0         21.33  \n",
       "3        5        0.0                   0         21.33  \n",
       "4        2        0.0                   0         28.28  "
      ]
     },
     "execution_count": 64,
     "metadata": {},
     "output_type": "execute_result"
    }
   ],
   "source": [
    "df_soğutma = df.copy()\n",
    "df_soğutma.drop(\"Isıtma_Yükü\", axis=1, inplace=True)\n",
    "df_soğutma.head()"
   ]
  },
  {
   "cell_type": "code",
   "execution_count": 65,
   "id": "e90a5d9c",
   "metadata": {},
   "outputs": [],
   "source": [
    "ısıtma = df_ısıtma[[\"Isıtma_Yükü\"]]\n",
    "soğutma = df_soğutma[[\"Soğutma_Yükü\"]]\n",
    "\n",
    "df_ısıtma_ml = df_ısıtma.drop(\"Isıtma_Yükü\", axis=1)\n",
    "df_soğutma_ml = df_soğutma.drop(\"Soğutma_Yükü\", axis=1)"
   ]
  },
  {
   "cell_type": "code",
   "execution_count": 66,
   "id": "11a5a69f",
   "metadata": {},
   "outputs": [],
   "source": [
    "# Eğitim ve test setlerine ayırma\n",
    "X_train_heating, X_test_heating, y_train_heating, y_test_heating = train_test_split(df_ısıtma_ml, ısıtma, test_size=0.2, random_state=42)\n",
    "\n",
    "X_train_cooling, X_test_cooling, y_train_cooling, y_test_cooling = train_test_split(df_soğutma_ml, soğutma, test_size=0.2, random_state=42)\n"
   ]
  },
  {
   "cell_type": "markdown",
   "id": "d51bd542",
   "metadata": {},
   "source": [
    "## Doğrusal Regresyon Modeli"
   ]
  },
  {
   "cell_type": "markdown",
   "id": "30c6c186",
   "metadata": {},
   "source": [
    "Isıtma için"
   ]
  },
  {
   "cell_type": "markdown",
   "id": "ddc35af3",
   "metadata": {},
   "source": [
    "Lineer regresyon, bağımsız değişkenlerle bağımlı değişken arasındaki doğrusal ilişkiyi bulmayı amaçlar. Temel denklem şu şekildedir:\n",
    "\n",
    "$$\n",
    "Y = \\beta_0 + \\beta_1 X_1 + \\beta_2 X_2 + \\dots + \\beta_n X_n + \\epsilon\n",
    "$$\n",
    "\n",
    "- **Y**: Bağımlı değişken (tahmin edilen sonuç)\n",
    "- **X₁, X₂, ... , Xₙ**: Bağımsız değişkenler\n",
    "- **β₀**: Sabit terim (intercept)\n",
    "- **β₁, β₂, ... , βₙ**: Bağımsız değişkenlerin katsayıları (coefficients)\n",
    "- **ε**: Hata terimi (residual)\n",
    "\n",
    "### Nasıl Hesaplanır?\n",
    "- Amaç, hata terimi olan **ε**’yi en aza indirmektir. Katsayılar, bu hatayı minimum yapan değerler olarak belirlenir.\n",
    "- **En küçük kareler yöntemi** (Ordinary Least Squares - OLS) kullanılarak bağımlı ve bağımsız değişkenler arasındaki ilişki doğrusal bir denklemle açıklanır.\n"
   ]
  },
  {
   "cell_type": "code",
   "execution_count": 67,
   "id": "2f711546",
   "metadata": {},
   "outputs": [
    {
     "name": "stdout",
     "output_type": "stream",
     "text": [
      "Isıtma Yükü - MSE: 9.153524899869002\n",
      "Isıtma Yükü - R2: 0.9121808615400413\n"
     ]
    }
   ],
   "source": [
    "\n",
    "# Modeli oluşturma\n",
    "linear_model_heating = LinearRegression()\n",
    "\n",
    "# Modeli ısıtma yükü için eğitme\n",
    "linear_model_heating.fit(X_train_heating, y_train_heating)\n",
    "\n",
    "# Test verisi üzerinde tahmin yapma\n",
    "y_pred_heating = linear_model_heating.predict(X_test_heating)\n",
    "\n",
    "# Sonuçları değerlendirme\n",
    "mse_heating = mean_squared_error(y_test_heating, y_pred_heating)\n",
    "r2_heating = r2_score(y_test_heating, y_pred_heating)\n",
    "\n",
    "print(\"Isıtma Yükü - MSE:\", mse_heating)\n",
    "print(\"Isıtma Yükü - R2:\", r2_heating)\n"
   ]
  },
  {
   "cell_type": "markdown",
   "id": "9d3a9ed3",
   "metadata": {},
   "source": [
    "Soğutma için"
   ]
  },
  {
   "cell_type": "code",
   "execution_count": 68,
   "id": "b50f8da3",
   "metadata": {},
   "outputs": [
    {
     "name": "stdout",
     "output_type": "stream",
     "text": [
      "Soğutma Yükü - MSE: 9.893292895211355\n",
      "Soğutma Yükü - R2: 0.8932269811749011\n"
     ]
    }
   ],
   "source": [
    "#Modeli oluşturma\n",
    "linear_model_cooling = LinearRegression()\n",
    "\n",
    "# Modeli soğutma yükü için eğitme\n",
    "linear_model_cooling.fit(X_train_cooling, y_train_cooling)\n",
    "\n",
    "# Test verisi üzerinde tahmin yapma\n",
    "y_pred_cooling = linear_model_cooling.predict(X_test_cooling)\n",
    "\n",
    "# Sonuçları değerlendirme\n",
    "mse_cooling = mean_squared_error(y_test_cooling, y_pred_cooling)\n",
    "r2_cooling = r2_score(y_test_cooling, y_pred_cooling)\n",
    "\n",
    "print(\"Soğutma Yükü - MSE:\", mse_cooling)\n",
    "print(\"Soğutma Yükü - R2:\", r2_cooling)\n"
   ]
  },
  {
   "cell_type": "markdown",
   "id": "0c5dc387",
   "metadata": {},
   "source": [
    "## Sonuçların Görselleştirilmesi"
   ]
  },
  {
   "cell_type": "code",
   "execution_count": 69,
   "id": "afc2c3b5",
   "metadata": {},
   "outputs": [
    {
     "data": {
      "image/png": "[encoded data removed]",
      "text/plain": [
       "<Figure size 1000x600 with 1 Axes>"
      ]
     },
     "metadata": {},
     "output_type": "display_data"
    }
   ],
   "source": [
    "# Tahmin edilen ve gerçek değerleri görselleştirme\n",
    "plt.figure(figsize=(10, 6))\n",
    "\n",
    "# Tahmin edilen değerleri mavi ile gösterelim\n",
    "plt.scatter(y_test_heating, y_pred_heating, color='blue', label='Tahminler')\n",
    "\n",
    "# Gerçek değerleri kırmızı ile gösterelim\n",
    "plt.scatter(y_test_heating, y_test_heating, color='red', label='Gerçek Değerler')\n",
    "\n",
    "# Y=x referans çizgisini ekleyelim\n",
    "plt.plot([min(y_test_heating[\"Isıtma_Yükü\"]), max(y_test_heating[\"Isıtma_Yükü\"])], [min(y_test_heating[\"Isıtma_Yükü\"]), max(y_test_heating[\"Isıtma_Yükü\"])], color='green', lw=2, label='Referans Çizgisi (y=x)')\n",
    "\n",
    "# Grafiğin başlık ve eksen adları\n",
    "plt.title('Isıtma Yükü - Gerçek vs Tahmin')\n",
    "plt.xlabel('Gerçek Değerler')\n",
    "plt.ylabel('Tahmin Edilen Değerler')\n",
    "\n",
    "# Legend ekleyelim\n",
    "plt.legend()\n",
    "\n",
    "# Grafiği gösterelim\n",
    "plt.show()\n"
   ]
  },
  {
   "cell_type": "code",
   "execution_count": 70,
   "id": "27887bbd",
   "metadata": {},
   "outputs": [
    {
     "data": {
      "image/png": "[encoded data removed]",
      "text/plain": [
       "<Figure size 1000x600 with 1 Axes>"
      ]
     },
     "metadata": {},
     "output_type": "display_data"
    }
   ],
   "source": [
    "# Tahmin edilen ve gerçek değerleri görselleştirme\n",
    "plt.figure(figsize=(10, 6))\n",
    "\n",
    "# Tahmin edilen değerleri mavi ile gösterelim\n",
    "plt.scatter(y_test_cooling, y_pred_cooling, color='blue', label='Tahminler')\n",
    "\n",
    "# Gerçek değerleri kırmızı ile gösterelim\n",
    "plt.scatter(y_test_cooling, y_test_cooling, color='red', label='Gerçek Değerler')\n",
    "\n",
    "# Y=x referans çizgisini ekleyelim\n",
    "plt.plot([min(y_test_cooling[\"Soğutma_Yükü\"]), max(y_test_cooling[\"Soğutma_Yükü\"])], [min(y_test_cooling[\"Soğutma_Yükü\"]), max(y_test_cooling[\"Soğutma_Yükü\"])], color='green', lw=2, label='Referans Çizgisi (y=x)')\n",
    "\n",
    "# Grafiğin başlık ve eksen adları\n",
    "plt.title('Soğutma Yükü - Gerçek vs Tahmin')\n",
    "plt.xlabel('Gerçek Değerler')\n",
    "plt.ylabel('Tahmin Edilen Değerler')\n",
    "\n",
    "# Legend ekleyelim\n",
    "plt.legend()\n",
    "\n",
    "# Grafiği gösterelim\n",
    "plt.show()"
   ]
  },
  {
   "cell_type": "markdown",
   "id": "d371ba8e",
   "metadata": {},
   "source": [
    "## Model İyileştirme: Polinomsal Regresyon"
   ]
  },
  {
   "cell_type": "markdown",
   "id": "db457f17",
   "metadata": {},
   "source": [
    "Polinomsal regresyon, bağımsız değişkenlerin doğrusal olmayan etkilerini modellemek için kullanılır. Temel denklem şu şekildedir:\n",
    "\n",
    "$$\n",
    "Y = \\beta_0 + \\beta_1 X_1 + \\beta_2 X_1^2 + \\dots + \\beta_n X_1^n + \\epsilon\n",
    "$$\n",
    "\n",
    "- **X₁, X₁², X₁³, ...**: Bağımsız değişkenlerin polinomsal terimleri.\n",
    "\n",
    "### Nasıl Hesaplanır?\n",
    "- Lineer regresyonun genelleştirilmiş halidir. Bağımsız değişkenlerin kuvvetleri (X², X³, vb.) ile genişletilmiş yeni özellikler oluşturulur.\n",
    "- Lineer regresyon bu genişletilmiş veri setine uygulanarak polinomsal etkiler modele dahil edilir.\n"
   ]
  },
  {
   "cell_type": "markdown",
   "id": "592e4545",
   "metadata": {},
   "source": [
    "Isıtma için"
   ]
  },
  {
   "cell_type": "code",
   "execution_count": 76,
   "id": "ffa67951",
   "metadata": {},
   "outputs": [
    {
     "name": "stdout",
     "output_type": "stream",
     "text": [
      "Polinomsal Regresyon - MSE: 1.2658429228001316\n",
      "Polinomsal Regresyon - R2: 0.9878554724958978\n"
     ]
    }
   ],
   "source": [
    "\n",
    "# Polinomsal özellikler ekleme\n",
    "poly_heating = PolynomialFeatures(degree=2)\n",
    "X_poly = poly_heating.fit_transform(X_train_heating)\n",
    "\n",
    "# Polinomsal regresyon modeli\n",
    "poly_model_heating = LinearRegression()\n",
    "poly_model_heating.fit(X_poly, y_train_heating)\n",
    "\n",
    "# Test setindeki tahminler\n",
    "X_test_poly = poly_heating.transform(X_test_heating)\n",
    "y_poly_pred = poly_model_heating.predict(X_test_poly)\n",
    "\n",
    "# Sonuçları değerlendirme\n",
    "mse_poly = mean_squared_error(y_test_heating, y_poly_pred)\n",
    "r2_poly = r2_score(y_test_heating, y_poly_pred)\n",
    "\n",
    "print(\"Polinomsal Regresyon - MSE:\", mse_poly)\n",
    "print(\"Polinomsal Regresyon - R2:\", r2_poly)\n"
   ]
  },
  {
   "cell_type": "markdown",
   "id": "1a272fb7",
   "metadata": {},
   "source": [
    "Soğutma için"
   ]
  },
  {
   "cell_type": "code",
   "execution_count": 72,
   "id": "0ee61ce6",
   "metadata": {},
   "outputs": [
    {
     "name": "stdout",
     "output_type": "stream",
     "text": [
      "Polinomsal Regresyon - MSE: 4.214331867327776\n",
      "Polinomsal Regresyon - R2: 0.9545169701765117\n"
     ]
    }
   ],
   "source": [
    "# Polinomsal özellikler ekleme\n",
    "poly_cooling = PolynomialFeatures(degree=2)\n",
    "X_poly = poly_cooling.fit_transform(X_train_cooling)\n",
    "\n",
    "# Polinomsal regresyon modeli\n",
    "poly_model_cooling = LinearRegression()\n",
    "poly_model_cooling.fit(X_poly, y_train_cooling)\n",
    "\n",
    "# Test setindeki tahminler\n",
    "X_test_poly = poly_cooling.transform(X_test_cooling)\n",
    "y_poly_pred = poly_model_cooling.predict(X_test_poly)\n",
    "\n",
    "# Sonuçları değerlendirme\n",
    "mse_poly = mean_squared_error(y_test_cooling, y_poly_pred)\n",
    "r2_poly = r2_score(y_test_cooling, y_poly_pred)\n",
    "\n",
    "print(\"Polinomsal Regresyon - MSE:\", mse_poly)\n",
    "print(\"Polinomsal Regresyon - R2:\", r2_poly)"
   ]
  },
  {
   "cell_type": "markdown",
   "id": "09dc6c28",
   "metadata": {},
   "source": [
    "## Ridge, Lasso ve ElasticNet Regresyonları"
   ]
  },
  {
   "cell_type": "markdown",
   "id": "63af6148",
   "metadata": {},
   "source": [
    "Isıtma için"
   ]
  },
  {
   "cell_type": "code",
   "execution_count": 73,
   "id": "a21bfcc2",
   "metadata": {},
   "outputs": [
    {
     "name": "stdout",
     "output_type": "stream",
     "text": [
      "********************************************\n",
      "\n",
      "Ridge Regresyon - MSE: 9.653457481031017\n",
      "Ridge Regresyon - R2: 0.9073844963095998\n",
      "\n",
      "********************************************\n",
      "\n",
      "Lasso Regresyon - MSE: 10.08900686985949\n",
      "Lasso Regresyon - R2: 0.9032058249778351\n",
      "\n",
      "********************************************\n",
      "\n",
      "ElasticNet Regresyon - MSE: 12.576791021445219\n",
      "ElasticNet Regresyon - R2: 0.8793379638798962\n",
      "\n",
      "********************************************\n",
      "\n"
     ]
    }
   ],
   "source": [
    "\n",
    "# Ridge, Lasso ve ElasticNet modellerini oluşturalım\n",
    "ridge_model_heating = Ridge(alpha=1.0)\n",
    "lasso_model_heating = Lasso(alpha=0.1)\n",
    "elastic_model_heating = ElasticNet(alpha=0.1, l1_ratio=0.7)\n",
    "\n",
    "# Modelleri eğitme\n",
    "ridge_model_heating.fit(X_train_heating, y_train_heating)\n",
    "lasso_model_heating.fit(X_train_heating, y_train_heating)\n",
    "elastic_model_heating.fit(X_train_heating, y_train_heating)\n",
    "\n",
    "# Test setinde tahmin yapma\n",
    "y_pred_ridge = ridge_model_heating.predict(X_test_heating)\n",
    "y_pred_lasso = lasso_model_heating.predict(X_test_heating)\n",
    "y_pred_elastic = elastic_model_heating.predict(X_test_heating)\n",
    "\n",
    "# Sonuçların değerlendirilmesi\n",
    "mse_ridge_heating = mean_squared_error(y_test_heating, y_pred_ridge)\n",
    "r2_ridge_heating = r2_score(y_test_heating, y_pred_ridge)\n",
    "mse_lasso_heating = mean_squared_error(y_test_heating, y_pred_lasso)\n",
    "r2_lasso_heating = r2_score(y_test_heating, y_pred_lasso)\n",
    "mse_elastic_heating = mean_squared_error(y_test_heating, y_pred_elastic)\n",
    "r2_elastic_heating = r2_score(y_test_heating, y_pred_elastic)\n",
    "\n",
    "print(\"********************************************\\n\")\n",
    "print(\"Ridge Regresyon - MSE:\", mse_ridge_heating)\n",
    "print(\"Ridge Regresyon - R2:\", r2_ridge_heating)\n",
    "print(\"\\n********************************************\\n\")\n",
    "print(\"Lasso Regresyon - MSE:\", mse_lasso_heating)\n",
    "print(\"Lasso Regresyon - R2:\", r2_lasso_heating)\n",
    "print(\"\\n********************************************\\n\")\n",
    "print(\"ElasticNet Regresyon - MSE:\", mse_elastic_heating)\n",
    "print(\"ElasticNet Regresyon - R2:\", r2_elastic_heating)\n",
    "print(\"\\n********************************************\\n\")"
   ]
  },
  {
   "cell_type": "markdown",
   "id": "b935c186",
   "metadata": {},
   "source": [
    "Soğutma için"
   ]
  },
  {
   "cell_type": "code",
   "execution_count": 82,
   "id": "6f932544",
   "metadata": {},
   "outputs": [
    {
     "name": "stdout",
     "output_type": "stream",
     "text": [
      "********************************************\n",
      "\n",
      "Ridge Regresyon - MSE: 10.345298536350889\n",
      "Ridge Regresyon - R2: 0.8883487260437098\n",
      "\n",
      "********************************************\n",
      "\n",
      "Lasso Regresyon - MSE: 11.040764422255966\n",
      "Lasso Regresyon - R2: 0.8808429347046199\n",
      "\n",
      "********************************************\n",
      "\n",
      "ElasticNet Regresyon - MSE: 12.586754961753059\n",
      "ElasticNet Regresyon - R2: 0.8641578856794317\n",
      "\n",
      "********************************************\n",
      "\n"
     ]
    }
   ],
   "source": [
    "# Ridge, Lasso ve ElasticNet modellerini oluşturalım\n",
    "ridge_model_cooling = Ridge(alpha=1)\n",
    "lasso_model_cooling = Lasso(alpha=0.1)\n",
    "elastic_model_cooling = ElasticNet(alpha=0.1, l1_ratio=0.7)\n",
    "\n",
    "# Modelleri eğitme\n",
    "ridge_model_cooling.fit(X_train_cooling, y_train_cooling)\n",
    "lasso_model_cooling.fit(X_train_cooling, y_train_cooling)\n",
    "elastic_model_cooling.fit(X_train_cooling, y_train_cooling)\n",
    "\n",
    "# Test setinde tahmin yapma\n",
    "y_pred_ridge = ridge_model_cooling.predict(X_test_cooling)\n",
    "y_pred_lasso = lasso_model_cooling.predict(X_test_cooling)\n",
    "y_pred_elastic = elastic_model_cooling.predict(X_test_cooling)\n",
    "\n",
    "# Sonuçların değerlendirilmesi\n",
    "mse_ridge_cooling = mean_squared_error(y_test_cooling, y_pred_ridge)\n",
    "r2_ridge_cooling = r2_score(y_test_cooling, y_pred_ridge)\n",
    "mse_lasso_cooling = mean_squared_error(y_test_cooling, y_pred_lasso)\n",
    "r2_lasso_cooling = r2_score(y_test_cooling, y_pred_lasso)\n",
    "mse_elastic_cooling = mean_squared_error(y_test_cooling, y_pred_elastic)\n",
    "r2_elastic_cooling = r2_score(y_test_cooling, y_pred_elastic)\n",
    "\n",
    "print(\"********************************************\\n\")\n",
    "print(\"Ridge Regresyon - MSE:\", mse_ridge_cooling)\n",
    "print(\"Ridge Regresyon - R2:\", r2_ridge_cooling)\n",
    "print(\"\\n********************************************\\n\")\n",
    "print(\"Lasso Regresyon - MSE:\", mse_lasso_cooling)\n",
    "print(\"Lasso Regresyon - R2:\", r2_lasso_cooling)\n",
    "print(\"\\n********************************************\\n\")\n",
    "print(\"ElasticNet Regresyon - MSE:\", mse_elastic_cooling)\n",
    "print(\"ElasticNet Regresyon - R2:\", r2_elastic_cooling)\n",
    "print(\"\\n********************************************\\n\")"
   ]
  },
  {
   "cell_type": "markdown",
   "id": "5c90178a",
   "metadata": {},
   "source": [
    "## 1. Lineer Regresyon (Linear Regression)\n",
    "Lineer regresyon, bağımsız değişkenlerle bağımlı değişken arasındaki doğrusal ilişkiyi bulmayı amaçlar. Temel denklem şu şekildedir:\n",
    "\n",
    "$$\n",
    "Y = \\beta_0 + \\beta_1 X_1 + \\beta_2 X_2 + \\dots + \\beta_n X_n + \\epsilon\n",
    "$$\n",
    "\n",
    "- **Y**: Bağımlı değişken (tahmin edilen sonuç)\n",
    "- **X₁, X₂, ... , Xₙ**: Bağımsız değişkenler\n",
    "- **β₀**: Sabit terim (intercept)\n",
    "- **β₁, β₂, ... , βₙ**: Bağımsız değişkenlerin katsayıları (coefficients)\n",
    "- **ε**: Hata terimi (residual)\n",
    "\n",
    "### Nasıl Hesaplanır?\n",
    "- Amaç, hata terimi olan **ε**’yi en aza indirmektir. Katsayılar, bu hatayı minimum yapan değerler olarak belirlenir.\n",
    "- **En küçük kareler yöntemi** (Ordinary Least Squares - OLS) kullanılarak bağımlı ve bağımsız değişkenler arasındaki ilişki doğrusal bir denklemle açıklanır.\n",
    "\n",
    "---\n",
    "\n",
    "## 2. Polinomsal Regresyon (Polynomial Regression)\n",
    "Lineer regresyon, bağımsız değişkenlerle bağımlı değişken arasındaki doğrusal ilişkiyi bulmayı amaçlar. Temel denklem şu şekildedir:\n",
    "\n",
    "$$\n",
    "Y = \\beta_0 + \\beta_1 X_1 + \\beta_2 X_2 + \\dots + \\beta_n X_n + \\epsilon\n",
    "$$\n",
    "\n",
    "- **Y**: Bağımlı değişken (tahmin edilen sonuç)\n",
    "- **X₁, X₂, ... , Xₙ**: Bağımsız değişkenler\n",
    "- **β₀**: Sabit terim (intercept)\n",
    "- **β₁, β₂, ... , βₙ**: Bağımsız değişkenlerin katsayıları (coefficients)\n",
    "- **ε**: Hata terimi (residual)\n",
    "\n",
    "### Nasıl Hesaplanır?\n",
    "- Amaç, hata terimi olan **ε**’yi en aza indirmektir. Katsayılar, bu hatayı minimum yapan değerler olarak belirlenir.\n",
    "- **En küçük kareler yöntemi** (Ordinary Least Squares - OLS) kullanılarak bağımlı ve bağımsız değişkenler arasındaki ilişki doğrusal bir denklemle açıklanır.\n",
    "\n",
    "\n",
    "---\n",
    "\n",
    "## 3. Ridge Regresyonu (Ridge Regression)\n",
    "Ridge regresyonu, çoklu doğrusal bağımlılık (multicollinearity) durumlarında aşırı uyumu (overfitting) azaltmak için kullanılır. Lineer regresyon modeline **L2 normu** cezası ekler:\n",
    "\n",
    "$$\n",
    "\\text{Cost function} = \\sum_{i=1}^{n} (y_i - \\hat{y}_i)^2 + \\lambda \\sum_{j=1}^{p} \\beta_j^2\n",
    "$$\n",
    "\n",
    "- **λ (lambda)**: Ceza terimini kontrol eden bir parametre. λ ne kadar büyükse, model daha fazla cezalandırılır ve katsayılar küçülmeye zorlanır.\n",
    "- **L2 normu**: Katsayıların karelerinin toplamı.\n",
    "\n",
    "### Nasıl Hesaplanır?\n",
    "- Ridge, OLS’ye benzer şekilde çalışır, ancak katsayıların büyüklüğünü sınırlamak için ek bir ceza terimi ekler. Bu, özellikle bağımsız değişkenler arasında yüksek korelasyon olduğunda kullanışlıdır.\n",
    "\n",
    "---\n",
    "\n",
    "## 4. Lasso Regresyonu (Lasso Regression)\n",
    "Lasso regresyonu, önemli olmayan bağımsız değişkenleri tamamen sıfırlayarak modelin basitleştirilmesini sağlar. Lineer regresyon modeline **L1 normu** cezası ekler:\n",
    "\n",
    "$$\n",
    "\\text{Cost function} = \\sum_{i=1}^{n} (y_i - \\hat{y}_i)^2 + \\lambda \\sum_{j=1}^{p} |\\beta_j|\n",
    "$$\n",
    "\n",
    "- **L1 normu**: Katsayıların mutlak değerlerinin toplamı.\n",
    "\n",
    "### Nasıl Hesaplanır?\n",
    "- Ridge ile benzerdir, ancak ceza terimi L2 yerine L1 normu kullanır. Lasso’nun önemli özelliği, bazı katsayıları tamamen sıfıra indirebilmesidir. Böylece model daha basit ve daha açıklayıcı olur.\n",
    "\n",
    "---\n",
    "\n",
    "## 5. ElasticNet Regresyonu (ElasticNet Regression)\n",
    "ElasticNet, Ridge ve Lasso regresyonlarını birleştiren bir yaklaşımdır. Hem **L1** hem de **L2** normu cezası içerir:\n",
    "\n",
    "$$\n",
    "\\text{Cost function} = \\sum_{i=1}^{n} (y_i - \\hat{y}_i)^2 + \\lambda_1 \\sum_{j=1}^{p} |\\beta_j| + \\lambda_2 \\sum_{j=1}^{p} \\beta_j^2\n",
    "$$\n",
    "\n",
    "- **λ₁**: Lasso’daki gibi L1 cezasını kontrol eder.\n",
    "- **λ₂**: Ridge’deki gibi L2 cezasını kontrol eder.\n",
    "\n",
    "### Nasıl Hesaplanır?\n",
    "- ElasticNet, hem Lasso'nun sıfırlama özelliğini hem de Ridge'in katsayıları küçültme özelliğini kullanır. Bu iki ceza terimini birleştirerek, daha dengeli ve esnek bir model oluşturur.\n"
   ]
  }
 ],
 "metadata": {
  "kernelspec": {
   "display_name": "Python 3 (ipykernel)",
   "language": "python",
   "name": "python3"
  },
  "language_info": {
   "codemirror_mode": {
    "name": "ipython",
    "version": 3
   },
   "file_extension": ".py",
   "mimetype": "text/x-python",
   "name": "python",
   "nbconvert_exporter": "python",
   "pygments_lexer": "ipython3",
   "version": "3.11.7"
  }
 },
 "nbformat": 4,
 "nbformat_minor": 5
}
