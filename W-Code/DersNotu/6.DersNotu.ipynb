{
 "cells": [
  {
   "cell_type": "markdown",
   "id": "ad291856-a075-4405-a439-4b7c231d588d",
   "metadata": {},
   "source": [
    "# Kendi Notum"
   ]
  },
  {
   "cell_type": "markdown",
   "id": "b2466cad-028e-4717-8b1d-455766aa0a8b",
   "metadata": {},
   "source": [
    "Pandas, Python'da veri analizi ve veri işleme için kullanılan güçlü ve popüler bir kütüphanedir. Yapısal verileri, yani tablolar, zaman serileri ve çok boyutlu diziler gibi veri tiplerini kolayca yönetmemizi sağlar. Özellikle veri bilimcileri ve analistler tarafından tercih edilen Pandas, veriyi düzenlemek, analiz etmek ve dönüştürmek için geniş bir fonksiyon yelpazesi sunar."
   ]
  },
  {
   "cell_type": "markdown",
   "id": "b6142c2a-fd5b-455d-8c34-9825351420f3",
   "metadata": {},
   "source": [
    "## Pandas Neden Kullanılır?\n",
    "Veri Yapıları: Series ve DataFrame: Pandas, iki temel veri yapısı sağlar:\n",
    "Series: Tek boyutlu, indekslenmiş veri yapısıdır. Bir listeye veya numpy dizisine benzer, ancak indeksleme avantajı sunar.\n",
    "DataFrame: İki boyutlu, tablo benzeri bir veri yapısıdır. Satırlar ve sütunlar şeklinde organize edilir, birden fazla Series'in birleşimi olarak düşünülebilir."
   ]
  },
  {
   "cell_type": "code",
   "execution_count": 5,
   "id": "401581fc-5a5f-4d5c-9cd3-c766b293506e",
   "metadata": {},
   "outputs": [
    {
     "name": "stdout",
     "output_type": "stream",
     "text": [
      "a    1\n",
      "b    2\n",
      "c    3\n",
      "d    4\n",
      "dtype: int64\n"
     ]
    }
   ],
   "source": [
    "import pandas as pd\n",
    "\n",
    "# Series oluşturma\n",
    "ser = pd.Series([1, 2, 3, 4], index=['a', 'b', 'c', 'd'])\n",
    "print(ser)\n"
   ]
  },
  {
   "cell_type": "code",
   "execution_count": 9,
   "id": "40a3a533-2fd3-40c5-9e1e-bf0829fe4f0c",
   "metadata": {},
   "outputs": [
    {
     "name": "stdout",
     "output_type": "stream",
     "text": [
      "   isim  yaş             şehir\n",
      "0  Aslı   26          İstanbul\n",
      "1  Esil   31  iatanbu(Anadolu)\n",
      "2   Ece   24             İzmir\n"
     ]
    }
   ],
   "source": [
    "# DataFrame oluşturma\n",
    "data = {'isim': ['Aslı', 'Esil', 'Ece'],\n",
    "        'yaş': [26, 31, 24],\n",
    "        'şehir': ['İstanbul', 'iatanbu(Anadolu)', 'İzmir']}\n",
    "df = pd.DataFrame(data)\n",
    "print(df)"
   ]
  },
  {
   "cell_type": "markdown",
   "id": "f1cd9747-e350-46de-a114-205cb47c2dac",
   "metadata": {},
   "source": [
    "## Veri Manipülasyonu:\n",
    "Pandas, veri temizleme, düzenleme, filtreleme, gruplama gibi veri manipülasyon işlemleri için zengin fonksiyonlar sunar. Bu işlemleri, büyük veri kümeleri üzerinde bile hızlı ve kolay bir şekilde gerçekleştirmenizi sağlar."
   ]
  },
  {
   "cell_type": "markdown",
   "id": "09074e23-739c-454a-b2c4-65179769b287",
   "metadata": {},
   "source": [
    "### Filtreleme ve Seçme:"
   ]
  },
  {
   "cell_type": "code",
   "execution_count": 10,
   "id": "178947f6-2f10-44ac-a7fc-fef993fdad71",
   "metadata": {},
   "outputs": [
    {
     "name": "stdout",
     "output_type": "stream",
     "text": [
      "   isim  yaş             şehir\n",
      "0  Aslı   26          İstanbul\n",
      "1  Esil   31  iatanbu(Anadolu)\n"
     ]
    }
   ],
   "source": [
    "# Yaşı 25'ten büyük olan kişileri filtreleme\n",
    "filtered_df = df[df['yaş'] > 25]\n",
    "print(filtered_df)"
   ]
  },
  {
   "cell_type": "markdown",
   "id": "9963942d-22ec-49da-a140-d27515f356cf",
   "metadata": {},
   "source": [
    "### Sütun Ekleme:"
   ]
  },
  {
   "cell_type": "code",
   "execution_count": 11,
   "id": "43fdde10-0c36-49b2-ab8c-77996891ecff",
   "metadata": {},
   "outputs": [
    {
     "name": "stdout",
     "output_type": "stream",
     "text": [
      "   isim  yaş             şehir    meslek\n",
      "0  Aslı   26          İstanbul  Mühendis\n",
      "1  Esil   31  iatanbu(Anadolu)    Doktor\n",
      "2   Ece   24             İzmir  Öğretmen\n"
     ]
    }
   ],
   "source": [
    "df['meslek'] = ['Mühendis', 'Doktor', 'Öğretmen']\n",
    "print(df)"
   ]
  },
  {
   "cell_type": "markdown",
   "id": "bb067373-01a5-4b43-940f-321469fbf93a",
   "metadata": {},
   "source": [
    "### Eksik Verilerle Çalışma: \n",
    "Pandas, eksik veri (NaN - Not a Number) ile başa çıkmak için güçlü araçlar sunar. Eksik verileri doldurabilir, kaldırabilir veya bu verileri analiz edebilirsiniz."
   ]
  },
  {
   "cell_type": "code",
   "execution_count": 13,
   "id": "c5274335-6b3b-4715-832c-59baab785c35",
   "metadata": {},
   "outputs": [],
   "source": [
    "import numpy as np\n",
    "\n",
    "data = {'isim': ['Aslı', 'Esil', np.nan],\n",
    "        'yaş': [26, np.nan, 24],\n",
    "        'şehir': ['İstanbul', 'Ankara', 'İzmir']}\n",
    "df = pd.DataFrame(data)"
   ]
  },
  {
   "cell_type": "code",
   "execution_count": 14,
   "id": "0417adf6-5e8f-426e-8f7e-90f7160ddffe",
   "metadata": {},
   "outputs": [
    {
     "name": "stdout",
     "output_type": "stream",
     "text": [
      "    isim    yaş  şehir\n",
      "0  False  False  False\n",
      "1  False   True  False\n",
      "2   True  False  False\n"
     ]
    }
   ],
   "source": [
    "# Eksik verileri kontrol etme\n",
    "print(df.isna())"
   ]
  },
  {
   "cell_type": "code",
   "execution_count": 15,
   "id": "c818fcc5-bd80-4feb-b354-7a8bbe81013e",
   "metadata": {},
   "outputs": [
    {
     "name": "stdout",
     "output_type": "stream",
     "text": [
      "         isim         yaş     şehir\n",
      "0        Aslı        26.0  İstanbul\n",
      "1       Merve  Bilinmiyor    Ankara\n",
      "2  Bilinmiyor        24.0     İzmir\n"
     ]
    }
   ],
   "source": [
    "# Eksik verileri doldurma\n",
    "df_filled = df.fillna(\"Bilinmiyor\")\n",
    "print(df_filled)"
   ]
  },
  {
   "cell_type": "markdown",
   "id": "5d0750d7-59d8-40ea-ac3a-a2bbbad380d0",
   "metadata": {},
   "source": [
    "### Veri Okuma ve Yazma: \n",
    "Pandas, farklı dosya formatlarından veri okuma ve bu dosya formatlarına yazma konusunda oldukça esnektir. Örneğin, CSV, Excel, SQL veri tabanları ve hatta HTML tablolarından veri okuyup yazabilirsiniz."
   ]
  },
  {
   "cell_type": "markdown",
   "id": "5dfb80d2-239e-49d5-b47a-6d3ac669a65b",
   "metadata": {},
   "source": [
    "`CSV dosyasından veri okuma`\n",
    "df = pd.read_csv('veri.csv')\n",
    "\n",
    "`CSV dosyasına veri yazma`\n",
    "df.to_csv('yeni_veri.csv', index=False)"
   ]
  },
  {
   "cell_type": "markdown",
   "id": "9acdc972-496e-49ad-9da2-af17681ea383",
   "metadata": {},
   "source": [
    "### Veri Gruplama ve Toplulaştırma: \n",
    "Pandas, verileri gruplamak ve bu gruplar üzerinde istatistiksel analizler yapmak için güçlü fonksiyonlar sunar. Örneğin, bir veri kümesindeki yaşa göre ortalama maaşı hesaplayabilirsiniz."
   ]
  },
  {
   "cell_type": "code",
   "execution_count": 17,
   "id": "5e76d85b-fabc-4699-8d28-69a9b9424c2f",
   "metadata": {},
   "outputs": [
    {
     "name": "stdout",
     "output_type": "stream",
     "text": [
      "yaş\n",
      "24    4500.0\n",
      "25    6000.0\n",
      "26    5250.0\n",
      "Name: maaş, dtype: float64\n"
     ]
    }
   ],
   "source": [
    "data = {'isim': ['Aslı', 'Merve', 'Ece', 'Fatma'],\n",
    "        'yaş': [26, 25, 24, 26],\n",
    "        'maaş': [5000, 6000, 4500, 5500]}\n",
    "df = pd.DataFrame(data)\n",
    "\n",
    "# Yaşa göre gruplama ve ortalama maaş hesaplama\n",
    "print(df.groupby('yaş')['maaş'].mean())"
   ]
  },
  {
   "cell_type": "markdown",
   "id": "c3d28a13-a8a9-4043-a319-8a95c8f80c49",
   "metadata": {},
   "source": [
    "### Zaman Serileri: \n",
    "Pandas, tarih ve zaman verileriyle kolayca çalışmayı sağlar. Zaman serileri üzerinde veri analizi yapmak için gelişmiş fonksiyonlar içerir."
   ]
  },
  {
   "cell_type": "code",
   "execution_count": 18,
   "id": "469b66e5-6b2b-425f-913a-6b7a98ba526e",
   "metadata": {},
   "outputs": [
    {
     "name": "stdout",
     "output_type": "stream",
     "text": [
      "       tarih  değer\n",
      "0 2023-01-01     10\n",
      "1 2023-01-02     20\n",
      "2 2023-01-03     30\n",
      "3 2023-01-04     40\n",
      "4 2023-01-05     50\n",
      "5 2023-01-06     60\n"
     ]
    }
   ],
   "source": [
    "tarih = pd.date_range('2023-01-01', periods=6, freq='D')\n",
    "df = pd.DataFrame({'tarih': tarih, 'değer': [10, 20, 30, 40, 50, 60]})\n",
    "print(df)"
   ]
  },
  {
   "cell_type": "markdown",
   "id": "ba5563d2",
   "metadata": {},
   "source": [
    "# Pandas'a Giriş\n",
    "\n",
    "## Neden Pandas?\n",
    "- Kolay ve hızlı veri işleme\n",
    "- Veri analizi ve veri bilimi projelerinde yaygın kullanım\n",
    "- Farklı veri kaynaklarından veri okuma ve yazma desteği (CSV, Excel, SQL, vb.)\n",
    "\n",
    "## Pandas Kurulumu\n",
    "Python ortamında Pandas kurulumu:\n",
    "```bash\n",
    "pip install pandas\n",
    "```\n",
    "\n",
    "# Pandas Dizileri (DataFrame ve Series)\n",
    "\n",
    "## Pandas Dizisi Oluşturma\n",
    "Pandas ile oluşturduğumuz dizilerin (DataFrame ve Series), Python listeleri veya sözlüklerinden birkaç temel farkı ve benzerlikleri bulunmaktadır. Bunları şu şekilde inceleyebiliriz:\n",
    "\n",
    "### Benzerlikleri:\n",
    "- Python listeleri ve sözlükleri gibi birden fazla veri türünü saklayabilir.\n",
    "- Veri dilimleme ve indeksleme işlemleri yapılabilir.\n",
    "\n",
    "### Farklılıkları:\n",
    "- **Python Listesi/Sözlükleri:** Farklı veri türlerini içerebilir ancak satır ve sütun yapısına sahip değildir, bu nedenle büyük verilerle çalışmak daha zordur.\n",
    "- **Pandas DataFrame:** İki boyutlu bir veri yapısı olup, etiketlenmiş satır ve sütunlar ile daha verimli veri işleme sağlar. Aynı zamanda farklı veri türlerini aynı tabloda tutabilir ve hızlı veri analizi imkanı sunar.\n",
    "- **Pandas Series:** Tek boyutlu dizilerdir (etiketli veriler içerir), Python listelerine ve NumPy dizilerine benzer, ancak daha fazla fonksiyon ve metod sunar.\n",
    "\n",
    "## Kütüphanenin projeye dahil edilmesi\n",
    "- Burada kullandığımız `import` anahtar kelimesi kütüphanemizi projemize eklememizi sağlar.\n",
    "- Ardından gelen `as` ifadesi, kütüphanemizi projemizde kısaltılmış bir isimle kullanmamızı sağlar (genelde `pd` olarak kullanılır).\n",
    "\n"
   ]
  },
  {
   "cell_type": "code",
   "execution_count": 22,
   "id": "d7e5d0e7",
   "metadata": {},
   "outputs": [],
   "source": [
    "import pandas as pd"
   ]
  },
  {
   "cell_type": "markdown",
   "id": "cfb27139",
   "metadata": {},
   "source": [
    "### 2. Bir Pandas Serisi Oluşturma"
   ]
  },
  {
   "cell_type": "markdown",
   "id": "5a5f31ec",
   "metadata": {},
   "source": [
    "Bu, Pandas'da bir **Series** (seri) oluşturur."
   ]
  },
  {
   "cell_type": "code",
   "execution_count": 23,
   "id": "ed39f037",
   "metadata": {},
   "outputs": [
    {
     "name": "stdout",
     "output_type": "stream",
     "text": [
      "0    1\n",
      "1    2\n",
      "2    3\n",
      "3    4\n",
      "4    5\n",
      "5    6\n",
      "dtype: int64\n"
     ]
    }
   ],
   "source": [
    "seri_a = pd.Series([1,2,3,4,5,6])\n",
    "print(seri_a)"
   ]
  },
  {
   "cell_type": "markdown",
   "id": "eab60177",
   "metadata": {},
   "source": [
    "### 3. Serinin Tipini Kontrol Etme"
   ]
  },
  {
   "cell_type": "markdown",
   "id": "ba14e07a",
   "metadata": {},
   "source": [
    "Bir nesnenin tipini öğrenmek için kullanılır."
   ]
  },
  {
   "cell_type": "code",
   "execution_count": 24,
   "id": "fa3ad955",
   "metadata": {},
   "outputs": [
    {
     "data": {
      "text/plain": [
       "pandas.core.series.Series"
      ]
     },
     "execution_count": 24,
     "metadata": {},
     "output_type": "execute_result"
    }
   ],
   "source": [
    "type(seri_a)"
   ]
  },
  {
   "cell_type": "markdown",
   "id": "a8609e0e",
   "metadata": {},
   "source": [
    "### 4. Serinin İndekslerine ve Değerlerine Erişmek"
   ]
  },
  {
   "cell_type": "markdown",
   "id": "80e618a4",
   "metadata": {},
   "source": [
    "- **index**: Serinin indekslerini döndürür.\n",
    "- **values**: Serinin içerisindeki değerleri döndürür."
   ]
  },
  {
   "cell_type": "code",
   "execution_count": 26,
   "id": "0a9abb87",
   "metadata": {},
   "outputs": [
    {
     "data": {
      "text/plain": [
       "RangeIndex(start=0, stop=6, step=1)"
      ]
     },
     "execution_count": 26,
     "metadata": {},
     "output_type": "execute_result"
    }
   ],
   "source": [
    "seri_a.index"
   ]
  },
  {
   "cell_type": "code",
   "execution_count": 27,
   "id": "a68a09d3-66f3-4c68-80d6-5e822a6df786",
   "metadata": {},
   "outputs": [
    {
     "data": {
      "text/plain": [
       "array([1, 2, 3, 4, 5, 6], dtype=int64)"
      ]
     },
     "execution_count": 27,
     "metadata": {},
     "output_type": "execute_result"
    }
   ],
   "source": [
    "seri_a.values"
   ]
  },
  {
   "cell_type": "markdown",
   "id": "66d5c686",
   "metadata": {},
   "source": [
    "### 5. Serinin Boyut ve Eleman Sayısını Bulmak"
   ]
  },
  {
   "cell_type": "markdown",
   "id": "aad2d0fd",
   "metadata": {},
   "source": [
    "- **ndim**: Serinin boyutunu döndürür.\n",
    "- **size**: Serinin eleman sayısını döndürür."
   ]
  },
  {
   "cell_type": "code",
   "execution_count": 28,
   "id": "ab3e7c65",
   "metadata": {},
   "outputs": [
    {
     "data": {
      "text/plain": [
       "1"
      ]
     },
     "execution_count": 28,
     "metadata": {},
     "output_type": "execute_result"
    }
   ],
   "source": [
    "seri_a.ndim"
   ]
  },
  {
   "cell_type": "code",
   "execution_count": 29,
   "id": "094d42f8-3ddd-4bd7-9e1e-6eb3aab85d30",
   "metadata": {},
   "outputs": [
    {
     "data": {
      "text/plain": [
       "6"
      ]
     },
     "execution_count": 29,
     "metadata": {},
     "output_type": "execute_result"
    }
   ],
   "source": [
    "seri_a.size"
   ]
  },
  {
   "cell_type": "markdown",
   "id": "3ef2b57a",
   "metadata": {},
   "source": [
    "### 6. İlk ve Son Elemanları Görüntüleme"
   ]
  },
  {
   "cell_type": "markdown",
   "id": "49a7a4f4",
   "metadata": {},
   "source": [
    "Serinin ilk ve son elemanlarını görüntüler."
   ]
  },
  {
   "cell_type": "code",
   "execution_count": 31,
   "id": "11a7517f",
   "metadata": {},
   "outputs": [
    {
     "name": "stdout",
     "output_type": "stream",
     "text": [
      "0    1\n",
      "1    2\n",
      "2    3\n",
      "dtype: int64\n"
     ]
    }
   ],
   "source": [
    "print(seri_a.head(3))"
   ]
  },
  {
   "cell_type": "code",
   "execution_count": 32,
   "id": "90ea98dc-216b-43ee-bed5-7a3c0ab9839e",
   "metadata": {},
   "outputs": [
    {
     "name": "stdout",
     "output_type": "stream",
     "text": [
      "2    3\n",
      "3    4\n",
      "4    5\n",
      "5    6\n",
      "dtype: int64\n"
     ]
    }
   ],
   "source": [
    "print(seri_a.tail(4))"
   ]
  },
  {
   "cell_type": "markdown",
   "id": "0e7e0d89",
   "metadata": {},
   "source": [
    "### 7. Dilimleme ve İndeks Değiştirme"
   ]
  },
  {
   "cell_type": "markdown",
   "id": "d558cf7d",
   "metadata": {},
   "source": [
    "Seriyi dilimleme ve indeksleri değiştirme."
   ]
  },
  {
   "cell_type": "code",
   "execution_count": 33,
   "id": "c9b1354c-b8ee-4d59-a725-e0086644b121",
   "metadata": {},
   "outputs": [
    {
     "name": "stdout",
     "output_type": "stream",
     "text": [
      "0    1\n",
      "1    2\n",
      "2    3\n",
      "3    4\n",
      "4    5\n",
      "5    6\n",
      "dtype: int64\n"
     ]
    }
   ],
   "source": [
    "print(seri_a)"
   ]
  },
  {
   "cell_type": "code",
   "execution_count": 34,
   "id": "76b775ba-8a24-49c3-b441-a00e3dfb562f",
   "metadata": {},
   "outputs": [
    {
     "data": {
      "text/plain": [
       "0    1\n",
       "2    3\n",
       "4    5\n",
       "dtype: int64"
      ]
     },
     "execution_count": 34,
     "metadata": {},
     "output_type": "execute_result"
    }
   ],
   "source": [
    "seri_a[:5:2]"
   ]
  },
  {
   "cell_type": "code",
   "execution_count": 35,
   "id": "50bfb611",
   "metadata": {},
   "outputs": [
    {
     "name": "stdout",
     "output_type": "stream",
     "text": [
      "1.sira    1\n",
      "2.sira    2\n",
      "3.sira    3\n",
      "4.sira    4\n",
      "5.sira    5\n",
      "6.sira    6\n",
      "dtype: int64\n"
     ]
    }
   ],
   "source": [
    "seri_a.index = ['1.sira','2.sira','3.sira','4.sira','5.sira','6.sira']\n",
    "print(seri_a)"
   ]
  },
  {
   "cell_type": "markdown",
   "id": "7e40d5ae",
   "metadata": {},
   "source": [
    "### 8. İndeks ile Erişim"
   ]
  },
  {
   "cell_type": "markdown",
   "id": "2c1f6c4a",
   "metadata": {},
   "source": [
    "İndeks kullanarak seriye erişim."
   ]
  },
  {
   "cell_type": "code",
   "execution_count": 36,
   "id": "6667f15f",
   "metadata": {},
   "outputs": [
    {
     "name": "stderr",
     "output_type": "stream",
     "text": [
      "C:\\Users\\aslto\\AppData\\Local\\Temp\\ipykernel_22756\\1729166108.py:1: FutureWarning: Series.__getitem__ treating keys as positions is deprecated. In a future version, integer keys will always be treated as labels (consistent with DataFrame behavior). To access a value by position, use `ser.iloc[pos]`\n",
      "  seri_a[3]\n"
     ]
    },
    {
     "data": {
      "text/plain": [
       "4"
      ]
     },
     "execution_count": 36,
     "metadata": {},
     "output_type": "execute_result"
    }
   ],
   "source": [
    "seri_a[3]"
   ]
  },
  {
   "cell_type": "code",
   "execution_count": 37,
   "id": "488ced08-7bdc-45ed-83e4-6abc053872c4",
   "metadata": {},
   "outputs": [
    {
     "data": {
      "text/plain": [
       "4"
      ]
     },
     "execution_count": 37,
     "metadata": {},
     "output_type": "execute_result"
    }
   ],
   "source": [
    "seri_a['4.sira']"
   ]
  },
  {
   "cell_type": "code",
   "execution_count": 38,
   "id": "ad503640-2b25-4830-b99c-3856a57f85a1",
   "metadata": {},
   "outputs": [
    {
     "data": {
      "text/plain": [
       "1.     12\n",
       "2.     58\n",
       "3.     64\n",
       "4.    122\n",
       "5.    999\n",
       "6.    -17\n",
       "dtype: int64"
      ]
     },
     "execution_count": 38,
     "metadata": {},
     "output_type": "execute_result"
    }
   ],
   "source": [
    "seri2 = pd.Series([12,58,64,122,999,-17],\n",
    "                index=[\"1.\",\"2.\",\"3.\",\"4.\",\"5.\",\"6.\"])\n",
    "seri2"
   ]
  },
  {
   "cell_type": "code",
   "execution_count": 39,
   "id": "6078db3e-049a-46d5-9f15-03e140e6814d",
   "metadata": {},
   "outputs": [
    {
     "data": {
      "text/plain": [
       "2.     58\n",
       "3.     64\n",
       "4.    122\n",
       "5.    999\n",
       "dtype: int64"
      ]
     },
     "execution_count": 39,
     "metadata": {},
     "output_type": "execute_result"
    }
   ],
   "source": [
    "seri2[\"2.\":\"5.\":]"
   ]
  },
  {
   "cell_type": "code",
   "execution_count": 40,
   "id": "0adbb92f-2a11-4809-80a2-88a71fcf3886",
   "metadata": {},
   "outputs": [
    {
     "data": {
      "text/plain": [
       "1.     12\n",
       "2.     58\n",
       "3.     64\n",
       "4.    122\n",
       "5.    999\n",
       "6.    -17\n",
       "dtype: int64"
      ]
     },
     "execution_count": 40,
     "metadata": {},
     "output_type": "execute_result"
    }
   ],
   "source": [
    "seri2"
   ]
  },
  {
   "cell_type": "code",
   "execution_count": 41,
   "id": "3e79f487-eb27-4a12-b75f-c3737be5a234",
   "metadata": {},
   "outputs": [
    {
     "data": {
      "text/plain": [
       "1.    12\n",
       "2.     0\n",
       "3.     0\n",
       "4.     0\n",
       "5.     0\n",
       "6.   -17\n",
       "dtype: int64"
      ]
     },
     "execution_count": 41,
     "metadata": {},
     "output_type": "execute_result"
    }
   ],
   "source": [
    "seri2[[\"2.\",\"3.\",\"4.\",\"5.\"]] = 0\n",
    "seri2"
   ]
  },
  {
   "cell_type": "code",
   "execution_count": 42,
   "id": "f8ea15d0-60d7-4e38-95c7-e8801b76dc9b",
   "metadata": {},
   "outputs": [
    {
     "data": {
      "text/plain": [
       "1.    12\n",
       "2.     9\n",
       "3.     0\n",
       "4.     9\n",
       "5.     0\n",
       "6.   -17\n",
       "dtype: int64"
      ]
     },
     "execution_count": 42,
     "metadata": {},
     "output_type": "execute_result"
    }
   ],
   "source": [
    "seri2[[\"2.\",\"4.\"]] = 9\n",
    "seri2"
   ]
  },
  {
   "cell_type": "markdown",
   "id": "8ea97dc5",
   "metadata": {},
   "source": [
    "### 9. Sözlük Kullanarak Seri Oluşturma"
   ]
  },
  {
   "cell_type": "markdown",
   "id": "60eb8737",
   "metadata": {},
   "source": [
    "Bir Python sözlüğünü Pandas serisine dönüştürme."
   ]
  },
  {
   "cell_type": "code",
   "execution_count": 43,
   "id": "ed9a9784",
   "metadata": {},
   "outputs": [
    {
     "data": {
      "text/plain": [
       "Ayşe     42\n",
       "Elif     27\n",
       "Fatma    36\n",
       "dtype: int64"
      ]
     },
     "execution_count": 43,
     "metadata": {},
     "output_type": "execute_result"
    }
   ],
   "source": [
    "sozluk = {\"Ayşe\":42, \"Elif\":27, \"Fatma\":36}\n",
    "serisozluk = pd.Series(sozluk)\n",
    "serisozluk"
   ]
  },
  {
   "cell_type": "code",
   "execution_count": 44,
   "id": "41f8b6bc-e839-45b4-abe2-4f3774926d13",
   "metadata": {},
   "outputs": [
    {
     "data": {
      "text/plain": [
       "42"
      ]
     },
     "execution_count": 44,
     "metadata": {},
     "output_type": "execute_result"
    }
   ],
   "source": [
    "serisozluk[\"Ayşe\"]"
   ]
  },
  {
   "cell_type": "markdown",
   "id": "a990d75f",
   "metadata": {},
   "source": [
    "### 10. Rastgele Sayılar ile Seri Oluşturma"
   ]
  },
  {
   "cell_type": "markdown",
   "id": "56702828",
   "metadata": {},
   "source": [
    "Numpy kullanarak rastgele sayılarla Pandas serisi oluşturma."
   ]
  },
  {
   "cell_type": "code",
   "execution_count": 45,
   "id": "bee37d51",
   "metadata": {},
   "outputs": [
    {
     "data": {
      "text/plain": [
       "array([1, 0, 0, 8, 1, 3, 1, 2])"
      ]
     },
     "execution_count": 45,
     "metadata": {},
     "output_type": "execute_result"
    }
   ],
   "source": [
    "import numpy as np\n",
    "randd = np.random.randint(0,10,size=8)\n",
    "randd"
   ]
  },
  {
   "cell_type": "code",
   "execution_count": 46,
   "id": "56c8e7ec-6ec4-4133-974d-133742f8c961",
   "metadata": {},
   "outputs": [
    {
     "name": "stdout",
     "output_type": "stream",
     "text": [
      "0    1\n",
      "1    0\n",
      "2    0\n",
      "3    8\n",
      "4    1\n",
      "5    3\n",
      "6    1\n",
      "7    2\n",
      "dtype: int32\n"
     ]
    }
   ],
   "source": [
    "randd_to_pandas = pd.Series(randd)\n",
    "print(randd_to_pandas)"
   ]
  },
  {
   "cell_type": "markdown",
   "id": "4fe7f297",
   "metadata": {},
   "source": [
    "### 11. DataFrame Oluşturma"
   ]
  },
  {
   "cell_type": "markdown",
   "id": "3424a0a0",
   "metadata": {},
   "source": [
    "Pandas'da bir **DataFrame** oluşturma."
   ]
  },
  {
   "cell_type": "code",
   "execution_count": 47,
   "id": "ee9b59e7",
   "metadata": {},
   "outputs": [
    {
     "data": {
      "text/html": [
       "<div>\n",
       "<style scoped>\n",
       "    .dataframe tbody tr th:only-of-type {\n",
       "        vertical-align: middle;\n",
       "    }\n",
       "\n",
       "    .dataframe tbody tr th {\n",
       "        vertical-align: top;\n",
       "    }\n",
       "\n",
       "    .dataframe thead th {\n",
       "        text-align: right;\n",
       "    }\n",
       "</style>\n",
       "<table border=\"1\" class=\"dataframe\">\n",
       "  <thead>\n",
       "    <tr style=\"text-align: right;\">\n",
       "      <th></th>\n",
       "      <th>sayılar</th>\n",
       "    </tr>\n",
       "  </thead>\n",
       "  <tbody>\n",
       "    <tr>\n",
       "      <th>1.</th>\n",
       "      <td>12</td>\n",
       "    </tr>\n",
       "    <tr>\n",
       "      <th>2.</th>\n",
       "      <td>0</td>\n",
       "    </tr>\n",
       "    <tr>\n",
       "      <th>3.</th>\n",
       "      <td>9</td>\n",
       "    </tr>\n",
       "    <tr>\n",
       "      <th>4.</th>\n",
       "      <td>0</td>\n",
       "    </tr>\n",
       "    <tr>\n",
       "      <th>5.</th>\n",
       "      <td>9</td>\n",
       "    </tr>\n",
       "    <tr>\n",
       "      <th>6.</th>\n",
       "      <td>-56</td>\n",
       "    </tr>\n",
       "  </tbody>\n",
       "</table>\n",
       "</div>"
      ],
      "text/plain": [
       "    sayılar\n",
       "1.       12\n",
       "2.        0\n",
       "3.        9\n",
       "4.        0\n",
       "5.        9\n",
       "6.      -56"
      ]
     },
     "execution_count": 47,
     "metadata": {},
     "output_type": "execute_result"
    }
   ],
   "source": [
    "df1 = pd.DataFrame([12,0,9,0,9,-56], columns=[\"sayılar\"], index=[\"1.\",\"2.\",\"3.\",\"4.\",\"5.\",\"6.\"])\n",
    "df1"
   ]
  },
  {
   "cell_type": "markdown",
   "id": "9797db9c",
   "metadata": {},
   "source": [
    "### 12. DataFrame Üzerinde Temel İşlemler"
   ]
  },
  {
   "cell_type": "markdown",
   "id": "95266074",
   "metadata": {},
   "source": [
    "DataFrame'de indeksler, boyut, değerler ve şekil bilgileri."
   ]
  },
  {
   "cell_type": "code",
   "execution_count": 54,
   "id": "f215663a",
   "metadata": {},
   "outputs": [
    {
     "data": {
      "text/plain": [
       "Index(['1.', '2.', '3.', '4.', '5.', '6.'], dtype='object')"
      ]
     },
     "execution_count": 54,
     "metadata": {},
     "output_type": "execute_result"
    }
   ],
   "source": [
    "df1.index"
   ]
  },
  {
   "cell_type": "code",
   "execution_count": 55,
   "id": "bc3c4c82-97d4-4dde-a3bf-6343abd1ec67",
   "metadata": {},
   "outputs": [
    {
     "data": {
      "text/plain": [
       "2"
      ]
     },
     "execution_count": 55,
     "metadata": {},
     "output_type": "execute_result"
    }
   ],
   "source": [
    "df1.ndim"
   ]
  },
  {
   "cell_type": "code",
   "execution_count": 56,
   "id": "d00b6108-ded7-4607-b70a-ce28fa77dd41",
   "metadata": {},
   "outputs": [
    {
     "data": {
      "text/plain": [
       "array([[ 12],\n",
       "       [  0],\n",
       "       [  9],\n",
       "       [  0],\n",
       "       [  9],\n",
       "       [-56]], dtype=int64)"
      ]
     },
     "execution_count": 56,
     "metadata": {},
     "output_type": "execute_result"
    }
   ],
   "source": [
    "df1.values"
   ]
  },
  {
   "cell_type": "code",
   "execution_count": 57,
   "id": "f74e39d7-b40d-495b-8ef1-434f07a6660e",
   "metadata": {},
   "outputs": [
    {
     "data": {
      "text/plain": [
       "Index(['sayılar'], dtype='object')"
      ]
     },
     "execution_count": 57,
     "metadata": {},
     "output_type": "execute_result"
    }
   ],
   "source": [
    "df1.columns"
   ]
  },
  {
   "cell_type": "code",
   "execution_count": 58,
   "id": "5ef6aca7-800d-4361-9910-3c4ca2649963",
   "metadata": {},
   "outputs": [
    {
     "data": {
      "text/plain": [
       "[Index(['1.', '2.', '3.', '4.', '5.', '6.'], dtype='object'),\n",
       " Index(['sayılar'], dtype='object')]"
      ]
     },
     "execution_count": 58,
     "metadata": {},
     "output_type": "execute_result"
    }
   ],
   "source": [
    "df1.axes"
   ]
  },
  {
   "cell_type": "code",
   "execution_count": 59,
   "id": "7538a1ac-b946-42fd-b2a6-c400729e8f91",
   "metadata": {},
   "outputs": [
    {
     "data": {
      "text/plain": [
       "(6, 1)"
      ]
     },
     "execution_count": 59,
     "metadata": {},
     "output_type": "execute_result"
    }
   ],
   "source": [
    "df1.shape"
   ]
  },
  {
   "cell_type": "markdown",
   "id": "31a9c019",
   "metadata": {},
   "source": [
    "### 13. Yeni Sütunlar Eklemek"
   ]
  },
  {
   "cell_type": "markdown",
   "id": "f9d0d3b5",
   "metadata": {},
   "source": [
    "Yeni sütun ekleyerek ve toplama işlemi yaparak DataFrame'e sütun eklemek."
   ]
  },
  {
   "cell_type": "code",
   "execution_count": 87,
   "id": "fc2b4435-7407-4c49-ac42-155152cb459a",
   "metadata": {},
   "outputs": [],
   "source": [
    "a = np.random.randint(10,size=5)\n",
    "b = np.random.randint(10,size=5)\n",
    "c = np.random.randint(10,size=5)\n",
    "d = np.random.randint(10,size=5)"
   ]
  },
  {
   "cell_type": "code",
   "execution_count": 88,
   "id": "042e0fca-1a26-4911-ad1f-ddee63ceb577",
   "metadata": {},
   "outputs": [
    {
     "name": "stdout",
     "output_type": "stream",
     "text": [
      "[8 5 9 0 4]\n",
      "[7 6 2 1 9]\n",
      "[9 6 8 2 8]\n",
      "[8 3 4 9 3]\n"
     ]
    }
   ],
   "source": [
    "print(a)\n",
    "print(b)\n",
    "print(c)\n",
    "print(d)"
   ]
  },
  {
   "cell_type": "code",
   "execution_count": 89,
   "id": "077c6cba-d6c5-46f6-856f-a13418218b0b",
   "metadata": {},
   "outputs": [
    {
     "data": {
      "text/html": [
       "<div>\n",
       "<style scoped>\n",
       "    .dataframe tbody tr th:only-of-type {\n",
       "        vertical-align: middle;\n",
       "    }\n",
       "\n",
       "    .dataframe tbody tr th {\n",
       "        vertical-align: top;\n",
       "    }\n",
       "\n",
       "    .dataframe thead th {\n",
       "        text-align: right;\n",
       "    }\n",
       "</style>\n",
       "<table border=\"1\" class=\"dataframe\">\n",
       "  <thead>\n",
       "    <tr style=\"text-align: right;\">\n",
       "      <th></th>\n",
       "      <th>X</th>\n",
       "      <th>Y</th>\n",
       "      <th>Z</th>\n",
       "      <th>E</th>\n",
       "    </tr>\n",
       "  </thead>\n",
       "  <tbody>\n",
       "    <tr>\n",
       "      <th>0</th>\n",
       "      <td>8</td>\n",
       "      <td>7</td>\n",
       "      <td>9</td>\n",
       "      <td>8</td>\n",
       "    </tr>\n",
       "    <tr>\n",
       "      <th>1</th>\n",
       "      <td>5</td>\n",
       "      <td>6</td>\n",
       "      <td>6</td>\n",
       "      <td>3</td>\n",
       "    </tr>\n",
       "    <tr>\n",
       "      <th>2</th>\n",
       "      <td>9</td>\n",
       "      <td>2</td>\n",
       "      <td>8</td>\n",
       "      <td>4</td>\n",
       "    </tr>\n",
       "    <tr>\n",
       "      <th>3</th>\n",
       "      <td>0</td>\n",
       "      <td>1</td>\n",
       "      <td>2</td>\n",
       "      <td>9</td>\n",
       "    </tr>\n",
       "    <tr>\n",
       "      <th>4</th>\n",
       "      <td>4</td>\n",
       "      <td>9</td>\n",
       "      <td>8</td>\n",
       "      <td>3</td>\n",
       "    </tr>\n",
       "  </tbody>\n",
       "</table>\n",
       "</div>"
      ],
      "text/plain": [
       "   X  Y  Z  E\n",
       "0  8  7  9  8\n",
       "1  5  6  6  3\n",
       "2  9  2  8  4\n",
       "3  0  1  2  9\n",
       "4  4  9  8  3"
      ]
     },
     "execution_count": 89,
     "metadata": {},
     "output_type": "execute_result"
    }
   ],
   "source": [
    "sozluk2 = {\"X\":a, \"Y\":b, \"Z\":c, \"E\":d}\n",
    "\n",
    "df2 = pd.DataFrame(sozluk2)\n",
    "df2"
   ]
  },
  {
   "cell_type": "code",
   "execution_count": 90,
   "id": "e46e8791-bc6f-464b-93a3-8cf3d20a8fea",
   "metadata": {},
   "outputs": [
    {
     "data": {
      "text/html": [
       "<div>\n",
       "<style scoped>\n",
       "    .dataframe tbody tr th:only-of-type {\n",
       "        vertical-align: middle;\n",
       "    }\n",
       "\n",
       "    .dataframe tbody tr th {\n",
       "        vertical-align: top;\n",
       "    }\n",
       "\n",
       "    .dataframe thead th {\n",
       "        text-align: right;\n",
       "    }\n",
       "</style>\n",
       "<table border=\"1\" class=\"dataframe\">\n",
       "  <thead>\n",
       "    <tr style=\"text-align: right;\">\n",
       "      <th></th>\n",
       "      <th>X</th>\n",
       "      <th>Y</th>\n",
       "      <th>Z</th>\n",
       "      <th>E</th>\n",
       "    </tr>\n",
       "  </thead>\n",
       "  <tbody>\n",
       "    <tr>\n",
       "      <th>2</th>\n",
       "      <td>9</td>\n",
       "      <td>2</td>\n",
       "      <td>8</td>\n",
       "      <td>4</td>\n",
       "    </tr>\n",
       "    <tr>\n",
       "      <th>3</th>\n",
       "      <td>0</td>\n",
       "      <td>1</td>\n",
       "      <td>2</td>\n",
       "      <td>9</td>\n",
       "    </tr>\n",
       "    <tr>\n",
       "      <th>4</th>\n",
       "      <td>4</td>\n",
       "      <td>9</td>\n",
       "      <td>8</td>\n",
       "      <td>3</td>\n",
       "    </tr>\n",
       "  </tbody>\n",
       "</table>\n",
       "</div>"
      ],
      "text/plain": [
       "   X  Y  Z  E\n",
       "2  9  2  8  4\n",
       "3  0  1  2  9\n",
       "4  4  9  8  3"
      ]
     },
     "execution_count": 90,
     "metadata": {},
     "output_type": "execute_result"
    }
   ],
   "source": [
    "df2[2:][[\"X\",\"Y\",\"Z\",\"E\"]]"
   ]
  },
  {
   "cell_type": "code",
   "execution_count": 91,
   "id": "39f65a6f-2e4c-4d4a-b2a7-3a3564af1b44",
   "metadata": {},
   "outputs": [
    {
     "data": {
      "text/html": [
       "<div>\n",
       "<style scoped>\n",
       "    .dataframe tbody tr th:only-of-type {\n",
       "        vertical-align: middle;\n",
       "    }\n",
       "\n",
       "    .dataframe tbody tr th {\n",
       "        vertical-align: top;\n",
       "    }\n",
       "\n",
       "    .dataframe thead th {\n",
       "        text-align: right;\n",
       "    }\n",
       "</style>\n",
       "<table border=\"1\" class=\"dataframe\">\n",
       "  <thead>\n",
       "    <tr style=\"text-align: right;\">\n",
       "      <th></th>\n",
       "      <th>X</th>\n",
       "      <th>Y</th>\n",
       "      <th>Z</th>\n",
       "      <th>E</th>\n",
       "    </tr>\n",
       "  </thead>\n",
       "  <tbody>\n",
       "    <tr>\n",
       "      <th>0</th>\n",
       "      <td>8</td>\n",
       "      <td>7</td>\n",
       "      <td>9</td>\n",
       "      <td>8</td>\n",
       "    </tr>\n",
       "    <tr>\n",
       "      <th>1</th>\n",
       "      <td>5</td>\n",
       "      <td>6</td>\n",
       "      <td>6</td>\n",
       "      <td>3</td>\n",
       "    </tr>\n",
       "    <tr>\n",
       "      <th>2</th>\n",
       "      <td>9</td>\n",
       "      <td>2</td>\n",
       "      <td>8</td>\n",
       "      <td>4</td>\n",
       "    </tr>\n",
       "    <tr>\n",
       "      <th>3</th>\n",
       "      <td>0</td>\n",
       "      <td>1</td>\n",
       "      <td>2</td>\n",
       "      <td>9</td>\n",
       "    </tr>\n",
       "    <tr>\n",
       "      <th>4</th>\n",
       "      <td>4</td>\n",
       "      <td>9</td>\n",
       "      <td>8</td>\n",
       "      <td>3</td>\n",
       "    </tr>\n",
       "  </tbody>\n",
       "</table>\n",
       "</div>"
      ],
      "text/plain": [
       "   X  Y  Z  E\n",
       "0  8  7  9  8\n",
       "1  5  6  6  3\n",
       "2  9  2  8  4\n",
       "3  0  1  2  9\n",
       "4  4  9  8  3"
      ]
     },
     "execution_count": 91,
     "metadata": {},
     "output_type": "execute_result"
    }
   ],
   "source": [
    "df2"
   ]
  },
  {
   "cell_type": "code",
   "execution_count": 92,
   "id": "1d2de3ca-bcaf-449c-a892-c79f2d86b40f",
   "metadata": {},
   "outputs": [
    {
     "data": {
      "text/html": [
       "<div>\n",
       "<style scoped>\n",
       "    .dataframe tbody tr th:only-of-type {\n",
       "        vertical-align: middle;\n",
       "    }\n",
       "\n",
       "    .dataframe tbody tr th {\n",
       "        vertical-align: top;\n",
       "    }\n",
       "\n",
       "    .dataframe thead th {\n",
       "        text-align: right;\n",
       "    }\n",
       "</style>\n",
       "<table border=\"1\" class=\"dataframe\">\n",
       "  <thead>\n",
       "    <tr style=\"text-align: right;\">\n",
       "      <th></th>\n",
       "      <th>X</th>\n",
       "      <th>Y</th>\n",
       "      <th>Z</th>\n",
       "      <th>E</th>\n",
       "    </tr>\n",
       "  </thead>\n",
       "  <tbody>\n",
       "    <tr>\n",
       "      <th>0</th>\n",
       "      <td>8</td>\n",
       "      <td>7</td>\n",
       "      <td>1</td>\n",
       "      <td>8</td>\n",
       "    </tr>\n",
       "    <tr>\n",
       "      <th>1</th>\n",
       "      <td>5</td>\n",
       "      <td>6</td>\n",
       "      <td>2</td>\n",
       "      <td>3</td>\n",
       "    </tr>\n",
       "    <tr>\n",
       "      <th>2</th>\n",
       "      <td>9</td>\n",
       "      <td>2</td>\n",
       "      <td>3</td>\n",
       "      <td>4</td>\n",
       "    </tr>\n",
       "    <tr>\n",
       "      <th>3</th>\n",
       "      <td>0</td>\n",
       "      <td>1</td>\n",
       "      <td>4</td>\n",
       "      <td>9</td>\n",
       "    </tr>\n",
       "    <tr>\n",
       "      <th>4</th>\n",
       "      <td>4</td>\n",
       "      <td>9</td>\n",
       "      <td>5</td>\n",
       "      <td>3</td>\n",
       "    </tr>\n",
       "  </tbody>\n",
       "</table>\n",
       "</div>"
      ],
      "text/plain": [
       "   X  Y  Z  E\n",
       "0  8  7  1  8\n",
       "1  5  6  2  3\n",
       "2  9  2  3  4\n",
       "3  0  1  4  9\n",
       "4  4  9  5  3"
      ]
     },
     "execution_count": 92,
     "metadata": {},
     "output_type": "execute_result"
    }
   ],
   "source": [
    "df2[\"Z\"] = [1, 2, 3, 4, 5]  # List with 5 elements\n",
    "df2"
   ]
  },
  {
   "cell_type": "code",
   "execution_count": 93,
   "id": "6f31d8b1-90af-4e0e-b4b1-fb769600a38e",
   "metadata": {},
   "outputs": [
    {
     "data": {
      "text/html": [
       "<div>\n",
       "<style scoped>\n",
       "    .dataframe tbody tr th:only-of-type {\n",
       "        vertical-align: middle;\n",
       "    }\n",
       "\n",
       "    .dataframe tbody tr th {\n",
       "        vertical-align: top;\n",
       "    }\n",
       "\n",
       "    .dataframe thead th {\n",
       "        text-align: right;\n",
       "    }\n",
       "</style>\n",
       "<table border=\"1\" class=\"dataframe\">\n",
       "  <thead>\n",
       "    <tr style=\"text-align: right;\">\n",
       "      <th></th>\n",
       "      <th>X</th>\n",
       "      <th>Y</th>\n",
       "      <th>Z</th>\n",
       "      <th>E</th>\n",
       "      <th>toplam</th>\n",
       "    </tr>\n",
       "  </thead>\n",
       "  <tbody>\n",
       "    <tr>\n",
       "      <th>0</th>\n",
       "      <td>8</td>\n",
       "      <td>7</td>\n",
       "      <td>1</td>\n",
       "      <td>8</td>\n",
       "      <td>16</td>\n",
       "    </tr>\n",
       "    <tr>\n",
       "      <th>1</th>\n",
       "      <td>5</td>\n",
       "      <td>6</td>\n",
       "      <td>2</td>\n",
       "      <td>3</td>\n",
       "      <td>8</td>\n",
       "    </tr>\n",
       "    <tr>\n",
       "      <th>2</th>\n",
       "      <td>9</td>\n",
       "      <td>2</td>\n",
       "      <td>3</td>\n",
       "      <td>4</td>\n",
       "      <td>13</td>\n",
       "    </tr>\n",
       "    <tr>\n",
       "      <th>3</th>\n",
       "      <td>0</td>\n",
       "      <td>1</td>\n",
       "      <td>4</td>\n",
       "      <td>9</td>\n",
       "      <td>9</td>\n",
       "    </tr>\n",
       "    <tr>\n",
       "      <th>4</th>\n",
       "      <td>4</td>\n",
       "      <td>9</td>\n",
       "      <td>5</td>\n",
       "      <td>3</td>\n",
       "      <td>7</td>\n",
       "    </tr>\n",
       "  </tbody>\n",
       "</table>\n",
       "</div>"
      ],
      "text/plain": [
       "   X  Y  Z  E  toplam\n",
       "0  8  7  1  8      16\n",
       "1  5  6  2  3       8\n",
       "2  9  2  3  4      13\n",
       "3  0  1  4  9       9\n",
       "4  4  9  5  3       7"
      ]
     },
     "execution_count": 93,
     "metadata": {},
     "output_type": "execute_result"
    }
   ],
   "source": [
    "df2[\"toplam\"] = df2[\"X\"]+df2[\"E\"]\n",
    "df2"
   ]
  },
  {
   "cell_type": "code",
   "execution_count": 94,
   "id": "08b768af",
   "metadata": {},
   "outputs": [],
   "source": [
    "df2.loc[2, \"X\"] = 5"
   ]
  },
  {
   "cell_type": "code",
   "execution_count": 95,
   "id": "057220a1-d250-45d7-bd7d-c1cd72a0e7e0",
   "metadata": {},
   "outputs": [
    {
     "data": {
      "text/html": [
       "<div>\n",
       "<style scoped>\n",
       "    .dataframe tbody tr th:only-of-type {\n",
       "        vertical-align: middle;\n",
       "    }\n",
       "\n",
       "    .dataframe tbody tr th {\n",
       "        vertical-align: top;\n",
       "    }\n",
       "\n",
       "    .dataframe thead th {\n",
       "        text-align: right;\n",
       "    }\n",
       "</style>\n",
       "<table border=\"1\" class=\"dataframe\">\n",
       "  <thead>\n",
       "    <tr style=\"text-align: right;\">\n",
       "      <th></th>\n",
       "      <th>X</th>\n",
       "      <th>Y</th>\n",
       "      <th>Z</th>\n",
       "      <th>E</th>\n",
       "      <th>toplam</th>\n",
       "    </tr>\n",
       "  </thead>\n",
       "  <tbody>\n",
       "    <tr>\n",
       "      <th>0</th>\n",
       "      <td>8</td>\n",
       "      <td>7</td>\n",
       "      <td>1</td>\n",
       "      <td>8</td>\n",
       "      <td>16</td>\n",
       "    </tr>\n",
       "    <tr>\n",
       "      <th>1</th>\n",
       "      <td>5</td>\n",
       "      <td>6</td>\n",
       "      <td>2</td>\n",
       "      <td>3</td>\n",
       "      <td>8</td>\n",
       "    </tr>\n",
       "    <tr>\n",
       "      <th>2</th>\n",
       "      <td>5</td>\n",
       "      <td>2</td>\n",
       "      <td>3</td>\n",
       "      <td>4</td>\n",
       "      <td>13</td>\n",
       "    </tr>\n",
       "    <tr>\n",
       "      <th>3</th>\n",
       "      <td>0</td>\n",
       "      <td>1</td>\n",
       "      <td>4</td>\n",
       "      <td>9</td>\n",
       "      <td>9</td>\n",
       "    </tr>\n",
       "    <tr>\n",
       "      <th>4</th>\n",
       "      <td>4</td>\n",
       "      <td>9</td>\n",
       "      <td>5</td>\n",
       "      <td>3</td>\n",
       "      <td>7</td>\n",
       "    </tr>\n",
       "  </tbody>\n",
       "</table>\n",
       "</div>"
      ],
      "text/plain": [
       "   X  Y  Z  E  toplam\n",
       "0  8  7  1  8      16\n",
       "1  5  6  2  3       8\n",
       "2  5  2  3  4      13\n",
       "3  0  1  4  9       9\n",
       "4  4  9  5  3       7"
      ]
     },
     "execution_count": 95,
     "metadata": {},
     "output_type": "execute_result"
    }
   ],
   "source": [
    "df2"
   ]
  },
  {
   "cell_type": "markdown",
   "id": "94f27c30",
   "metadata": {},
   "source": [
    "### 14. DataFrame'de Satır ve Sütun Silme"
   ]
  },
  {
   "cell_type": "markdown",
   "id": "61c1bcc9-411b-4905-88ce-b8cca8ad945a",
   "metadata": {},
   "source": [
    "#### Satır silme"
   ]
  },
  {
   "cell_type": "code",
   "execution_count": 96,
   "id": "609dd592-02ea-4c66-8808-1a1f9435a3bd",
   "metadata": {},
   "outputs": [
    {
     "data": {
      "text/html": [
       "<div>\n",
       "<style scoped>\n",
       "    .dataframe tbody tr th:only-of-type {\n",
       "        vertical-align: middle;\n",
       "    }\n",
       "\n",
       "    .dataframe tbody tr th {\n",
       "        vertical-align: top;\n",
       "    }\n",
       "\n",
       "    .dataframe thead th {\n",
       "        text-align: right;\n",
       "    }\n",
       "</style>\n",
       "<table border=\"1\" class=\"dataframe\">\n",
       "  <thead>\n",
       "    <tr style=\"text-align: right;\">\n",
       "      <th></th>\n",
       "      <th>X</th>\n",
       "      <th>Y</th>\n",
       "      <th>Z</th>\n",
       "      <th>E</th>\n",
       "      <th>toplam</th>\n",
       "    </tr>\n",
       "  </thead>\n",
       "  <tbody>\n",
       "    <tr>\n",
       "      <th>0</th>\n",
       "      <td>8</td>\n",
       "      <td>7</td>\n",
       "      <td>1</td>\n",
       "      <td>8</td>\n",
       "      <td>16</td>\n",
       "    </tr>\n",
       "    <tr>\n",
       "      <th>1</th>\n",
       "      <td>5</td>\n",
       "      <td>6</td>\n",
       "      <td>2</td>\n",
       "      <td>3</td>\n",
       "      <td>8</td>\n",
       "    </tr>\n",
       "    <tr>\n",
       "      <th>3</th>\n",
       "      <td>0</td>\n",
       "      <td>1</td>\n",
       "      <td>4</td>\n",
       "      <td>9</td>\n",
       "      <td>9</td>\n",
       "    </tr>\n",
       "    <tr>\n",
       "      <th>4</th>\n",
       "      <td>4</td>\n",
       "      <td>9</td>\n",
       "      <td>5</td>\n",
       "      <td>3</td>\n",
       "      <td>7</td>\n",
       "    </tr>\n",
       "  </tbody>\n",
       "</table>\n",
       "</div>"
      ],
      "text/plain": [
       "   X  Y  Z  E  toplam\n",
       "0  8  7  1  8      16\n",
       "1  5  6  2  3       8\n",
       "3  0  1  4  9       9\n",
       "4  4  9  5  3       7"
      ]
     },
     "execution_count": 96,
     "metadata": {},
     "output_type": "execute_result"
    }
   ],
   "source": [
    "df2.drop(2,axis=0,inplace=True)\n",
    "df2"
   ]
  },
  {
   "cell_type": "code",
   "execution_count": 97,
   "id": "1366f0f2-dc8d-47bd-a39c-823072e54eb0",
   "metadata": {},
   "outputs": [
    {
     "data": {
      "text/html": [
       "<div>\n",
       "<style scoped>\n",
       "    .dataframe tbody tr th:only-of-type {\n",
       "        vertical-align: middle;\n",
       "    }\n",
       "\n",
       "    .dataframe tbody tr th {\n",
       "        vertical-align: top;\n",
       "    }\n",
       "\n",
       "    .dataframe thead th {\n",
       "        text-align: right;\n",
       "    }\n",
       "</style>\n",
       "<table border=\"1\" class=\"dataframe\">\n",
       "  <thead>\n",
       "    <tr style=\"text-align: right;\">\n",
       "      <th></th>\n",
       "      <th>X</th>\n",
       "      <th>Y</th>\n",
       "      <th>Z</th>\n",
       "      <th>E</th>\n",
       "      <th>toplam</th>\n",
       "    </tr>\n",
       "  </thead>\n",
       "  <tbody>\n",
       "    <tr>\n",
       "      <th>0</th>\n",
       "      <td>8</td>\n",
       "      <td>7</td>\n",
       "      <td>1</td>\n",
       "      <td>8</td>\n",
       "      <td>16</td>\n",
       "    </tr>\n",
       "    <tr>\n",
       "      <th>3</th>\n",
       "      <td>0</td>\n",
       "      <td>1</td>\n",
       "      <td>4</td>\n",
       "      <td>9</td>\n",
       "      <td>9</td>\n",
       "    </tr>\n",
       "    <tr>\n",
       "      <th>4</th>\n",
       "      <td>4</td>\n",
       "      <td>9</td>\n",
       "      <td>5</td>\n",
       "      <td>3</td>\n",
       "      <td>7</td>\n",
       "    </tr>\n",
       "  </tbody>\n",
       "</table>\n",
       "</div>"
      ],
      "text/plain": [
       "   X  Y  Z  E  toplam\n",
       "0  8  7  1  8      16\n",
       "3  0  1  4  9       9\n",
       "4  4  9  5  3       7"
      ]
     },
     "execution_count": 97,
     "metadata": {},
     "output_type": "execute_result"
    }
   ],
   "source": [
    "df2 = df2.drop(1,axis=0)\n",
    "df2"
   ]
  },
  {
   "cell_type": "markdown",
   "id": "c5fc6683-60c5-4c51-99cb-d5788d6736b2",
   "metadata": {},
   "source": [
    "#### Sutun silme"
   ]
  },
  {
   "cell_type": "code",
   "execution_count": 99,
   "id": "fa0c00d2",
   "metadata": {},
   "outputs": [
    {
     "data": {
      "text/html": [
       "<div>\n",
       "<style scoped>\n",
       "    .dataframe tbody tr th:only-of-type {\n",
       "        vertical-align: middle;\n",
       "    }\n",
       "\n",
       "    .dataframe tbody tr th {\n",
       "        vertical-align: top;\n",
       "    }\n",
       "\n",
       "    .dataframe thead th {\n",
       "        text-align: right;\n",
       "    }\n",
       "</style>\n",
       "<table border=\"1\" class=\"dataframe\">\n",
       "  <thead>\n",
       "    <tr style=\"text-align: right;\">\n",
       "      <th></th>\n",
       "      <th>X</th>\n",
       "      <th>Z</th>\n",
       "      <th>E</th>\n",
       "      <th>toplam</th>\n",
       "    </tr>\n",
       "  </thead>\n",
       "  <tbody>\n",
       "    <tr>\n",
       "      <th>0</th>\n",
       "      <td>8</td>\n",
       "      <td>1</td>\n",
       "      <td>8</td>\n",
       "      <td>16</td>\n",
       "    </tr>\n",
       "    <tr>\n",
       "      <th>3</th>\n",
       "      <td>0</td>\n",
       "      <td>4</td>\n",
       "      <td>9</td>\n",
       "      <td>9</td>\n",
       "    </tr>\n",
       "    <tr>\n",
       "      <th>4</th>\n",
       "      <td>4</td>\n",
       "      <td>5</td>\n",
       "      <td>3</td>\n",
       "      <td>7</td>\n",
       "    </tr>\n",
       "  </tbody>\n",
       "</table>\n",
       "</div>"
      ],
      "text/plain": [
       "   X  Z  E  toplam\n",
       "0  8  1  8      16\n",
       "3  0  4  9       9\n",
       "4  4  5  3       7"
      ]
     },
     "execution_count": 99,
     "metadata": {},
     "output_type": "execute_result"
    }
   ],
   "source": [
    "df2.drop(\"Y\", axis=1, inplace=True)\n",
    "df2"
   ]
  },
  {
   "cell_type": "markdown",
   "id": "9ae4cb61",
   "metadata": {},
   "source": [
    "### 15. DataFrame'leri Birleştirme"
   ]
  },
  {
   "cell_type": "markdown",
   "id": "170860d1",
   "metadata": {},
   "source": [
    "İki DataFrame'i birleştirme ve indeksleri resetliyoruz."
   ]
  },
  {
   "cell_type": "code",
   "execution_count": 100,
   "id": "f6fa7935-6a76-4f3a-aba5-4b9ce7ed5e4e",
   "metadata": {},
   "outputs": [
    {
     "data": {
      "text/plain": [
       "array([[25, 30, 33],\n",
       "       [37, 23, 11],\n",
       "       [14, 31, 12],\n",
       "       [ 0, 11, 20],\n",
       "       [38, 36, 39],\n",
       "       [24, 37, 13],\n",
       "       [15,  2, 39],\n",
       "       [13, 28, 21],\n",
       "       [27,  6, 30],\n",
       "       [10,  0, 18]])"
      ]
     },
     "execution_count": 100,
     "metadata": {},
     "output_type": "execute_result"
    }
   ],
   "source": [
    "numbers = np.random.randint(40,size=(10,3))\n",
    "numbers"
   ]
  },
  {
   "cell_type": "code",
   "execution_count": 101,
   "id": "a576db3f-942d-48a0-9714-9101d048da01",
   "metadata": {},
   "outputs": [
    {
     "data": {
      "text/html": [
       "<div>\n",
       "<style scoped>\n",
       "    .dataframe tbody tr th:only-of-type {\n",
       "        vertical-align: middle;\n",
       "    }\n",
       "\n",
       "    .dataframe tbody tr th {\n",
       "        vertical-align: top;\n",
       "    }\n",
       "\n",
       "    .dataframe thead th {\n",
       "        text-align: right;\n",
       "    }\n",
       "</style>\n",
       "<table border=\"1\" class=\"dataframe\">\n",
       "  <thead>\n",
       "    <tr style=\"text-align: right;\">\n",
       "      <th></th>\n",
       "      <th>Col1</th>\n",
       "      <th>Col2</th>\n",
       "      <th>Col3</th>\n",
       "    </tr>\n",
       "  </thead>\n",
       "  <tbody>\n",
       "    <tr>\n",
       "      <th>0</th>\n",
       "      <td>25</td>\n",
       "      <td>30</td>\n",
       "      <td>33</td>\n",
       "    </tr>\n",
       "    <tr>\n",
       "      <th>1</th>\n",
       "      <td>37</td>\n",
       "      <td>23</td>\n",
       "      <td>11</td>\n",
       "    </tr>\n",
       "    <tr>\n",
       "      <th>2</th>\n",
       "      <td>14</td>\n",
       "      <td>31</td>\n",
       "      <td>12</td>\n",
       "    </tr>\n",
       "    <tr>\n",
       "      <th>3</th>\n",
       "      <td>0</td>\n",
       "      <td>11</td>\n",
       "      <td>20</td>\n",
       "    </tr>\n",
       "    <tr>\n",
       "      <th>4</th>\n",
       "      <td>38</td>\n",
       "      <td>36</td>\n",
       "      <td>39</td>\n",
       "    </tr>\n",
       "    <tr>\n",
       "      <th>5</th>\n",
       "      <td>24</td>\n",
       "      <td>37</td>\n",
       "      <td>13</td>\n",
       "    </tr>\n",
       "    <tr>\n",
       "      <th>6</th>\n",
       "      <td>15</td>\n",
       "      <td>2</td>\n",
       "      <td>39</td>\n",
       "    </tr>\n",
       "    <tr>\n",
       "      <th>7</th>\n",
       "      <td>13</td>\n",
       "      <td>28</td>\n",
       "      <td>21</td>\n",
       "    </tr>\n",
       "    <tr>\n",
       "      <th>8</th>\n",
       "      <td>27</td>\n",
       "      <td>6</td>\n",
       "      <td>30</td>\n",
       "    </tr>\n",
       "    <tr>\n",
       "      <th>9</th>\n",
       "      <td>10</td>\n",
       "      <td>0</td>\n",
       "      <td>18</td>\n",
       "    </tr>\n",
       "  </tbody>\n",
       "</table>\n",
       "</div>"
      ],
      "text/plain": [
       "   Col1  Col2  Col3\n",
       "0    25    30    33\n",
       "1    37    23    11\n",
       "2    14    31    12\n",
       "3     0    11    20\n",
       "4    38    36    39\n",
       "5    24    37    13\n",
       "6    15     2    39\n",
       "7    13    28    21\n",
       "8    27     6    30\n",
       "9    10     0    18"
      ]
     },
     "execution_count": 101,
     "metadata": {},
     "output_type": "execute_result"
    }
   ],
   "source": [
    "df4 = pd.DataFrame(numbers,columns=[\"Col1\",\"Col2\",\"Col3\"])\n",
    "df4"
   ]
  },
  {
   "cell_type": "code",
   "execution_count": 102,
   "id": "5d1b1cb0-3f67-404a-a48b-9f9c68335154",
   "metadata": {},
   "outputs": [
    {
     "data": {
      "text/html": [
       "<div>\n",
       "<style scoped>\n",
       "    .dataframe tbody tr th:only-of-type {\n",
       "        vertical-align: middle;\n",
       "    }\n",
       "\n",
       "    .dataframe tbody tr th {\n",
       "        vertical-align: top;\n",
       "    }\n",
       "\n",
       "    .dataframe thead th {\n",
       "        text-align: right;\n",
       "    }\n",
       "</style>\n",
       "<table border=\"1\" class=\"dataframe\">\n",
       "  <thead>\n",
       "    <tr style=\"text-align: right;\">\n",
       "      <th></th>\n",
       "      <th>Col1</th>\n",
       "      <th>Col2</th>\n",
       "      <th>Col3</th>\n",
       "    </tr>\n",
       "  </thead>\n",
       "  <tbody>\n",
       "    <tr>\n",
       "      <th>0</th>\n",
       "      <td>25</td>\n",
       "      <td>93</td>\n",
       "      <td>33</td>\n",
       "    </tr>\n",
       "    <tr>\n",
       "      <th>1</th>\n",
       "      <td>37</td>\n",
       "      <td>23</td>\n",
       "      <td>11</td>\n",
       "    </tr>\n",
       "    <tr>\n",
       "      <th>2</th>\n",
       "      <td>14</td>\n",
       "      <td>31</td>\n",
       "      <td>12</td>\n",
       "    </tr>\n",
       "    <tr>\n",
       "      <th>3</th>\n",
       "      <td>0</td>\n",
       "      <td>11</td>\n",
       "      <td>20</td>\n",
       "    </tr>\n",
       "    <tr>\n",
       "      <th>4</th>\n",
       "      <td>38</td>\n",
       "      <td>36</td>\n",
       "      <td>39</td>\n",
       "    </tr>\n",
       "    <tr>\n",
       "      <th>5</th>\n",
       "      <td>24</td>\n",
       "      <td>37</td>\n",
       "      <td>13</td>\n",
       "    </tr>\n",
       "    <tr>\n",
       "      <th>6</th>\n",
       "      <td>15</td>\n",
       "      <td>2</td>\n",
       "      <td>39</td>\n",
       "    </tr>\n",
       "    <tr>\n",
       "      <th>7</th>\n",
       "      <td>13</td>\n",
       "      <td>28</td>\n",
       "      <td>21</td>\n",
       "    </tr>\n",
       "    <tr>\n",
       "      <th>8</th>\n",
       "      <td>27</td>\n",
       "      <td>6</td>\n",
       "      <td>30</td>\n",
       "    </tr>\n",
       "    <tr>\n",
       "      <th>9</th>\n",
       "      <td>10</td>\n",
       "      <td>0</td>\n",
       "      <td>18</td>\n",
       "    </tr>\n",
       "  </tbody>\n",
       "</table>\n",
       "</div>"
      ],
      "text/plain": [
       "   Col1  Col2  Col3\n",
       "0    25    93    33\n",
       "1    37    23    11\n",
       "2    14    31    12\n",
       "3     0    11    20\n",
       "4    38    36    39\n",
       "5    24    37    13\n",
       "6    15     2    39\n",
       "7    13    28    21\n",
       "8    27     6    30\n",
       "9    10     0    18"
      ]
     },
     "execution_count": 102,
     "metadata": {},
     "output_type": "execute_result"
    }
   ],
   "source": [
    "df4.loc[0,\"Col2\"] = 93\n",
    "df4"
   ]
  },
  {
   "cell_type": "code",
   "execution_count": 106,
   "id": "d2bed95c-1abf-408f-b179-25d4c658bd0b",
   "metadata": {},
   "outputs": [
    {
     "data": {
      "text/html": [
       "<div>\n",
       "<style scoped>\n",
       "    .dataframe tbody tr th:only-of-type {\n",
       "        vertical-align: middle;\n",
       "    }\n",
       "\n",
       "    .dataframe tbody tr th {\n",
       "        vertical-align: top;\n",
       "    }\n",
       "\n",
       "    .dataframe thead th {\n",
       "        text-align: right;\n",
       "    }\n",
       "</style>\n",
       "<table border=\"1\" class=\"dataframe\">\n",
       "  <thead>\n",
       "    <tr style=\"text-align: right;\">\n",
       "      <th></th>\n",
       "      <th>Col1</th>\n",
       "      <th>Col2</th>\n",
       "    </tr>\n",
       "  </thead>\n",
       "  <tbody>\n",
       "    <tr>\n",
       "      <th>2</th>\n",
       "      <td>14</td>\n",
       "      <td>31</td>\n",
       "    </tr>\n",
       "    <tr>\n",
       "      <th>3</th>\n",
       "      <td>0</td>\n",
       "      <td>11</td>\n",
       "    </tr>\n",
       "    <tr>\n",
       "      <th>4</th>\n",
       "      <td>38</td>\n",
       "      <td>36</td>\n",
       "    </tr>\n",
       "  </tbody>\n",
       "</table>\n",
       "</div>"
      ],
      "text/plain": [
       "   Col1  Col2\n",
       "2    14    31\n",
       "3     0    11\n",
       "4    38    36"
      ]
     },
     "execution_count": 106,
     "metadata": {},
     "output_type": "execute_result"
    }
   ],
   "source": [
    "new_df = df4.iloc[2:5,0:2]\n",
    "new_df"
   ]
  },
  {
   "cell_type": "code",
   "execution_count": 107,
   "id": "8f200bcd-31db-46d0-9ddd-d9b82ecb4f12",
   "metadata": {},
   "outputs": [
    {
     "data": {
      "text/html": [
       "<div>\n",
       "<style scoped>\n",
       "    .dataframe tbody tr th:only-of-type {\n",
       "        vertical-align: middle;\n",
       "    }\n",
       "\n",
       "    .dataframe tbody tr th {\n",
       "        vertical-align: top;\n",
       "    }\n",
       "\n",
       "    .dataframe thead th {\n",
       "        text-align: right;\n",
       "    }\n",
       "</style>\n",
       "<table border=\"1\" class=\"dataframe\">\n",
       "  <thead>\n",
       "    <tr style=\"text-align: right;\">\n",
       "      <th></th>\n",
       "      <th>Col3</th>\n",
       "      <th>Col1</th>\n",
       "    </tr>\n",
       "  </thead>\n",
       "  <tbody>\n",
       "    <tr>\n",
       "      <th>0</th>\n",
       "      <td>33</td>\n",
       "      <td>25</td>\n",
       "    </tr>\n",
       "    <tr>\n",
       "      <th>2</th>\n",
       "      <td>12</td>\n",
       "      <td>14</td>\n",
       "    </tr>\n",
       "    <tr>\n",
       "      <th>4</th>\n",
       "      <td>39</td>\n",
       "      <td>38</td>\n",
       "    </tr>\n",
       "    <tr>\n",
       "      <th>5</th>\n",
       "      <td>13</td>\n",
       "      <td>24</td>\n",
       "    </tr>\n",
       "    <tr>\n",
       "      <th>7</th>\n",
       "      <td>21</td>\n",
       "      <td>13</td>\n",
       "    </tr>\n",
       "  </tbody>\n",
       "</table>\n",
       "</div>"
      ],
      "text/plain": [
       "   Col3  Col1\n",
       "0    33    25\n",
       "2    12    14\n",
       "4    39    38\n",
       "5    13    24\n",
       "7    21    13"
      ]
     },
     "execution_count": 107,
     "metadata": {},
     "output_type": "execute_result"
    }
   ],
   "source": [
    "new_df1= df4[df4[\"Col2\"]>25][[\"Col3\",\"Col1\"]]\n",
    "new_df1"
   ]
  },
  {
   "cell_type": "code",
   "execution_count": 108,
   "id": "a17db115-e667-4f88-bfd8-89a7578cb0b0",
   "metadata": {},
   "outputs": [
    {
     "data": {
      "text/html": [
       "<div>\n",
       "<style scoped>\n",
       "    .dataframe tbody tr th:only-of-type {\n",
       "        vertical-align: middle;\n",
       "    }\n",
       "\n",
       "    .dataframe tbody tr th {\n",
       "        vertical-align: top;\n",
       "    }\n",
       "\n",
       "    .dataframe thead th {\n",
       "        text-align: right;\n",
       "    }\n",
       "</style>\n",
       "<table border=\"1\" class=\"dataframe\">\n",
       "  <thead>\n",
       "    <tr style=\"text-align: right;\">\n",
       "      <th></th>\n",
       "      <th>Col1</th>\n",
       "      <th>Col2</th>\n",
       "      <th>Col3</th>\n",
       "    </tr>\n",
       "  </thead>\n",
       "  <tbody>\n",
       "    <tr>\n",
       "      <th>0</th>\n",
       "      <td>25</td>\n",
       "      <td>93</td>\n",
       "      <td>33</td>\n",
       "    </tr>\n",
       "    <tr>\n",
       "      <th>2</th>\n",
       "      <td>14</td>\n",
       "      <td>31</td>\n",
       "      <td>12</td>\n",
       "    </tr>\n",
       "    <tr>\n",
       "      <th>4</th>\n",
       "      <td>38</td>\n",
       "      <td>36</td>\n",
       "      <td>39</td>\n",
       "    </tr>\n",
       "    <tr>\n",
       "      <th>5</th>\n",
       "      <td>24</td>\n",
       "      <td>37</td>\n",
       "      <td>13</td>\n",
       "    </tr>\n",
       "  </tbody>\n",
       "</table>\n",
       "</div>"
      ],
      "text/plain": [
       "   Col1  Col2  Col3\n",
       "0    25    93    33\n",
       "2    14    31    12\n",
       "4    38    36    39\n",
       "5    24    37    13"
      ]
     },
     "execution_count": 108,
     "metadata": {},
     "output_type": "execute_result"
    }
   ],
   "source": [
    "df4[(df4[\"Col1\"]>13) & (df4[\"Col2\"] > 25)]"
   ]
  },
  {
   "cell_type": "code",
   "execution_count": 109,
   "id": "6c3ff9de-1fbe-407a-96df-1d2c012ae6ce",
   "metadata": {},
   "outputs": [
    {
     "data": {
      "text/html": [
       "<div>\n",
       "<style scoped>\n",
       "    .dataframe tbody tr th:only-of-type {\n",
       "        vertical-align: middle;\n",
       "    }\n",
       "\n",
       "    .dataframe tbody tr th {\n",
       "        vertical-align: top;\n",
       "    }\n",
       "\n",
       "    .dataframe thead th {\n",
       "        text-align: right;\n",
       "    }\n",
       "</style>\n",
       "<table border=\"1\" class=\"dataframe\">\n",
       "  <thead>\n",
       "    <tr style=\"text-align: right;\">\n",
       "      <th></th>\n",
       "      <th>Col1</th>\n",
       "      <th>Col2</th>\n",
       "      <th>Col3</th>\n",
       "    </tr>\n",
       "  </thead>\n",
       "  <tbody>\n",
       "    <tr>\n",
       "      <th>0</th>\n",
       "      <td>25</td>\n",
       "      <td>93</td>\n",
       "      <td>33</td>\n",
       "    </tr>\n",
       "    <tr>\n",
       "      <th>1</th>\n",
       "      <td>37</td>\n",
       "      <td>23</td>\n",
       "      <td>11</td>\n",
       "    </tr>\n",
       "    <tr>\n",
       "      <th>2</th>\n",
       "      <td>14</td>\n",
       "      <td>31</td>\n",
       "      <td>12</td>\n",
       "    </tr>\n",
       "    <tr>\n",
       "      <th>3</th>\n",
       "      <td>0</td>\n",
       "      <td>11</td>\n",
       "      <td>20</td>\n",
       "    </tr>\n",
       "    <tr>\n",
       "      <th>4</th>\n",
       "      <td>38</td>\n",
       "      <td>36</td>\n",
       "      <td>39</td>\n",
       "    </tr>\n",
       "    <tr>\n",
       "      <th>5</th>\n",
       "      <td>24</td>\n",
       "      <td>37</td>\n",
       "      <td>13</td>\n",
       "    </tr>\n",
       "    <tr>\n",
       "      <th>6</th>\n",
       "      <td>15</td>\n",
       "      <td>2</td>\n",
       "      <td>39</td>\n",
       "    </tr>\n",
       "    <tr>\n",
       "      <th>7</th>\n",
       "      <td>13</td>\n",
       "      <td>28</td>\n",
       "      <td>21</td>\n",
       "    </tr>\n",
       "    <tr>\n",
       "      <th>8</th>\n",
       "      <td>27</td>\n",
       "      <td>6</td>\n",
       "      <td>30</td>\n",
       "    </tr>\n",
       "    <tr>\n",
       "      <th>9</th>\n",
       "      <td>10</td>\n",
       "      <td>0</td>\n",
       "      <td>18</td>\n",
       "    </tr>\n",
       "  </tbody>\n",
       "</table>\n",
       "</div>"
      ],
      "text/plain": [
       "   Col1  Col2  Col3\n",
       "0    25    93    33\n",
       "1    37    23    11\n",
       "2    14    31    12\n",
       "3     0    11    20\n",
       "4    38    36    39\n",
       "5    24    37    13\n",
       "6    15     2    39\n",
       "7    13    28    21\n",
       "8    27     6    30\n",
       "9    10     0    18"
      ]
     },
     "execution_count": 109,
     "metadata": {},
     "output_type": "execute_result"
    }
   ],
   "source": [
    "df4"
   ]
  },
  {
   "cell_type": "code",
   "execution_count": 110,
   "id": "dc7877fe-d344-4f41-ab68-0fd9c719dd9f",
   "metadata": {},
   "outputs": [
    {
     "data": {
      "text/html": [
       "<div>\n",
       "<style scoped>\n",
       "    .dataframe tbody tr th:only-of-type {\n",
       "        vertical-align: middle;\n",
       "    }\n",
       "\n",
       "    .dataframe tbody tr th {\n",
       "        vertical-align: top;\n",
       "    }\n",
       "\n",
       "    .dataframe thead th {\n",
       "        text-align: right;\n",
       "    }\n",
       "</style>\n",
       "<table border=\"1\" class=\"dataframe\">\n",
       "  <thead>\n",
       "    <tr style=\"text-align: right;\">\n",
       "      <th></th>\n",
       "      <th>Col1</th>\n",
       "      <th>Col2</th>\n",
       "      <th>Col3</th>\n",
       "    </tr>\n",
       "  </thead>\n",
       "  <tbody>\n",
       "    <tr>\n",
       "      <th>0</th>\n",
       "      <td>-25</td>\n",
       "      <td>-93</td>\n",
       "      <td>-33</td>\n",
       "    </tr>\n",
       "    <tr>\n",
       "      <th>1</th>\n",
       "      <td>-37</td>\n",
       "      <td>-23</td>\n",
       "      <td>-11</td>\n",
       "    </tr>\n",
       "    <tr>\n",
       "      <th>2</th>\n",
       "      <td>-14</td>\n",
       "      <td>-31</td>\n",
       "      <td>-12</td>\n",
       "    </tr>\n",
       "    <tr>\n",
       "      <th>3</th>\n",
       "      <td>0</td>\n",
       "      <td>-11</td>\n",
       "      <td>-20</td>\n",
       "    </tr>\n",
       "    <tr>\n",
       "      <th>4</th>\n",
       "      <td>-38</td>\n",
       "      <td>-36</td>\n",
       "      <td>-39</td>\n",
       "    </tr>\n",
       "    <tr>\n",
       "      <th>5</th>\n",
       "      <td>-24</td>\n",
       "      <td>-37</td>\n",
       "      <td>-13</td>\n",
       "    </tr>\n",
       "    <tr>\n",
       "      <th>6</th>\n",
       "      <td>-15</td>\n",
       "      <td>-2</td>\n",
       "      <td>-39</td>\n",
       "    </tr>\n",
       "    <tr>\n",
       "      <th>7</th>\n",
       "      <td>-13</td>\n",
       "      <td>-28</td>\n",
       "      <td>-21</td>\n",
       "    </tr>\n",
       "    <tr>\n",
       "      <th>8</th>\n",
       "      <td>-27</td>\n",
       "      <td>-6</td>\n",
       "      <td>-30</td>\n",
       "    </tr>\n",
       "    <tr>\n",
       "      <th>9</th>\n",
       "      <td>-10</td>\n",
       "      <td>0</td>\n",
       "      <td>-18</td>\n",
       "    </tr>\n",
       "  </tbody>\n",
       "</table>\n",
       "</div>"
      ],
      "text/plain": [
       "   Col1  Col2  Col3\n",
       "0   -25   -93   -33\n",
       "1   -37   -23   -11\n",
       "2   -14   -31   -12\n",
       "3     0   -11   -20\n",
       "4   -38   -36   -39\n",
       "5   -24   -37   -13\n",
       "6   -15    -2   -39\n",
       "7   -13   -28   -21\n",
       "8   -27    -6   -30\n",
       "9   -10     0   -18"
      ]
     },
     "execution_count": 110,
     "metadata": {},
     "output_type": "execute_result"
    }
   ],
   "source": [
    "df5= 0 - df4\n",
    "df5"
   ]
  },
  {
   "cell_type": "code",
   "execution_count": 111,
   "id": "7ec22228",
   "metadata": {},
   "outputs": [
    {
     "data": {
      "text/html": [
       "<div>\n",
       "<style scoped>\n",
       "    .dataframe tbody tr th:only-of-type {\n",
       "        vertical-align: middle;\n",
       "    }\n",
       "\n",
       "    .dataframe tbody tr th {\n",
       "        vertical-align: top;\n",
       "    }\n",
       "\n",
       "    .dataframe thead th {\n",
       "        text-align: right;\n",
       "    }\n",
       "</style>\n",
       "<table border=\"1\" class=\"dataframe\">\n",
       "  <thead>\n",
       "    <tr style=\"text-align: right;\">\n",
       "      <th></th>\n",
       "      <th>Col1</th>\n",
       "      <th>Col2</th>\n",
       "      <th>Col3</th>\n",
       "    </tr>\n",
       "  </thead>\n",
       "  <tbody>\n",
       "    <tr>\n",
       "      <th>0</th>\n",
       "      <td>25</td>\n",
       "      <td>93</td>\n",
       "      <td>33</td>\n",
       "    </tr>\n",
       "    <tr>\n",
       "      <th>1</th>\n",
       "      <td>37</td>\n",
       "      <td>23</td>\n",
       "      <td>11</td>\n",
       "    </tr>\n",
       "    <tr>\n",
       "      <th>2</th>\n",
       "      <td>14</td>\n",
       "      <td>31</td>\n",
       "      <td>12</td>\n",
       "    </tr>\n",
       "    <tr>\n",
       "      <th>3</th>\n",
       "      <td>0</td>\n",
       "      <td>11</td>\n",
       "      <td>20</td>\n",
       "    </tr>\n",
       "    <tr>\n",
       "      <th>4</th>\n",
       "      <td>38</td>\n",
       "      <td>36</td>\n",
       "      <td>39</td>\n",
       "    </tr>\n",
       "    <tr>\n",
       "      <th>5</th>\n",
       "      <td>24</td>\n",
       "      <td>37</td>\n",
       "      <td>13</td>\n",
       "    </tr>\n",
       "    <tr>\n",
       "      <th>6</th>\n",
       "      <td>15</td>\n",
       "      <td>2</td>\n",
       "      <td>39</td>\n",
       "    </tr>\n",
       "    <tr>\n",
       "      <th>7</th>\n",
       "      <td>13</td>\n",
       "      <td>28</td>\n",
       "      <td>21</td>\n",
       "    </tr>\n",
       "    <tr>\n",
       "      <th>8</th>\n",
       "      <td>27</td>\n",
       "      <td>6</td>\n",
       "      <td>30</td>\n",
       "    </tr>\n",
       "    <tr>\n",
       "      <th>9</th>\n",
       "      <td>10</td>\n",
       "      <td>0</td>\n",
       "      <td>18</td>\n",
       "    </tr>\n",
       "    <tr>\n",
       "      <th>0</th>\n",
       "      <td>-25</td>\n",
       "      <td>-93</td>\n",
       "      <td>-33</td>\n",
       "    </tr>\n",
       "    <tr>\n",
       "      <th>1</th>\n",
       "      <td>-37</td>\n",
       "      <td>-23</td>\n",
       "      <td>-11</td>\n",
       "    </tr>\n",
       "    <tr>\n",
       "      <th>2</th>\n",
       "      <td>-14</td>\n",
       "      <td>-31</td>\n",
       "      <td>-12</td>\n",
       "    </tr>\n",
       "    <tr>\n",
       "      <th>3</th>\n",
       "      <td>0</td>\n",
       "      <td>-11</td>\n",
       "      <td>-20</td>\n",
       "    </tr>\n",
       "    <tr>\n",
       "      <th>4</th>\n",
       "      <td>-38</td>\n",
       "      <td>-36</td>\n",
       "      <td>-39</td>\n",
       "    </tr>\n",
       "    <tr>\n",
       "      <th>5</th>\n",
       "      <td>-24</td>\n",
       "      <td>-37</td>\n",
       "      <td>-13</td>\n",
       "    </tr>\n",
       "    <tr>\n",
       "      <th>6</th>\n",
       "      <td>-15</td>\n",
       "      <td>-2</td>\n",
       "      <td>-39</td>\n",
       "    </tr>\n",
       "    <tr>\n",
       "      <th>7</th>\n",
       "      <td>-13</td>\n",
       "      <td>-28</td>\n",
       "      <td>-21</td>\n",
       "    </tr>\n",
       "    <tr>\n",
       "      <th>8</th>\n",
       "      <td>-27</td>\n",
       "      <td>-6</td>\n",
       "      <td>-30</td>\n",
       "    </tr>\n",
       "    <tr>\n",
       "      <th>9</th>\n",
       "      <td>-10</td>\n",
       "      <td>0</td>\n",
       "      <td>-18</td>\n",
       "    </tr>\n",
       "  </tbody>\n",
       "</table>\n",
       "</div>"
      ],
      "text/plain": [
       "   Col1  Col2  Col3\n",
       "0    25    93    33\n",
       "1    37    23    11\n",
       "2    14    31    12\n",
       "3     0    11    20\n",
       "4    38    36    39\n",
       "5    24    37    13\n",
       "6    15     2    39\n",
       "7    13    28    21\n",
       "8    27     6    30\n",
       "9    10     0    18\n",
       "0   -25   -93   -33\n",
       "1   -37   -23   -11\n",
       "2   -14   -31   -12\n",
       "3     0   -11   -20\n",
       "4   -38   -36   -39\n",
       "5   -24   -37   -13\n",
       "6   -15    -2   -39\n",
       "7   -13   -28   -21\n",
       "8   -27    -6   -30\n",
       "9   -10     0   -18"
      ]
     },
     "execution_count": 111,
     "metadata": {},
     "output_type": "execute_result"
    }
   ],
   "source": [
    "df6 = pd.concat([df4,df5])\n",
    "df6"
   ]
  },
  {
   "cell_type": "code",
   "execution_count": 113,
   "id": "934f0d62-1a48-4dc4-bcc4-fa1354b1470c",
   "metadata": {},
   "outputs": [
    {
     "data": {
      "text/html": [
       "<div>\n",
       "<style scoped>\n",
       "    .dataframe tbody tr th:only-of-type {\n",
       "        vertical-align: middle;\n",
       "    }\n",
       "\n",
       "    .dataframe tbody tr th {\n",
       "        vertical-align: top;\n",
       "    }\n",
       "\n",
       "    .dataframe thead th {\n",
       "        text-align: right;\n",
       "    }\n",
       "</style>\n",
       "<table border=\"1\" class=\"dataframe\">\n",
       "  <thead>\n",
       "    <tr style=\"text-align: right;\">\n",
       "      <th></th>\n",
       "      <th>Col1</th>\n",
       "      <th>Col2</th>\n",
       "      <th>Col3</th>\n",
       "    </tr>\n",
       "  </thead>\n",
       "  <tbody>\n",
       "    <tr>\n",
       "      <th>0</th>\n",
       "      <td>25</td>\n",
       "      <td>93</td>\n",
       "      <td>33</td>\n",
       "    </tr>\n",
       "    <tr>\n",
       "      <th>1</th>\n",
       "      <td>37</td>\n",
       "      <td>23</td>\n",
       "      <td>11</td>\n",
       "    </tr>\n",
       "    <tr>\n",
       "      <th>2</th>\n",
       "      <td>14</td>\n",
       "      <td>31</td>\n",
       "      <td>12</td>\n",
       "    </tr>\n",
       "    <tr>\n",
       "      <th>3</th>\n",
       "      <td>0</td>\n",
       "      <td>11</td>\n",
       "      <td>20</td>\n",
       "    </tr>\n",
       "    <tr>\n",
       "      <th>4</th>\n",
       "      <td>38</td>\n",
       "      <td>36</td>\n",
       "      <td>39</td>\n",
       "    </tr>\n",
       "    <tr>\n",
       "      <th>5</th>\n",
       "      <td>24</td>\n",
       "      <td>37</td>\n",
       "      <td>13</td>\n",
       "    </tr>\n",
       "    <tr>\n",
       "      <th>6</th>\n",
       "      <td>15</td>\n",
       "      <td>2</td>\n",
       "      <td>39</td>\n",
       "    </tr>\n",
       "    <tr>\n",
       "      <th>7</th>\n",
       "      <td>13</td>\n",
       "      <td>28</td>\n",
       "      <td>21</td>\n",
       "    </tr>\n",
       "    <tr>\n",
       "      <th>8</th>\n",
       "      <td>27</td>\n",
       "      <td>6</td>\n",
       "      <td>30</td>\n",
       "    </tr>\n",
       "    <tr>\n",
       "      <th>9</th>\n",
       "      <td>10</td>\n",
       "      <td>0</td>\n",
       "      <td>18</td>\n",
       "    </tr>\n",
       "    <tr>\n",
       "      <th>10</th>\n",
       "      <td>-25</td>\n",
       "      <td>-93</td>\n",
       "      <td>-33</td>\n",
       "    </tr>\n",
       "    <tr>\n",
       "      <th>11</th>\n",
       "      <td>-37</td>\n",
       "      <td>-23</td>\n",
       "      <td>-11</td>\n",
       "    </tr>\n",
       "    <tr>\n",
       "      <th>12</th>\n",
       "      <td>-14</td>\n",
       "      <td>-31</td>\n",
       "      <td>-12</td>\n",
       "    </tr>\n",
       "    <tr>\n",
       "      <th>13</th>\n",
       "      <td>0</td>\n",
       "      <td>-11</td>\n",
       "      <td>-20</td>\n",
       "    </tr>\n",
       "    <tr>\n",
       "      <th>14</th>\n",
       "      <td>-38</td>\n",
       "      <td>-36</td>\n",
       "      <td>-39</td>\n",
       "    </tr>\n",
       "    <tr>\n",
       "      <th>15</th>\n",
       "      <td>-24</td>\n",
       "      <td>-37</td>\n",
       "      <td>-13</td>\n",
       "    </tr>\n",
       "    <tr>\n",
       "      <th>16</th>\n",
       "      <td>-15</td>\n",
       "      <td>-2</td>\n",
       "      <td>-39</td>\n",
       "    </tr>\n",
       "    <tr>\n",
       "      <th>17</th>\n",
       "      <td>-13</td>\n",
       "      <td>-28</td>\n",
       "      <td>-21</td>\n",
       "    </tr>\n",
       "    <tr>\n",
       "      <th>18</th>\n",
       "      <td>-27</td>\n",
       "      <td>-6</td>\n",
       "      <td>-30</td>\n",
       "    </tr>\n",
       "    <tr>\n",
       "      <th>19</th>\n",
       "      <td>-10</td>\n",
       "      <td>0</td>\n",
       "      <td>-18</td>\n",
       "    </tr>\n",
       "  </tbody>\n",
       "</table>\n",
       "</div>"
      ],
      "text/plain": [
       "    Col1  Col2  Col3\n",
       "0     25    93    33\n",
       "1     37    23    11\n",
       "2     14    31    12\n",
       "3      0    11    20\n",
       "4     38    36    39\n",
       "5     24    37    13\n",
       "6     15     2    39\n",
       "7     13    28    21\n",
       "8     27     6    30\n",
       "9     10     0    18\n",
       "10   -25   -93   -33\n",
       "11   -37   -23   -11\n",
       "12   -14   -31   -12\n",
       "13     0   -11   -20\n",
       "14   -38   -36   -39\n",
       "15   -24   -37   -13\n",
       "16   -15    -2   -39\n",
       "17   -13   -28   -21\n",
       "18   -27    -6   -30\n",
       "19   -10     0   -18"
      ]
     },
     "execution_count": 113,
     "metadata": {},
     "output_type": "execute_result"
    }
   ],
   "source": [
    "df7 = pd.concat([df4,df5],ignore_index=True)\n",
    "df7"
   ]
  },
  {
   "cell_type": "code",
   "execution_count": 112,
   "id": "8690b8cb-5838-412e-b051-e737d6fc0e89",
   "metadata": {},
   "outputs": [
    {
     "data": {
      "text/html": [
       "<div>\n",
       "<style scoped>\n",
       "    .dataframe tbody tr th:only-of-type {\n",
       "        vertical-align: middle;\n",
       "    }\n",
       "\n",
       "    .dataframe tbody tr th {\n",
       "        vertical-align: top;\n",
       "    }\n",
       "\n",
       "    .dataframe thead th {\n",
       "        text-align: right;\n",
       "    }\n",
       "</style>\n",
       "<table border=\"1\" class=\"dataframe\">\n",
       "  <thead>\n",
       "    <tr style=\"text-align: right;\">\n",
       "      <th></th>\n",
       "      <th>Col1</th>\n",
       "      <th>Col2</th>\n",
       "      <th>Col3</th>\n",
       "    </tr>\n",
       "  </thead>\n",
       "  <tbody>\n",
       "    <tr>\n",
       "      <th>0</th>\n",
       "      <td>25</td>\n",
       "      <td>93</td>\n",
       "      <td>33</td>\n",
       "    </tr>\n",
       "    <tr>\n",
       "      <th>0</th>\n",
       "      <td>-25</td>\n",
       "      <td>-93</td>\n",
       "      <td>-33</td>\n",
       "    </tr>\n",
       "  </tbody>\n",
       "</table>\n",
       "</div>"
      ],
      "text/plain": [
       "   Col1  Col2  Col3\n",
       "0    25    93    33\n",
       "0   -25   -93   -33"
      ]
     },
     "execution_count": 112,
     "metadata": {},
     "output_type": "execute_result"
    }
   ],
   "source": [
    "df6.loc[0,:]"
   ]
  },
  {
   "cell_type": "code",
   "execution_count": 117,
   "id": "d38275f8-4cb9-4a97-91f2-4871686deed3",
   "metadata": {},
   "outputs": [],
   "source": [
    "df5.columns = [\"col1\",\"col2\",\"col3\"]"
   ]
  },
  {
   "cell_type": "code",
   "execution_count": 118,
   "id": "c2f64728-32f1-4177-aa67-7958a1aa4b5c",
   "metadata": {},
   "outputs": [
    {
     "data": {
      "text/html": [
       "<div>\n",
       "<style scoped>\n",
       "    .dataframe tbody tr th:only-of-type {\n",
       "        vertical-align: middle;\n",
       "    }\n",
       "\n",
       "    .dataframe tbody tr th {\n",
       "        vertical-align: top;\n",
       "    }\n",
       "\n",
       "    .dataframe thead th {\n",
       "        text-align: right;\n",
       "    }\n",
       "</style>\n",
       "<table border=\"1\" class=\"dataframe\">\n",
       "  <thead>\n",
       "    <tr style=\"text-align: right;\">\n",
       "      <th></th>\n",
       "      <th>col1</th>\n",
       "      <th>col2</th>\n",
       "      <th>col3</th>\n",
       "    </tr>\n",
       "  </thead>\n",
       "  <tbody>\n",
       "    <tr>\n",
       "      <th>0</th>\n",
       "      <td>-25</td>\n",
       "      <td>-93</td>\n",
       "      <td>-33</td>\n",
       "    </tr>\n",
       "    <tr>\n",
       "      <th>1</th>\n",
       "      <td>-37</td>\n",
       "      <td>-23</td>\n",
       "      <td>-11</td>\n",
       "    </tr>\n",
       "    <tr>\n",
       "      <th>2</th>\n",
       "      <td>-14</td>\n",
       "      <td>-31</td>\n",
       "      <td>-12</td>\n",
       "    </tr>\n",
       "    <tr>\n",
       "      <th>3</th>\n",
       "      <td>0</td>\n",
       "      <td>-11</td>\n",
       "      <td>-20</td>\n",
       "    </tr>\n",
       "    <tr>\n",
       "      <th>4</th>\n",
       "      <td>-38</td>\n",
       "      <td>-36</td>\n",
       "      <td>-39</td>\n",
       "    </tr>\n",
       "    <tr>\n",
       "      <th>5</th>\n",
       "      <td>-24</td>\n",
       "      <td>-37</td>\n",
       "      <td>-13</td>\n",
       "    </tr>\n",
       "    <tr>\n",
       "      <th>6</th>\n",
       "      <td>-15</td>\n",
       "      <td>-2</td>\n",
       "      <td>-39</td>\n",
       "    </tr>\n",
       "    <tr>\n",
       "      <th>7</th>\n",
       "      <td>-13</td>\n",
       "      <td>-28</td>\n",
       "      <td>-21</td>\n",
       "    </tr>\n",
       "    <tr>\n",
       "      <th>8</th>\n",
       "      <td>-27</td>\n",
       "      <td>-6</td>\n",
       "      <td>-30</td>\n",
       "    </tr>\n",
       "    <tr>\n",
       "      <th>9</th>\n",
       "      <td>-10</td>\n",
       "      <td>0</td>\n",
       "      <td>-18</td>\n",
       "    </tr>\n",
       "  </tbody>\n",
       "</table>\n",
       "</div>"
      ],
      "text/plain": [
       "   col1  col2  col3\n",
       "0   -25   -93   -33\n",
       "1   -37   -23   -11\n",
       "2   -14   -31   -12\n",
       "3     0   -11   -20\n",
       "4   -38   -36   -39\n",
       "5   -24   -37   -13\n",
       "6   -15    -2   -39\n",
       "7   -13   -28   -21\n",
       "8   -27    -6   -30\n",
       "9   -10     0   -18"
      ]
     },
     "execution_count": 118,
     "metadata": {},
     "output_type": "execute_result"
    }
   ],
   "source": [
    "df5"
   ]
  },
  {
   "cell_type": "code",
   "execution_count": 119,
   "id": "99b6c3be-67b9-4728-9f52-607577549555",
   "metadata": {},
   "outputs": [
    {
     "name": "stdout",
     "output_type": "stream",
     "text": [
      "    Col1  Col2  Col3  col1  col2  col3\n",
      "0   25.0  93.0  33.0   NaN   NaN   NaN\n",
      "1   37.0  23.0  11.0   NaN   NaN   NaN\n",
      "2   14.0  31.0  12.0   NaN   NaN   NaN\n",
      "3    0.0  11.0  20.0   NaN   NaN   NaN\n",
      "4   38.0  36.0  39.0   NaN   NaN   NaN\n",
      "5   24.0  37.0  13.0   NaN   NaN   NaN\n",
      "6   15.0   2.0  39.0   NaN   NaN   NaN\n",
      "7   13.0  28.0  21.0   NaN   NaN   NaN\n",
      "8   27.0   6.0  30.0   NaN   NaN   NaN\n",
      "9   10.0   0.0  18.0   NaN   NaN   NaN\n",
      "10   NaN   NaN   NaN -25.0 -93.0 -33.0\n",
      "11   NaN   NaN   NaN -37.0 -23.0 -11.0\n",
      "12   NaN   NaN   NaN -14.0 -31.0 -12.0\n",
      "13   NaN   NaN   NaN   0.0 -11.0 -20.0\n",
      "14   NaN   NaN   NaN -38.0 -36.0 -39.0\n",
      "15   NaN   NaN   NaN -24.0 -37.0 -13.0\n",
      "16   NaN   NaN   NaN -15.0  -2.0 -39.0\n",
      "17   NaN   NaN   NaN -13.0 -28.0 -21.0\n",
      "18   NaN   NaN   NaN -27.0  -6.0 -30.0\n",
      "19   NaN   NaN   NaN -10.0   0.0 -18.0\n"
     ]
    }
   ],
   "source": [
    "df8 = pd.concat([df4,df5],ignore_index=True)\n",
    "print(df8)"
   ]
  },
  {
   "cell_type": "code",
   "execution_count": 122,
   "id": "36140ae9-e080-437e-b4e1-fd613e00be91",
   "metadata": {},
   "outputs": [
    {
     "data": {
      "text/html": [
       "<div>\n",
       "<style scoped>\n",
       "    .dataframe tbody tr th:only-of-type {\n",
       "        vertical-align: middle;\n",
       "    }\n",
       "\n",
       "    .dataframe tbody tr th {\n",
       "        vertical-align: top;\n",
       "    }\n",
       "\n",
       "    .dataframe thead th {\n",
       "        text-align: right;\n",
       "    }\n",
       "</style>\n",
       "<table border=\"1\" class=\"dataframe\">\n",
       "  <thead>\n",
       "    <tr style=\"text-align: right;\">\n",
       "      <th></th>\n",
       "      <th>Col1</th>\n",
       "      <th>Col2</th>\n",
       "      <th>Col3</th>\n",
       "      <th>col1</th>\n",
       "      <th>col2</th>\n",
       "      <th>col3</th>\n",
       "    </tr>\n",
       "  </thead>\n",
       "  <tbody>\n",
       "    <tr>\n",
       "      <th>0</th>\n",
       "      <td>25.0</td>\n",
       "      <td>93.0</td>\n",
       "      <td>33.0</td>\n",
       "      <td>NaN</td>\n",
       "      <td>NaN</td>\n",
       "      <td>NaN</td>\n",
       "    </tr>\n",
       "    <tr>\n",
       "      <th>1</th>\n",
       "      <td>37.0</td>\n",
       "      <td>23.0</td>\n",
       "      <td>11.0</td>\n",
       "      <td>NaN</td>\n",
       "      <td>NaN</td>\n",
       "      <td>NaN</td>\n",
       "    </tr>\n",
       "    <tr>\n",
       "      <th>2</th>\n",
       "      <td>14.0</td>\n",
       "      <td>31.0</td>\n",
       "      <td>12.0</td>\n",
       "      <td>NaN</td>\n",
       "      <td>NaN</td>\n",
       "      <td>NaN</td>\n",
       "    </tr>\n",
       "    <tr>\n",
       "      <th>3</th>\n",
       "      <td>0.0</td>\n",
       "      <td>11.0</td>\n",
       "      <td>20.0</td>\n",
       "      <td>NaN</td>\n",
       "      <td>NaN</td>\n",
       "      <td>NaN</td>\n",
       "    </tr>\n",
       "    <tr>\n",
       "      <th>4</th>\n",
       "      <td>38.0</td>\n",
       "      <td>36.0</td>\n",
       "      <td>39.0</td>\n",
       "      <td>NaN</td>\n",
       "      <td>NaN</td>\n",
       "      <td>NaN</td>\n",
       "    </tr>\n",
       "    <tr>\n",
       "      <th>5</th>\n",
       "      <td>24.0</td>\n",
       "      <td>37.0</td>\n",
       "      <td>13.0</td>\n",
       "      <td>NaN</td>\n",
       "      <td>NaN</td>\n",
       "      <td>NaN</td>\n",
       "    </tr>\n",
       "    <tr>\n",
       "      <th>6</th>\n",
       "      <td>15.0</td>\n",
       "      <td>2.0</td>\n",
       "      <td>39.0</td>\n",
       "      <td>NaN</td>\n",
       "      <td>NaN</td>\n",
       "      <td>NaN</td>\n",
       "    </tr>\n",
       "    <tr>\n",
       "      <th>7</th>\n",
       "      <td>13.0</td>\n",
       "      <td>28.0</td>\n",
       "      <td>21.0</td>\n",
       "      <td>NaN</td>\n",
       "      <td>NaN</td>\n",
       "      <td>NaN</td>\n",
       "    </tr>\n",
       "    <tr>\n",
       "      <th>8</th>\n",
       "      <td>27.0</td>\n",
       "      <td>6.0</td>\n",
       "      <td>30.0</td>\n",
       "      <td>NaN</td>\n",
       "      <td>NaN</td>\n",
       "      <td>NaN</td>\n",
       "    </tr>\n",
       "    <tr>\n",
       "      <th>9</th>\n",
       "      <td>10.0</td>\n",
       "      <td>0.0</td>\n",
       "      <td>18.0</td>\n",
       "      <td>NaN</td>\n",
       "      <td>NaN</td>\n",
       "      <td>NaN</td>\n",
       "    </tr>\n",
       "    <tr>\n",
       "      <th>10</th>\n",
       "      <td>NaN</td>\n",
       "      <td>NaN</td>\n",
       "      <td>NaN</td>\n",
       "      <td>-25.0</td>\n",
       "      <td>-93.0</td>\n",
       "      <td>-33.0</td>\n",
       "    </tr>\n",
       "    <tr>\n",
       "      <th>11</th>\n",
       "      <td>NaN</td>\n",
       "      <td>NaN</td>\n",
       "      <td>NaN</td>\n",
       "      <td>-37.0</td>\n",
       "      <td>-23.0</td>\n",
       "      <td>-11.0</td>\n",
       "    </tr>\n",
       "    <tr>\n",
       "      <th>12</th>\n",
       "      <td>NaN</td>\n",
       "      <td>NaN</td>\n",
       "      <td>NaN</td>\n",
       "      <td>-14.0</td>\n",
       "      <td>-31.0</td>\n",
       "      <td>-12.0</td>\n",
       "    </tr>\n",
       "    <tr>\n",
       "      <th>13</th>\n",
       "      <td>NaN</td>\n",
       "      <td>NaN</td>\n",
       "      <td>NaN</td>\n",
       "      <td>0.0</td>\n",
       "      <td>-11.0</td>\n",
       "      <td>-20.0</td>\n",
       "    </tr>\n",
       "    <tr>\n",
       "      <th>14</th>\n",
       "      <td>NaN</td>\n",
       "      <td>NaN</td>\n",
       "      <td>NaN</td>\n",
       "      <td>-38.0</td>\n",
       "      <td>-36.0</td>\n",
       "      <td>-39.0</td>\n",
       "    </tr>\n",
       "    <tr>\n",
       "      <th>15</th>\n",
       "      <td>NaN</td>\n",
       "      <td>NaN</td>\n",
       "      <td>NaN</td>\n",
       "      <td>-24.0</td>\n",
       "      <td>-37.0</td>\n",
       "      <td>-13.0</td>\n",
       "    </tr>\n",
       "    <tr>\n",
       "      <th>16</th>\n",
       "      <td>NaN</td>\n",
       "      <td>NaN</td>\n",
       "      <td>NaN</td>\n",
       "      <td>-15.0</td>\n",
       "      <td>-2.0</td>\n",
       "      <td>-39.0</td>\n",
       "    </tr>\n",
       "    <tr>\n",
       "      <th>17</th>\n",
       "      <td>NaN</td>\n",
       "      <td>NaN</td>\n",
       "      <td>NaN</td>\n",
       "      <td>-13.0</td>\n",
       "      <td>-28.0</td>\n",
       "      <td>-21.0</td>\n",
       "    </tr>\n",
       "    <tr>\n",
       "      <th>18</th>\n",
       "      <td>NaN</td>\n",
       "      <td>NaN</td>\n",
       "      <td>NaN</td>\n",
       "      <td>-27.0</td>\n",
       "      <td>-6.0</td>\n",
       "      <td>-30.0</td>\n",
       "    </tr>\n",
       "    <tr>\n",
       "      <th>19</th>\n",
       "      <td>NaN</td>\n",
       "      <td>NaN</td>\n",
       "      <td>NaN</td>\n",
       "      <td>-10.0</td>\n",
       "      <td>0.0</td>\n",
       "      <td>-18.0</td>\n",
       "    </tr>\n",
       "  </tbody>\n",
       "</table>\n",
       "</div>"
      ],
      "text/plain": [
       "    Col1  Col2  Col3  col1  col2  col3\n",
       "0   25.0  93.0  33.0   NaN   NaN   NaN\n",
       "1   37.0  23.0  11.0   NaN   NaN   NaN\n",
       "2   14.0  31.0  12.0   NaN   NaN   NaN\n",
       "3    0.0  11.0  20.0   NaN   NaN   NaN\n",
       "4   38.0  36.0  39.0   NaN   NaN   NaN\n",
       "5   24.0  37.0  13.0   NaN   NaN   NaN\n",
       "6   15.0   2.0  39.0   NaN   NaN   NaN\n",
       "7   13.0  28.0  21.0   NaN   NaN   NaN\n",
       "8   27.0   6.0  30.0   NaN   NaN   NaN\n",
       "9   10.0   0.0  18.0   NaN   NaN   NaN\n",
       "10   NaN   NaN   NaN -25.0 -93.0 -33.0\n",
       "11   NaN   NaN   NaN -37.0 -23.0 -11.0\n",
       "12   NaN   NaN   NaN -14.0 -31.0 -12.0\n",
       "13   NaN   NaN   NaN   0.0 -11.0 -20.0\n",
       "14   NaN   NaN   NaN -38.0 -36.0 -39.0\n",
       "15   NaN   NaN   NaN -24.0 -37.0 -13.0\n",
       "16   NaN   NaN   NaN -15.0  -2.0 -39.0\n",
       "17   NaN   NaN   NaN -13.0 -28.0 -21.0\n",
       "18   NaN   NaN   NaN -27.0  -6.0 -30.0\n",
       "19   NaN   NaN   NaN -10.0   0.0 -18.0"
      ]
     },
     "execution_count": 122,
     "metadata": {},
     "output_type": "execute_result"
    }
   ],
   "source": [
    "end = pd.concat([df4,df5],ignore_index=True,join=\"outer\")\n",
    "end"
   ]
  },
  {
   "cell_type": "code",
   "execution_count": null,
   "id": "dff312ba-43f0-4e8d-b574-dff39b28589b",
   "metadata": {},
   "outputs": [],
   "source": []
  }
 ],
 "metadata": {
  "kernelspec": {
   "display_name": "Python 3 (ipykernel)",
   "language": "python",
   "name": "python3"
  },
  "language_info": {
   "codemirror_mode": {
    "name": "ipython",
    "version": 3
   },
   "file_extension": ".py",
   "mimetype": "text/x-python",
   "name": "python",
   "nbconvert_exporter": "python",
   "pygments_lexer": "ipython3",
   "version": "3.11.7"
  }
 },
 "nbformat": 4,
 "nbformat_minor": 5
}
