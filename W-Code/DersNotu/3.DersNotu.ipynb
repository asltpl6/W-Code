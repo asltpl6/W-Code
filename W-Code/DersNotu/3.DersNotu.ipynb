{
 "cells": [
  {
   "cell_type": "markdown",
   "id": "2ae41fbb-b67e-4da9-851c-37fb55b5cdc5",
   "metadata": {},
   "source": [
    "# Fonksiyon Tanımı ve Örnekler"
   ]
  },
  {
   "cell_type": "markdown",
   "id": "edc71fcf-1113-48c1-89ca-6da9c74ed8c2",
   "metadata": {},
   "source": [
    "\n",
    "Fonksiyonlar, bir dizi kodu tekrar kullanabilir hale getirmek için kullanılır. Python'da gömülü (built-in) ve özel (user-defined) fonksiyonlar bulunur. \n",
    "Daha önce kullanılan bazı gömülü fonksiyonlar: `print`, `len`, `split`, `input`.\n"
   ]
  },
  {
   "cell_type": "markdown",
   "id": "e23d2c7f-aa4a-4624-b3c9-32d15aeb1c63",
   "metadata": {},
   "source": [
    "### Gömülü Fonksiyon Örnekleri"
   ]
  },
  {
   "cell_type": "code",
   "execution_count": 1,
   "id": "ec925d94-c780-4abc-ab0a-f0fefb258985",
   "metadata": {},
   "outputs": [
    {
     "name": "stdout",
     "output_type": "stream",
     "text": [
      "Hi!\n"
     ]
    }
   ],
   "source": [
    "print(\"Hi!\")"
   ]
  },
  {
   "cell_type": "code",
   "execution_count": 2,
   "id": "83058652-495d-40cb-9707-232f2a267dc2",
   "metadata": {},
   "outputs": [
    {
     "data": {
      "text/plain": [
       "12"
      ]
     },
     "execution_count": 2,
     "metadata": {},
     "output_type": "execute_result"
    }
   ],
   "source": [
    "message = \"Hello World!\"\n",
    "len(message)"
   ]
  },
  {
   "cell_type": "code",
   "execution_count": 3,
   "id": "85ed7d9a-2124-48dc-b11e-e263d12b45a0",
   "metadata": {},
   "outputs": [
    {
     "data": {
      "text/plain": [
       "['Hello', 'World!']"
      ]
     },
     "execution_count": 3,
     "metadata": {},
     "output_type": "execute_result"
    }
   ],
   "source": [
    "word = message.split()\n",
    "word"
   ]
  },
  {
   "cell_type": "code",
   "execution_count": 4,
   "id": "40ecb242-d7b8-4c9f-ab15-f4d4bdaeead3",
   "metadata": {},
   "outputs": [
    {
     "name": "stdin",
     "output_type": "stream",
     "text": [
      "Adınızı giriniz:  Aslı\n"
     ]
    },
    {
     "name": "stdout",
     "output_type": "stream",
     "text": [
      "Hosgeldin, Aslı\n"
     ]
    }
   ],
   "source": [
    "name = input(\"Adınızı giriniz: \")\n",
    "print(f\"Hosgeldin, {name}\")"
   ]
  },
  {
   "cell_type": "markdown",
   "id": "2ba4b419-3e60-4788-8569-af8c3c2fb5b9",
   "metadata": {},
   "source": [
    "# Fonksiyon Oluşturma"
   ]
  },
  {
   "cell_type": "markdown",
   "id": "51157718-b656-4b00-90fa-d2b8e89b8358",
   "metadata": {},
   "source": [
    "Özel fonksiyonlar, belirli bir görevi gerçekleştirmek için tanımlanır ve çağrılabilir. \n",
    "Fonksiyon tanımlarken `def` anahtar kelimesi kullanılır."
   ]
  },
  {
   "cell_type": "code",
   "execution_count": 5,
   "id": "8ff5c52b-83d4-454c-8986-fccffcc5ce21",
   "metadata": {},
   "outputs": [
    {
     "data": {
      "text/plain": [
       "6"
      ]
     },
     "execution_count": 5,
     "metadata": {},
     "output_type": "execute_result"
    }
   ],
   "source": [
    "def add_number(number):\n",
    "    return number + 1\n",
    "\n",
    "sonuc = add_number(5)\n",
    "sonuc"
   ]
  },
  {
   "cell_type": "code",
   "execution_count": 8,
   "id": "8acbd9ef-8a12-4e99-9d56-edbaf9da8f01",
   "metadata": {},
   "outputs": [],
   "source": [
    "def info():\n",
    "    print(\"Benim adım : Aslı\")\n",
    "    print(\"26 yaşındayım \")"
   ]
  },
  {
   "cell_type": "code",
   "execution_count": 9,
   "id": "467503d5-2213-4058-bc29-bfc88c92a2a8",
   "metadata": {},
   "outputs": [
    {
     "name": "stdout",
     "output_type": "stream",
     "text": [
      "Benim adım : Aslı\n",
      "26 yaşındayım \n"
     ]
    }
   ],
   "source": [
    "info()"
   ]
  },
  {
   "cell_type": "code",
   "execution_count": 10,
   "id": "f4d38772-3533-4a63-ae08-a80d8962b1d8",
   "metadata": {},
   "outputs": [],
   "source": [
    "def toplama_pr(sayı1,sayı2,durum):\n",
    "    \"\"\"toplanmasını istediğiniz sayıları giriniz.\n",
    "    Ardından eğer yazdırmak istiyorsanız 1 istemiyorsanız başka birşey giriniz.\"\"\"\n",
    "    toplam = sayı1 + sayı2\n",
    "    if durum == 1:\n",
    "        return \"sayıların toplamı: \"+ str(toplam)\n",
    "    else:\n",
    "        return toplam"
   ]
  },
  {
   "cell_type": "code",
   "execution_count": 11,
   "id": "d51c0dea-7b31-4d9c-8761-f1bef6812671",
   "metadata": {},
   "outputs": [
    {
     "data": {
      "text/plain": [
       "'sayıların toplamı: 10'"
      ]
     },
     "execution_count": 11,
     "metadata": {},
     "output_type": "execute_result"
    }
   ],
   "source": [
    "toplama_pr(5,5,1)"
   ]
  },
  {
   "cell_type": "code",
   "execution_count": 12,
   "id": "cdb155d5-3b44-41df-8b2a-3dc2355b01df",
   "metadata": {},
   "outputs": [
    {
     "data": {
      "text/plain": [
       "10"
      ]
     },
     "execution_count": 12,
     "metadata": {},
     "output_type": "execute_result"
    }
   ],
   "source": [
    "toplama_pr(5,5,0)"
   ]
  },
  {
   "cell_type": "code",
   "execution_count": 16,
   "id": "b74ee401-94ed-4c79-968e-a09d6a3aecc6",
   "metadata": {},
   "outputs": [
    {
     "data": {
      "text/plain": [
       "'AslıToplu'"
      ]
     },
     "execution_count": 16,
     "metadata": {},
     "output_type": "execute_result"
    }
   ],
   "source": [
    "toplama_pr(\"Aslı\",\"Toplu\",0)"
   ]
  },
  {
   "cell_type": "code",
   "execution_count": 17,
   "id": "f3f92cee-2cf9-4cbd-9bd9-356083761843",
   "metadata": {},
   "outputs": [
    {
     "data": {
      "text/plain": [
       "'sayıların toplamı: AslıToplu'"
      ]
     },
     "execution_count": 17,
     "metadata": {},
     "output_type": "execute_result"
    }
   ],
   "source": [
    "toplama_pr(\"Aslı\",\"Toplu\",1)"
   ]
  },
  {
   "cell_type": "code",
   "execution_count": 13,
   "id": "491e1cb7-daec-4a8f-b822-119e059114c9",
   "metadata": {},
   "outputs": [],
   "source": [
    "def toplama_pr2(sayı1,sayı2,durum):\n",
    "    \"\"\"toplanmasını istediğiniz sayıları giriniz.\n",
    "    Ardından eğer yazdırmak istiyorsanız 1 istemiyorsanız başka birşey giriniz.\"\"\"\n",
    "    if (((type(sayı1) == int) or (type(sayı1) == float)) and ((type(sayı2) == int) or (type(sayı2) == float))):\n",
    "        toplam = sayı1 + sayı2\n",
    "    else:\n",
    "        print(\"Tipleri kontrol ediniz\")\n",
    "        return\n",
    "    \n",
    "    \n",
    "    if (durum == 1) and (type(durum) == int):\n",
    "        print(\"sayıların toplamı: \"+ str(toplam))\n",
    "    elif not(type(durum) == int):\n",
    "        print(\"Durum değişkenini 1 veya başka bir tam sayı giriniz\")\n",
    "    else:\n",
    "        return toplam"
   ]
  },
  {
   "cell_type": "code",
   "execution_count": 14,
   "id": "a7280daf-4747-496f-9bc7-4b951163e8b5",
   "metadata": {},
   "outputs": [
    {
     "data": {
      "text/plain": [
       "10"
      ]
     },
     "execution_count": 14,
     "metadata": {},
     "output_type": "execute_result"
    }
   ],
   "source": [
    "toplama_pr2(5,5,0)"
   ]
  },
  {
   "cell_type": "code",
   "execution_count": 15,
   "id": "28ae832f-365f-43af-bd85-ef43daeaccb6",
   "metadata": {},
   "outputs": [
    {
     "name": "stdout",
     "output_type": "stream",
     "text": [
      "Tipleri kontrol ediniz\n"
     ]
    }
   ],
   "source": [
    "toplama_pr2(\"Aslı\",\"Toplu\",0)"
   ]
  },
  {
   "cell_type": "markdown",
   "id": "2a43c92c-e71e-45cc-8c48-2d83904b4895",
   "metadata": {},
   "source": [
    "# Return ve Print Farkı"
   ]
  },
  {
   "cell_type": "markdown",
   "id": "4bf2cbee-87c9-4425-8c94-ed47d7a2673e",
   "metadata": {},
   "source": [
    "`print` fonksiyonu çıktıyı ekrana yazdırır, ancak başka yerlerde kullanılamaz. \n",
    "`return` ise fonksiyon sonucunu döndürür ve bu sonuç diğer işlemlerde kullanılabilir."
   ]
  },
  {
   "cell_type": "code",
   "execution_count": null,
   "id": "a0e2ab44-93a1-4721-8c88-52c7f13c8b33",
   "metadata": {},
   "outputs": [],
   "source": [
    "# Print ile sonuç döndürme\n",
    "def sayinin_karesi(sayi):\n",
    "    print(sayi ** 2)\n",
    "\n",
    "sonuc = sayinin_karesi(4)  # Bu, ekrana 16 yazdırır, fakat sonuc None olur.\n",
    "sonuc = sonuc * 2  # Bu satır hata verecektir çünkü 'sonuc' None'dir."
   ]
  },
  {
   "cell_type": "code",
   "execution_count": 18,
   "id": "ce2b620d-8080-44f9-a4bd-556b719708db",
   "metadata": {},
   "outputs": [
    {
     "name": "stdout",
     "output_type": "stream",
     "text": [
      "32\n"
     ]
    }
   ],
   "source": [
    "# Return ile sonuç döndürme\n",
    "def sayinin_karesi(sayi):\n",
    "    return sayi ** 2\n",
    "\n",
    "sonuc = sayinin_karesi(4)\n",
    "sonuc = sonuc * 2  # Bu satır çalışır, sonuc 32 olur.\n",
    "print(sonuc)"
   ]
  },
  {
   "cell_type": "markdown",
   "id": "7a0af37c-6755-4ee1-9733-b65ca77e11e2",
   "metadata": {},
   "source": [
    "# Args ve Kwargs"
   ]
  },
  {
   "cell_type": "markdown",
   "id": "ff97cb48-8753-441c-bf5e-8ac4a0e5fde9",
   "metadata": {},
   "source": [
    "`*args` ve `**kwargs`, rastgele sayıda isimli ya da isimsiz parametrelerle çalışmak için kullanılır."
   ]
  },
  {
   "cell_type": "markdown",
   "id": "ba6e0e93-9cc1-4d09-aa09-67c5b9b96fac",
   "metadata": {},
   "source": [
    "`*args `Nedir?\n",
    "`*args,` bir fonksiyona isteğe bağlı sayıda pozisyonel argüman göndermeyi sağlar. Bu argümanlar bir tuple olarak fonksiyona iletilir.\n",
    "\n",
    "Kullanımı: Fonksiyon, kendisine verilen tüm ekstra pozisyonel argümanları toplar ve bunları bir tuple (demet) içinde kullanır."
   ]
  },
  {
   "cell_type": "code",
   "execution_count": 1,
   "id": "562fcac9-6548-4f05-8519-43ca87ab68f3",
   "metadata": {},
   "outputs": [
    {
     "name": "stdout",
     "output_type": "stream",
     "text": [
      "6\n",
      "15\n"
     ]
    }
   ],
   "source": [
    "def toplama(*args):\n",
    "    return sum(args)\n",
    "\n",
    "print(toplama(1, 2, 3))  # Çıktı: 6\n",
    "print(toplama(5, 10))    # Çıktı: 15\n"
   ]
  },
  {
   "cell_type": "code",
   "execution_count": 19,
   "id": "04c9af8e-6c02-4f1e-befb-90d6e880b26e",
   "metadata": {},
   "outputs": [
    {
     "name": "stdout",
     "output_type": "stream",
     "text": [
      "10\n"
     ]
    }
   ],
   "source": [
    "def toplama(*args):\n",
    "    toplam = 0\n",
    "    for sayi in args:\n",
    "        toplam += sayi\n",
    "    return toplam\n",
    "\n",
    "sonuc = toplama(1,2,3,4)\n",
    "print(sonuc)"
   ]
  },
  {
   "cell_type": "markdown",
   "id": "c7a869d0-2b4c-4000-aa93-d2496b635268",
   "metadata": {},
   "source": [
    "`**kwargs Nedir?`\n",
    "`**kwargs,` bir fonksiyona isteğe bağlı sayıda anahtar-değer çifti (keyword arguments) göndermeyi sağlar. Bu argümanlar bir sözlük (dictionary) olarak fonksiyona iletilir.\n",
    "\n",
    "Kullanımı: Fonksiyon, kendisine verilen tüm ekstra anahtar-değer argümanlarını bir sözlükte toplar."
   ]
  },
  {
   "cell_type": "code",
   "execution_count": 3,
   "id": "a24a5b43-37e5-44e4-98fe-848fb1ee11e6",
   "metadata": {},
   "outputs": [
    {
     "name": "stdout",
     "output_type": "stream",
     "text": [
      "ad: Aslı\n",
      "yaş: 26\n",
      "meslek: Mühendis\n"
     ]
    }
   ],
   "source": [
    "def bilgi_ver(**kwargs):\n",
    "    for key, value in kwargs.items():\n",
    "        print(f\"{key}: {value}\")\n",
    "\n",
    "bilgi_ver(ad=\"Aslı\", yaş=26, meslek=\"Mühendis\")"
   ]
  },
  {
   "cell_type": "code",
   "execution_count": 20,
   "id": "4bfefb2a-93d3-440f-a09a-04235fb84798",
   "metadata": {},
   "outputs": [
    {
     "name": "stdout",
     "output_type": "stream",
     "text": [
      "İsim: Ahmet\n",
      "Yaş: 30\n"
     ]
    }
   ],
   "source": [
    "def tanitim(**kwargs):\n",
    "    if 'isim' in kwargs:\n",
    "        print(f\"İsim: {kwargs['isim']}\")\n",
    "    if 'yas' in kwargs:\n",
    "        print(f\"Yaş: {kwargs['yas']}\")\n",
    "\n",
    "tanitim(isim=\"Ahmet\", yas=30)"
   ]
  },
  {
   "cell_type": "code",
   "execution_count": 21,
   "id": "9d4487b2-444a-466a-9e44-fb91f3d723b9",
   "metadata": {},
   "outputs": [
    {
     "name": "stdout",
     "output_type": "stream",
     "text": [
      "marketten tost ekmeği alınacak\n",
      "marketten un alınacak\n",
      "marketten çikolata alınacak\n",
      "marketten dondurma alınacak\n",
      "marketten cips alınacak\n"
     ]
    }
   ],
   "source": [
    "def alınacaklar(*liste):\n",
    "    for market_listesi in liste:\n",
    "        for x in market_listesi:\n",
    "            print(f\"marketten {x} alınacak\")\n",
    "\n",
    "market_listesi = [\"tost ekmeği\",\"un\",\"çikolata\",\"dondurma\",\"cips\"]\n",
    "alınacaklar(market_listesi)"
   ]
  },
  {
   "cell_type": "markdown",
   "id": "81ecef6f-8c60-4fd8-bd2a-0a47b7006fb2",
   "metadata": {},
   "source": [
    "*args ve **kwargs Birlikte Kullanımı:\n",
    "Bir fonksiyonda hem *args hem de **kwargs aynı anda kullanılabilir. Bu sayede hem pozisyonel argümanlar hem de anahtar-değer çiftleri işlenebilir."
   ]
  },
  {
   "cell_type": "code",
   "execution_count": 4,
   "id": "1d7c5e34-37e9-4d53-bdab-61359ad14003",
   "metadata": {},
   "outputs": [
    {
     "name": "stdout",
     "output_type": "stream",
     "text": [
      "Pozisyonel argümanlar: (1, 2, 3)\n",
      "Anahtar-değer argümanlar: {'ad': 'Aslı', 'yaş': 26}\n"
     ]
    }
   ],
   "source": [
    "def tüm_bilgiler(*args, **kwargs):\n",
    "    print(\"Pozisyonel argümanlar:\", args)\n",
    "    print(\"Anahtar-değer argümanlar:\", kwargs)\n",
    "\n",
    "tüm_bilgiler(1, 2, 3, ad=\"Aslı\", yaş=26)\n"
   ]
  },
  {
   "cell_type": "markdown",
   "id": "6144e730-5415-4bed-b260-7c40c0798a61",
   "metadata": {},
   "source": [
    "Sonuç:\n",
    "*args: Pozisyonel argümanlar için kullanılır ve tuple olarak iletilir.\n",
    "**kwargs: Anahtar-değer çiftleri (keyword arguments) için kullanılır ve sözlük olarak iletilir.\n",
    "Her ikisi de fonksiyonlara esneklik kazandırır, bu sayede dinamik olarak farklı sayıda ve türde argümanlarla çalışabilirsiniz."
   ]
  },
  {
   "cell_type": "markdown",
   "id": "7a60e3b7-f195-4fc3-af00-535747a92936",
   "metadata": {},
   "source": [
    "# Class Tanımı"
   ]
  },
  {
   "cell_type": "markdown",
   "id": "01a9b9aa-1db2-4783-82b7-793b34086613",
   "metadata": {},
   "source": [
    "\n",
    "Class, nesneye yönelik programlamada bir veri türüdür ve özellikler ile metotları bir araya getirir. \n",
    "Bir class, belirli bir türdeki nesneleri yaratmak için bir şablon olarak kullanılır.\n"
   ]
  },
  {
   "cell_type": "markdown",
   "id": "ebc755c7-7127-4a79-9da8-d1d0589a22b3",
   "metadata": {},
   "source": [
    "# Class ve Object"
   ]
  },
  {
   "cell_type": "markdown",
   "id": "3f110bec-8ba7-40dd-a690-33dd14d11bbd",
   "metadata": {},
   "source": [
    "\n",
    "Class, bir şablondur; Object ise bu şablondan oluşturulan örnektir.\n"
   ]
  },
  {
   "cell_type": "markdown",
   "id": "2858721e-b7d8-4bcc-b37b-6251684e58b1",
   "metadata": {},
   "source": [
    " Class tanımlama"
   ]
  },
  {
   "cell_type": "code",
   "execution_count": 22,
   "id": "e90ce265-3d57-4d7c-9272-5ac6c4ebd603",
   "metadata": {},
   "outputs": [],
   "source": [
    "class Phone:\n",
    "    def __init__(self, brand, model, color, memory):\n",
    "        self.brand = brand\n",
    "        self.model = model\n",
    "        self.color = color\n",
    "        self.memory = memory\n",
    "        \n",
    "    def print_information(self):\n",
    "        print(f\"{self.model} {self.brand}- Renk: {self.color}, Hafıza: {self.memory} GB\")"
   ]
  },
  {
   "cell_type": "markdown",
   "id": "d1455414-ff27-47ec-8d79-3fc982d60b1c",
   "metadata": {},
   "source": [
    "Object oluşturma"
   ]
  },
  {
   "cell_type": "code",
   "execution_count": 23,
   "id": "e68555e6-d2b6-452c-942d-0835f2aaca94",
   "metadata": {},
   "outputs": [
    {
     "name": "stdout",
     "output_type": "stream",
     "text": [
      "Iphone16 Apple- Renk: Mavi, Hafıza: 256 GB\n",
      "Galaxy S23 Samsung- Renk: Lavanta, Hafıza: 256 GB\n"
     ]
    }
   ],
   "source": [
    "phone1 = Phone(\"Apple\",\"Iphone16\",\"Mavi\", 256)\n",
    "phone1.print_information()\n",
    "\n",
    "phone2= Phone(\"Samsung\", \"Galaxy S23\", \"Lavanta\", 256)\n",
    "phone2.print_information()"
   ]
  },
  {
   "cell_type": "markdown",
   "id": "a6b67dec-0465-4a33-ba27-42d14de84317",
   "metadata": {},
   "source": [
    "# Class oluşturma"
   ]
  },
  {
   "cell_type": "markdown",
   "id": "c7bc0f9e-ae7d-435b-b13c-6b837f189dc3",
   "metadata": {},
   "source": [
    "\n",
    "Class oluşturma, nesne yönelimli programlamanın temel taşlarından biridir. \n",
    "Özellikler, metotlar, yapıcı metot (constructor) gibi kavramlar bu süreçte kullanılır.\n"
   ]
  },
  {
   "cell_type": "markdown",
   "id": "aa74553e-d443-4d80-b666-06f32c7b4934",
   "metadata": {},
   "source": [
    "# Metot Oluşturma"
   ]
  },
  {
   "cell_type": "markdown",
   "id": "79d79fed-5582-45ac-bd07-610dab9689c8",
   "metadata": {},
   "source": [
    "\n",
    "Metotlar, bir class içinde tanımlanan fonksiyonlardır ve o class'a ait nesneler üzerinde işlem yaparlar.\n"
   ]
  },
  {
   "cell_type": "code",
   "execution_count": 24,
   "id": "c615a191-f12e-49d9-8b18-656d070f497a",
   "metadata": {},
   "outputs": [],
   "source": [
    "class MusicAlbum():\n",
    "    def __init__(self, album_name, singer, year):\n",
    "        self.album_name = album_name\n",
    "        self.singer = singer\n",
    "        self.year = year\n",
    "\n",
    "    def print_information(self):\n",
    "        print(f\"{self.album_name} by {self.singer} ({self.year})\")\n",
    "\n",
    "    def age_calculate(self, current_year):\n",
    "        return current_year - self.year"
   ]
  },
  {
   "cell_type": "code",
   "execution_count": 25,
   "id": "5286da3e-f147-4072-a539-a4b368aa3a60",
   "metadata": {},
   "outputs": [
    {
     "name": "stdout",
     "output_type": "stream",
     "text": [
      "Mientras Tu Dormias by Carla Morrison (2010)\n"
     ]
    },
    {
     "data": {
      "text/plain": [
       "14"
      ]
     },
     "execution_count": 25,
     "metadata": {},
     "output_type": "execute_result"
    }
   ],
   "source": [
    "album1 = MusicAlbum(\"Mientras Tu Dormias\", \"Carla Morrison\", 2010)\n",
    "album1.print_information()\n",
    "album1.age_calculate(2024)"
   ]
  },
  {
   "cell_type": "markdown",
   "id": "c94ad4da-2fac-4a59-a605-8b1cebc458fd",
   "metadata": {},
   "source": [
    "### Son Örnek"
   ]
  },
  {
   "cell_type": "code",
   "execution_count": 27,
   "id": "e6b74c95-3c5f-4145-99af-ca199a9a2a98",
   "metadata": {},
   "outputs": [],
   "source": [
    "class Grocery:\n",
    "    def __init__(self, fruit, vegetable, greens):\n",
    "        self.fruit = fruit\n",
    "        self.vegetable = vegetable\n",
    "        self.greens = greens\n",
    "\n",
    "    def print_fruit(self):\n",
    "        if type(self.fruit) == str:\n",
    "            print(f'{self.fruit} meyve')\n",
    "        else:\n",
    "            for i in self.fruit:\n",
    "                print(f'{i} meyve')\n",
    "\n",
    "    def print_vegetable(self):\n",
    "        if type(self.vegetable) == str:\n",
    "            print(f'{self.vegetable} sebze')\n",
    "        else:\n",
    "            for i in self.vegetable:\n",
    "                print(f'{i} sebze')\n",
    "\n",
    "    def print_greens(self):\n",
    "        if type(self.greens) == str:\n",
    "            print(f'{self.greens} yeşillik')\n",
    "        else:\n",
    "            for i in self.greens:\n",
    "                print(f'{i} yeşillik')\n",
    "\n",
    "    def have(self,ürün):\n",
    "        if ürün in self.fruit or ürün in self.vegetable or ürün in self.greens:\n",
    "            print(f\"Evet var\")\n",
    "        else:\n",
    "            print(f\"Hayır yok\")"
   ]
  },
  {
   "cell_type": "code",
   "execution_count": 28,
   "id": "f6fcf7a7-c6be-488c-ad84-c080f67240d7",
   "metadata": {},
   "outputs": [
    {
     "name": "stdout",
     "output_type": "stream",
     "text": [
      "Karpuz meyve\n",
      "Biber sebze\n",
      "Maydonoz yeşillik\n",
      "Evet var\n",
      "Evet var\n",
      "Hayır yok\n"
     ]
    }
   ],
   "source": [
    "kayseri = Grocery(\"Karpuz\",\"Biber\",\"Maydonoz\")\n",
    "kayseri.print_fruit()\n",
    "kayseri.print_vegetable()\n",
    "kayseri.print_greens()\n",
    "kayseri.have(\"Karpuz\")\n",
    "kayseri.have(\"Biber\")\n",
    "kayseri.have(\"Nane\")"
   ]
  },
  {
   "cell_type": "code",
   "execution_count": 29,
   "id": "6b67f129-79f2-4c13-9745-9e6ddd0701b4",
   "metadata": {},
   "outputs": [
    {
     "name": "stdout",
     "output_type": "stream",
     "text": [
      "Karpuz meyve\n",
      "Portakal meyve\n",
      "Ejder meyvesi meyve\n",
      "Ananas meyve\n",
      "Çilek meyve\n",
      "Kabak sebze\n",
      "Patlıcan sebze\n",
      "Fasülye sebze\n",
      "Pırasa sebze\n",
      "Maydanoz yeşillik\n",
      "Roka yeşillik\n",
      "Dere Otu yeşillik\n",
      "Nane yeşillik\n"
     ]
    }
   ],
   "source": [
    "antalya = Grocery([\"Karpuz\",\"Portakal\",\"Ejder meyvesi\",\"Ananas\",\"Çilek\"],[\"Kabak\",\"Patlıcan\",\"Fasülye\",\"Pırasa\"],[\"Maydanoz\",\"Roka\",\"Dere Otu\",\"Nane\"])\n",
    "antalya.print_fruit()\n",
    "antalya.print_vegetable()\n",
    "antalya.print_greens()"
   ]
  },
  {
   "cell_type": "code",
   "execution_count": null,
   "id": "17d74f44-2000-470b-96ec-c32a4d3f494e",
   "metadata": {},
   "outputs": [],
   "source": []
  }
 ],
 "metadata": {
  "kernelspec": {
   "display_name": "Python 3 (ipykernel)",
   "language": "python",
   "name": "python3"
  },
  "language_info": {
   "codemirror_mode": {
    "name": "ipython",
    "version": 3
   },
   "file_extension": ".py",
   "mimetype": "text/x-python",
   "name": "python",
   "nbconvert_exporter": "python",
   "pygments_lexer": "ipython3",
   "version": "3.11.7"
  }
 },
 "nbformat": 4,
 "nbformat_minor": 5
}
