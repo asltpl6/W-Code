{
 "cells": [
  {
   "cell_type": "markdown",
   "id": "0727f274-827d-4ba5-902b-07594685f0f1",
   "metadata": {},
   "source": [
    "# Giriş"
   ]
  },
  {
   "cell_type": "markdown",
   "id": "32a8de5e-c90b-49da-8952-2164118d01dd",
   "metadata": {},
   "source": [
    "# Lists"
   ]
  },
  {
   "cell_type": "markdown",
   "id": "93822e1c-83d4-4bc3-803f-cc9e5a144a1a",
   "metadata": {},
   "source": [
    "### Lists Introduction\n",
    "Listeler, birden fazla öğeyi bir arada tutmamıza olanak sağlayan esnek veri yapılarıdır. Listeler, farklı veri tiplerinden öğeler içerebilir ve sıralanabilirler."
   ]
  },
  {
   "cell_type": "code",
   "execution_count": 1,
   "id": "016723c2-34a6-4e18-a09e-79938adaf883",
   "metadata": {},
   "outputs": [
    {
     "data": {
      "text/plain": [
       "['apple', 'pear', 'banana', 'strawberry']"
      ]
     },
     "execution_count": 1,
     "metadata": {},
     "output_type": "execute_result"
    }
   ],
   "source": [
    "fruit = [\"apple\",\"pear\", \"banana\", \"strawberry\"]\n",
    "fruit"
   ]
  },
  {
   "cell_type": "markdown",
   "id": "6a6cecb8-628b-4322-b364-1f689de00870",
   "metadata": {},
   "source": [
    "### Indexing and Slicing\n",
    "Listeler üzerinde indexleme ve slicing işlemleri oldukça yaygındır. İç içe listeler ile bu işlemler daha da karmaşık hale gelebilir."
   ]
  },
  {
   "cell_type": "code",
   "execution_count": 2,
   "id": "47f21a4b-5f08-4555-abf5-13a80707a802",
   "metadata": {},
   "outputs": [
    {
     "data": {
      "text/plain": [
       "('apple', 'strawberry', ['pear', 'banana'])"
      ]
     },
     "execution_count": 2,
     "metadata": {},
     "output_type": "execute_result"
    }
   ],
   "source": [
    "first = fruit[0]\n",
    "last = fruit[-1]\n",
    "middle = fruit[1:3]\n",
    "first, last, middle"
   ]
  },
  {
   "cell_type": "markdown",
   "id": "3826fb08-c2ce-4a06-b08f-96506b1be561",
   "metadata": {},
   "source": [
    "### List and Split Functions\n",
    "`list()` fonksiyonu ile liste oluşturabilir, `split()` fonksiyonu ile string ifadeleri listeye dönüştürebiliriz."
   ]
  },
  {
   "cell_type": "code",
   "execution_count": 3,
   "id": "634230af-e0b5-4a64-893b-9326b708884b",
   "metadata": {},
   "outputs": [
    {
     "data": {
      "text/plain": [
       "['Hello', 'my', 'name', 'is', 'Aslı']"
      ]
     },
     "execution_count": 3,
     "metadata": {},
     "output_type": "execute_result"
    }
   ],
   "source": [
    "text = \"Hello my name is Aslı\"\n",
    "list = text.split()\n",
    "list"
   ]
  },
  {
   "cell_type": "markdown",
   "id": "4f921d51-a4ea-4832-8d10-5f03d5a388ac",
   "metadata": {},
   "source": [
    "### Looping Through a List\n",
    "`for` döngüsü kullanarak listelerde gezinme işlemi gerçekleştirilebilir."
   ]
  },
  {
   "cell_type": "code",
   "execution_count": 4,
   "id": "e9834ee3-0064-4277-9371-619f09a6f573",
   "metadata": {},
   "outputs": [
    {
     "name": "stdout",
     "output_type": "stream",
     "text": [
      "apple\n",
      "pear\n",
      "banana\n",
      "strawberry\n"
     ]
    }
   ],
   "source": [
    "fruit = [\"apple\", \"pear\", \"banana\", \"strawberry\"]\n",
    "\n",
    "for i in fruit:\n",
    "    print(i)"
   ]
  },
  {
   "cell_type": "markdown",
   "id": "5d19de96-e308-4b8c-a394-f6628f1439a5",
   "metadata": {},
   "source": [
    "### List Methods"
   ]
  },
  {
   "cell_type": "code",
   "execution_count": 5,
   "id": "a0e095e6-7cc0-4a87-83da-5d2a44b54b64",
   "metadata": {},
   "outputs": [
    {
     "data": {
      "text/plain": [
       "['apple', 'pear', 'banana', 'strawberry', 'lemon']"
      ]
     },
     "execution_count": 5,
     "metadata": {},
     "output_type": "execute_result"
    }
   ],
   "source": [
    "fruit.append(\"lemon\")\n",
    "fruit"
   ]
  },
  {
   "cell_type": "code",
   "execution_count": 6,
   "id": "112804cc-c982-48a0-870e-66d854e5f868",
   "metadata": {},
   "outputs": [
    {
     "data": {
      "text/plain": [
       "['apple', 'orange', 'pear', 'banana', 'strawberry', 'lemon']"
      ]
     },
     "execution_count": 6,
     "metadata": {},
     "output_type": "execute_result"
    }
   ],
   "source": [
    "fruit.insert(1,\"orange\")\n",
    "fruit"
   ]
  },
  {
   "cell_type": "code",
   "execution_count": 7,
   "id": "8636aebe-3a44-4f4e-bc73-c172b4e4a0a5",
   "metadata": {},
   "outputs": [
    {
     "data": {
      "text/plain": [
       "['apple',\n",
       " 'orange',\n",
       " 'pear',\n",
       " 'banana',\n",
       " 'strawberry',\n",
       " 'lemon',\n",
       " 'grape',\n",
       " 'watermelon']"
      ]
     },
     "execution_count": 7,
     "metadata": {},
     "output_type": "execute_result"
    }
   ],
   "source": [
    "fruit.extend([\"grape\", \"watermelon\"])\n",
    "fruit"
   ]
  },
  {
   "cell_type": "code",
   "execution_count": 8,
   "id": "6a7fde2a-a230-42de-a2f7-32bfc8abb4b1",
   "metadata": {},
   "outputs": [
    {
     "data": {
      "text/plain": [
       "['apple', 'pear', 'banana', 'strawberry', 'lemon', 'grape', 'watermelon']"
      ]
     },
     "execution_count": 8,
     "metadata": {},
     "output_type": "execute_result"
    }
   ],
   "source": [
    "fruit.remove(\"orange\")\n",
    "fruit"
   ]
  },
  {
   "cell_type": "code",
   "execution_count": 9,
   "id": "ab20e914-59b2-4a49-ac24-90010e2487e1",
   "metadata": {},
   "outputs": [
    {
     "data": {
      "text/plain": [
       "['apple', 'pear', 'strawberry', 'lemon', 'grape', 'watermelon']"
      ]
     },
     "execution_count": 9,
     "metadata": {},
     "output_type": "execute_result"
    }
   ],
   "source": [
    "fruit.pop(2)\n",
    "fruit"
   ]
  },
  {
   "cell_type": "code",
   "execution_count": 10,
   "id": "9935a5fb-f506-4e82-b51e-5211c89840c3",
   "metadata": {},
   "outputs": [
    {
     "data": {
      "text/plain": [
       "[]"
      ]
     },
     "execution_count": 10,
     "metadata": {},
     "output_type": "execute_result"
    }
   ],
   "source": [
    "fruit.clear()\n",
    "fruit"
   ]
  },
  {
   "cell_type": "markdown",
   "id": "16477a88-bcbc-4ba7-80f2-584db3a87a7a",
   "metadata": {},
   "source": [
    "# Tuples"
   ]
  },
  {
   "cell_type": "markdown",
   "id": "e5f5e2c9-7e79-4dfe-ab47-0a8fc03e8431",
   "metadata": {},
   "source": [
    "### Tuples Introduction\n",
    "Tuple'lar, sabit veri yapılarıdır. Oluşturulduktan sonra içerdikleri öğeler değiştirilemez. Bu nedenle, daha sabit veri yapılarına ihtiyaç duyulan durumlarda kullanılırlar."
   ]
  },
  {
   "cell_type": "code",
   "execution_count": 11,
   "id": "35cc5ca0-978a-4d34-96db-c223e060ca52",
   "metadata": {},
   "outputs": [
    {
     "data": {
      "text/plain": [
       "('apple', 'pear', 'banana', 'strawberry')"
      ]
     },
     "execution_count": 11,
     "metadata": {},
     "output_type": "execute_result"
    }
   ],
   "source": [
    "fruit = (\"apple\", \"pear\", \"banana\", \"strawberry\")\n",
    "fruit"
   ]
  },
  {
   "cell_type": "markdown",
   "id": "9efb8da3-acbe-4970-9f58-02bea395323a",
   "metadata": {},
   "source": [
    "### Indexing and Slicing\n",
    "Tuple'lar üzerinde indexleme ve slicing işlemleri yapılabilir."
   ]
  },
  {
   "cell_type": "code",
   "execution_count": 12,
   "id": "0bedff37-e218-4e3b-82c4-fd8fd8af74d9",
   "metadata": {},
   "outputs": [
    {
     "data": {
      "text/plain": [
       "('apple', 'strawberry', ('pear', 'banana'))"
      ]
     },
     "execution_count": 12,
     "metadata": {},
     "output_type": "execute_result"
    }
   ],
   "source": [
    "first = fruit[0]\n",
    "last = fruit[-1]\n",
    "middle = fruit[1:3]\n",
    "first, last, middle"
   ]
  },
  {
   "cell_type": "markdown",
   "id": "52b506b2-967e-4af6-a6d5-a151b8d43fda",
   "metadata": {},
   "source": [
    "# Sets"
   ]
  },
  {
   "cell_type": "markdown",
   "id": "7650c1a9-fcc5-4a0f-ab23-ac07c6485485",
   "metadata": {},
   "source": [
    "### Sets Introduction\n",
    "Set'ler, matematiksel kümelerle aynı özelliklere sahiptir. Sıralanamaz, indexlenemez ve aynı öğeyi birden fazla kez içermezler."
   ]
  },
  {
   "cell_type": "code",
   "execution_count": 13,
   "id": "6129e156-ca4e-4914-b21b-84f4f9d64646",
   "metadata": {},
   "outputs": [
    {
     "data": {
      "text/plain": [
       "{'apple', 'banana', 'pear', 'strawberry'}"
      ]
     },
     "execution_count": 13,
     "metadata": {},
     "output_type": "execute_result"
    }
   ],
   "source": [
    "fruit = {\"apple\", \"pear\", \"banana\", \"strawberry\"}\n",
    "fruit"
   ]
  },
  {
   "cell_type": "markdown",
   "id": "b746b156-c2b7-4252-8d94-dff20e0c48a9",
   "metadata": {},
   "source": [
    "### Set Methods\r\n",
    "Set'ler üzerinde çeşitli matematiksel işlemler gerçekleştirilebilir."
   ]
  },
  {
   "cell_type": "code",
   "execution_count": 14,
   "id": "fb75f888-2c38-40ec-861d-3d453d1e9335",
   "metadata": {},
   "outputs": [],
   "source": [
    "fruit_set1 = {\"apple\", \"pear\", \"banana\", \"strawberry\"}\n",
    "fruit_set2 = {\"watermelon\", \"pear\", \"cherry\", \"strawberry\"}"
   ]
  },
  {
   "cell_type": "code",
   "execution_count": 15,
   "id": "accede01-7b75-45bc-ba1c-1fc8a1ae9b73",
   "metadata": {},
   "outputs": [
    {
     "data": {
      "text/plain": [
       "{'apple', 'banana'}"
      ]
     },
     "execution_count": 15,
     "metadata": {},
     "output_type": "execute_result"
    }
   ],
   "source": [
    "fark = fruit_set1.difference(fruit_set2)\n",
    "fark"
   ]
  },
  {
   "cell_type": "code",
   "execution_count": 16,
   "id": "00559972-9169-4b44-a442-0e2c2680df8e",
   "metadata": {},
   "outputs": [
    {
     "data": {
      "text/plain": [
       "{'cherry', 'watermelon'}"
      ]
     },
     "execution_count": 16,
     "metadata": {},
     "output_type": "execute_result"
    }
   ],
   "source": [
    "fark = fruit_set2.difference(fruit_set1)\n",
    "fark"
   ]
  },
  {
   "cell_type": "code",
   "execution_count": 17,
   "id": "34c0dd40-466c-4ac2-b6b3-3fc8cf712cea",
   "metadata": {},
   "outputs": [
    {
     "data": {
      "text/plain": [
       "{'pear', 'strawberry'}"
      ]
     },
     "execution_count": 17,
     "metadata": {},
     "output_type": "execute_result"
    }
   ],
   "source": [
    "kesisim = fruit_set1.intersection(fruit_set2)\n",
    "kesisim"
   ]
  },
  {
   "cell_type": "code",
   "execution_count": 18,
   "id": "1ef4820f-01c5-4adf-9d7d-2b561a939748",
   "metadata": {},
   "outputs": [
    {
     "data": {
      "text/plain": [
       "{'apple', 'banana', 'cherry', 'pear', 'strawberry', 'watermelon'}"
      ]
     },
     "execution_count": 18,
     "metadata": {},
     "output_type": "execute_result"
    }
   ],
   "source": [
    "birlesim = fruit_set1.union(fruit_set2)\n",
    "birlesim"
   ]
  },
  {
   "cell_type": "markdown",
   "id": "e37304af-97c9-45ca-8b95-b0652520a1f2",
   "metadata": {},
   "source": [
    "# Dictionaries"
   ]
  },
  {
   "cell_type": "markdown",
   "id": "4820d3dc-8f23-4e46-907b-ac2a2e13f00f",
   "metadata": {},
   "source": [
    "### Dictionaries Introduction\n",
    "Sözlükler, anahtar-değer çiftlerinden oluşan esnek veri yapılarıdır. Her anahtar bir değere karşılık gelir ve anahtarlar benzersiz olmalıdır."
   ]
  },
  {
   "cell_type": "code",
   "execution_count": 19,
   "id": "fa2ddd9b-90a0-41f4-b769-b720f7aeb996",
   "metadata": {},
   "outputs": [
    {
     "data": {
      "text/plain": [
       "{'elma': 'apple', 'armut': 'pear', 'muz': 'banana'}"
      ]
     },
     "execution_count": 19,
     "metadata": {},
     "output_type": "execute_result"
    }
   ],
   "source": [
    "dictionary = {'elma': 'apple',\n",
    "              'armut': 'pear', \n",
    "              'muz': 'banana'}\n",
    "dictionary"
   ]
  },
  {
   "cell_type": "markdown",
   "id": "33c6e75d-a483-4c7b-9e43-67116c71e8aa",
   "metadata": {},
   "source": [
    "### Accessing Dictionary Items\n",
    "Sözlük öğelerine anahtarlar kullanılarak erişilebilir."
   ]
  },
  {
   "cell_type": "code",
   "execution_count": 20,
   "id": "9a994e3b-1d6e-421c-8e1e-42aaa70db848",
   "metadata": {},
   "outputs": [
    {
     "data": {
      "text/plain": [
       "'apple'"
      ]
     },
     "execution_count": 20,
     "metadata": {},
     "output_type": "execute_result"
    }
   ],
   "source": [
    "dictionary[\"elma\"]"
   ]
  },
  {
   "cell_type": "code",
   "execution_count": 21,
   "id": "6377991c-2821-457c-af14-a1ac81c17e57",
   "metadata": {},
   "outputs": [],
   "source": [
    "notlar = {\n",
    "    \"Ahmet\": {\"Matematik\": 85, \"Fizik\": 78, \"Kimya\": 92},\n",
    "    \"Ayşe\": {\"Matematik\": 90, \"Fizik\": 88, \"Kimya\": 79},\n",
    "    \"Mehmet\": {\"Matematik\": 76, \"Fizik\": 84, \"Kimya\": 80}\n",
    "}"
   ]
  },
  {
   "cell_type": "code",
   "execution_count": 22,
   "id": "3dec9f2d-4feb-4e6c-9138-4139b6135368",
   "metadata": {},
   "outputs": [
    {
     "data": {
      "text/plain": [
       "78"
      ]
     },
     "execution_count": 22,
     "metadata": {},
     "output_type": "execute_result"
    }
   ],
   "source": [
    "notlar[\"Ahmet\"].get(\"Fizik\")"
   ]
  },
  {
   "cell_type": "markdown",
   "id": "49cbe363-8453-4644-9239-fe1d553ede8d",
   "metadata": {},
   "source": [
    "### Dictionary Methods\n",
    "Sözlükler üzerinde çeşitli işlemler gerçekleştirilebilir."
   ]
  },
  {
   "cell_type": "code",
   "execution_count": 23,
   "id": "8d024b7a-f791-48ae-96db-04bbf82ace0e",
   "metadata": {},
   "outputs": [],
   "source": [
    "anahtar = dictionary.keys()\n",
    "degerler = dictionary.values()\n",
    "ciftler = dictionary.items()"
   ]
  },
  {
   "cell_type": "code",
   "execution_count": 24,
   "id": "94610cea-c6c1-42f7-bc38-2544ffdf811e",
   "metadata": {},
   "outputs": [
    {
     "data": {
      "text/plain": [
       "dict_keys(['elma', 'armut', 'muz'])"
      ]
     },
     "execution_count": 24,
     "metadata": {},
     "output_type": "execute_result"
    }
   ],
   "source": [
    "anahtar"
   ]
  },
  {
   "cell_type": "code",
   "execution_count": 25,
   "id": "b32bebee-07d4-47a6-9e2a-afc4b8a082c4",
   "metadata": {},
   "outputs": [
    {
     "data": {
      "text/plain": [
       "dict_values(['apple', 'pear', 'banana'])"
      ]
     },
     "execution_count": 25,
     "metadata": {},
     "output_type": "execute_result"
    }
   ],
   "source": [
    "degerler"
   ]
  },
  {
   "cell_type": "code",
   "execution_count": 26,
   "id": "3d8a9364-ff37-4186-829b-822c616c6f3c",
   "metadata": {},
   "outputs": [
    {
     "data": {
      "text/plain": [
       "dict_items([('elma', 'apple'), ('armut', 'pear'), ('muz', 'banana')])"
      ]
     },
     "execution_count": 26,
     "metadata": {},
     "output_type": "execute_result"
    }
   ],
   "source": [
    "ciftler"
   ]
  },
  {
   "cell_type": "code",
   "execution_count": 27,
   "id": "7f6be983-b82b-4b81-99dd-41d326d6c6e0",
   "metadata": {},
   "outputs": [
    {
     "data": {
      "text/plain": [
       "'banana'"
      ]
     },
     "execution_count": 27,
     "metadata": {},
     "output_type": "execute_result"
    }
   ],
   "source": [
    "deger = dictionary.get(\"muz\")\n",
    "deger"
   ]
  }
 ],
 "metadata": {
  "kernelspec": {
   "display_name": "Python 3 (ipykernel)",
   "language": "python",
   "name": "python3"
  },
  "language_info": {
   "codemirror_mode": {
    "name": "ipython",
    "version": 3
   },
   "file_extension": ".py",
   "mimetype": "text/x-python",
   "name": "python",
   "nbconvert_exporter": "python",
   "pygments_lexer": "ipython3",
   "version": "3.11.7"
  }
 },
 "nbformat": 4,
 "nbformat_minor": 5
}
