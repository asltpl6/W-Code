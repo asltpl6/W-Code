{
 "cells": [
  {
   "cell_type": "markdown",
   "id": "484f0cee-10d8-4236-8f3d-c066968122ee",
   "metadata": {},
   "source": [
    "# Python Koşul İfadeleri ve Döngüler"
   ]
  },
  {
   "cell_type": "markdown",
   "id": "7851508f-0ff2-42f9-b203-3a259df5ef78",
   "metadata": {},
   "source": [
    "##### Bu notebook'ta Python'daki koşul ifadeleri (if, elif, else) ve döngü yapılarını (while, for) detaylı olarak inceleyeceğiz. Her bir yapı için örnekler sunarak, kullanım alanlarını ve farklarını açıklayacağız.\n",
    "\n",
    "##### Koşul İfadeleri\n",
    "##### Koşul ifadeleri, belirli bir koşula bağlı olarak kod bloklarını çalıştırmamızı sağlar. Python'da en yaygın kullanılan koşul ifadeleri şunlardır:#\n",
    "##### `if`\n",
    "##### `elif`\n",
    "##### `else`"
   ]
  },
  {
   "cell_type": "markdown",
   "id": "a8187832-ba8e-4253-8db8-ab994d6b78ac",
   "metadata": {},
   "source": [
    "## If, Elif, Else Kullanımı"
   ]
  },
  {
   "cell_type": "code",
   "execution_count": 1,
   "id": "57d06d86-55bd-4c6c-9dbe-2d3e2973514f",
   "metadata": {},
   "outputs": [
    {
     "name": "stdin",
     "output_type": "stream",
     "text": [
      "1 ile 15 arasında bir sayı giriniz:  8\n"
     ]
    },
    {
     "name": "stdout",
     "output_type": "stream",
     "text": [
      "Giriş sayısı geçerli\n"
     ]
    }
   ],
   "source": [
    "number = int(input(\"1 ile 15 arasında bir sayı giriniz: \"))\n",
    "if number >= 1 and number <=15:\n",
    "    print(\"Giriş sayısı geçerli\")\n",
    "else:\n",
    "    print(\"Giriş saysısı geçersiz\")"
   ]
  },
  {
   "cell_type": "markdown",
   "id": "08acd6fe-5503-4426-9ddd-19209d6450c2",
   "metadata": {},
   "source": [
    "## Elif Kullanımı"
   ]
  },
  {
   "cell_type": "code",
   "execution_count": 2,
   "id": "af987231-da12-4e89-afc8-e8c57144aed3",
   "metadata": {},
   "outputs": [
    {
     "name": "stdin",
     "output_type": "stream",
     "text": [
      "1 ile 100 arasında bir sayı giriniz:  66\n"
     ]
    },
    {
     "name": "stdout",
     "output_type": "stream",
     "text": [
      "Sayı 51 ile 75 arasında\n"
     ]
    }
   ],
   "source": [
    "number_1 = int(input(\"1 ile 100 arasında bir sayı giriniz: \"))\n",
    "if ((number_1 >= 1) and (number_1 <= 25)):\n",
    "    print(\"Sayı 1 ile 25 arasında\")\n",
    "elif (number_1 >= 26 and number_1 <= 50):\n",
    "    print(\"Sayı 26 ile 50 arasında\")\n",
    "elif (number_1 >= 51 and number_1 <= 75):\n",
    "    print(\"Sayı 51 ile 75 arasında\")\n",
    "elif (number_1 >= 76 and number_1 == 100):\n",
    "    print(\"Sayı 76 ile 100 arasında.\")\n",
    "else:\n",
    "    print(\"Verdiğiniz sayı 1 ile 100 arasında değildir\")"
   ]
  },
  {
   "cell_type": "code",
   "execution_count": 3,
   "id": "e1974fa9-7787-4b86-a043-fea95fcc1154",
   "metadata": {},
   "outputs": [
    {
     "name": "stdin",
     "output_type": "stream",
     "text": [
      "Bir sayı giriniz 55\n"
     ]
    },
    {
     "name": "stdout",
     "output_type": "stream",
     "text": [
      "Sayıya çok yaklaştınız!!!\n"
     ]
    }
   ],
   "source": [
    "x = int(input(\"Bir sayı giriniz\"))\n",
    "\n",
    "if (x == 56):\n",
    "    print(\"Sayıyı doğru tahmin ettiniz\")\n",
    "elif ( x > 50 and x < 60 ):\n",
    "    print(\"Sayıya çok yaklaştınız!!!\")\n",
    "else:\n",
    "    print(\"Yanlış tahmin\")"
   ]
  },
  {
   "cell_type": "markdown",
   "id": "6cddb69f-8fb0-4703-ae07-d4499a3eb912",
   "metadata": {},
   "source": [
    "# Kontol ifade"
   ]
  },
  {
   "cell_type": "markdown",
   "id": "b956b521-c8a4-481c-81d0-0f570599efa8",
   "metadata": {},
   "source": [
    "##### Döngüler\n",
    "\n",
    "##### Döngüler, bir işlemi birden fazla kez gerçekleştirmek için kullanılır. Python'da iki ana döngü yapısı bulunur:\n",
    "\n",
    "##### `while` döngüsü\n",
    "##### `for` döngüsü"
   ]
  },
  {
   "cell_type": "markdown",
   "id": "14c79f96-8eec-4c52-9e8c-c24d5f1f8f78",
   "metadata": {},
   "source": [
    "## While Döngüsü"
   ]
  },
  {
   "cell_type": "markdown",
   "id": "f915d6d8-71a0-404b-ab11-ec54ada3b171",
   "metadata": {},
   "source": [
    "##### While döngüsü, belirli bir koşul doğru olduğu sürece kod bloğunu çalıştırır. Sonsuz döngüler, döngü koşulunun asla yanlış olmaması durumunda meydana gelir.\n",
    "##### Aşağıda basit bir `while` döngüsü örneği bulunmaktadır:"
   ]
  },
  {
   "cell_type": "markdown",
   "id": "66da24e0-0d29-4e27-ad85-65648e405085",
   "metadata": {},
   "source": [
    "while koşul:\n",
    "    # Yapılacak işlemler"
   ]
  },
  {
   "cell_type": "code",
   "execution_count": 4,
   "id": "7052686a-4448-42ab-9271-c694a11e874d",
   "metadata": {},
   "outputs": [
    {
     "name": "stdout",
     "output_type": "stream",
     "text": [
      "1\n",
      "2\n",
      "3\n",
      "4\n",
      "5\n"
     ]
    }
   ],
   "source": [
    "i = 1\n",
    "while i <= 5:\n",
    "    print(i)\n",
    "    i += 1"
   ]
  },
  {
   "cell_type": "code",
   "execution_count": 5,
   "id": "8649d221-1158-4cc1-aaf9-ac6c5d7b2bf6",
   "metadata": {},
   "outputs": [
    {
     "name": "stdout",
     "output_type": "stream",
     "text": [
      "1\n",
      "2\n",
      "3\n",
      "4\n",
      "6\n",
      "7\n"
     ]
    }
   ],
   "source": [
    "i = 0\n",
    "while i<=10:\n",
    "    i += 1\n",
    "    if i == 5:\n",
    "        continue\n",
    "    if i ==8:\n",
    "        break\n",
    "    print(i)"
   ]
  },
  {
   "cell_type": "code",
   "execution_count": 6,
   "id": "bc289088-02af-4165-bf2f-9ac5543b75f8",
   "metadata": {},
   "outputs": [
    {
     "name": "stdout",
     "output_type": "stream",
     "text": [
      "Hi!\n"
     ]
    }
   ],
   "source": [
    "a = 1\n",
    "while a == 1:\n",
    "    print(\"Hi!\")\n",
    "    break"
   ]
  },
  {
   "cell_type": "code",
   "execution_count": 7,
   "id": "6ef1602a-f9aa-4370-ba71-6f1794f14e4d",
   "metadata": {},
   "outputs": [
    {
     "name": "stdin",
     "output_type": "stream",
     "text": [
      "Bir sayı gir:  44\n"
     ]
    },
    {
     "name": "stdout",
     "output_type": "stream",
     "text": [
      "Yanlış tahmin!\n"
     ]
    },
    {
     "name": "stdin",
     "output_type": "stream",
     "text": [
      "Bir sayı gir:  12\n"
     ]
    },
    {
     "name": "stdout",
     "output_type": "stream",
     "text": [
      "Yanlış tahmin!\n"
     ]
    },
    {
     "name": "stdin",
     "output_type": "stream",
     "text": [
      "Bir sayı gir:  55\n"
     ]
    },
    {
     "name": "stdout",
     "output_type": "stream",
     "text": [
      "Çok Yaklaştın!!!\n"
     ]
    },
    {
     "name": "stdin",
     "output_type": "stream",
     "text": [
      "Bir sayı gir:  56\n"
     ]
    },
    {
     "name": "stdout",
     "output_type": "stream",
     "text": [
      "Doğru tahmin!\n",
      "Tebrikler!!!\n"
     ]
    }
   ],
   "source": [
    "x = 0\n",
    "while x != 56:\n",
    "    x = int(input(\"Bir sayı gir: \"))\n",
    "    if(56 == x):\n",
    "        print(\"Doğru tahmin!\")\n",
    "    elif(50 < x and x < 60):\n",
    "        print(\"Çok Yaklaştın!!!\")\n",
    "    else:\n",
    "        print(\"Yanlış tahmin!\")\n",
    "print(\"Tebrikler!!!\")"
   ]
  },
  {
   "cell_type": "code",
   "execution_count": 8,
   "id": "50141f71-01a5-42bb-ad46-6f0de16c578e",
   "metadata": {},
   "outputs": [
    {
     "name": "stdin",
     "output_type": "stream",
     "text": [
      "Bir sayı gir:  66\n"
     ]
    },
    {
     "name": "stdout",
     "output_type": "stream",
     "text": [
      "Yanlış tahmin!\n",
      "Kalan deneme sayısı:  4 hatırlatma: 3 deneme hakkınız var!!!\n"
     ]
    },
    {
     "name": "stdin",
     "output_type": "stream",
     "text": [
      "Bir sayı gir:  41\n"
     ]
    },
    {
     "name": "stdout",
     "output_type": "stream",
     "text": [
      "Yanlış tahmin!\n",
      "Kalan deneme sayısı:  3 hatırlatma: 3 deneme hakkınız var!!!\n"
     ]
    },
    {
     "name": "stdin",
     "output_type": "stream",
     "text": [
      "Bir sayı gir:  55\n"
     ]
    },
    {
     "name": "stdout",
     "output_type": "stream",
     "text": [
      "Çok Yaklaştın!!!\n",
      "Kalan deneme sayısı:  2 hatırlatma: 3 deneme hakkınız var!!!\n"
     ]
    },
    {
     "name": "stdin",
     "output_type": "stream",
     "text": [
      "Bir sayı gir:  56\n"
     ]
    },
    {
     "name": "stdout",
     "output_type": "stream",
     "text": [
      "Doğru tahmin!\n",
      "Kalan deneme sayısı:  1 hatırlatma: 3 deneme hakkınız var!!!\n"
     ]
    }
   ],
   "source": [
    "x = 0\n",
    "deneme = 5\n",
    "while x != 56 and deneme > 0:\n",
    "    x = int(input(\"Bir sayı gir: \"))\n",
    "    if(56 == x):\n",
    "        print(\"Doğru tahmin!\")\n",
    "    elif(x > 50 and x < 60):\n",
    "        print(\"Çok Yaklaştın!!!\")\n",
    "    elif(deneme == 0):\n",
    "        print(\"Üzgünüm, 3 denemede bilemediniz!!!\")\n",
    "    else:\n",
    "        print(\"Yanlış tahmin!\")\n",
    "    deneme -=1\n",
    "    print(\"Kalan deneme sayısı: \", deneme, \"hatırlatma: 3 deneme hakkınız var!!!\")"
   ]
  },
  {
   "cell_type": "code",
   "execution_count": 9,
   "id": "a508df51-2d87-4977-abf6-8de5214b966f",
   "metadata": {},
   "outputs": [
    {
     "name": "stdin",
     "output_type": "stream",
     "text": [
      "Bir sayı gir:  55\n"
     ]
    },
    {
     "name": "stdout",
     "output_type": "stream",
     "text": [
      "Çok Yaklaştın!!!\n"
     ]
    },
    {
     "name": "stdin",
     "output_type": "stream",
     "text": [
      "Bir sayı gir:  6\n"
     ]
    },
    {
     "name": "stdout",
     "output_type": "stream",
     "text": [
      "Yanlış tahmin!\n"
     ]
    },
    {
     "name": "stdin",
     "output_type": "stream",
     "text": [
      "Bir sayı gir:  3\n"
     ]
    },
    {
     "name": "stdout",
     "output_type": "stream",
     "text": [
      "Yanlış tahmin!\n"
     ]
    },
    {
     "name": "stdin",
     "output_type": "stream",
     "text": [
      "Bir sayı gir:  5\n"
     ]
    },
    {
     "name": "stdout",
     "output_type": "stream",
     "text": [
      "Yanlış tahmin!\n"
     ]
    },
    {
     "name": "stdin",
     "output_type": "stream",
     "text": [
      "Bir sayı gir:  4\n"
     ]
    },
    {
     "name": "stdout",
     "output_type": "stream",
     "text": [
      "Yanlış tahmin!\n"
     ]
    },
    {
     "name": "stdin",
     "output_type": "stream",
     "text": [
      "Bir sayı gir:  8\n"
     ]
    },
    {
     "name": "stdout",
     "output_type": "stream",
     "text": [
      "Yanlış tahmin!\n"
     ]
    },
    {
     "name": "stdin",
     "output_type": "stream",
     "text": [
      "Bir sayı gir:  56\n"
     ]
    },
    {
     "name": "stdout",
     "output_type": "stream",
     "text": [
      "Doğru tahmin!\n"
     ]
    }
   ],
   "source": [
    "while True:\n",
    "    x = int(input(\"Bir sayı gir: \"))\n",
    "    if(56 == x):\n",
    "        print(\"Doğru tahmin!\")\n",
    "        break\n",
    "    elif(50 < x and x < 60):\n",
    "        print(\"Çok Yaklaştın!!!\")\n",
    "    else:\n",
    "        print(\"Yanlış tahmin!\")"
   ]
  },
  {
   "cell_type": "markdown",
   "id": "355ed024-0234-4b93-8d14-1e3152252a02",
   "metadata": {},
   "source": [
    "### Kullanıcı kaç deneme yaptı"
   ]
  },
  {
   "cell_type": "code",
   "execution_count": 11,
   "id": "231c40e9-f90c-46d8-afa7-6fa1496e2640",
   "metadata": {},
   "outputs": [
    {
     "name": "stdin",
     "output_type": "stream",
     "text": [
      "Bir sayı gir:  56\n"
     ]
    },
    {
     "name": "stdout",
     "output_type": "stream",
     "text": [
      "Doğru tahmin! Deneme sayısı: 1\n"
     ]
    }
   ],
   "source": [
    "deneme = 0\n",
    "while True:\n",
    "    x = int(input(\"Bir sayı gir: \"))\n",
    "    if(56 == x):\n",
    "        print(f\"Doğru tahmin! Deneme sayısı: {deneme+1}\")\n",
    "        break\n",
    "    elif(50 < x and x < 60):\n",
    "        print(\"Çok Yaklaştın!!!\")\n",
    "    else:\n",
    "        print(\"Yanlış tahmin!\")\n",
    "    deneme +=1"
   ]
  },
  {
   "cell_type": "markdown",
   "id": "4d7a219e-e677-4403-8aa3-510e535fa0fc",
   "metadata": {},
   "source": [
    "## For Döngüsü"
   ]
  },
  {
   "cell_type": "markdown",
   "id": "99cf0b8b-6aea-4f1d-a018-90b0399d34fb",
   "metadata": {},
   "source": [
    "##### For döngüsü, belirli bir dizin üzerinde yineleme yapmamıza olanak tanır. Aşağıda `for` döngüsü ile bir string üzerinde döngü oluşturma ve `range` fonksiyonunu kullanma örnekleri yer almaktadır:"
   ]
  },
  {
   "cell_type": "markdown",
   "id": "181df105-f040-49a7-9b34-f5daa8b5cc6c",
   "metadata": {},
   "source": [
    "### String üzerinde döngü"
   ]
  },
  {
   "cell_type": "code",
   "execution_count": 12,
   "id": "740d3ed7-bef4-4ecc-bb35-f05409e36010",
   "metadata": {},
   "outputs": [
    {
     "name": "stdout",
     "output_type": "stream",
     "text": [
      "H\n",
      "e\n",
      "y\n",
      " \n",
      "A\n",
      "s\n",
      "l\n",
      "ı\n",
      "!\n"
     ]
    }
   ],
   "source": [
    "for i in \"Hey Aslı!\":\n",
    "    print(i)"
   ]
  },
  {
   "cell_type": "code",
   "execution_count": 13,
   "id": "f7e81915-e586-44c9-9968-dc93998a4502",
   "metadata": {},
   "outputs": [
    {
     "name": "stdout",
     "output_type": "stream",
     "text": [
      "H\n",
      "e\n",
      "l\n",
      "l\n",
      "o\n",
      " \n",
      "W\n",
      "o\n",
      "r\n",
      "l\n",
      "d\n"
     ]
    }
   ],
   "source": [
    "hello = \"Hello World\"\n",
    "\n",
    "for i in hello:\n",
    "    print(i)"
   ]
  },
  {
   "cell_type": "markdown",
   "id": "1139cb1d-5c2a-4869-85eb-ca5425dd1b11",
   "metadata": {},
   "source": [
    "### Range ile döngü"
   ]
  },
  {
   "cell_type": "code",
   "execution_count": 14,
   "id": "3ab05f47-13dc-4234-b50a-755bbd33f2f3",
   "metadata": {},
   "outputs": [
    {
     "name": "stdout",
     "output_type": "stream",
     "text": [
      "1\n",
      "2\n",
      "3\n",
      "4\n",
      "5\n",
      "6\n",
      "7\n",
      "8\n"
     ]
    }
   ],
   "source": [
    "for i in range(1,9):\n",
    "    print(i)"
   ]
  },
  {
   "cell_type": "code",
   "execution_count": 15,
   "id": "868d05d6-1d78-4b82-bf9c-3b6cb752506e",
   "metadata": {},
   "outputs": [
    {
     "name": "stdout",
     "output_type": "stream",
     "text": [
      "Sayı: 0\n",
      "Sayı: 1\n",
      "Sayı: 2\n",
      "Sayı: 3\n",
      "Sayı: 4\n"
     ]
    }
   ],
   "source": [
    "for i in range(5):\n",
    "    print(f\"Sayı: {i}\")"
   ]
  },
  {
   "cell_type": "markdown",
   "id": "f5de3eef-4fac-4f6f-bee9-97c9d4fb1eb3",
   "metadata": {},
   "source": [
    "## Döngü Kırma Yapıları:"
   ]
  },
  {
   "cell_type": "markdown",
   "id": "1d2e21b4-0c24-47e7-82cb-65e48d745c49",
   "metadata": {},
   "source": [
    "##### Python'da döngüleri kontrol etmek için kullanılan bazı anahtar kelimeler bulunmaktadır:\n",
    "\n",
    "###### `break`: Döngüyü sonlandırır.\n",
    "###### `continue`: Döngünün geri kalanını atlayarak bir sonraki yinelemeye geçer.\n",
    "###### `pass`: Hiçbir işlem yapmaz, sadece geçer.\n",
    "\n",
    "###### Aşağıda bu yapıların kullanımı ile ilgili örnekler bulunmaktadır:"
   ]
  },
  {
   "cell_type": "markdown",
   "id": "1d9e8f9e-1ea4-4573-8865-31d5172d85ca",
   "metadata": {},
   "source": [
    "## Break örneği"
   ]
  },
  {
   "cell_type": "code",
   "execution_count": 17,
   "id": "9aaa3f02-4731-486a-909a-ef3c20b6ee52",
   "metadata": {},
   "outputs": [
    {
     "name": "stdout",
     "output_type": "stream",
     "text": [
      "0\n",
      "1\n",
      "2\n",
      "3\n",
      "4\n"
     ]
    }
   ],
   "source": [
    "for i in range(10):\n",
    "    if i == 5:\n",
    "        break\n",
    "    print(i)"
   ]
  },
  {
   "cell_type": "code",
   "execution_count": 18,
   "id": "acd4746f-3ebb-4aa7-b52f-1b85869d8b77",
   "metadata": {},
   "outputs": [
    {
     "name": "stdout",
     "output_type": "stream",
     "text": [
      "0\n",
      "2\n",
      "4\n",
      "6\n",
      "8\n"
     ]
    }
   ],
   "source": [
    "for i in range(0,10,2):\n",
    "    print(i)"
   ]
  },
  {
   "cell_type": "markdown",
   "id": "c0d6d35b-fb4e-4303-ad57-3aa963559f72",
   "metadata": {},
   "source": [
    "## Continue örneği"
   ]
  },
  {
   "cell_type": "code",
   "execution_count": 19,
   "id": "34d5ebf7-7087-405e-a959-f09dd7777aa3",
   "metadata": {},
   "outputs": [
    {
     "name": "stdout",
     "output_type": "stream",
     "text": [
      "0\n",
      "1\n",
      "2\n",
      "3\n",
      "4\n",
      "6\n",
      "7\n",
      "8\n",
      "9\n"
     ]
    }
   ],
   "source": [
    "for i in range(10):\n",
    "    if i == 5:\n",
    "        continue\n",
    "    print(i)"
   ]
  },
  {
   "cell_type": "code",
   "execution_count": 20,
   "id": "543c55f7-70c4-4601-bbd7-7fd2a3c38a71",
   "metadata": {},
   "outputs": [
    {
     "name": "stdout",
     "output_type": "stream",
     "text": [
      "e\n",
      "o\n",
      " \n",
      "w\n",
      "o\n",
      "r\n",
      "d\n"
     ]
    }
   ],
   "source": [
    "hello = \"hello world\"\n",
    "for i in hello:\n",
    "    if(i == \"h\" or i == \"l\"):\n",
    "        continue\n",
    "    print(i)"
   ]
  },
  {
   "cell_type": "markdown",
   "id": "d0fdbdcb-b121-4a4f-b850-1099ca58c017",
   "metadata": {},
   "source": [
    "## Pass örneği"
   ]
  },
  {
   "cell_type": "code",
   "execution_count": 21,
   "id": "3b1b04e7-2056-4396-a126-95dd2b0599bf",
   "metadata": {},
   "outputs": [
    {
     "name": "stdout",
     "output_type": "stream",
     "text": [
      "0\n",
      "1\n",
      "2\n",
      "3\n",
      "4\n",
      "5\n",
      "6\n",
      "7\n",
      "8\n",
      "9\n"
     ]
    }
   ],
   "source": [
    "for i in range(10):\n",
    "    if i == 5:\n",
    "        pass  \n",
    "    print(i)"
   ]
  },
  {
   "cell_type": "code",
   "execution_count": null,
   "id": "4e3d5e23-684a-49d7-b1b8-6d5bea56aa76",
   "metadata": {},
   "outputs": [],
   "source": []
  }
 ],
 "metadata": {
  "kernelspec": {
   "display_name": "Python 3 (ipykernel)",
   "language": "python",
   "name": "python3"
  },
  "language_info": {
   "codemirror_mode": {
    "name": "ipython",
    "version": 3
   },
   "file_extension": ".py",
   "mimetype": "text/x-python",
   "name": "python",
   "nbconvert_exporter": "python",
   "pygments_lexer": "ipython3",
   "version": "3.11.7"
  }
 },
 "nbformat": 4,
 "nbformat_minor": 5
}
