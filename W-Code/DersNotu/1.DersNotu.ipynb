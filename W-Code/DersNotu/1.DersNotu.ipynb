{
 "cells": [
  {
   "cell_type": "markdown",
   "id": "b55ee4df-9b59-4e38-8a70-559b0de97ce5",
   "metadata": {},
   "source": [
    "# Veri Tipleri Tanımı"
   ]
  },
  {
   "cell_type": "markdown",
   "id": "722e3e55-1538-418b-b0ff-5372ee969c59",
   "metadata": {},
   "source": [
    "## String veri tipi"
   ]
  },
  {
   "cell_type": "code",
   "execution_count": 2,
   "id": "32ffc2f9-e85c-4e21-8eee-49cc8c8baabb",
   "metadata": {},
   "outputs": [
    {
     "data": {
      "text/plain": [
       "str"
      ]
     },
     "execution_count": 2,
     "metadata": {},
     "output_type": "execute_result"
    }
   ],
   "source": [
    "name = \"Aslı\"\n",
    "type(name)"
   ]
  },
  {
   "cell_type": "markdown",
   "id": "e64a8248-e04c-4324-a213-00e89c2e1d42",
   "metadata": {},
   "source": [
    "## Integer veri tipi"
   ]
  },
  {
   "cell_type": "code",
   "execution_count": 3,
   "id": "3bd7323d-55a5-4dcb-90f8-1240ec370afa",
   "metadata": {},
   "outputs": [
    {
     "data": {
      "text/plain": [
       "int"
      ]
     },
     "execution_count": 3,
     "metadata": {},
     "output_type": "execute_result"
    }
   ],
   "source": [
    "age = 26\n",
    "type(age)"
   ]
  },
  {
   "cell_type": "markdown",
   "id": "38c51a05-cb75-486b-9d02-f9b111f50313",
   "metadata": {},
   "source": [
    "## Float veri tipi"
   ]
  },
  {
   "cell_type": "code",
   "execution_count": 4,
   "id": "bbd17e10-e11b-44f1-844d-f3c5264ddc5b",
   "metadata": {},
   "outputs": [
    {
     "data": {
      "text/plain": [
       "float"
      ]
     },
     "execution_count": 4,
     "metadata": {},
     "output_type": "execute_result"
    }
   ],
   "source": [
    "height = 1.70\n",
    "type(height)"
   ]
  },
  {
   "cell_type": "markdown",
   "id": "1b61f704-86f5-40d0-aa4d-afecf5742143",
   "metadata": {},
   "source": [
    "## Boolean veri tipi"
   ]
  },
  {
   "cell_type": "code",
   "execution_count": 5,
   "id": "6bc73e1c-dccf-49c7-b39a-9911589a47e6",
   "metadata": {},
   "outputs": [
    {
     "data": {
      "text/plain": [
       "bool"
      ]
     },
     "execution_count": 5,
     "metadata": {},
     "output_type": "execute_result"
    }
   ],
   "source": [
    "married = True\n",
    "type(married)"
   ]
  },
  {
   "cell_type": "markdown",
   "id": "aba7e84d-0bd4-4c9e-b434-40f67b065b03",
   "metadata": {},
   "source": [
    "# Veri Tipleri Arasındaki Dönüşüm"
   ]
  },
  {
   "cell_type": "markdown",
   "id": "804679df-457a-4234-9276-29314a04aa65",
   "metadata": {},
   "source": [
    "## String'i integer'a dönüştürme"
   ]
  },
  {
   "cell_type": "code",
   "execution_count": 7,
   "id": "9e88c7d1-6f95-4ed2-b9ba-809044aa1e4e",
   "metadata": {},
   "outputs": [
    {
     "data": {
      "text/plain": [
       "int"
      ]
     },
     "execution_count": 7,
     "metadata": {},
     "output_type": "execute_result"
    }
   ],
   "source": [
    "str_num = \"1998\"\n",
    "int_num = int(str_num)\n",
    "type(int_num)"
   ]
  },
  {
   "cell_type": "markdown",
   "id": "92521ec4-65b8-453d-9e3e-3891bc8f07d2",
   "metadata": {},
   "source": [
    "## Integer'ı float'a dönüştürme"
   ]
  },
  {
   "cell_type": "code",
   "execution_count": 8,
   "id": "e2cded4c-4a61-4e3f-85eb-9865bb25347c",
   "metadata": {},
   "outputs": [
    {
     "data": {
      "text/plain": [
       "float"
      ]
     },
     "execution_count": 8,
     "metadata": {},
     "output_type": "execute_result"
    }
   ],
   "source": [
    "float_num = float(int_num)\n",
    "type(float_num)"
   ]
  },
  {
   "cell_type": "markdown",
   "id": "2cf43889-c0c2-44f5-a7d6-ac89e116c161",
   "metadata": {},
   "source": [
    "## Boolean'ı string'e dönüştürme"
   ]
  },
  {
   "cell_type": "code",
   "execution_count": 9,
   "id": "49b32f4e-4e48-41bb-9960-5b79a9ad0ee3",
   "metadata": {},
   "outputs": [
    {
     "data": {
      "text/plain": [
       "str"
      ]
     },
     "execution_count": 9,
     "metadata": {},
     "output_type": "execute_result"
    }
   ],
   "source": [
    "boolean_married = True\n",
    "str_married = str(boolean_married)\n",
    "type(str_married)"
   ]
  },
  {
   "cell_type": "markdown",
   "id": "eaa68511-2ac7-4c44-91f4-bb60319f287d",
   "metadata": {},
   "source": [
    "# Operatörler"
   ]
  },
  {
   "cell_type": "markdown",
   "id": "cb602a01-6307-4e6a-8129-4f0bda43d708",
   "metadata": {},
   "source": [
    "**Açıklama:** Operatörler, iki ya da daha fazla değer arasında işlem yapmak için kullanılır. Operatörlerin farklı türleri bulunmaktadır."
   ]
  },
  {
   "cell_type": "markdown",
   "id": "2d5e2634-8908-49d5-a3f2-493b751f50c2",
   "metadata": {},
   "source": [
    "# Matematiksel Operatörler"
   ]
  },
  {
   "cell_type": "markdown",
   "id": "4ac4c7da-27d3-486c-9a24-fabd35048f94",
   "metadata": {},
   "source": [
    "Integer üzerinde matematiksel operatörler"
   ]
  },
  {
   "cell_type": "code",
   "execution_count": 11,
   "id": "3fb63c08-d39b-4f6b-8e47-0ca5be2010ca",
   "metadata": {},
   "outputs": [],
   "source": [
    "a = 10\n",
    "b = 3"
   ]
  },
  {
   "cell_type": "code",
   "execution_count": 12,
   "id": "7a0a1793-34aa-4b28-a922-b871a702cc9d",
   "metadata": {},
   "outputs": [
    {
     "name": "stdout",
     "output_type": "stream",
     "text": [
      "13\n",
      "7\n",
      "30\n",
      "3.3333333333333335\n",
      "1\n",
      "1000\n",
      "3\n"
     ]
    }
   ],
   "source": [
    "print(a + b)\n",
    "print(a - b)\n",
    "print(a * b)\n",
    "print(a / b)\n",
    "print(a % b)\n",
    "print(a ** b)\n",
    "print(a // b)"
   ]
  },
  {
   "cell_type": "markdown",
   "id": "b726f6ff-aeda-474e-a080-88b076d92b27",
   "metadata": {},
   "source": [
    "## String üzerinde matematiksel operatörler"
   ]
  },
  {
   "cell_type": "code",
   "execution_count": 14,
   "id": "fdd56542-ed4f-42a0-95b5-9f888a665057",
   "metadata": {},
   "outputs": [
    {
     "name": "stdout",
     "output_type": "stream",
     "text": [
      "Hello World\n",
      "HelloHelloHello\n"
     ]
    }
   ],
   "source": [
    "str1 = \"Hello\"\n",
    "str2 = \"World\"\n",
    "print(str1 + \" \" + str2)\n",
    "print(str1 * 3)"
   ]
  },
  {
   "cell_type": "markdown",
   "id": "3b7ec71f-2fd5-4d16-93e1-adb8486e05a8",
   "metadata": {},
   "source": [
    "# Atama Operatörleri"
   ]
  },
  {
   "cell_type": "markdown",
   "id": "adb515fd-fd1f-4b81-ba41-438fa9dc7872",
   "metadata": {},
   "source": [
    "\"=\" ile atama yapma, \n",
    "\"+=\" ve \"-=\" ile atama yapma"
   ]
  },
  {
   "cell_type": "code",
   "execution_count": 16,
   "id": "cbdd153d-6458-47c6-af81-1faff4e0c0b7",
   "metadata": {},
   "outputs": [
    {
     "name": "stdout",
     "output_type": "stream",
     "text": [
      "9\n"
     ]
    }
   ],
   "source": [
    "x = 8\n",
    "x += 3\n",
    "x -= 2\n",
    "print(x)"
   ]
  },
  {
   "cell_type": "markdown",
   "id": "ccb706a2-b851-490a-a2ee-5b31cd97a13a",
   "metadata": {},
   "source": [
    "# Karşılaştırma Operatörleri"
   ]
  },
  {
   "cell_type": "code",
   "execution_count": 17,
   "id": "a7be9d01-fbe9-4ee2-9f61-d257892315a4",
   "metadata": {},
   "outputs": [],
   "source": [
    "a = 11\n",
    "b = 20"
   ]
  },
  {
   "cell_type": "code",
   "execution_count": 18,
   "id": "0393d126-d88f-4a98-9f47-a4c7af383b39",
   "metadata": {},
   "outputs": [
    {
     "name": "stdout",
     "output_type": "stream",
     "text": [
      "False\n",
      "True\n",
      "False\n",
      "False\n",
      "True\n",
      "True\n"
     ]
    }
   ],
   "source": [
    "print(a == b)  \n",
    "print(a != b) \n",
    "print(a > b)  \n",
    "print(a >= b)  \n",
    "print(a < b)  \n",
    "print(a <= b) "
   ]
  },
  {
   "cell_type": "markdown",
   "id": "4c7f6260-07bd-45ad-a3a4-f4461024b482",
   "metadata": {},
   "source": [
    "# Mantıksal Operatörler"
   ]
  },
  {
   "cell_type": "code",
   "execution_count": 19,
   "id": "e1edc4b5-b7f3-4fb3-9f43-f9646f011772",
   "metadata": {},
   "outputs": [],
   "source": [
    "x = True\n",
    "y = False"
   ]
  },
  {
   "cell_type": "code",
   "execution_count": 20,
   "id": "132cf21b-a19e-4594-8e41-cf467ec6a84e",
   "metadata": {},
   "outputs": [
    {
     "name": "stdout",
     "output_type": "stream",
     "text": [
      "False\n",
      "True\n",
      "False\n"
     ]
    }
   ],
   "source": [
    "print(x and y)\n",
    "print(x or y)\n",
    "print(not x)"
   ]
  },
  {
   "cell_type": "markdown",
   "id": "0b3142fa-56f5-4b43-99e2-2cdb34772592",
   "metadata": {},
   "source": [
    "# Üyelik Operatörleri"
   ]
  },
  {
   "cell_type": "code",
   "execution_count": 21,
   "id": "ffaf3174-a7aa-46a5-a47e-e721ac4be1e2",
   "metadata": {},
   "outputs": [],
   "source": [
    "text = \"Deneme, yazi, metin, kelime, cümle, dünya, hayat, örnek, basit, akış, düzen, kolay, okuma, yazma, yol, hedef, sonuç, değer, zaman, güzel.\" "
   ]
  },
  {
   "cell_type": "code",
   "execution_count": 22,
   "id": "d637988e-b48b-4f9e-aa43-88b287ddc1d8",
   "metadata": {},
   "outputs": [
    {
     "data": {
      "text/plain": [
       "['Deneme',\n",
       " 'yazi',\n",
       " 'metin',\n",
       " 'kelime',\n",
       " 'cümle',\n",
       " 'dünya',\n",
       " 'hayat',\n",
       " 'örnek',\n",
       " 'basit',\n",
       " 'akış',\n",
       " 'düzen',\n",
       " 'kolay',\n",
       " 'okuma',\n",
       " 'yazma',\n",
       " 'yol',\n",
       " 'hedef',\n",
       " 'sonuç',\n",
       " 'değer',\n",
       " 'zaman',\n",
       " 'güzel.']"
      ]
     },
     "execution_count": 22,
     "metadata": {},
     "output_type": "execute_result"
    }
   ],
   "source": [
    "index_text= text.replace(\",\",\"\").split()\n",
    "index_text"
   ]
  },
  {
   "cell_type": "code",
   "execution_count": 23,
   "id": "213ac2e6-1578-4eda-be93-29e0121e3317",
   "metadata": {},
   "outputs": [
    {
     "data": {
      "text/plain": [
       "'Deneme'"
      ]
     },
     "execution_count": 23,
     "metadata": {},
     "output_type": "execute_result"
    }
   ],
   "source": [
    "index_text[0]"
   ]
  },
  {
   "cell_type": "code",
   "execution_count": 24,
   "id": "2ae7e7d0-b0e5-4823-a4a7-98275c7cc5e6",
   "metadata": {},
   "outputs": [
    {
     "data": {
      "text/plain": [
       "False"
      ]
     },
     "execution_count": 24,
     "metadata": {},
     "output_type": "execute_result"
    }
   ],
   "source": [
    "index_text[2] in \"yazi\""
   ]
  },
  {
   "cell_type": "code",
   "execution_count": 25,
   "id": "b9ce5a24-27ad-45fd-ae0f-4aaad0970a02",
   "metadata": {},
   "outputs": [
    {
     "data": {
      "text/plain": [
       "True"
      ]
     },
     "execution_count": 25,
     "metadata": {},
     "output_type": "execute_result"
    }
   ],
   "source": [
    "index_text[5] not in \"yazi\""
   ]
  },
  {
   "cell_type": "markdown",
   "id": "c56fb1d0-477c-443d-a9a8-33f37cdbd108",
   "metadata": {},
   "source": [
    "# `len()` Fonksiyonu"
   ]
  },
  {
   "cell_type": "code",
   "execution_count": 26,
   "id": "bfb63c49-5ac9-4801-99db-1a0c2cabf75d",
   "metadata": {},
   "outputs": [
    {
     "data": {
      "text/plain": [
       "8"
      ]
     },
     "execution_count": 26,
     "metadata": {},
     "output_type": "execute_result"
    }
   ],
   "source": [
    "message = \"Hello AI\"\n",
    "len(message)"
   ]
  },
  {
   "cell_type": "markdown",
   "id": "48180cc8-c95d-448a-93b2-b301d0deaf68",
   "metadata": {},
   "source": [
    "# `split()` Fonksiyonu"
   ]
  },
  {
   "cell_type": "code",
   "execution_count": 27,
   "id": "1a755216-53a1-41d7-ad18-c32fd4f57806",
   "metadata": {},
   "outputs": [
    {
     "data": {
      "text/plain": [
       "['Hello', 'AI']"
      ]
     },
     "execution_count": 27,
     "metadata": {},
     "output_type": "execute_result"
    }
   ],
   "source": [
    "split_text = message.split()\n",
    "split_text"
   ]
  },
  {
   "cell_type": "markdown",
   "id": "89cc7169-42ff-43a5-bc09-d8379124cd37",
   "metadata": {},
   "source": [
    "# Indexing ve Slicing"
   ]
  },
  {
   "cell_type": "code",
   "execution_count": 28,
   "id": "3d4cee97-a1bc-4a34-8ba2-f974a018f542",
   "metadata": {},
   "outputs": [
    {
     "data": {
      "text/plain": [
       "'H'"
      ]
     },
     "execution_count": 28,
     "metadata": {},
     "output_type": "execute_result"
    }
   ],
   "source": [
    "text_message = \"Hello world I am AI\"\n",
    "text_message[0]"
   ]
  },
  {
   "cell_type": "code",
   "execution_count": 29,
   "id": "ee82d20d-c23e-493c-bd04-f7090ffb0c08",
   "metadata": {},
   "outputs": [
    {
     "data": {
      "text/plain": [
       "'I'"
      ]
     },
     "execution_count": 29,
     "metadata": {},
     "output_type": "execute_result"
    }
   ],
   "source": [
    "text_message[-1]"
   ]
  },
  {
   "cell_type": "code",
   "execution_count": 30,
   "id": "f4d74702-e72f-4efa-93aa-23904a1b9352",
   "metadata": {},
   "outputs": [
    {
     "data": {
      "text/plain": [
       "'llo w'"
      ]
     },
     "execution_count": 30,
     "metadata": {},
     "output_type": "execute_result"
    }
   ],
   "source": [
    "text_message[2:7]"
   ]
  },
  {
   "cell_type": "code",
   "execution_count": 31,
   "id": "15ed0bbc-a8fb-42fb-84ed-75b7f60345a1",
   "metadata": {},
   "outputs": [],
   "source": [
    "sayılar = \"1-2-3-4-5-6-7-8-9\"\n",
    "#1 - 2 - 3 - 4 - 5 - 6  -  7  -  8 - 9\n",
    "#0 1 2 3 4 5 6 7 8 9 10 11 12 13 14 15 16"
   ]
  },
  {
   "cell_type": "code",
   "execution_count": 32,
   "id": "7a89312e-1f39-4468-aef1-17d910189050",
   "metadata": {},
   "outputs": [
    {
     "data": {
      "text/plain": [
       "'6'"
      ]
     },
     "execution_count": 32,
     "metadata": {},
     "output_type": "execute_result"
    }
   ],
   "source": [
    "sayılar[10]"
   ]
  },
  {
   "cell_type": "code",
   "execution_count": 33,
   "id": "b7a801ad-44cb-4e70-ba1c-35f959fa18d3",
   "metadata": {},
   "outputs": [
    {
     "data": {
      "text/plain": [
       "'6-7-8-'"
      ]
     },
     "execution_count": 33,
     "metadata": {},
     "output_type": "execute_result"
    }
   ],
   "source": [
    "sayılar[10:16]"
   ]
  },
  {
   "cell_type": "code",
   "execution_count": 34,
   "id": "27cea112-840d-4e61-ab3b-0f44f1d2ad04",
   "metadata": {},
   "outputs": [
    {
     "data": {
      "text/plain": [
       "'357'"
      ]
     },
     "execution_count": 34,
     "metadata": {},
     "output_type": "execute_result"
    }
   ],
   "source": [
    "sayılar[4:15:4]"
   ]
  },
  {
   "cell_type": "code",
   "execution_count": 35,
   "id": "2ada21c7-e9f5-4e11-b69e-b2b0e951f314",
   "metadata": {},
   "outputs": [
    {
     "data": {
      "text/plain": [
       "'13579'"
      ]
     },
     "execution_count": 35,
     "metadata": {},
     "output_type": "execute_result"
    }
   ],
   "source": [
    "sayılar[::4]"
   ]
  },
  {
   "cell_type": "code",
   "execution_count": 36,
   "id": "32457aa0-26ee-4916-a5ce-3087eb5a01dd",
   "metadata": {},
   "outputs": [
    {
     "data": {
      "text/plain": [
       "'--------'"
      ]
     },
     "execution_count": 36,
     "metadata": {},
     "output_type": "execute_result"
    }
   ],
   "source": [
    "sayılar[1::2]"
   ]
  },
  {
   "cell_type": "code",
   "execution_count": 37,
   "id": "5b1763c0-cd29-4a48-a6ed-193ece402da0",
   "metadata": {},
   "outputs": [
    {
     "data": {
      "text/plain": [
       "'987654321'"
      ]
     },
     "execution_count": 37,
     "metadata": {},
     "output_type": "execute_result"
    }
   ],
   "source": [
    "sayılar[-1::-2]"
   ]
  },
  {
   "cell_type": "markdown",
   "id": "4ce047c3-88f7-4ef7-b6bb-bcdfa75531f9",
   "metadata": {},
   "source": [
    "# `input()` Fonksiyonu"
   ]
  },
  {
   "cell_type": "code",
   "execution_count": 38,
   "id": "467d68e7-0c31-4ba1-91d2-a52ed361ec07",
   "metadata": {},
   "outputs": [
    {
     "name": "stdin",
     "output_type": "stream",
     "text": [
      "What is your name:  Asli\n"
     ]
    },
    {
     "name": "stdout",
     "output_type": "stream",
     "text": [
      "Hi Asli!\n"
     ]
    }
   ],
   "source": [
    "text = input(\"What is your name: \")\n",
    "print(\"Hi \" + text +  \"!\")"
   ]
  },
  {
   "cell_type": "markdown",
   "id": "d1950ce9-bbf8-4db2-8681-d0eef6a375ec",
   "metadata": {},
   "source": [
    "# Değişken Adları"
   ]
  },
  {
   "cell_type": "markdown",
   "id": "52173290-a4fe-4874-a547-c8e8f21c617a",
   "metadata": {},
   "source": [
    "##### Yanlış değişken adları\n",
    "##### 2isim = \"Ahmet\"  # Hata: Değişken adı sayı ile başlayamaz\n",
    "##### soyadi$ = \"Yılmaz\"  # Hata: Özel karakter kullanılmamalı\n",
    "##### sayı ile başlayamayız\n",
    "##### - ½ & özel karakterler ile başlayamaz\n",
    "##### küçük harfle başlamalı\n",
    "##### kelimeler arası boşluk olmamalı"
   ]
  },
  {
   "cell_type": "markdown",
   "id": "cfca760a-597a-4826-b8cc-2b13f32dbb25",
   "metadata": {},
   "source": [
    "# Son Örnek"
   ]
  },
  {
   "cell_type": "code",
   "execution_count": 39,
   "id": "9d81c37b-f277-48af-b9a4-70df6dd58c9c",
   "metadata": {},
   "outputs": [
    {
     "name": "stdout",
     "output_type": "stream",
     "text": [
      "merhaba sayi diziniz: 0123456789\n"
     ]
    },
    {
     "name": "stdin",
     "output_type": "stream",
     "text": [
      "lütfen bir indis giriniz:  6\n"
     ]
    },
    {
     "name": "stdout",
     "output_type": "stream",
     "text": [
      "girdiğiniz indis: 6\n",
      "girdiğiniz indise karşılık gelen sayı: 6\n"
     ]
    }
   ],
   "source": [
    "dizi = \"0123456789\"\n",
    "print(\"merhaba sayi diziniz: \" + dizi)\n",
    "indis = int(input(\"lütfen bir indis giriniz: \")) \n",
    "print(\"girdiğiniz indis: \"+ str(indis))\n",
    "print(\"girdiğiniz indise karşılık gelen sayı: \" + dizi[indis])"
   ]
  },
  {
   "cell_type": "code",
   "execution_count": null,
   "id": "ddefd378-cf85-4db4-af1e-cbaebdf3bf67",
   "metadata": {},
   "outputs": [],
   "source": []
  }
 ],
 "metadata": {
  "kernelspec": {
   "display_name": "Python 3 (ipykernel)",
   "language": "python",
   "name": "python3"
  },
  "language_info": {
   "codemirror_mode": {
    "name": "ipython",
    "version": 3
   },
   "file_extension": ".py",
   "mimetype": "text/x-python",
   "name": "python",
   "nbconvert_exporter": "python",
   "pygments_lexer": "ipython3",
   "version": "3.11.7"
  }
 },
 "nbformat": 4,
 "nbformat_minor": 5
}
