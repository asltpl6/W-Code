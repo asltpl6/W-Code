{
 "cells": [
  {
   "cell_type": "markdown",
   "id": "f15a1d5d-3719-403b-b611-c3de204ecf40",
   "metadata": {},
   "source": [
    "# Veri Seti Hakkında"
   ]
  },
  {
   "cell_type": "markdown",
   "id": "a0ee500c-99c4-46a8-a0e0-735eaba156aa",
   "metadata": {},
   "source": [
    "Bu veri seti, Marvel ve DC filmleri ile TV şovları arasında kapsamlı bir karşılaştırma sunarak, süper kahraman eğlence endüstrisine dair derinlemesine bir bakış sağlamaktadır. Başlıklar, çıkış yılları, türler, süreler, yaş sınıflandırmaları, yönetmenler ve başlıca oyuncular gibi çeşitli özellikleri kapsayarak, bu iki ikonik franchise'ın prodüksiyon detaylarını anlamak için değerli bir araç görevi görmektedir. Ayrıca, izleyici tepkisi verilerini IMDb puanları, oy sayısı ve eleştirel değerlendirmeler aracılığıyla Metascore ile birlikte sunarak, bu eserlerin genel kamu ve eleştirmenler tarafından nasıl algılandığını daha yakından inceleme fırsatı sunmaktadır. Finansal yön de, ABD’deki brüt gelirler aracılığıyla ele alınarak, her prodüksiyonun ticari başarısına dair bilgiler sunulmaktadır. Bu zengin veri seti, analistlerin ve meraklıların sadece eğlence değerini değil, aynı zamanda Marvel ve DC prodüksiyonlarını ayıran veya birleştiren ekonomik ve eleştirel yönleri de keşfetmelerine olanak tanımaktadır."
   ]
  },
  {
   "cell_type": "markdown",
   "id": "9e9497f8-6d6b-48d6-8e8f-11ae9f0ef6c4",
   "metadata": {},
   "source": [
    "Kaggle Lİnk : https://www.kaggle.com/datasets/willianoliveiragibin/marvel-vs-dc"
   ]
  },
  {
   "cell_type": "markdown",
   "id": "0f069b10-5b3b-41a6-b08b-d189eb120617",
   "metadata": {},
   "source": [
    "### Özellik Seti\n",
    "Bu veri setinin zenginliğine katkıda bulunan birkaç anahtar sütun bulunmaktadır:\n",
    "\n",
    "ID: Veri setindeki her bir girişe benzersiz bir kimlik numarası atanmıştır, bu da bireysel kayıtların kolayca referans alınmasını ve takip edilmesini sağlar.\n",
    "\n",
    "Movie: Bu sütun, her film veya TV şovunun başlığını listeler ve hangi prodüksiyonun analiz edildiğini net bir şekilde ortaya koyar. Diğer özelliklerle çapraz referans yapmak için bir temel oluşturur.\n",
    "\n",
    "Year: Çıkış yılı, filmin veya TV şovunun ne zaman yayımlandığına dair bağlam sağlar. TV şovları için bu, başlangıç yılını gösterir ve bazı durumlarda dizinin hâlâ devam edip etmediğini belirtir.\n",
    "\n",
    "Genre: Bu sütun, prodüksiyonun türlerini kategorize eder; Aksiyon ve Macera'dan Drama ve Bilim Kurgu'ya kadar çeşitlilik gösterir. Bazı prodüksiyonlar birden fazla türe ait olabilir, bu da hem Marvel hem de DC içindeki hikaye çeşitliliğini yansıtır.\n",
    "\n",
    "RunTime: Bu, filmin veya TV şovunun ortalama bölüm uzunluğunun süresini ölçer. Genellikle dakikalar cinsinden verilir ve her prodüksiyonun temposu ve kapsamı hakkında bir ipucu sunar.\n",
    "\n",
    "Rating: Yaş sınıflandırması sütunu, içeriğin hedef kitlesini belirleyerek uygunluğuna dair bilgiler sunar. PG, PG-13 veya TV-MA gibi derecelendirmeler, hedef demografiyi ve beklenen şiddet, dil veya olgun temalar seviyesini vurgular.\n",
    "\n",
    "Director: Yönetmenlerin isimleri verilir, bu da kullanıcıların sinema yapım stillerini, yönetmen etkisini ve filmlerin ve şovların arkasındaki yaratıcı liderliği keşfetme fırsatı bulmasını sağlar.\n",
    "\n",
    "Actor: Her prodüksiyonda yer alan başlıca oyuncuların listesi verilerek, filmin veya şovun popülerliğine katkıda bulunabilecek yetenek havuzunu ve başlıca performansları sergilemektedir.\n",
    "\n",
    "Description: Bu sütun, plot veya ana tema hakkında kısa bir özet sunarak, kullanıcıların prodüksiyonun anlatı yönünü ve ana unsurlarını anlamalarına yardımcı olur.\n",
    "\n",
    "IMDB_Score: Bu kullanıcı tarafından oluşturulan puan, filmin veya TV şovunun genel kamu tarafından nasıl karşılandığını yansıtarak, izleyici memnuniyetini ve katılımını değerlendirmeye olanak tanır.\n",
    "\n",
    "Metascore: Bu eleştirmen bazlı puan, filmin veya şovun daha resmi bir değerlendirmesini sunarak, profesyonel incelemecilerin prodüksiyonun kalitesini ve icrasını nasıl algıladığına dair bilgiler verir.\n",
    "\n",
    "Votes: IMDb'de toplanan oy sayısı, izleyici katılımının ne kadar yaygın olduğunu ölçerek, prodüksiyonun genel popülaritesi ve görünürlüğünü değerlendirmeye yardımcı olur.\n",
    "\n",
    "USA_Gross: Bu sütun, ABD pazarındaki brüt kazançları ayrıntılı olarak verir ve filmlerin ticari başarısını ve pazar çekiciliğini değerlendirmek için finansal bir pencere sağlar. Bu, daha çok sinema filmleri için daha ilgili olsa da, bir prodüksiyonun ticari performansına dair değerli bir gösterge işlevi görmektedir.\n",
    "\n",
    "Category: Bu kategorik özellik, filmin veya TV şovunun Marvel veya DC evrenine ait olup olmadığını net bir şekilde işaretleyerek, iki franchise arasındaki karşılaştırmayı kolaylaştırır."
   ]
  },
  {
   "cell_type": "markdown",
   "id": "7c713ef4-43c3-427f-9491-09bc28d99a75",
   "metadata": {},
   "source": [
    "# Marvel ve DC Filmlerinin  IMDb puanını tahm Tahmin Etme\n",
    "Proje Amacı:\n",
    "Veri setinde yer alan Marvel ve DC filmlerinin ticari ve izleyici başarılarını tahmin etmek için bir model oluşturmak. Özellikle IMDb puanlarını ve USA brüt gelirlerini tahmin eden bir regresyon modeli geliştireceğiz. Ayrıca, filmin Marvel ya da DC evrenine ait olup olmadığını tahmin eden bir sınıflandırma modeli "
   ]
  },
  {
   "cell_type": "code",
   "execution_count": 1,
   "id": "b66246de-7bc1-4ba3-86a1-c7696aa4d1cc",
   "metadata": {},
   "outputs": [],
   "source": [
    "import pandas as pd"
   ]
  },
  {
   "cell_type": "code",
   "execution_count": 2,
   "id": "df2e0324-726d-4301-b759-332aeeb7e11e",
   "metadata": {},
   "outputs": [],
   "source": [
    "df=pd.read_csv(\"./dataset/marvel_dc.csv\")"
   ]
  },
  {
   "cell_type": "code",
   "execution_count": 3,
   "id": "86967522-4d62-47ed-8edb-a59d6bf37a56",
   "metadata": {},
   "outputs": [
    {
     "name": "stdout",
     "output_type": "stream",
     "text": [
      "<class 'pandas.core.frame.DataFrame'>\n",
      "RangeIndex: 1690 entries, 0 to 1689\n",
      "Data columns (total 7 columns):\n",
      " #   Column       Non-Null Count  Dtype  \n",
      "---  ------       --------------  -----  \n",
      " 0   ID           1690 non-null   int64  \n",
      " 1   Movie        1690 non-null   object \n",
      " 2   Year         1657 non-null   object \n",
      " 3   Genre        1683 non-null   object \n",
      " 4   RunTime      1690 non-null   object \n",
      " 5   Description  1690 non-null   object \n",
      " 6   IMDB_Score   1690 non-null   float64\n",
      "dtypes: float64(1), int64(1), object(5)\n",
      "memory usage: 92.6+ KB\n"
     ]
    }
   ],
   "source": [
    "df.info()"
   ]
  },
  {
   "cell_type": "code",
   "execution_count": 4,
   "id": "2d5c39cb-91bf-4086-90f0-cce4ad9d81de",
   "metadata": {},
   "outputs": [
    {
     "data": {
      "text/html": [
       "<div>\n",
       "<style scoped>\n",
       "    .dataframe tbody tr th:only-of-type {\n",
       "        vertical-align: middle;\n",
       "    }\n",
       "\n",
       "    .dataframe tbody tr th {\n",
       "        vertical-align: top;\n",
       "    }\n",
       "\n",
       "    .dataframe thead th {\n",
       "        text-align: right;\n",
       "    }\n",
       "</style>\n",
       "<table border=\"1\" class=\"dataframe\">\n",
       "  <thead>\n",
       "    <tr style=\"text-align: right;\">\n",
       "      <th></th>\n",
       "      <th>ID</th>\n",
       "      <th>Movie</th>\n",
       "      <th>Year</th>\n",
       "      <th>Genre</th>\n",
       "      <th>RunTime</th>\n",
       "      <th>Description</th>\n",
       "      <th>IMDB_Score</th>\n",
       "    </tr>\n",
       "  </thead>\n",
       "  <tbody>\n",
       "    <tr>\n",
       "      <th>0</th>\n",
       "      <td>0</td>\n",
       "      <td>Eternals</td>\n",
       "      <td>-2021</td>\n",
       "      <td>Action,Adventure,Drama</td>\n",
       "      <td>0</td>\n",
       "      <td>The saga of the Eternals, a race of immortal b...</td>\n",
       "      <td>0.0</td>\n",
       "    </tr>\n",
       "    <tr>\n",
       "      <th>1</th>\n",
       "      <td>1</td>\n",
       "      <td>Loki</td>\n",
       "      <td>(2021– )</td>\n",
       "      <td>Action,Adventure,Fantasy</td>\n",
       "      <td>0</td>\n",
       "      <td>A new Marvel chapter with Loki at its center.</td>\n",
       "      <td>0.0</td>\n",
       "    </tr>\n",
       "    <tr>\n",
       "      <th>2</th>\n",
       "      <td>2</td>\n",
       "      <td>The Falcon and the Winter Soldier</td>\n",
       "      <td>-2021</td>\n",
       "      <td>Action,Adventure,Drama</td>\n",
       "      <td>50 min</td>\n",
       "      <td>Following the events of 'Avengers: Endgame,' S...</td>\n",
       "      <td>7.5</td>\n",
       "    </tr>\n",
       "    <tr>\n",
       "      <th>3</th>\n",
       "      <td>3</td>\n",
       "      <td>WandaVision</td>\n",
       "      <td>-2021</td>\n",
       "      <td>Action,Comedy,Drama</td>\n",
       "      <td>350 min</td>\n",
       "      <td>Blends the style of classic sitcoms with the M...</td>\n",
       "      <td>8.1</td>\n",
       "    </tr>\n",
       "    <tr>\n",
       "      <th>4</th>\n",
       "      <td>4</td>\n",
       "      <td>Spider-Man: No Way Home</td>\n",
       "      <td>-2021</td>\n",
       "      <td>Action,Adventure,Sci-Fi</td>\n",
       "      <td>0</td>\n",
       "      <td>A continuation of Spider-Man: Far From Home.</td>\n",
       "      <td>0.0</td>\n",
       "    </tr>\n",
       "  </tbody>\n",
       "</table>\n",
       "</div>"
      ],
      "text/plain": [
       "   ID                              Movie      Year                     Genre  \\\n",
       "0   0                           Eternals     -2021    Action,Adventure,Drama   \n",
       "1   1                               Loki  (2021– )  Action,Adventure,Fantasy   \n",
       "2   2  The Falcon and the Winter Soldier     -2021    Action,Adventure,Drama   \n",
       "3   3                        WandaVision     -2021       Action,Comedy,Drama   \n",
       "4   4            Spider-Man: No Way Home     -2021   Action,Adventure,Sci-Fi   \n",
       "\n",
       "   RunTime                                        Description  IMDB_Score  \n",
       "0        0  The saga of the Eternals, a race of immortal b...         0.0  \n",
       "1        0      A new Marvel chapter with Loki at its center.         0.0  \n",
       "2   50 min  Following the events of 'Avengers: Endgame,' S...         7.5  \n",
       "3  350 min  Blends the style of classic sitcoms with the M...         8.1  \n",
       "4        0       A continuation of Spider-Man: Far From Home.         0.0  "
      ]
     },
     "execution_count": 4,
     "metadata": {},
     "output_type": "execute_result"
    }
   ],
   "source": [
    "df.head()"
   ]
  },
  {
   "cell_type": "markdown",
   "id": "722dadb4-620f-4330-a963-71afb86fc92d",
   "metadata": {},
   "source": [
    "### Burda yılların olduğu yerlerdei bozukluğu görüyoruz."
   ]
  },
  {
   "cell_type": "code",
   "execution_count": 5,
   "id": "adc925f0-9833-4871-ab58-715815cfdbc9",
   "metadata": {},
   "outputs": [
    {
     "data": {
      "text/plain": [
       "0       2021\n",
       "1       2021\n",
       "2       2021\n",
       "3       2021\n",
       "4       2021\n",
       "        ... \n",
       "1685    2016\n",
       "1686    2015\n",
       "1687    2015\n",
       "1688    2015\n",
       "1689    2015\n",
       "Name: Year, Length: 1690, dtype: object"
      ]
     },
     "execution_count": 5,
     "metadata": {},
     "output_type": "execute_result"
    }
   ],
   "source": [
    "df[\"Year\"] = df[\"Year\"].str.extract(r'(\\d{4})')  # Sadece yıl değerini alalım\n",
    "df[\"Year\"]"
   ]
  },
  {
   "cell_type": "code",
   "execution_count": 6,
   "id": "ae6d70d3-b10e-492b-96c9-40e4ea2456b1",
   "metadata": {},
   "outputs": [
    {
     "data": {
      "text/plain": [
       "0       2021.0\n",
       "1       2021.0\n",
       "2       2021.0\n",
       "3       2021.0\n",
       "4       2021.0\n",
       "         ...  \n",
       "1685    2016.0\n",
       "1686    2015.0\n",
       "1687    2015.0\n",
       "1688    2015.0\n",
       "1689    2015.0\n",
       "Name: Year, Length: 1690, dtype: float64"
      ]
     },
     "execution_count": 6,
     "metadata": {},
     "output_type": "execute_result"
    }
   ],
   "source": [
    "# Yıl sütunundaki eksik ve hatalı değerleri kontrol edelim\n",
    "df[\"Year\"] = pd.to_numeric(df[\"Year\"], errors=\"coerce\")  # Sayısal hale getirelim\n",
    "df[\"Year\"] "
   ]
  },
  {
   "cell_type": "code",
   "execution_count": 7,
   "id": "447176fe-ddc9-406c-9662-f1407e1e464a",
   "metadata": {},
   "outputs": [
    {
     "data": {
      "text/html": [
       "<div>\n",
       "<style scoped>\n",
       "    .dataframe tbody tr th:only-of-type {\n",
       "        vertical-align: middle;\n",
       "    }\n",
       "\n",
       "    .dataframe tbody tr th {\n",
       "        vertical-align: top;\n",
       "    }\n",
       "\n",
       "    .dataframe thead th {\n",
       "        text-align: right;\n",
       "    }\n",
       "</style>\n",
       "<table border=\"1\" class=\"dataframe\">\n",
       "  <thead>\n",
       "    <tr style=\"text-align: right;\">\n",
       "      <th></th>\n",
       "      <th>Movie</th>\n",
       "      <th>Year</th>\n",
       "    </tr>\n",
       "  </thead>\n",
       "  <tbody>\n",
       "    <tr>\n",
       "      <th>0</th>\n",
       "      <td>Eternals</td>\n",
       "      <td>2021.0</td>\n",
       "    </tr>\n",
       "    <tr>\n",
       "      <th>1</th>\n",
       "      <td>Loki</td>\n",
       "      <td>2021.0</td>\n",
       "    </tr>\n",
       "    <tr>\n",
       "      <th>2</th>\n",
       "      <td>The Falcon and the Winter Soldier</td>\n",
       "      <td>2021.0</td>\n",
       "    </tr>\n",
       "    <tr>\n",
       "      <th>3</th>\n",
       "      <td>WandaVision</td>\n",
       "      <td>2021.0</td>\n",
       "    </tr>\n",
       "    <tr>\n",
       "      <th>4</th>\n",
       "      <td>Spider-Man: No Way Home</td>\n",
       "      <td>2021.0</td>\n",
       "    </tr>\n",
       "  </tbody>\n",
       "</table>\n",
       "</div>"
      ],
      "text/plain": [
       "                               Movie    Year\n",
       "0                           Eternals  2021.0\n",
       "1                               Loki  2021.0\n",
       "2  The Falcon and the Winter Soldier  2021.0\n",
       "3                        WandaVision  2021.0\n",
       "4            Spider-Man: No Way Home  2021.0"
      ]
     },
     "execution_count": 7,
     "metadata": {},
     "output_type": "execute_result"
    }
   ],
   "source": [
    "df[[\"Movie\", \"Year\"]].head()"
   ]
  },
  {
   "cell_type": "markdown",
   "id": "68a227a8-f928-489f-a2a9-e859b067a45b",
   "metadata": {},
   "source": [
    "### RunTime mı sayısal değere dönüştürme"
   ]
  },
  {
   "cell_type": "code",
   "execution_count": 8,
   "id": "50bf39ae-38a4-4040-93cb-d27e649c3421",
   "metadata": {},
   "outputs": [
    {
     "data": {
      "text/plain": [
       "0         0\n",
       "1         0\n",
       "2        50\n",
       "3       350\n",
       "4         0\n",
       "       ... \n",
       "1685     42\n",
       "1686     42\n",
       "1687     42\n",
       "1688     42\n",
       "1689     42\n",
       "Name: RunTime, Length: 1690, dtype: object"
      ]
     },
     "execution_count": 8,
     "metadata": {},
     "output_type": "execute_result"
    }
   ],
   "source": [
    "# Dakika değerlerini çıkaralım\n",
    "df[\"RunTime\"] = df[\"RunTime\"].str.extract(r'(\\d+)').fillna(0)\n",
    "df[\"RunTime\"]"
   ]
  },
  {
   "cell_type": "code",
   "execution_count": 9,
   "id": "90f3ce0c-2730-47b1-b874-5052d831de58",
   "metadata": {},
   "outputs": [
    {
     "data": {
      "text/plain": [
       "0         0\n",
       "1         0\n",
       "2        50\n",
       "3       350\n",
       "4         0\n",
       "       ... \n",
       "1685     42\n",
       "1686     42\n",
       "1687     42\n",
       "1688     42\n",
       "1689     42\n",
       "Name: RunTime, Length: 1690, dtype: int64"
      ]
     },
     "execution_count": 9,
     "metadata": {},
     "output_type": "execute_result"
    }
   ],
   "source": [
    "# Sayısal hale getirelim\n",
    "df[\"RunTime\"] = pd.to_numeric(df[\"RunTime\"])\n",
    "df[\"RunTime\"]"
   ]
  },
  {
   "cell_type": "code",
   "execution_count": 10,
   "id": "bcfdaaad-8197-4bf0-a2a5-ee54ad2868ce",
   "metadata": {},
   "outputs": [
    {
     "data": {
      "text/html": [
       "<div>\n",
       "<style scoped>\n",
       "    .dataframe tbody tr th:only-of-type {\n",
       "        vertical-align: middle;\n",
       "    }\n",
       "\n",
       "    .dataframe tbody tr th {\n",
       "        vertical-align: top;\n",
       "    }\n",
       "\n",
       "    .dataframe thead th {\n",
       "        text-align: right;\n",
       "    }\n",
       "</style>\n",
       "<table border=\"1\" class=\"dataframe\">\n",
       "  <thead>\n",
       "    <tr style=\"text-align: right;\">\n",
       "      <th></th>\n",
       "      <th>Movie</th>\n",
       "      <th>RunTime</th>\n",
       "    </tr>\n",
       "  </thead>\n",
       "  <tbody>\n",
       "    <tr>\n",
       "      <th>0</th>\n",
       "      <td>Eternals</td>\n",
       "      <td>0</td>\n",
       "    </tr>\n",
       "    <tr>\n",
       "      <th>1</th>\n",
       "      <td>Loki</td>\n",
       "      <td>0</td>\n",
       "    </tr>\n",
       "    <tr>\n",
       "      <th>2</th>\n",
       "      <td>The Falcon and the Winter Soldier</td>\n",
       "      <td>50</td>\n",
       "    </tr>\n",
       "    <tr>\n",
       "      <th>3</th>\n",
       "      <td>WandaVision</td>\n",
       "      <td>350</td>\n",
       "    </tr>\n",
       "    <tr>\n",
       "      <th>4</th>\n",
       "      <td>Spider-Man: No Way Home</td>\n",
       "      <td>0</td>\n",
       "    </tr>\n",
       "  </tbody>\n",
       "</table>\n",
       "</div>"
      ],
      "text/plain": [
       "                               Movie  RunTime\n",
       "0                           Eternals        0\n",
       "1                               Loki        0\n",
       "2  The Falcon and the Winter Soldier       50\n",
       "3                        WandaVision      350\n",
       "4            Spider-Man: No Way Home        0"
      ]
     },
     "execution_count": 10,
     "metadata": {},
     "output_type": "execute_result"
    }
   ],
   "source": [
    "df[[\"Movie\", \"RunTime\"]].head()"
   ]
  },
  {
   "cell_type": "code",
   "execution_count": 11,
   "id": "c9d53213-d2c7-45fa-95e3-55c0540d6c5c",
   "metadata": {},
   "outputs": [
    {
     "data": {
      "text/plain": [
       "ID              0\n",
       "Movie           0\n",
       "Year           35\n",
       "Genre           7\n",
       "RunTime         0\n",
       "Description     0\n",
       "IMDB_Score      0\n",
       "dtype: int64"
      ]
     },
     "execution_count": 11,
     "metadata": {},
     "output_type": "execute_result"
    }
   ],
   "source": [
    "df.isnull().sum()"
   ]
  },
  {
   "cell_type": "markdown",
   "id": "de6e42b2-0127-4eff-a005-157255e6d4f0",
   "metadata": {},
   "source": [
    "### Eksik Verilerin İncelenmesi"
   ]
  },
  {
   "cell_type": "code",
   "execution_count": 14,
   "id": "7e276703-58fc-4ab4-8324-5bfec6082ae0",
   "metadata": {},
   "outputs": [
    {
     "data": {
      "image/png": "[encoded data removed]",
      "text/plain": [
       "<Figure size 1000x600 with 1 Axes>"
      ]
     },
     "metadata": {},
     "output_type": "display_data"
    }
   ],
   "source": [
    "import seaborn as sns\n",
    "import matplotlib.pyplot as plt\n",
    "plt.figure(figsize=(10,6))\n",
    "sns.heatmap(df.isnull(), cbar=False, cmap=\"viridis\")\n",
    "plt.show()"
   ]
  },
  {
   "cell_type": "code",
   "execution_count": 15,
   "id": "a061858a-08b0-4715-b3bb-bde68d7065ac",
   "metadata": {},
   "outputs": [
    {
     "data": {
      "image/png": "[encoded data removed]",
      "text/plain": [
       "<Figure size 2500x1000 with 2 Axes>"
      ]
     },
     "metadata": {},
     "output_type": "display_data"
    }
   ],
   "source": [
    "import missingno as msno\n",
    "import matplotlib.pyplot as plt\n",
    "msno.matrix(df)\n",
    "plt.show()"
   ]
  },
  {
   "cell_type": "code",
   "execution_count": 19,
   "id": "faa93b57-58bf-4b2a-9324-824b86e457fe",
   "metadata": {},
   "outputs": [
    {
     "data": {
      "text/html": [
       "<div>\n",
       "<style scoped>\n",
       "    .dataframe tbody tr th:only-of-type {\n",
       "        vertical-align: middle;\n",
       "    }\n",
       "\n",
       "    .dataframe tbody tr th {\n",
       "        vertical-align: top;\n",
       "    }\n",
       "\n",
       "    .dataframe thead th {\n",
       "        text-align: right;\n",
       "    }\n",
       "</style>\n",
       "<table border=\"1\" class=\"dataframe\">\n",
       "  <thead>\n",
       "    <tr style=\"text-align: right;\">\n",
       "      <th></th>\n",
       "      <th>ID</th>\n",
       "      <th>Movie</th>\n",
       "      <th>Year</th>\n",
       "      <th>Genre</th>\n",
       "      <th>RunTime</th>\n",
       "      <th>Description</th>\n",
       "      <th>IMDB_Score</th>\n",
       "    </tr>\n",
       "  </thead>\n",
       "  <tbody>\n",
       "    <tr>\n",
       "      <th>0</th>\n",
       "      <td>0</td>\n",
       "      <td>Eternals</td>\n",
       "      <td>2021.0</td>\n",
       "      <td>Action,Adventure,Drama</td>\n",
       "      <td>0</td>\n",
       "      <td>The saga of the Eternals, a race of immortal b...</td>\n",
       "      <td>0.0</td>\n",
       "    </tr>\n",
       "    <tr>\n",
       "      <th>1</th>\n",
       "      <td>1</td>\n",
       "      <td>Loki</td>\n",
       "      <td>2021.0</td>\n",
       "      <td>Action,Adventure,Fantasy</td>\n",
       "      <td>0</td>\n",
       "      <td>A new Marvel chapter with Loki at its center.</td>\n",
       "      <td>0.0</td>\n",
       "    </tr>\n",
       "    <tr>\n",
       "      <th>2</th>\n",
       "      <td>2</td>\n",
       "      <td>The Falcon and the Winter Soldier</td>\n",
       "      <td>2021.0</td>\n",
       "      <td>Action,Adventure,Drama</td>\n",
       "      <td>50</td>\n",
       "      <td>Following the events of 'Avengers: Endgame,' S...</td>\n",
       "      <td>7.5</td>\n",
       "    </tr>\n",
       "    <tr>\n",
       "      <th>3</th>\n",
       "      <td>3</td>\n",
       "      <td>WandaVision</td>\n",
       "      <td>2021.0</td>\n",
       "      <td>Action,Comedy,Drama</td>\n",
       "      <td>350</td>\n",
       "      <td>Blends the style of classic sitcoms with the M...</td>\n",
       "      <td>8.1</td>\n",
       "    </tr>\n",
       "    <tr>\n",
       "      <th>4</th>\n",
       "      <td>4</td>\n",
       "      <td>Spider-Man: No Way Home</td>\n",
       "      <td>2021.0</td>\n",
       "      <td>Action,Adventure,Sci-Fi</td>\n",
       "      <td>0</td>\n",
       "      <td>A continuation of Spider-Man: Far From Home.</td>\n",
       "      <td>0.0</td>\n",
       "    </tr>\n",
       "    <tr>\n",
       "      <th>...</th>\n",
       "      <td>...</td>\n",
       "      <td>...</td>\n",
       "      <td>...</td>\n",
       "      <td>...</td>\n",
       "      <td>...</td>\n",
       "      <td>...</td>\n",
       "      <td>...</td>\n",
       "    </tr>\n",
       "    <tr>\n",
       "      <th>1685</th>\n",
       "      <td>1685</td>\n",
       "      <td>DC's Legends of Tomorrow</td>\n",
       "      <td>2016.0</td>\n",
       "      <td>Action,Adventure,Drama</td>\n",
       "      <td>42</td>\n",
       "      <td>Worlds lived, worlds died. Nothing will ever b...</td>\n",
       "      <td>8.5</td>\n",
       "    </tr>\n",
       "    <tr>\n",
       "      <th>1686</th>\n",
       "      <td>1686</td>\n",
       "      <td>Supergirl</td>\n",
       "      <td>2015.0</td>\n",
       "      <td>Action,Adventure,Drama</td>\n",
       "      <td>42</td>\n",
       "      <td>In the wake of Lex Luthor's return, the show f...</td>\n",
       "      <td>8.3</td>\n",
       "    </tr>\n",
       "    <tr>\n",
       "      <th>1687</th>\n",
       "      <td>1687</td>\n",
       "      <td>Supergirl</td>\n",
       "      <td>2015.0</td>\n",
       "      <td>Action,Adventure,Drama</td>\n",
       "      <td>42</td>\n",
       "      <td>Kara comes face to face with Red Daughter and ...</td>\n",
       "      <td>8.1</td>\n",
       "    </tr>\n",
       "    <tr>\n",
       "      <th>1688</th>\n",
       "      <td>1688</td>\n",
       "      <td>Supergirl</td>\n",
       "      <td>2015.0</td>\n",
       "      <td>Action,Adventure,Drama</td>\n",
       "      <td>42</td>\n",
       "      <td>Kara and Lena head to Kaznia to hunt down Lex....</td>\n",
       "      <td>7.4</td>\n",
       "    </tr>\n",
       "    <tr>\n",
       "      <th>1689</th>\n",
       "      <td>1689</td>\n",
       "      <td>Supergirl</td>\n",
       "      <td>2015.0</td>\n",
       "      <td>Action,Adventure,Drama</td>\n",
       "      <td>42</td>\n",
       "      <td>Supergirl must deal with the destructive after...</td>\n",
       "      <td>7.5</td>\n",
       "    </tr>\n",
       "  </tbody>\n",
       "</table>\n",
       "<p>1648 rows × 7 columns</p>\n",
       "</div>"
      ],
      "text/plain": [
       "        ID                              Movie    Year  \\\n",
       "0        0                           Eternals  2021.0   \n",
       "1        1                               Loki  2021.0   \n",
       "2        2  The Falcon and the Winter Soldier  2021.0   \n",
       "3        3                        WandaVision  2021.0   \n",
       "4        4            Spider-Man: No Way Home  2021.0   \n",
       "...    ...                                ...     ...   \n",
       "1685  1685           DC's Legends of Tomorrow  2016.0   \n",
       "1686  1686                          Supergirl  2015.0   \n",
       "1687  1687                          Supergirl  2015.0   \n",
       "1688  1688                          Supergirl  2015.0   \n",
       "1689  1689                          Supergirl  2015.0   \n",
       "\n",
       "                         Genre  RunTime  \\\n",
       "0       Action,Adventure,Drama        0   \n",
       "1     Action,Adventure,Fantasy        0   \n",
       "2       Action,Adventure,Drama       50   \n",
       "3          Action,Comedy,Drama      350   \n",
       "4      Action,Adventure,Sci-Fi        0   \n",
       "...                        ...      ...   \n",
       "1685    Action,Adventure,Drama       42   \n",
       "1686    Action,Adventure,Drama       42   \n",
       "1687    Action,Adventure,Drama       42   \n",
       "1688    Action,Adventure,Drama       42   \n",
       "1689    Action,Adventure,Drama       42   \n",
       "\n",
       "                                            Description  IMDB_Score  \n",
       "0     The saga of the Eternals, a race of immortal b...         0.0  \n",
       "1         A new Marvel chapter with Loki at its center.         0.0  \n",
       "2     Following the events of 'Avengers: Endgame,' S...         7.5  \n",
       "3     Blends the style of classic sitcoms with the M...         8.1  \n",
       "4          A continuation of Spider-Man: Far From Home.         0.0  \n",
       "...                                                 ...         ...  \n",
       "1685  Worlds lived, worlds died. Nothing will ever b...         8.5  \n",
       "1686  In the wake of Lex Luthor's return, the show f...         8.3  \n",
       "1687  Kara comes face to face with Red Daughter and ...         8.1  \n",
       "1688  Kara and Lena head to Kaznia to hunt down Lex....         7.4  \n",
       "1689  Supergirl must deal with the destructive after...         7.5  \n",
       "\n",
       "[1648 rows x 7 columns]"
      ]
     },
     "execution_count": 19,
     "metadata": {},
     "output_type": "execute_result"
    }
   ],
   "source": [
    "new_df = df.isnull().sum()\n",
    "new_df = df.dropna()"
   ]
  },
  {
   "cell_type": "code",
   "execution_count": 20,
   "id": "69a34672-6baa-467f-98a7-25f9490757da",
   "metadata": {},
   "outputs": [
    {
     "data": {
      "text/plain": [
       "ID             0\n",
       "Movie          0\n",
       "Year           0\n",
       "Genre          0\n",
       "RunTime        0\n",
       "Description    0\n",
       "IMDB_Score     0\n",
       "dtype: int64"
      ]
     },
     "execution_count": 20,
     "metadata": {},
     "output_type": "execute_result"
    }
   ],
   "source": [
    "new_df.isnull().sum()"
   ]
  },
  {
   "cell_type": "markdown",
   "id": "0d44833c-3dd7-4446-a952-ae30782b0af2",
   "metadata": {},
   "source": [
    "### IMDb Puanı Eksik veya Sıfır Olanları İnceleme"
   ]
  },
  {
   "cell_type": "code",
   "execution_count": 21,
   "id": "f60015d6-e664-470d-ae00-bf3becf3e12b",
   "metadata": {},
   "outputs": [
    {
     "name": "stdout",
     "output_type": "stream",
     "text": [
      "Sıfır IMDb puanına sahip film sayısı: 165\n",
      "IMDb puanı eksik olan film sayısı: 0\n"
     ]
    },
    {
     "data": {
      "text/html": [
       "<div>\n",
       "<style scoped>\n",
       "    .dataframe tbody tr th:only-of-type {\n",
       "        vertical-align: middle;\n",
       "    }\n",
       "\n",
       "    .dataframe tbody tr th {\n",
       "        vertical-align: top;\n",
       "    }\n",
       "\n",
       "    .dataframe thead th {\n",
       "        text-align: right;\n",
       "    }\n",
       "</style>\n",
       "<table border=\"1\" class=\"dataframe\">\n",
       "  <thead>\n",
       "    <tr style=\"text-align: right;\">\n",
       "      <th></th>\n",
       "      <th>Movie</th>\n",
       "      <th>Year</th>\n",
       "      <th>IMDB_Score</th>\n",
       "    </tr>\n",
       "  </thead>\n",
       "  <tbody>\n",
       "    <tr>\n",
       "      <th>0</th>\n",
       "      <td>Eternals</td>\n",
       "      <td>2021.0</td>\n",
       "      <td>0.0</td>\n",
       "    </tr>\n",
       "    <tr>\n",
       "      <th>1</th>\n",
       "      <td>Loki</td>\n",
       "      <td>2021.0</td>\n",
       "      <td>0.0</td>\n",
       "    </tr>\n",
       "    <tr>\n",
       "      <th>4</th>\n",
       "      <td>Spider-Man: No Way Home</td>\n",
       "      <td>2021.0</td>\n",
       "      <td>0.0</td>\n",
       "    </tr>\n",
       "    <tr>\n",
       "      <th>5</th>\n",
       "      <td>Black Widow</td>\n",
       "      <td>2021.0</td>\n",
       "      <td>0.0</td>\n",
       "    </tr>\n",
       "    <tr>\n",
       "      <th>8</th>\n",
       "      <td>Thor: Love and Thunder</td>\n",
       "      <td>2022.0</td>\n",
       "      <td>0.0</td>\n",
       "    </tr>\n",
       "    <tr>\n",
       "      <th>...</th>\n",
       "      <td>...</td>\n",
       "      <td>...</td>\n",
       "      <td>...</td>\n",
       "    </tr>\n",
       "    <tr>\n",
       "      <th>1675</th>\n",
       "      <td>DC Super Hero Girls</td>\n",
       "      <td>2015.0</td>\n",
       "      <td>0.0</td>\n",
       "    </tr>\n",
       "    <tr>\n",
       "      <th>1676</th>\n",
       "      <td>DC Super Hero Girls</td>\n",
       "      <td>2015.0</td>\n",
       "      <td>0.0</td>\n",
       "    </tr>\n",
       "    <tr>\n",
       "      <th>1677</th>\n",
       "      <td>DC Super Hero Girls</td>\n",
       "      <td>2015.0</td>\n",
       "      <td>0.0</td>\n",
       "    </tr>\n",
       "    <tr>\n",
       "      <th>1678</th>\n",
       "      <td>DC Super Hero Girls</td>\n",
       "      <td>2015.0</td>\n",
       "      <td>0.0</td>\n",
       "    </tr>\n",
       "    <tr>\n",
       "      <th>1679</th>\n",
       "      <td>DC Super Hero Girls</td>\n",
       "      <td>2015.0</td>\n",
       "      <td>0.0</td>\n",
       "    </tr>\n",
       "  </tbody>\n",
       "</table>\n",
       "<p>165 rows × 3 columns</p>\n",
       "</div>"
      ],
      "text/plain": [
       "                        Movie    Year  IMDB_Score\n",
       "0                    Eternals  2021.0         0.0\n",
       "1                        Loki  2021.0         0.0\n",
       "4     Spider-Man: No Way Home  2021.0         0.0\n",
       "5                 Black Widow  2021.0         0.0\n",
       "8      Thor: Love and Thunder  2022.0         0.0\n",
       "...                       ...     ...         ...\n",
       "1675      DC Super Hero Girls  2015.0         0.0\n",
       "1676      DC Super Hero Girls  2015.0         0.0\n",
       "1677      DC Super Hero Girls  2015.0         0.0\n",
       "1678      DC Super Hero Girls  2015.0         0.0\n",
       "1679      DC Super Hero Girls  2015.0         0.0\n",
       "\n",
       "[165 rows x 3 columns]"
      ]
     },
     "execution_count": 21,
     "metadata": {},
     "output_type": "execute_result"
    }
   ],
   "source": [
    "zero_imdb = new_df[new_df[\"IMDB_Score\"] == 0]\n",
    "missing_imdb = new_df[new_df[\"IMDB_Score\"].isna()]\n",
    "\n",
    "print(f\"Sıfır IMDb puanına sahip film sayısı: {zero_imdb.shape[0]}\")\n",
    "print(f\"IMDb puanı eksik olan film sayısı: {missing_imdb.shape[0]}\")\n",
    "\n",
    "zero_imdb[[\"Movie\", \"Year\", \"IMDB_Score\"]]"
   ]
  },
  {
   "cell_type": "code",
   "execution_count": 22,
   "id": "dc376d85-a387-45a5-8251-5a91c2014b66",
   "metadata": {},
   "outputs": [
    {
     "data": {
      "text/html": [
       "<div>\n",
       "<style scoped>\n",
       "    .dataframe tbody tr th:only-of-type {\n",
       "        vertical-align: middle;\n",
       "    }\n",
       "\n",
       "    .dataframe tbody tr th {\n",
       "        vertical-align: top;\n",
       "    }\n",
       "\n",
       "    .dataframe thead th {\n",
       "        text-align: right;\n",
       "    }\n",
       "</style>\n",
       "<table border=\"1\" class=\"dataframe\">\n",
       "  <thead>\n",
       "    <tr style=\"text-align: right;\">\n",
       "      <th></th>\n",
       "      <th>ID</th>\n",
       "      <th>Movie</th>\n",
       "      <th>Year</th>\n",
       "      <th>Genre</th>\n",
       "      <th>RunTime</th>\n",
       "      <th>Description</th>\n",
       "      <th>IMDB_Score</th>\n",
       "    </tr>\n",
       "  </thead>\n",
       "  <tbody>\n",
       "    <tr>\n",
       "      <th>2</th>\n",
       "      <td>2</td>\n",
       "      <td>The Falcon and the Winter Soldier</td>\n",
       "      <td>2021.0</td>\n",
       "      <td>Action,Adventure,Drama</td>\n",
       "      <td>50</td>\n",
       "      <td>Following the events of 'Avengers: Endgame,' S...</td>\n",
       "      <td>7.5</td>\n",
       "    </tr>\n",
       "    <tr>\n",
       "      <th>3</th>\n",
       "      <td>3</td>\n",
       "      <td>WandaVision</td>\n",
       "      <td>2021.0</td>\n",
       "      <td>Action,Comedy,Drama</td>\n",
       "      <td>350</td>\n",
       "      <td>Blends the style of classic sitcoms with the M...</td>\n",
       "      <td>8.1</td>\n",
       "    </tr>\n",
       "    <tr>\n",
       "      <th>6</th>\n",
       "      <td>6</td>\n",
       "      <td>Avengers: Endgame</td>\n",
       "      <td>2019.0</td>\n",
       "      <td>Action,Adventure,Drama</td>\n",
       "      <td>181</td>\n",
       "      <td>After the devastating events of Avengers: Infi...</td>\n",
       "      <td>8.4</td>\n",
       "    </tr>\n",
       "    <tr>\n",
       "      <th>7</th>\n",
       "      <td>7</td>\n",
       "      <td>Guardians of the Galaxy</td>\n",
       "      <td>2014.0</td>\n",
       "      <td>Action,Adventure,Comedy</td>\n",
       "      <td>121</td>\n",
       "      <td>A group of intergalactic criminals must pull t...</td>\n",
       "      <td>8.0</td>\n",
       "    </tr>\n",
       "    <tr>\n",
       "      <th>9</th>\n",
       "      <td>9</td>\n",
       "      <td>Spider-Man: Far from Home</td>\n",
       "      <td>2019.0</td>\n",
       "      <td>Action,Adventure,Sci-Fi</td>\n",
       "      <td>129</td>\n",
       "      <td>Following the events of Avengers: Endgame (201...</td>\n",
       "      <td>7.5</td>\n",
       "    </tr>\n",
       "    <tr>\n",
       "      <th>...</th>\n",
       "      <td>...</td>\n",
       "      <td>...</td>\n",
       "      <td>...</td>\n",
       "      <td>...</td>\n",
       "      <td>...</td>\n",
       "      <td>...</td>\n",
       "      <td>...</td>\n",
       "    </tr>\n",
       "    <tr>\n",
       "      <th>1685</th>\n",
       "      <td>1685</td>\n",
       "      <td>DC's Legends of Tomorrow</td>\n",
       "      <td>2016.0</td>\n",
       "      <td>Action,Adventure,Drama</td>\n",
       "      <td>42</td>\n",
       "      <td>Worlds lived, worlds died. Nothing will ever b...</td>\n",
       "      <td>8.5</td>\n",
       "    </tr>\n",
       "    <tr>\n",
       "      <th>1686</th>\n",
       "      <td>1686</td>\n",
       "      <td>Supergirl</td>\n",
       "      <td>2015.0</td>\n",
       "      <td>Action,Adventure,Drama</td>\n",
       "      <td>42</td>\n",
       "      <td>In the wake of Lex Luthor's return, the show f...</td>\n",
       "      <td>8.3</td>\n",
       "    </tr>\n",
       "    <tr>\n",
       "      <th>1687</th>\n",
       "      <td>1687</td>\n",
       "      <td>Supergirl</td>\n",
       "      <td>2015.0</td>\n",
       "      <td>Action,Adventure,Drama</td>\n",
       "      <td>42</td>\n",
       "      <td>Kara comes face to face with Red Daughter and ...</td>\n",
       "      <td>8.1</td>\n",
       "    </tr>\n",
       "    <tr>\n",
       "      <th>1688</th>\n",
       "      <td>1688</td>\n",
       "      <td>Supergirl</td>\n",
       "      <td>2015.0</td>\n",
       "      <td>Action,Adventure,Drama</td>\n",
       "      <td>42</td>\n",
       "      <td>Kara and Lena head to Kaznia to hunt down Lex....</td>\n",
       "      <td>7.4</td>\n",
       "    </tr>\n",
       "    <tr>\n",
       "      <th>1689</th>\n",
       "      <td>1689</td>\n",
       "      <td>Supergirl</td>\n",
       "      <td>2015.0</td>\n",
       "      <td>Action,Adventure,Drama</td>\n",
       "      <td>42</td>\n",
       "      <td>Supergirl must deal with the destructive after...</td>\n",
       "      <td>7.5</td>\n",
       "    </tr>\n",
       "  </tbody>\n",
       "</table>\n",
       "<p>1483 rows × 7 columns</p>\n",
       "</div>"
      ],
      "text/plain": [
       "        ID                              Movie    Year  \\\n",
       "2        2  The Falcon and the Winter Soldier  2021.0   \n",
       "3        3                        WandaVision  2021.0   \n",
       "6        6                  Avengers: Endgame  2019.0   \n",
       "7        7            Guardians of the Galaxy  2014.0   \n",
       "9        9          Spider-Man: Far from Home  2019.0   \n",
       "...    ...                                ...     ...   \n",
       "1685  1685           DC's Legends of Tomorrow  2016.0   \n",
       "1686  1686                          Supergirl  2015.0   \n",
       "1687  1687                          Supergirl  2015.0   \n",
       "1688  1688                          Supergirl  2015.0   \n",
       "1689  1689                          Supergirl  2015.0   \n",
       "\n",
       "                        Genre  RunTime  \\\n",
       "2      Action,Adventure,Drama       50   \n",
       "3         Action,Comedy,Drama      350   \n",
       "6      Action,Adventure,Drama      181   \n",
       "7     Action,Adventure,Comedy      121   \n",
       "9     Action,Adventure,Sci-Fi      129   \n",
       "...                       ...      ...   \n",
       "1685   Action,Adventure,Drama       42   \n",
       "1686   Action,Adventure,Drama       42   \n",
       "1687   Action,Adventure,Drama       42   \n",
       "1688   Action,Adventure,Drama       42   \n",
       "1689   Action,Adventure,Drama       42   \n",
       "\n",
       "                                            Description  IMDB_Score  \n",
       "2     Following the events of 'Avengers: Endgame,' S...         7.5  \n",
       "3     Blends the style of classic sitcoms with the M...         8.1  \n",
       "6     After the devastating events of Avengers: Infi...         8.4  \n",
       "7     A group of intergalactic criminals must pull t...         8.0  \n",
       "9     Following the events of Avengers: Endgame (201...         7.5  \n",
       "...                                                 ...         ...  \n",
       "1685  Worlds lived, worlds died. Nothing will ever b...         8.5  \n",
       "1686  In the wake of Lex Luthor's return, the show f...         8.3  \n",
       "1687  Kara comes face to face with Red Daughter and ...         8.1  \n",
       "1688  Kara and Lena head to Kaznia to hunt down Lex....         7.4  \n",
       "1689  Supergirl must deal with the destructive after...         7.5  \n",
       "\n",
       "[1483 rows x 7 columns]"
      ]
     },
     "execution_count": 22,
     "metadata": {},
     "output_type": "execute_result"
    }
   ],
   "source": [
    "# IMDb puanı sıfır veya eksik olanları veri setinden çıkarıdık\n",
    "new_df= new_df[new_df[\"IMDB_Score\"] > 0]\n",
    "new_df"
   ]
  },
  {
   "cell_type": "markdown",
   "id": "a39b2c87-f956-4575-b318-863f4f09436b",
   "metadata": {},
   "source": [
    "### \"Genre\" sütununda birden fazla tür olduğu için her bir türü ayrı öznitelikler (one-hot encoding) halinde ayırmamız gerekecek. "
   ]
  },
  {
   "cell_type": "code",
   "execution_count": 23,
   "id": "fc7ce1c9-2915-40de-8d4a-19430d3f5c7f",
   "metadata": {},
   "outputs": [],
   "source": [
    "# Genre sütununu işleyelim, her bir türü ayrı sütunlara ayırarak one-hot encoding yapalım\n",
    "genres_split = new_df[\"Genre\"].str.get_dummies(sep=\",\")\n",
    "\n",
    "# Yeni tür sütunlarını veri setine ekleyelim\n",
    "new_df = pd.concat([new_df, genres_split], axis=1)"
   ]
  },
  {
   "cell_type": "code",
   "execution_count": 24,
   "id": "8186622a-e550-415e-95d0-7cd1856a3063",
   "metadata": {},
   "outputs": [
    {
     "data": {
      "text/html": [
       "<div>\n",
       "<style scoped>\n",
       "    .dataframe tbody tr th:only-of-type {\n",
       "        vertical-align: middle;\n",
       "    }\n",
       "\n",
       "    .dataframe tbody tr th {\n",
       "        vertical-align: top;\n",
       "    }\n",
       "\n",
       "    .dataframe thead th {\n",
       "        text-align: right;\n",
       "    }\n",
       "</style>\n",
       "<table border=\"1\" class=\"dataframe\">\n",
       "  <thead>\n",
       "    <tr style=\"text-align: right;\">\n",
       "      <th></th>\n",
       "      <th>ID</th>\n",
       "      <th>Movie</th>\n",
       "      <th>Year</th>\n",
       "      <th>Genre</th>\n",
       "      <th>RunTime</th>\n",
       "      <th>Description</th>\n",
       "      <th>IMDB_Score</th>\n",
       "      <th>Action</th>\n",
       "      <th>Adventure</th>\n",
       "      <th>Animation</th>\n",
       "      <th>...</th>\n",
       "      <th>Music</th>\n",
       "      <th>Mystery</th>\n",
       "      <th>News</th>\n",
       "      <th>Reality-TV</th>\n",
       "      <th>Romance</th>\n",
       "      <th>Sci-Fi</th>\n",
       "      <th>Short</th>\n",
       "      <th>Sport</th>\n",
       "      <th>Talk-Show</th>\n",
       "      <th>Thriller</th>\n",
       "    </tr>\n",
       "  </thead>\n",
       "  <tbody>\n",
       "    <tr>\n",
       "      <th>2</th>\n",
       "      <td>2</td>\n",
       "      <td>The Falcon and the Winter Soldier</td>\n",
       "      <td>2021.0</td>\n",
       "      <td>Action,Adventure,Drama</td>\n",
       "      <td>50</td>\n",
       "      <td>Following the events of 'Avengers: Endgame,' S...</td>\n",
       "      <td>7.5</td>\n",
       "      <td>1</td>\n",
       "      <td>1</td>\n",
       "      <td>0</td>\n",
       "      <td>...</td>\n",
       "      <td>0</td>\n",
       "      <td>0</td>\n",
       "      <td>0</td>\n",
       "      <td>0</td>\n",
       "      <td>0</td>\n",
       "      <td>0</td>\n",
       "      <td>0</td>\n",
       "      <td>0</td>\n",
       "      <td>0</td>\n",
       "      <td>0</td>\n",
       "    </tr>\n",
       "    <tr>\n",
       "      <th>3</th>\n",
       "      <td>3</td>\n",
       "      <td>WandaVision</td>\n",
       "      <td>2021.0</td>\n",
       "      <td>Action,Comedy,Drama</td>\n",
       "      <td>350</td>\n",
       "      <td>Blends the style of classic sitcoms with the M...</td>\n",
       "      <td>8.1</td>\n",
       "      <td>1</td>\n",
       "      <td>0</td>\n",
       "      <td>0</td>\n",
       "      <td>...</td>\n",
       "      <td>0</td>\n",
       "      <td>0</td>\n",
       "      <td>0</td>\n",
       "      <td>0</td>\n",
       "      <td>0</td>\n",
       "      <td>0</td>\n",
       "      <td>0</td>\n",
       "      <td>0</td>\n",
       "      <td>0</td>\n",
       "      <td>0</td>\n",
       "    </tr>\n",
       "    <tr>\n",
       "      <th>6</th>\n",
       "      <td>6</td>\n",
       "      <td>Avengers: Endgame</td>\n",
       "      <td>2019.0</td>\n",
       "      <td>Action,Adventure,Drama</td>\n",
       "      <td>181</td>\n",
       "      <td>After the devastating events of Avengers: Infi...</td>\n",
       "      <td>8.4</td>\n",
       "      <td>1</td>\n",
       "      <td>1</td>\n",
       "      <td>0</td>\n",
       "      <td>...</td>\n",
       "      <td>0</td>\n",
       "      <td>0</td>\n",
       "      <td>0</td>\n",
       "      <td>0</td>\n",
       "      <td>0</td>\n",
       "      <td>0</td>\n",
       "      <td>0</td>\n",
       "      <td>0</td>\n",
       "      <td>0</td>\n",
       "      <td>0</td>\n",
       "    </tr>\n",
       "    <tr>\n",
       "      <th>7</th>\n",
       "      <td>7</td>\n",
       "      <td>Guardians of the Galaxy</td>\n",
       "      <td>2014.0</td>\n",
       "      <td>Action,Adventure,Comedy</td>\n",
       "      <td>121</td>\n",
       "      <td>A group of intergalactic criminals must pull t...</td>\n",
       "      <td>8.0</td>\n",
       "      <td>1</td>\n",
       "      <td>1</td>\n",
       "      <td>0</td>\n",
       "      <td>...</td>\n",
       "      <td>0</td>\n",
       "      <td>0</td>\n",
       "      <td>0</td>\n",
       "      <td>0</td>\n",
       "      <td>0</td>\n",
       "      <td>0</td>\n",
       "      <td>0</td>\n",
       "      <td>0</td>\n",
       "      <td>0</td>\n",
       "      <td>0</td>\n",
       "    </tr>\n",
       "    <tr>\n",
       "      <th>9</th>\n",
       "      <td>9</td>\n",
       "      <td>Spider-Man: Far from Home</td>\n",
       "      <td>2019.0</td>\n",
       "      <td>Action,Adventure,Sci-Fi</td>\n",
       "      <td>129</td>\n",
       "      <td>Following the events of Avengers: Endgame (201...</td>\n",
       "      <td>7.5</td>\n",
       "      <td>1</td>\n",
       "      <td>1</td>\n",
       "      <td>0</td>\n",
       "      <td>...</td>\n",
       "      <td>0</td>\n",
       "      <td>0</td>\n",
       "      <td>0</td>\n",
       "      <td>0</td>\n",
       "      <td>0</td>\n",
       "      <td>1</td>\n",
       "      <td>0</td>\n",
       "      <td>0</td>\n",
       "      <td>0</td>\n",
       "      <td>0</td>\n",
       "    </tr>\n",
       "  </tbody>\n",
       "</table>\n",
       "<p>5 rows × 29 columns</p>\n",
       "</div>"
      ],
      "text/plain": [
       "   ID                              Movie    Year                    Genre  \\\n",
       "2   2  The Falcon and the Winter Soldier  2021.0   Action,Adventure,Drama   \n",
       "3   3                        WandaVision  2021.0      Action,Comedy,Drama   \n",
       "6   6                  Avengers: Endgame  2019.0   Action,Adventure,Drama   \n",
       "7   7            Guardians of the Galaxy  2014.0  Action,Adventure,Comedy   \n",
       "9   9          Spider-Man: Far from Home  2019.0  Action,Adventure,Sci-Fi   \n",
       "\n",
       "   RunTime                                        Description  IMDB_Score  \\\n",
       "2       50  Following the events of 'Avengers: Endgame,' S...         7.5   \n",
       "3      350  Blends the style of classic sitcoms with the M...         8.1   \n",
       "6      181  After the devastating events of Avengers: Infi...         8.4   \n",
       "7      121  A group of intergalactic criminals must pull t...         8.0   \n",
       "9      129  Following the events of Avengers: Endgame (201...         7.5   \n",
       "\n",
       "   Action  Adventure  Animation  ...  Music  Mystery  News  Reality-TV  \\\n",
       "2       1          1          0  ...      0        0     0           0   \n",
       "3       1          0          0  ...      0        0     0           0   \n",
       "6       1          1          0  ...      0        0     0           0   \n",
       "7       1          1          0  ...      0        0     0           0   \n",
       "9       1          1          0  ...      0        0     0           0   \n",
       "\n",
       "   Romance  Sci-Fi  Short  Sport  Talk-Show  Thriller  \n",
       "2        0       0      0      0          0         0  \n",
       "3        0       0      0      0          0         0  \n",
       "6        0       0      0      0          0         0  \n",
       "7        0       0      0      0          0         0  \n",
       "9        0       1      0      0          0         0  \n",
       "\n",
       "[5 rows x 29 columns]"
      ]
     },
     "execution_count": 24,
     "metadata": {},
     "output_type": "execute_result"
    }
   ],
   "source": [
    "new_df.head()"
   ]
  },
  {
   "cell_type": "code",
   "execution_count": 25,
   "id": "11fd1776-89c4-4dfb-86e7-69f81268f207",
   "metadata": {},
   "outputs": [
    {
     "data": {
      "image/png": "[encoded data removed]",
      "text/plain": [
       "<Figure size 1000x600 with 1 Axes>"
      ]
     },
     "metadata": {},
     "output_type": "display_data"
    }
   ],
   "source": [
    "import matplotlib.pyplot as plt\n",
    "\n",
    "# Her bir türün toplamda kaç filmde bulunduğunu hesapla\n",
    "genre_counts = genres_split.sum().sort_values(ascending=False)\n",
    "\n",
    "# Çubuk grafik (Bar Chart) oluştur\n",
    "plt.figure(figsize=(10, 6))\n",
    "plt.bar(genre_counts.index, genre_counts.values, color=\"skyblue\")\n",
    "\n",
    "# Grafik başlıkları ve etiketler\n",
    "plt.title(\"Film Türlerinin Dağılımı\", fontsize=16)\n",
    "plt.xlabel(\"Türler\", fontsize=12)\n",
    "plt.ylabel(\"Film Sayısı\", fontsize=12)\n",
    "plt.xticks(rotation=45, ha=\"right\")  # X eksenindeki tür isimlerini eğik yapalım\n",
    "\n",
    "# Grafiği göster\n",
    "plt.tight_layout()\n",
    "plt.show()"
   ]
  },
  {
   "cell_type": "markdown",
   "id": "c6e30c81-b353-44c7-8015-fecd5fc2ad75",
   "metadata": {},
   "source": [
    "# Makine Öğrenmesi"
   ]
  },
  {
   "cell_type": "markdown",
   "id": "0356c91f-1014-44bb-9ffc-9fbc4b3108df",
   "metadata": {},
   "source": [
    "### Kütüphanaler"
   ]
  },
  {
   "cell_type": "code",
   "execution_count": 41,
   "id": "e63ba92e-5260-4537-bbe1-8d84d1977b5e",
   "metadata": {},
   "outputs": [],
   "source": [
    "import pandas as pd\n",
    "import numpy as np\n",
    "from sklearn.model_selection import train_test_split\n",
    "from sklearn.ensemble import RandomForestRegressor\n",
    "from sklearn.metrics import mean_absolute_error, mean_squared_error, r2_score"
   ]
  },
  {
   "cell_type": "code",
   "execution_count": 42,
   "id": "0bc2ba8b-2b84-4708-9a77-bc9f47819225",
   "metadata": {},
   "outputs": [],
   "source": [
    "X = new_df.drop([\"Movie\", \"IMDB_Score\", \"Description\", \"Genre\"], axis=1)\n",
    "y = new_df[\"IMDB_Score\"] "
   ]
  },
  {
   "cell_type": "code",
   "execution_count": 43,
   "id": "3adedad1-8556-4426-9703-94bf40c977b0",
   "metadata": {},
   "outputs": [],
   "source": [
    "X_train, X_test, y_train, y_test = train_test_split(X, y, test_size=0.2, random_state=42)"
   ]
  },
  {
   "cell_type": "code",
   "execution_count": 44,
   "id": "ded59314-3f47-43b2-8a5c-b3c0ae7d4e67",
   "metadata": {},
   "outputs": [
    {
     "data": {
      "text/html": [
       "<style>#sk-container-id-4 {color: black;background-color: white;}#sk-container-id-4 pre{padding: 0;}#sk-container-id-4 div.sk-toggleable {background-color: white;}#sk-container-id-4 label.sk-toggleable__label {cursor: pointer;display: block;width: 100%;margin-bottom: 0;padding: 0.3em;box-sizing: border-box;text-align: center;}#sk-container-id-4 label.sk-toggleable__label-arrow:before {content: \"▸\";float: left;margin-right: 0.25em;color: #696969;}#sk-container-id-4 label.sk-toggleable__label-arrow:hover:before {color: black;}#sk-container-id-4 div.sk-estimator:hover label.sk-toggleable__label-arrow:before {color: black;}#sk-container-id-4 div.sk-toggleable__content {max-height: 0;max-width: 0;overflow: hidden;text-align: left;background-color: #f0f8ff;}#sk-container-id-4 div.sk-toggleable__content pre {margin: 0.2em;color: black;border-radius: 0.25em;background-color: #f0f8ff;}#sk-container-id-4 input.sk-toggleable__control:checked~div.sk-toggleable__content {max-height: 200px;max-width: 100%;overflow: auto;}#sk-container-id-4 input.sk-toggleable__control:checked~label.sk-toggleable__label-arrow:before {content: \"▾\";}#sk-container-id-4 div.sk-estimator input.sk-toggleable__control:checked~label.sk-toggleable__label {background-color: #d4ebff;}#sk-container-id-4 div.sk-label input.sk-toggleable__control:checked~label.sk-toggleable__label {background-color: #d4ebff;}#sk-container-id-4 input.sk-hidden--visually {border: 0;clip: rect(1px 1px 1px 1px);clip: rect(1px, 1px, 1px, 1px);height: 1px;margin: -1px;overflow: hidden;padding: 0;position: absolute;width: 1px;}#sk-container-id-4 div.sk-estimator {font-family: monospace;background-color: #f0f8ff;border: 1px dotted black;border-radius: 0.25em;box-sizing: border-box;margin-bottom: 0.5em;}#sk-container-id-4 div.sk-estimator:hover {background-color: #d4ebff;}#sk-container-id-4 div.sk-parallel-item::after {content: \"\";width: 100%;border-bottom: 1px solid gray;flex-grow: 1;}#sk-container-id-4 div.sk-label:hover label.sk-toggleable__label {background-color: #d4ebff;}#sk-container-id-4 div.sk-serial::before {content: \"\";position: absolute;border-left: 1px solid gray;box-sizing: border-box;top: 0;bottom: 0;left: 50%;z-index: 0;}#sk-container-id-4 div.sk-serial {display: flex;flex-direction: column;align-items: center;background-color: white;padding-right: 0.2em;padding-left: 0.2em;position: relative;}#sk-container-id-4 div.sk-item {position: relative;z-index: 1;}#sk-container-id-4 div.sk-parallel {display: flex;align-items: stretch;justify-content: center;background-color: white;position: relative;}#sk-container-id-4 div.sk-item::before, #sk-container-id-4 div.sk-parallel-item::before {content: \"\";position: absolute;border-left: 1px solid gray;box-sizing: border-box;top: 0;bottom: 0;left: 50%;z-index: -1;}#sk-container-id-4 div.sk-parallel-item {display: flex;flex-direction: column;z-index: 1;position: relative;background-color: white;}#sk-container-id-4 div.sk-parallel-item:first-child::after {align-self: flex-end;width: 50%;}#sk-container-id-4 div.sk-parallel-item:last-child::after {align-self: flex-start;width: 50%;}#sk-container-id-4 div.sk-parallel-item:only-child::after {width: 0;}#sk-container-id-4 div.sk-dashed-wrapped {border: 1px dashed gray;margin: 0 0.4em 0.5em 0.4em;box-sizing: border-box;padding-bottom: 0.4em;background-color: white;}#sk-container-id-4 div.sk-label label {font-family: monospace;font-weight: bold;display: inline-block;line-height: 1.2em;}#sk-container-id-4 div.sk-label-container {text-align: center;}#sk-container-id-4 div.sk-container {/* jupyter's `normalize.less` sets `[hidden] { display: none; }` but bootstrap.min.css set `[hidden] { display: none !important; }` so we also need the `!important` here to be able to override the default hidden behavior on the sphinx rendered scikit-learn.org. See: https://github.com/scikit-learn/scikit-learn/issues/21755 */display: inline-block !important;position: relative;}#sk-container-id-4 div.sk-text-repr-fallback {display: none;}</style><div id=\"sk-container-id-4\" class=\"sk-top-container\"><div class=\"sk-text-repr-fallback\"><pre>RandomForestRegressor(random_state=42)</pre><b>In a Jupyter environment, please rerun this cell to show the HTML representation or trust the notebook. <br />On GitHub, the HTML representation is unable to render, please try loading this page with nbviewer.org.</b></div><div class=\"sk-container\" hidden><div class=\"sk-item\"><div class=\"sk-estimator sk-toggleable\"><input class=\"sk-toggleable__control sk-hidden--visually\" id=\"sk-estimator-id-4\" type=\"checkbox\" checked><label for=\"sk-estimator-id-4\" class=\"sk-toggleable__label sk-toggleable__label-arrow\">RandomForestRegressor</label><div class=\"sk-toggleable__content\"><pre>RandomForestRegressor(random_state=42)</pre></div></div></div></div></div>"
      ],
      "text/plain": [
       "RandomForestRegressor(random_state=42)"
      ]
     },
     "execution_count": 44,
     "metadata": {},
     "output_type": "execute_result"
    }
   ],
   "source": [
    "model = RandomForestRegressor(n_estimators=100, random_state=42)\n",
    "model.fit(X_train, y_train)"
   ]
  },
  {
   "cell_type": "code",
   "execution_count": 45,
   "id": "77040997-f62c-4ec2-8eb2-f15ae2ee6769",
   "metadata": {},
   "outputs": [],
   "source": [
    "# Test verileri ile IMDb puanlarını tahmin edelim\n",
    "y_pred = model.predict(X_test)"
   ]
  },
  {
   "cell_type": "code",
   "execution_count": 46,
   "id": "20bd79c3-8382-4c5a-ac53-dff959c14d43",
   "metadata": {},
   "outputs": [
    {
     "name": "stdout",
     "output_type": "stream",
     "text": [
      "Mean Absolute Error (MAE): 0.45938720538720573\n",
      "Mean Squared Error (MSE): 0.36698960269360303\n",
      "Root Mean Squared Error (RMSE): 0.6057966677802075\n",
      "R² Skoru: 0.5578379940037558\n"
     ]
    }
   ],
   "source": [
    "# Mean Absolute Error (MAE)\n",
    "mae = mean_absolute_error(y_test, y_pred)\n",
    "\n",
    "# Mean Squared Error (MSE)\n",
    "mse = mean_squared_error(y_test, y_pred)\n",
    "\n",
    "# Root Mean Squared Error (RMSE)\n",
    "rmse = np.sqrt(mse)\n",
    "\n",
    "# R² Skoru\n",
    "r2 = r2_score(y_test, y_pred)\n",
    "\n",
    "# Performans sonuçlarını yazdıralım\n",
    "print(f\"Mean Absolute Error (MAE): {mae}\")\n",
    "print(f\"Mean Squared Error (MSE): {mse}\")\n",
    "print(f\"Root Mean Squared Error (RMSE): {rmse}\")\n",
    "print(f\"R² Skoru: {r2}\")\n"
   ]
  }
 ],
 "metadata": {
  "kernelspec": {
   "display_name": "Python 3 (ipykernel)",
   "language": "python",
   "name": "python3"
  },
  "language_info": {
   "codemirror_mode": {
    "name": "ipython",
    "version": 3
   },
   "file_extension": ".py",
   "mimetype": "text/x-python",
   "name": "python",
   "nbconvert_exporter": "python",
   "pygments_lexer": "ipython3",
   "version": "3.11.7"
  }
 },
 "nbformat": 4,
 "nbformat_minor": 5
}
