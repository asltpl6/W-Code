{
 "cells": [
  {
   "cell_type": "markdown",
   "id": "f7e6ea47-0fc2-4eb4-ac5f-69a76938bf19",
   "metadata": {},
   "source": [
    "### 1. Bir sözlük oluşturulur ve bu sözlükte öğrencilerin isimleri ve Matematik, Fizik, Kimya notları tutulur. Kullanıcıdan isim ve ders ismi(Matematik, Fizik, Kimya) istenir ve bu bilgilere göre çıktı verilir."
   ]
  },
  {
   "cell_type": "code",
   "execution_count": 1,
   "id": "07cd3a29-48ca-49e5-94b3-382b09c15a83",
   "metadata": {},
   "outputs": [],
   "source": [
    "list = {\n",
    "    \"Aslı\": {\"Matematik\": 85, \"Fizik\": 78, \"Kimya\": 92},\n",
    "    \"Esil\": {\"Matematik\": 90, \"Fizik\": 88, \"Kimya\": 79},\n",
    "    \"Naide\": {\"Matematik\": 76, \"Fizik\": 84, \"Kimya\": 80}\n",
    "}"
   ]
  },
  {
   "cell_type": "code",
   "execution_count": 2,
   "id": "ac08acc8-f4bf-4c38-970f-de48d81cf081",
   "metadata": {},
   "outputs": [
    {
     "name": "stdin",
     "output_type": "stream",
     "text": [
      "Name:  Esil\n",
      "Lesson:  Fizik\n"
     ]
    },
    {
     "name": "stdout",
     "output_type": "stream",
     "text": [
      "88\n"
     ]
    }
   ],
   "source": [
    "name = input(\"Name: \")\n",
    "for list_name in list.keys():\n",
    "    if name in list_name:\n",
    "        lesson = input(\"Lesson: \")\n",
    "        for lesson_name in list[name].keys():\n",
    "            if lesson in lesson_name:\n",
    "                print(list[name][lesson])"
   ]
  },
  {
   "cell_type": "markdown",
   "id": "b52f38f1-7165-42bb-a5df-d17904c813e5",
   "metadata": {},
   "source": [
    "### 2. Sözlük üzerinde değerleri değiştirme, yeni değer ekleme, kullanıcıya ulaşmak istediği bilgileri sorma gibi uygulamalar yapın."
   ]
  },
  {
   "cell_type": "code",
   "execution_count": 5,
   "id": "d18bd04d-9030-49ff-a021-2f0a7eb5ecc9",
   "metadata": {},
   "outputs": [],
   "source": [
    "N_list = {\n",
    "    \"Aslı\": {\"Matematik\": 85, \"Fizik\": 78, \"Kimya\": 92},\n",
    "    \"Esil\": {\"Matematik\": 90, \"Fizik\": 88, \"Kimya\": 79},\n",
    "    \"Naime\": {\"Matematik\": 76, \"Fizik\": 84, \"Kimya\": 80}\n",
    "}"
   ]
  },
  {
   "cell_type": "code",
   "execution_count": 6,
   "id": "605214dd-d13e-4e65-9380-5e2d9bdcf452",
   "metadata": {},
   "outputs": [
    {
     "data": {
      "text/plain": [
       "dict_items([('Aslı', {'Matematik': 85, 'Fizik': 78, 'Kimya': 92}), ('Esil', {'Matematik': 90, 'Fizik': 88, 'Kimya': 79}), ('Naime', {'Matematik': 76, 'Fizik': 84, 'Kimya': 80})])"
      ]
     },
     "execution_count": 6,
     "metadata": {},
     "output_type": "execute_result"
    }
   ],
   "source": [
    "N_list.items()"
   ]
  },
  {
   "cell_type": "code",
   "execution_count": 7,
   "id": "799ea6f7-b82d-4519-a751-9cfb62f07708",
   "metadata": {},
   "outputs": [],
   "source": [
    "N_list.update({\"Naime\": {\"Matematik\": 0, \"Fizik\": 0, \"Kimya\": 0}}) ### Değerleri güncelledi"
   ]
  },
  {
   "cell_type": "code",
   "execution_count": 8,
   "id": "e7e0965c-3029-48e4-b94e-17f1e3f8e16d",
   "metadata": {},
   "outputs": [
    {
     "data": {
      "text/plain": [
       "dict_items([('Aslı', {'Matematik': 85, 'Fizik': 78, 'Kimya': 92}), ('Esil', {'Matematik': 90, 'Fizik': 88, 'Kimya': 79}), ('Naime', {'Matematik': 0, 'Fizik': 0, 'Kimya': 0})])"
      ]
     },
     "execution_count": 8,
     "metadata": {},
     "output_type": "execute_result"
    }
   ],
   "source": [
    "N_list.items()"
   ]
  },
  {
   "cell_type": "code",
   "execution_count": 9,
   "id": "4f7383f9-c6f3-4ba0-836e-f64388e688aa",
   "metadata": {},
   "outputs": [],
   "source": [
    "N_list.update({\"Asaf\": {\"Matematik\": 100, \"Fizik\": 80, \"Kimya\": 90}}) ### Yeni değerler getirdik"
   ]
  },
  {
   "cell_type": "code",
   "execution_count": 10,
   "id": "ea7c1522-6b89-4b80-b4e8-d8ede63a6ea2",
   "metadata": {},
   "outputs": [
    {
     "data": {
      "text/plain": [
       "dict_items([('Aslı', {'Matematik': 85, 'Fizik': 78, 'Kimya': 92}), ('Esil', {'Matematik': 90, 'Fizik': 88, 'Kimya': 79}), ('Naime', {'Matematik': 0, 'Fizik': 0, 'Kimya': 0}), ('Asaf', {'Matematik': 100, 'Fizik': 80, 'Kimya': 90})])"
      ]
     },
     "execution_count": 10,
     "metadata": {},
     "output_type": "execute_result"
    }
   ],
   "source": [
    "N_list.items()"
   ]
  },
  {
   "cell_type": "code",
   "execution_count": 11,
   "id": "76bb465a-a81b-4955-b0e3-6244c0a138c9",
   "metadata": {},
   "outputs": [
    {
     "data": {
      "text/plain": [
       "dict_keys(['Aslı', 'Esil', 'Naime', 'Asaf'])"
      ]
     },
     "execution_count": 11,
     "metadata": {},
     "output_type": "execute_result"
    }
   ],
   "source": [
    "N_list.keys() "
   ]
  },
  {
   "cell_type": "code",
   "execution_count": 12,
   "id": "9b3f071f-89a6-4bab-bc90-38e37abca4bd",
   "metadata": {},
   "outputs": [
    {
     "data": {
      "text/plain": [
       "dict_values([{'Matematik': 85, 'Fizik': 78, 'Kimya': 92}, {'Matematik': 90, 'Fizik': 88, 'Kimya': 79}, {'Matematik': 0, 'Fizik': 0, 'Kimya': 0}, {'Matematik': 100, 'Fizik': 80, 'Kimya': 90}])"
      ]
     },
     "execution_count": 12,
     "metadata": {},
     "output_type": "execute_result"
    }
   ],
   "source": [
    "N_list.values() "
   ]
  },
  {
   "cell_type": "code",
   "execution_count": 13,
   "id": "8f7217cf-1b74-4eb3-97ac-63e905490631",
   "metadata": {},
   "outputs": [
    {
     "data": {
      "text/plain": [
       "{'Matematik': 85, 'Fizik': 78, 'Kimya': 92}"
      ]
     },
     "execution_count": 13,
     "metadata": {},
     "output_type": "execute_result"
    }
   ],
   "source": [
    "N_list[\"Aslı\"] "
   ]
  },
  {
   "cell_type": "code",
   "execution_count": 14,
   "id": "084dfc57-6929-4bd5-87df-ec9516397bf5",
   "metadata": {},
   "outputs": [
    {
     "data": {
      "text/plain": [
       "dict_values([85, 78, 92])"
      ]
     },
     "execution_count": 14,
     "metadata": {},
     "output_type": "execute_result"
    }
   ],
   "source": [
    "N_list[\"Aslı\"].values() "
   ]
  },
  {
   "cell_type": "code",
   "execution_count": 15,
   "id": "67079c11-5e7b-4cdd-ad72-90056ae6a427",
   "metadata": {},
   "outputs": [
    {
     "data": {
      "text/plain": [
       "85"
      ]
     },
     "execution_count": 15,
     "metadata": {},
     "output_type": "execute_result"
    }
   ],
   "source": [
    "N_list[\"Aslı\"][\"Matematik\"]"
   ]
  },
  {
   "cell_type": "code",
   "execution_count": null,
   "id": "e017b2b0-7e8f-43d3-8087-f00a6726fd59",
   "metadata": {},
   "outputs": [],
   "source": []
  }
 ],
 "metadata": {
  "kernelspec": {
   "display_name": "Python 3 (ipykernel)",
   "language": "python",
   "name": "python3"
  },
  "language_info": {
   "codemirror_mode": {
    "name": "ipython",
    "version": 3
   },
   "file_extension": ".py",
   "mimetype": "text/x-python",
   "name": "python",
   "nbconvert_exporter": "python",
   "pygments_lexer": "ipython3",
   "version": "3.11.7"
  }
 },
 "nbformat": 4,
 "nbformat_minor": 5
}
