{
 "cells": [
  {
   "cell_type": "markdown",
   "id": "19474860-ae14-4651-b75b-acd1775b6fab",
   "metadata": {},
   "source": [
    "### 1. Kullanıcıdan pi değeri ve yarıçap bilgisi alarak dairenin alanını hesaplayan bir fonksiyon oluşturulur."
   ]
  },
  {
   "cell_type": "code",
   "execution_count": 2,
   "id": "1f70045c-3a01-4760-ac61-53df3aedf541",
   "metadata": {},
   "outputs": [
    {
     "name": "stdin",
     "output_type": "stream",
     "text": [
      "Enter number of pi 3\n",
      "half the diameter 2\n"
     ]
    },
    {
     "data": {
      "text/plain": [
       "12"
      ]
     },
     "execution_count": 2,
     "metadata": {},
     "output_type": "execute_result"
    }
   ],
   "source": [
    "pi = int(input(\"Enter number of pi\"))\n",
    "r = int(input(\"half the diameter\"))\n",
    "\n",
    "area = r**2*pi\n",
    "area\n"
   ]
  },
  {
   "cell_type": "code",
   "execution_count": 3,
   "id": "6f72abb1-de4a-474d-85b1-a0e169726066",
   "metadata": {},
   "outputs": [
    {
     "name": "stdin",
     "output_type": "stream",
     "text": [
      "Enter number of pi 3\n",
      "Half the diameter 2\n"
     ]
    },
    {
     "name": "stdout",
     "output_type": "stream",
     "text": [
      "Area of a circle: 12\n"
     ]
    }
   ],
   "source": [
    "pi = int(input(\"Enter number of pi\"))\n",
    "r = int(input(\"Half the diameter\"))\n",
    "\n",
    "def area(*arg):\n",
    "    return r**2*pi\n",
    "\n",
    "result = area(pi,r)\n",
    "\n",
    "print(f\"Area of a circle: {result}\")\n"
   ]
  },
  {
   "cell_type": "markdown",
   "id": "8922d470-998a-4ecd-ba6e-940f006ee5d3",
   "metadata": {},
   "source": [
    "### 2. Faktöriyel adında fonksiyon oluşturulur. Döngü kullanarak parametre olarak girilen sayının faktöriyeli hesaplanır. Format metodunu kullanılarak ekrana yazdırılır."
   ]
  },
  {
   "cell_type": "code",
   "execution_count": 8,
   "id": "8fd82a37-da92-4046-8df6-947d489b5c4b",
   "metadata": {},
   "outputs": [
    {
     "name": "stdin",
     "output_type": "stream",
     "text": [
      "Enter a number 4\n"
     ]
    },
    {
     "name": "stdout",
     "output_type": "stream",
     "text": [
      "The factorial of the number entered:24\n"
     ]
    }
   ],
   "source": [
    "number = int(input(\"Enter a number\"))\n",
    "def factorial(*arg):\n",
    "    result = 1\n",
    "    for i in range(1,number+1):\n",
    "        result*=i\n",
    "    print(\"The factorial of the number entered:{}\".format(result))\n",
    "factorial(number)"
   ]
  },
  {
   "cell_type": "code",
   "execution_count": 24,
   "id": "5e1f3930-10b6-461a-a757-1c469dd8ee82",
   "metadata": {},
   "outputs": [
    {
     "name": "stdin",
     "output_type": "stream",
     "text": [
      "Enter a number 5\n"
     ]
    },
    {
     "name": "stdout",
     "output_type": "stream",
     "text": [
      "The factorial of the number entered:120\n"
     ]
    },
    {
     "name": "stdin",
     "output_type": "stream",
     "text": [
      "Enter a number 6\n"
     ]
    },
    {
     "name": "stdout",
     "output_type": "stream",
     "text": [
      "The factorial of the number entered:720\n"
     ]
    },
    {
     "ename": "KeyboardInterrupt",
     "evalue": "Interrupted by user",
     "output_type": "error",
     "traceback": [
      "\u001b[1;31m---------------------------------------------------------------------------\u001b[0m",
      "\u001b[1;31mKeyboardInterrupt\u001b[0m                         Traceback (most recent call last)",
      "Cell \u001b[1;32mIn[24], line 2\u001b[0m\n\u001b[0;32m      1\u001b[0m \u001b[38;5;28;01mwhile\u001b[39;00m \u001b[38;5;28;01mTrue\u001b[39;00m:\n\u001b[1;32m----> 2\u001b[0m     number \u001b[38;5;241m=\u001b[39m \u001b[38;5;28mint\u001b[39m(\u001b[38;5;28minput\u001b[39m(\u001b[38;5;124m\"\u001b[39m\u001b[38;5;124mEnter a number\u001b[39m\u001b[38;5;124m\"\u001b[39m))\n\u001b[0;32m      3\u001b[0m     \u001b[38;5;28;01mdef\u001b[39;00m \u001b[38;5;21mfactorial\u001b[39m(\u001b[38;5;241m*\u001b[39marg):\n\u001b[0;32m      4\u001b[0m         result \u001b[38;5;241m=\u001b[39m \u001b[38;5;241m1\u001b[39m\n",
      "File \u001b[1;32m~\\anaconda3\\Lib\\site-packages\\ipykernel\\kernelbase.py:1262\u001b[0m, in \u001b[0;36mKernel.raw_input\u001b[1;34m(self, prompt)\u001b[0m\n\u001b[0;32m   1260\u001b[0m     msg \u001b[38;5;241m=\u001b[39m \u001b[38;5;124m\"\u001b[39m\u001b[38;5;124mraw_input was called, but this frontend does not support input requests.\u001b[39m\u001b[38;5;124m\"\u001b[39m\n\u001b[0;32m   1261\u001b[0m     \u001b[38;5;28;01mraise\u001b[39;00m StdinNotImplementedError(msg)\n\u001b[1;32m-> 1262\u001b[0m \u001b[38;5;28;01mreturn\u001b[39;00m \u001b[38;5;28mself\u001b[39m\u001b[38;5;241m.\u001b[39m_input_request(\n\u001b[0;32m   1263\u001b[0m     \u001b[38;5;28mstr\u001b[39m(prompt),\n\u001b[0;32m   1264\u001b[0m     \u001b[38;5;28mself\u001b[39m\u001b[38;5;241m.\u001b[39m_parent_ident[\u001b[38;5;124m\"\u001b[39m\u001b[38;5;124mshell\u001b[39m\u001b[38;5;124m\"\u001b[39m],\n\u001b[0;32m   1265\u001b[0m     \u001b[38;5;28mself\u001b[39m\u001b[38;5;241m.\u001b[39mget_parent(\u001b[38;5;124m\"\u001b[39m\u001b[38;5;124mshell\u001b[39m\u001b[38;5;124m\"\u001b[39m),\n\u001b[0;32m   1266\u001b[0m     password\u001b[38;5;241m=\u001b[39m\u001b[38;5;28;01mFalse\u001b[39;00m,\n\u001b[0;32m   1267\u001b[0m )\n",
      "File \u001b[1;32m~\\anaconda3\\Lib\\site-packages\\ipykernel\\kernelbase.py:1305\u001b[0m, in \u001b[0;36mKernel._input_request\u001b[1;34m(self, prompt, ident, parent, password)\u001b[0m\n\u001b[0;32m   1302\u001b[0m \u001b[38;5;28;01mexcept\u001b[39;00m \u001b[38;5;167;01mKeyboardInterrupt\u001b[39;00m:\n\u001b[0;32m   1303\u001b[0m     \u001b[38;5;66;03m# re-raise KeyboardInterrupt, to truncate traceback\u001b[39;00m\n\u001b[0;32m   1304\u001b[0m     msg \u001b[38;5;241m=\u001b[39m \u001b[38;5;124m\"\u001b[39m\u001b[38;5;124mInterrupted by user\u001b[39m\u001b[38;5;124m\"\u001b[39m\n\u001b[1;32m-> 1305\u001b[0m     \u001b[38;5;28;01mraise\u001b[39;00m \u001b[38;5;167;01mKeyboardInterrupt\u001b[39;00m(msg) \u001b[38;5;28;01mfrom\u001b[39;00m \u001b[38;5;28;01mNone\u001b[39;00m\n\u001b[0;32m   1306\u001b[0m \u001b[38;5;28;01mexcept\u001b[39;00m \u001b[38;5;167;01mException\u001b[39;00m:\n\u001b[0;32m   1307\u001b[0m     \u001b[38;5;28mself\u001b[39m\u001b[38;5;241m.\u001b[39mlog\u001b[38;5;241m.\u001b[39mwarning(\u001b[38;5;124m\"\u001b[39m\u001b[38;5;124mInvalid Message:\u001b[39m\u001b[38;5;124m\"\u001b[39m, exc_info\u001b[38;5;241m=\u001b[39m\u001b[38;5;28;01mTrue\u001b[39;00m)\n",
      "\u001b[1;31mKeyboardInterrupt\u001b[0m: Interrupted by user"
     ]
    }
   ],
   "source": [
    "while True:\n",
    "    number = int(input(\"Enter a number\"))\n",
    "    def factorial(*arg):\n",
    "        result = 1\n",
    "        for i in range(1,number+1):\n",
    "            result*=i\n",
    "        return result\n",
    "    print(\"The factorial of the number entered:{}\".format(factorial(number)))\n"
   ]
  },
  {
   "cell_type": "markdown",
   "id": "25fd8e32-851a-4d85-a439-9597c3ce881c",
   "metadata": {},
   "source": [
    "### 3. Kişinin fonksiyona doğum yılını vererek kaç yaşında olduğunu hesaplayan bir fonksiyon oluşturun."
   ]
  },
  {
   "cell_type": "code",
   "execution_count": 25,
   "id": "ee24d18d-b0e0-4b61-b657-8ee0ac03eddd",
   "metadata": {},
   "outputs": [
    {
     "data": {
      "text/plain": [
       "26"
      ]
     },
     "execution_count": 25,
     "metadata": {},
     "output_type": "execute_result"
    }
   ],
   "source": [
    "def year(age):\n",
    "    return 2024-age\n",
    "result = year(1998)\n",
    "result"
   ]
  },
  {
   "cell_type": "markdown",
   "id": "b45c2592-9f43-4cda-a728-494f2f907d19",
   "metadata": {},
   "source": [
    "### 4.Doğum yılı ve isim bilgisi verilen fonksiyon kişinin emekli olup olmadığını söylesin.(Kişi 65 yaşında ise emekli olur.) Burada yaş hesabını yukarıdaki örnekteki fonksiyonu kullanarak yapsın.(Yani fonksiyon içinde fonksiyon kullanmanızı istiyorum :)) Kişi 65 yaşında ya da daha fazlaysa \"Emekli oldunuz\" yanıtını, 65 yaşından küçükse emekliliğine kaç yıl kaldığını da hesaplayarak \"(isim) emekliliğine (yıl) kaldı.\" yanıtını versin."
   ]
  },
  {
   "cell_type": "code",
   "execution_count": 26,
   "id": "59277ee6-f08c-474e-b0e2-8ea1dcf81965",
   "metadata": {},
   "outputs": [],
   "source": [
    "class Retirement:\n",
    "    def __init__(self,name,birth_year):\n",
    "        self.name = name\n",
    "        self.birth_year = birth_year\n",
    "\n",
    "    def age_cal(self, current_year):\n",
    "        age = current_year - self.birth_year\n",
    "        return age\n",
    "\n",
    "    def ret_info(self,current_year):\n",
    "        age = self.age_cal(current_year)\n",
    "        if age >= 65:\n",
    "            print(f\"{self.name} you're retired.\")\n",
    "        else:\n",
    "            remaining_year = 65 - age\n",
    "            print(f\"{self.name},there are {remaining_year} years left.\")"
   ]
  },
  {
   "cell_type": "code",
   "execution_count": 27,
   "id": "100bfc19-7d5c-4cf1-af20-0f3c686e9a50",
   "metadata": {},
   "outputs": [
    {
     "name": "stdout",
     "output_type": "stream",
     "text": [
      "Aslı,there are 39 years left.\n"
     ]
    }
   ],
   "source": [
    "person1 = Retirement(\"Aslı\", 1998)\n",
    "person1.ret_info(2024)"
   ]
  },
  {
   "cell_type": "code",
   "execution_count": null,
   "id": "b5cf1467-f09d-4fb1-b418-6d40da28b034",
   "metadata": {},
   "outputs": [],
   "source": []
  }
 ],
 "metadata": {
  "kernelspec": {
   "display_name": "Python 3 (ipykernel)",
   "language": "python",
   "name": "python3"
  },
  "language_info": {
   "codemirror_mode": {
    "name": "ipython",
    "version": 3
   },
   "file_extension": ".py",
   "mimetype": "text/x-python",
   "name": "python",
   "nbconvert_exporter": "python",
   "pygments_lexer": "ipython3",
   "version": "3.11.7"
  }
 },
 "nbformat": 4,
 "nbformat_minor": 5
}
