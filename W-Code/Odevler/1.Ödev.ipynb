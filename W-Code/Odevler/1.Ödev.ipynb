{
 "cells": [
  {
   "cell_type": "markdown",
   "id": "c71ae7a3-a93c-4ed9-8930-6f70955fa874",
   "metadata": {},
   "source": [
    "### Ödev-1: Değişkenlere atanmış değerlerin veri tipleri arasında dönüşüm yapılır."
   ]
  },
  {
   "cell_type": "code",
   "execution_count": 1,
   "id": "f3ec16c2-8b80-4d61-ad91-c267bcc433ac",
   "metadata": {},
   "outputs": [
    {
     "data": {
      "text/plain": [
       "float"
      ]
     },
     "execution_count": 1,
     "metadata": {},
     "output_type": "execute_result"
    }
   ],
   "source": [
    "float_text = 19.93\n",
    "type(float_text)"
   ]
  },
  {
   "cell_type": "code",
   "execution_count": 2,
   "id": "8ee723be-61ce-4573-adc7-4459c24ac9ea",
   "metadata": {},
   "outputs": [
    {
     "data": {
      "text/plain": [
       "int"
      ]
     },
     "execution_count": 2,
     "metadata": {},
     "output_type": "execute_result"
    }
   ],
   "source": [
    "int_text = int(float_text)\n",
    "type(int_text)"
   ]
  },
  {
   "cell_type": "code",
   "execution_count": 3,
   "id": "5454f829-871b-4985-83cb-663b246e1597",
   "metadata": {},
   "outputs": [
    {
     "data": {
      "text/plain": [
       "19"
      ]
     },
     "execution_count": 3,
     "metadata": {},
     "output_type": "execute_result"
    }
   ],
   "source": [
    "int_text"
   ]
  },
  {
   "cell_type": "code",
   "execution_count": 4,
   "id": "bb778ef6-e06e-4de6-b309-076dca9872a5",
   "metadata": {},
   "outputs": [
    {
     "data": {
      "text/plain": [
       "str"
      ]
     },
     "execution_count": 4,
     "metadata": {},
     "output_type": "execute_result"
    }
   ],
   "source": [
    "str_text = str(int_text)\n",
    "type(str_text)"
   ]
  },
  {
   "cell_type": "code",
   "execution_count": 5,
   "id": "2fca4b58-c079-4881-8b7a-3081b3c86ac5",
   "metadata": {},
   "outputs": [
    {
     "data": {
      "text/plain": [
       "'19'"
      ]
     },
     "execution_count": 5,
     "metadata": {},
     "output_type": "execute_result"
    }
   ],
   "source": [
    "str_text"
   ]
  },
  {
   "cell_type": "code",
   "execution_count": 6,
   "id": "07c6b8d9-2c3c-49fb-acd5-e4b357d75fcb",
   "metadata": {},
   "outputs": [
    {
     "data": {
      "text/plain": [
       "bool"
      ]
     },
     "execution_count": 6,
     "metadata": {},
     "output_type": "execute_result"
    }
   ],
   "source": [
    "bool_text = True\n",
    "type(bool_text)"
   ]
  },
  {
   "cell_type": "code",
   "execution_count": 7,
   "id": "3171dd2e-7c3b-415f-bb27-ae3b50c117ec",
   "metadata": {},
   "outputs": [
    {
     "data": {
      "text/plain": [
       "str"
      ]
     },
     "execution_count": 7,
     "metadata": {},
     "output_type": "execute_result"
    }
   ],
   "source": [
    "str_bool = str(bool_text)\n",
    "type(str_bool)"
   ]
  },
  {
   "cell_type": "code",
   "execution_count": 8,
   "id": "6e9a6c15-4e59-4759-bf1d-dfe0744a5f52",
   "metadata": {},
   "outputs": [
    {
     "data": {
      "text/plain": [
       "'True'"
      ]
     },
     "execution_count": 8,
     "metadata": {},
     "output_type": "execute_result"
    }
   ],
   "source": [
    "str_bool"
   ]
  },
  {
   "cell_type": "markdown",
   "id": "cec79e94-88e3-4e3b-a143-0f85d44ae382",
   "metadata": {},
   "source": [
    "### Ödev-2: İsimlerden oluşan üç değişkene yaş değerleri atanır. Belirlenen üç değişken birbiriyle karşılaştırma operatörleri ile karşılaştırılır. Bu karşılaştırmalara mantıksal operatörler de eklenir."
   ]
  },
  {
   "cell_type": "code",
   "execution_count": 11,
   "id": "4f035a75-45d0-43a8-88b1-529cb3e0f6a7",
   "metadata": {},
   "outputs": [],
   "source": [
    "Aslı = 26 \n",
    "Esil = 31\n",
    "Naime = 40"
   ]
  },
  {
   "cell_type": "code",
   "execution_count": 17,
   "id": "f5689788-3059-4bc5-abd8-6e52b6ff638d",
   "metadata": {},
   "outputs": [
    {
     "data": {
      "text/plain": [
       "False"
      ]
     },
     "execution_count": 17,
     "metadata": {},
     "output_type": "execute_result"
    }
   ],
   "source": [
    "(Aslı >= Esil) and (Naime <= Aslı)"
   ]
  },
  {
   "cell_type": "code",
   "execution_count": 19,
   "id": "62b70de1-af78-40b6-8d18-0ff7e8cccc8d",
   "metadata": {},
   "outputs": [
    {
     "data": {
      "text/plain": [
       "True"
      ]
     },
     "execution_count": 19,
     "metadata": {},
     "output_type": "execute_result"
    }
   ],
   "source": [
    "(Esil != Naime) or (Esil == Aslı)"
   ]
  },
  {
   "cell_type": "code",
   "execution_count": 20,
   "id": "24620c58-52bb-4259-9061-4b15cd8fef70",
   "metadata": {},
   "outputs": [
    {
     "data": {
      "text/plain": [
       "True"
      ]
     },
     "execution_count": 20,
     "metadata": {},
     "output_type": "execute_result"
    }
   ],
   "source": [
    "(Aslı <= Esil) and (Aslı <= Naime)"
   ]
  },
  {
   "cell_type": "code",
   "execution_count": 27,
   "id": "21ce8991-6d48-4ecf-b4c1-df9d3fd31ba4",
   "metadata": {},
   "outputs": [
    {
     "data": {
      "text/plain": [
       "False"
      ]
     },
     "execution_count": 27,
     "metadata": {},
     "output_type": "execute_result"
    }
   ],
   "source": [
    "(Naime == Esil) or (Aslı == Esil)"
   ]
  },
  {
   "cell_type": "markdown",
   "id": "a83ed736-47b1-49dc-b956-2416debbabc7",
   "metadata": {},
   "source": [
    "### Ödev-3: Kullanıcıdan iki değer girmesini istenir. Girilen değerlerin toplama, çıkarma, çarpma, bölme sonuçlarını yazdırılır."
   ]
  },
  {
   "cell_type": "code",
   "execution_count": 22,
   "id": "f6efb9d8-3533-457f-ba1d-3834bfdbeeb8",
   "metadata": {},
   "outputs": [
    {
     "name": "stdin",
     "output_type": "stream",
     "text": [
      "1. number 5\n",
      "2. number 7\n"
     ]
    }
   ],
   "source": [
    "number1 = int(input(\"1. number\"))\n",
    "number2 = int(input(\"2. number\")) "
   ]
  },
  {
   "cell_type": "code",
   "execution_count": 23,
   "id": "58d7e1e4-ecd9-44d3-a11b-8a8e56b30a52",
   "metadata": {},
   "outputs": [
    {
     "data": {
      "text/plain": [
       "12"
      ]
     },
     "execution_count": 23,
     "metadata": {},
     "output_type": "execute_result"
    }
   ],
   "source": [
    "number1 + number2"
   ]
  },
  {
   "cell_type": "code",
   "execution_count": 24,
   "id": "af2b05f4-aaeb-4711-ad70-a545a7976b53",
   "metadata": {},
   "outputs": [
    {
     "data": {
      "text/plain": [
       "-2"
      ]
     },
     "execution_count": 24,
     "metadata": {},
     "output_type": "execute_result"
    }
   ],
   "source": [
    "number1 - number2"
   ]
  },
  {
   "cell_type": "code",
   "execution_count": 25,
   "id": "3f30c407-ab2d-4e1f-8db5-fc98e7124f2a",
   "metadata": {},
   "outputs": [
    {
     "data": {
      "text/plain": [
       "35"
      ]
     },
     "execution_count": 25,
     "metadata": {},
     "output_type": "execute_result"
    }
   ],
   "source": [
    "number1 * number2"
   ]
  },
  {
   "cell_type": "code",
   "execution_count": 26,
   "id": "c9e23675-d139-4d9e-a160-97118466bcf8",
   "metadata": {},
   "outputs": [
    {
     "data": {
      "text/plain": [
       "0.7142857142857143"
      ]
     },
     "execution_count": 26,
     "metadata": {},
     "output_type": "execute_result"
    }
   ],
   "source": [
    "number1 / number2"
   ]
  },
  {
   "cell_type": "markdown",
   "id": "c942a2c8-32c4-468b-8d04-45007834b0c9",
   "metadata": {},
   "source": [
    "### Ödev-4: Kullanıcıdan isim, yaş, şehir ve meslek bilgilerini istenir ve cevaplarını yazdırılır."
   ]
  },
  {
   "cell_type": "code",
   "execution_count": 28,
   "id": "1cc3d70a-824a-4dc2-afc7-64130ba6cb17",
   "metadata": {},
   "outputs": [
    {
     "name": "stdin",
     "output_type": "stream",
     "text": [
      "name:  Asli\n",
      "age:  26\n",
      "city:  Istanbul\n",
      "job:  Computer Engineering\n"
     ]
    },
    {
     "name": "stdout",
     "output_type": "stream",
     "text": [
      "Adınız: Asli, yaşınız: 26, şehriniz: Istanbul, işiniz: Computer Engineering\n"
     ]
    }
   ],
   "source": [
    "name = input(\"name: \")\n",
    "age = int(input(\"age: \"))\n",
    "city = input(\"city: \")\n",
    "job = input(\"job: \")\n",
    "\n",
    "print(f\"Adınız: {name}, yaşınız: {age}, şehriniz: {city}, işiniz: {job}\")"
   ]
  },
  {
   "cell_type": "markdown",
   "id": "07b542bc-7a39-40f6-bab9-eb97e7ac723c",
   "metadata": {},
   "source": [
    "### Ödev-5: \"Hi-Kod Veri Bilimi Atölyesi\" ifadesini bir değişkene tanımlanır.\n",
    "\n",
    "İfadedeki her bir kelimeyi (\"Gelecek Hayalim: W-Code\", \"Veri\", \"Bilimi\", \"Atölyesi\") değişken içinden seçilir.\n",
    "\n",
    "İfadeyi hepsini büyük harf olacak hale çevrilir. (\"GELECEK HAYALİM: W-CODE VERİ BİLİMİ ATÖLYESİ\")\n",
    "\n",
    "İfadeyi hepsini büyük harf olacak hale çevrilir.(\"gelecek hayalim: w-code veri bilimi atölyesi\")\n",
    "\n",
    "\"0123456789\" ifadesindeki yalnızca çift sayıları ve yalnızca tek sayıları seçilir. (\"02468\", \"13579\")"
   ]
  },
  {
   "cell_type": "code",
   "execution_count": 29,
   "id": "5c2cb82e-8fba-4caa-a83a-82bdbd93b35d",
   "metadata": {},
   "outputs": [],
   "source": [
    "text = \"Hi-Kod Veri Bilimi Atölyesi\""
   ]
  },
  {
   "cell_type": "code",
   "execution_count": 30,
   "id": "9467a5da-4bd5-4d06-aa12-6cf94a8c3edd",
   "metadata": {},
   "outputs": [
    {
     "data": {
      "text/plain": [
       "'Gelecek Hayalim: W-Code Veri Bilimi Atölyesi'"
      ]
     },
     "execution_count": 30,
     "metadata": {},
     "output_type": "execute_result"
    }
   ],
   "source": [
    "new_text = text.replace(\"Hi-Kod\",\"Gelecek Hayalim: W-Code\")\n",
    "new_text"
   ]
  },
  {
   "cell_type": "code",
   "execution_count": 31,
   "id": "5b38df26-9302-48a3-9fc8-baee1b5190dd",
   "metadata": {},
   "outputs": [
    {
     "data": {
      "text/plain": [
       "['Gelecek', 'Hayalim:', 'W-Code', 'Veri', 'Bilimi', 'Atölyesi']"
      ]
     },
     "execution_count": 31,
     "metadata": {},
     "output_type": "execute_result"
    }
   ],
   "source": [
    "new_text.split()"
   ]
  },
  {
   "cell_type": "code",
   "execution_count": 32,
   "id": "aab5fbaf-e4f0-4968-8f3e-362eb20a8000",
   "metadata": {},
   "outputs": [
    {
     "data": {
      "text/plain": [
       "'GELECEK HAYALIM: W-CODE VERI BILIMI ATÖLYESI'"
      ]
     },
     "execution_count": 32,
     "metadata": {},
     "output_type": "execute_result"
    }
   ],
   "source": [
    "new_text.upper()"
   ]
  },
  {
   "cell_type": "code",
   "execution_count": 33,
   "id": "0c571023-bd10-4ddb-9d9b-77821d307bd7",
   "metadata": {},
   "outputs": [
    {
     "data": {
      "text/plain": [
       "'gelecek hayalim: w-code veri bilimi atölyesi'"
      ]
     },
     "execution_count": 33,
     "metadata": {},
     "output_type": "execute_result"
    }
   ],
   "source": [
    "new_text.lower()"
   ]
  },
  {
   "cell_type": "code",
   "execution_count": 34,
   "id": "5cb54375-19d3-43ce-9fc8-785327b8f34a",
   "metadata": {},
   "outputs": [],
   "source": [
    "number = \"0123456789\""
   ]
  },
  {
   "cell_type": "code",
   "execution_count": 35,
   "id": "d517ab03-d7b0-4a1e-a0a0-33ecf2745ad4",
   "metadata": {},
   "outputs": [
    {
     "data": {
      "text/plain": [
       "('02468', '1357')"
      ]
     },
     "execution_count": 35,
     "metadata": {},
     "output_type": "execute_result"
    }
   ],
   "source": [
    "number[0:10:2],number[1:9:2]"
   ]
  },
  {
   "cell_type": "code",
   "execution_count": null,
   "id": "e728a653-0957-486f-ab6e-c656493f73e4",
   "metadata": {},
   "outputs": [],
   "source": []
  }
 ],
 "metadata": {
  "kernelspec": {
   "display_name": "Python 3 (ipykernel)",
   "language": "python",
   "name": "python3"
  },
  "language_info": {
   "codemirror_mode": {
    "name": "ipython",
    "version": 3
   },
   "file_extension": ".py",
   "mimetype": "text/x-python",
   "name": "python",
   "nbconvert_exporter": "python",
   "pygments_lexer": "ipython3",
   "version": "3.11.7"
  }
 },
 "nbformat": 4,
 "nbformat_minor": 5
}
