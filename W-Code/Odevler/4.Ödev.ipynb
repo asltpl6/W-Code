{
 "cells": [
  {
   "cell_type": "markdown",
   "id": "23093e91-fd0f-40f2-81a8-5ed87be4fa8f",
   "metadata": {},
   "source": [
    "### 1. Aşağıdaki işlemleri indexing ve slicing kullanarak liste üzerinde uygulayın.\n",
    "\n",
    "`liste = [\"Python\",True,9,\"3\",8.4,\"Hi-Kod\",\"False\",4.7]`\n",
    "\n",
    "\"3\" değerine ulaşmak için indexleme yapın.\n",
    "\n",
    "\"Hi-Kod\" değerine ulaşmak için indexleme yapın.\n",
    "\n",
    "4.7 değerine ulaşmak için indexleme yapın.\n",
    "\n",
    "9,\"3\",8.4,\"Hi-Kod\" değerlerine ulaşmak için slicing yapın.\n",
    "\n",
    "8.4,\"Hi-Kod\",\"False\",4.7 değerlerine ulaşmak için slicing yapın."
   ]
  },
  {
   "cell_type": "code",
   "execution_count": 2,
   "id": "4c507634-0287-4580-a0eb-495671e3e267",
   "metadata": {},
   "outputs": [],
   "source": [
    "liste = [\"Python\",True,9,\"3\",8.4,\"Hi-Kod\",\"False\",4.7]"
   ]
  },
  {
   "cell_type": "code",
   "execution_count": 3,
   "id": "d134def0-9c8a-4816-b9d6-77252470e31c",
   "metadata": {},
   "outputs": [
    {
     "data": {
      "text/plain": [
       "'3'"
      ]
     },
     "execution_count": 3,
     "metadata": {},
     "output_type": "execute_result"
    }
   ],
   "source": [
    "liste[3]"
   ]
  },
  {
   "cell_type": "code",
   "execution_count": 4,
   "id": "3d2d1e43-7b84-4d3f-9076-632710b95f57",
   "metadata": {},
   "outputs": [
    {
     "data": {
      "text/plain": [
       "'Hi-Kod'"
      ]
     },
     "execution_count": 4,
     "metadata": {},
     "output_type": "execute_result"
    }
   ],
   "source": [
    "liste[5]"
   ]
  },
  {
   "cell_type": "code",
   "execution_count": 5,
   "id": "7a49f0cc-048e-445f-8109-335adc959da0",
   "metadata": {},
   "outputs": [
    {
     "data": {
      "text/plain": [
       "(4.7, 4.7)"
      ]
     },
     "execution_count": 5,
     "metadata": {},
     "output_type": "execute_result"
    }
   ],
   "source": [
    "liste[-1],liste[7]"
   ]
  },
  {
   "cell_type": "code",
   "execution_count": 6,
   "id": "387d276d-4699-4e43-8eb5-1f2f07d63834",
   "metadata": {},
   "outputs": [
    {
     "data": {
      "text/plain": [
       "[9, '3', 8.4, 'Hi-Kod']"
      ]
     },
     "execution_count": 6,
     "metadata": {},
     "output_type": "execute_result"
    }
   ],
   "source": [
    "liste[2:6]"
   ]
  },
  {
   "cell_type": "code",
   "execution_count": 8,
   "id": "83903278-b16d-4f5d-bf90-7e249c084d27",
   "metadata": {},
   "outputs": [
    {
     "data": {
      "text/plain": [
       "[8.4, 'Hi-Kod', 'False', 4.7]"
      ]
     },
     "execution_count": 8,
     "metadata": {},
     "output_type": "execute_result"
    }
   ],
   "source": [
    "liste[4::]"
   ]
  },
  {
   "cell_type": "markdown",
   "id": "e6431122-14b6-4c98-ad83-fd14bced6260",
   "metadata": {},
   "source": [
    "### 2. Verilen listede bulunan string veri tipindeki öğeleri yeni_liste isimli listeye eklenir.\r",
    " `liste = [\"Python\",True,9,\"3\",8.4,\"Hi-Kod\",\"False\",4.7]`"
   ]
  },
  {
   "cell_type": "code",
   "execution_count": 9,
   "id": "f94698ca-ea0d-40f6-96fc-e3c1b7e4bd2b",
   "metadata": {},
   "outputs": [],
   "source": [
    "liste = [\"Python\",True,9,\"3\",8.4,\"Hi-Kod\",\"False\",4.7]"
   ]
  },
  {
   "cell_type": "code",
   "execution_count": 10,
   "id": "d7be1406-5eee-4cec-bb70-aaa22de64207",
   "metadata": {},
   "outputs": [
    {
     "data": {
      "text/plain": [
       "['Python', '3', 'Hi-Kod', 'False']"
      ]
     },
     "execution_count": 10,
     "metadata": {},
     "output_type": "execute_result"
    }
   ],
   "source": [
    "yeni_liste = [] \n",
    "for i in liste:\n",
    "    if type(i) == str:\n",
    "        yeni_liste.append(i)\n",
    "yeni_liste"
   ]
  },
  {
   "cell_type": "markdown",
   "id": "edf2e69c-3d44-4084-a524-f9260abe8b83",
   "metadata": {},
   "source": [
    "### 3.Enumerate methodunu araştırın ve aşağıdaki örneği enumerate methodu ile yapın.\n",
    "`for index in range(len(meyveler)):`\n",
    "`print(\"{}. indexte bulunan meyve: {}\".format(index,meyveler[index])`"
   ]
  },
  {
   "cell_type": "code",
   "execution_count": 11,
   "id": "8b5320dd-89ff-467f-a890-f8c486fb7a11",
   "metadata": {},
   "outputs": [
    {
     "name": "stdout",
     "output_type": "stream",
     "text": [
      "0. indexte bulunan meyve: Elma\n",
      "1. indexte bulunan meyve: Armut\n",
      "2. indexte bulunan meyve: Muz\n",
      "3. indexte bulunan meyve: Çilek\n",
      "4. indexte bulunan meyve: Kavun\n"
     ]
    }
   ],
   "source": [
    "meyveler = [\"Elma\", \"Armut\", \"Muz\", \"Çilek\", \"Kavun\"]\n",
    "for index in range(len(meyveler)):\n",
    "    print(\"{}. indexte bulunan meyve: {}\".format(index, meyveler[index]))"
   ]
  },
  {
   "cell_type": "code",
   "execution_count": 12,
   "id": "f01fcfd8-4f68-41c0-a45b-89ffcabfd19b",
   "metadata": {},
   "outputs": [
    {
     "name": "stdout",
     "output_type": "stream",
     "text": [
      "0. indexte bulunan meyve: Elma\n",
      "1. indexte bulunan meyve: Armut\n",
      "2. indexte bulunan meyve: Muz\n",
      "3. indexte bulunan meyve: Çilek\n",
      "4. indexte bulunan meyve: Kavun\n"
     ]
    }
   ],
   "source": [
    "meyveler = [\"Elma\", \"Armut\", \"Muz\", \"Çilek\", \"Kavun\"]\n",
    "for index, fruit in enumerate(meyveler):\n",
    "     print(\"{}. indexte bulunan meyve: {}\".format(index,fruit))"
   ]
  },
  {
   "cell_type": "code",
   "execution_count": null,
   "id": "8bc79d09-7632-4f38-bd0a-fe997de14667",
   "metadata": {},
   "outputs": [],
   "source": []
  }
 ],
 "metadata": {
  "kernelspec": {
   "display_name": "Python 3 (ipykernel)",
   "language": "python",
   "name": "python3"
  },
  "language_info": {
   "codemirror_mode": {
    "name": "ipython",
    "version": 3
   },
   "file_extension": ".py",
   "mimetype": "text/x-python",
   "name": "python",
   "nbconvert_exporter": "python",
   "pygments_lexer": "ipython3",
   "version": "3.11.7"
  }
 },
 "nbformat": 4,
 "nbformat_minor": 5
}
