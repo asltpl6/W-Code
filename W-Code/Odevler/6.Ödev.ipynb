{
 "cells": [
  {
   "cell_type": "markdown",
   "id": "6384ef6b-0c7a-428a-9936-fe869bb91902",
   "metadata": {},
   "source": [
    "### 1. Sayılardan oluşan bir boyutlu array oluşturulur. Arrayi oluştururken sayıların veri tipini integer olarak belirtilir. Oluşturulan arrayin boyut, eleman sayısı bilgilerine bakılır. "
   ]
  },
  {
   "cell_type": "code",
   "execution_count": 4,
   "id": "ac5c4bd3-468c-4e38-86a2-b599c83ab37f",
   "metadata": {},
   "outputs": [],
   "source": [
    "import numpy as np\n",
    "a = np.array([16, 6, 98, 25, 5, 93], dtype=int)\n",
    "array_shape = a.shape\n",
    "array_size = a.size\n",
    "array_boyut = a.ndim"
   ]
  },
  {
   "cell_type": "code",
   "execution_count": 5,
   "id": "0da665f3-057c-4bc7-9f7d-09d7250398fd",
   "metadata": {},
   "outputs": [
    {
     "name": "stdout",
     "output_type": "stream",
     "text": [
      "Array: [16  6 98 25  5 93]\n",
      "Array'ın tipi: <class 'numpy.ndarray'>\n",
      "Array'ın satır ve sütun sayısı (shape): (6,)\n",
      "Array'ın eleman sayısı (size): 6\n",
      "Array: 1\n"
     ]
    }
   ],
   "source": [
    "print(\"Array:\", a)\n",
    "print(\"Array'ın tipi:\", type(a))\n",
    "print(\"Array'ın satır ve sütun sayısı (shape):\", array_shape)\n",
    "print(\"Array'ın eleman sayısı (size):\", array_size)\n",
    "print(\"Array:\", array_boyut)"
   ]
  },
  {
   "cell_type": "markdown",
   "id": "7ca920c4-ddf5-49b8-9b77-13850bd245d6",
   "metadata": {},
   "source": [
    "### 2. İki ve üç boyutlu arrayler oluşturulur. Bu arraylerin boyut, eleman sayısı, satır, sütun bilgilerine ulaşılır. Arrayler üzerinde indexleme ve dilimleme(slicing) işlemi yapılır. "
   ]
  },
  {
   "cell_type": "code",
   "execution_count": 6,
   "id": "65439a0e-8c7b-47e8-b831-6771245dc9ec",
   "metadata": {},
   "outputs": [],
   "source": [
    "import numpy as np\n",
    "array_2d = np.array([[1, 2, 3], [4, 5, 6]])\n",
    "array_3d = np.array([[[1, 2], [3, 4]], [[5, 6], [7, 8]]])"
   ]
  },
  {
   "cell_type": "code",
   "execution_count": 7,
   "id": "ffe7dbaa-79f8-4c4c-809f-28a9a885e364",
   "metadata": {},
   "outputs": [
    {
     "name": "stdout",
     "output_type": "stream",
     "text": [
      "2D Array:\n",
      " [[1 2 3]\n",
      " [4 5 6]]\n",
      "2D Array boyutu: 2\n",
      "2D Array satır ve sütun sayısı (shape): (2, 3)\n",
      "2D Array eleman sayısı (size): 6\n",
      "2D Array satır sayısı: 2\n",
      "2D Array sütun sayısı: 3\n",
      "2D Array 1. satır: [1 2 3]\n",
      "2D Array 2. satır: [4 5 6]\n",
      "2D Array 1. sutun: [1 4]\n",
      "2D Array 2. sutun: [2 5]\n"
     ]
    }
   ],
   "source": [
    "print(\"2D Array:\\n\", array_2d)\n",
    "print(\"2D Array boyutu:\", array_2d.ndim)\n",
    "print(\"2D Array satır ve sütun sayısı (shape):\", array_2d.shape)\n",
    "print(\"2D Array eleman sayısı (size):\", array_2d.size)\n",
    "print(\"2D Array satır sayısı:\", array_2d.shape[0])\n",
    "print(\"2D Array sütun sayısı:\", array_2d.shape[1])\n",
    "print(\"2D Array 1. satır:\", array_2d[0,:])\n",
    "print(\"2D Array 2. satır:\", array_2d[1,:])\n",
    "print(\"2D Array 1. sutun:\", array_2d[:,0])\n",
    "print(\"2D Array 2. sutun:\", array_2d[:,1])"
   ]
  },
  {
   "cell_type": "code",
   "execution_count": 8,
   "id": "106120fe-fca9-470b-9050-aa616f53e5b9",
   "metadata": {},
   "outputs": [
    {
     "name": "stdout",
     "output_type": "stream",
     "text": [
      "3D Array:\n",
      " [[[1 2]\n",
      "  [3 4]]\n",
      "\n",
      " [[5 6]\n",
      "  [7 8]]]\n",
      "3D Array boyutu: 3\n",
      "3D Array satır ve sütun sayısı (shape): (2, 2, 2)\n",
      "3D Array eleman sayısı (size): 8\n",
      "3D Array satır sayısı: 2\n",
      "3D Array sütun sayısı: 2\n",
      "3D Array 1. satır: [[1 2]\n",
      " [3 4]]\n",
      "3D Array 2. satır: [[5 6]\n",
      " [7 8]]\n",
      "3D Array 1. sutun: [[1 2]\n",
      " [5 6]]\n",
      "3D Array 2. sutun: [2 5]\n"
     ]
    }
   ],
   "source": [
    "print(\"3D Array:\\n\", array_3d)\n",
    "print(\"3D Array boyutu:\", array_3d.ndim)\n",
    "print(\"3D Array satır ve sütun sayısı (shape):\", array_3d.shape)\n",
    "print(\"3D Array eleman sayısı (size):\", array_3d.size)\n",
    "print(\"3D Array satır sayısı:\", array_3d.shape[0])\n",
    "print(\"3D Array sütun sayısı:\", array_3d.shape[1])\n",
    "print(\"3D Array 1. satır:\", array_3d[0,:])\n",
    "print(\"3D Array 2. satır:\", array_3d[1,:])\n",
    "print(\"3D Array 1. sutun:\", array_3d[:,0])\n",
    "print(\"3D Array 2. sutun:\", array_2d[:,1])"
   ]
  },
  {
   "cell_type": "markdown",
   "id": "2878e232-f634-4ca1-9a10-0e168edb1ed3",
   "metadata": {},
   "source": [
    "### İki boyutlu array'de tek bir elemana erişim (indexleme)\n",
    "2D Array:\n",
    "\n",
    "\\begin{bmatrix} 1 & 2 & 3 \\\\ 4 & 5 &6 \\end{bmatrix}\n"
   ]
  },
  {
   "cell_type": "code",
   "execution_count": 9,
   "id": "344916a6-178b-41f7-8b23-403406df0ffb",
   "metadata": {},
   "outputs": [
    {
     "data": {
      "text/plain": [
       "1"
      ]
     },
     "execution_count": 9,
     "metadata": {},
     "output_type": "execute_result"
    }
   ],
   "source": [
    "array_2d[0, 0]"
   ]
  },
  {
   "cell_type": "code",
   "execution_count": 10,
   "id": "e545ad45-e555-47ae-96df-41b276523035",
   "metadata": {},
   "outputs": [
    {
     "data": {
      "text/plain": [
       "6"
      ]
     },
     "execution_count": 10,
     "metadata": {},
     "output_type": "execute_result"
    }
   ],
   "source": [
    "array_2d[1, 2]"
   ]
  },
  {
   "cell_type": "markdown",
   "id": "3b8bca5d-d1ae-4060-88e4-83fe956d7753",
   "metadata": {},
   "source": [
    "### İki boyutlu array'de bir dilime erişim (slicing)"
   ]
  },
  {
   "cell_type": "code",
   "execution_count": 11,
   "id": "d3cbed91-e1d0-4d76-902a-3f8190609adb",
   "metadata": {},
   "outputs": [
    {
     "data": {
      "text/plain": [
       "array([5, 6])"
      ]
     },
     "execution_count": 11,
     "metadata": {},
     "output_type": "execute_result"
    }
   ],
   "source": [
    "array_2d[1,1:]"
   ]
  },
  {
   "cell_type": "code",
   "execution_count": 12,
   "id": "c6c5a465-b8de-4bf6-a53a-c28ae22d3a7d",
   "metadata": {},
   "outputs": [
    {
     "data": {
      "text/plain": [
       "array([[1],\n",
       "       [4]])"
      ]
     },
     "execution_count": 12,
     "metadata": {},
     "output_type": "execute_result"
    }
   ],
   "source": [
    "array_2d[:,0:1]"
   ]
  },
  {
   "cell_type": "code",
   "execution_count": 13,
   "id": "0bc8b5fe-aed1-453a-aa7b-4c009fdfbdae",
   "metadata": {},
   "outputs": [
    {
     "data": {
      "text/plain": [
       "array([[2, 3]])"
      ]
     },
     "execution_count": 13,
     "metadata": {},
     "output_type": "execute_result"
    }
   ],
   "source": [
    "array_2d[:1,1:]"
   ]
  },
  {
   "cell_type": "code",
   "execution_count": 14,
   "id": "ebb9fff7-e2d3-435d-862d-7337682764fe",
   "metadata": {},
   "outputs": [
    {
     "data": {
      "text/plain": [
       "array([[3]])"
      ]
     },
     "execution_count": 14,
     "metadata": {},
     "output_type": "execute_result"
    }
   ],
   "source": [
    "array_2d[:1,2:]"
   ]
  },
  {
   "cell_type": "code",
   "execution_count": 15,
   "id": "e26d3b0a-7484-4313-906b-2761f3eaf99e",
   "metadata": {},
   "outputs": [
    {
     "data": {
      "text/plain": [
       "array([[3],\n",
       "       [6]])"
      ]
     },
     "execution_count": 15,
     "metadata": {},
     "output_type": "execute_result"
    }
   ],
   "source": [
    "array_2d[:,2:]"
   ]
  },
  {
   "cell_type": "markdown",
   "id": "1015e75c-1c13-4edc-95a4-b3c7af03cb02",
   "metadata": {},
   "source": [
    "### Üç boyutlu array'de tek bir elemana erişim (indexleme)"
   ]
  },
  {
   "cell_type": "code",
   "execution_count": 22,
   "id": "8417af64-0a86-4ea6-a7cf-0e3b05801a17",
   "metadata": {},
   "outputs": [
    {
     "data": {
      "text/plain": [
       "array([[[1, 2],\n",
       "        [3, 4]],\n",
       "\n",
       "       [[5, 6],\n",
       "        [7, 8]]])"
      ]
     },
     "execution_count": 22,
     "metadata": {},
     "output_type": "execute_result"
    }
   ],
   "source": [
    "array_3d"
   ]
  },
  {
   "cell_type": "code",
   "execution_count": 16,
   "id": "7c127a7b-072c-458c-97c2-b3b7b5b06b54",
   "metadata": {},
   "outputs": [
    {
     "data": {
      "text/plain": [
       "1"
      ]
     },
     "execution_count": 16,
     "metadata": {},
     "output_type": "execute_result"
    }
   ],
   "source": [
    "array_3d[0, 0, 0]"
   ]
  },
  {
   "cell_type": "code",
   "execution_count": 24,
   "id": "0c095af2-6151-4df6-9ea1-50a5fbcc1b3f",
   "metadata": {},
   "outputs": [
    {
     "data": {
      "text/plain": [
       "4"
      ]
     },
     "execution_count": 24,
     "metadata": {},
     "output_type": "execute_result"
    }
   ],
   "source": [
    "array_3d[0, 1, 1]"
   ]
  },
  {
   "cell_type": "code",
   "execution_count": 28,
   "id": "e27de087-3268-40ec-ab62-b4503a95e990",
   "metadata": {},
   "outputs": [
    {
     "data": {
      "text/plain": [
       "6"
      ]
     },
     "execution_count": 28,
     "metadata": {},
     "output_type": "execute_result"
    }
   ],
   "source": [
    "array_3d[1, 0, 1]"
   ]
  },
  {
   "cell_type": "markdown",
   "id": "14611b52-e55b-4e08-8a1d-ac60061bc0b3",
   "metadata": {},
   "source": [
    "### Üç boyutlu array'de bir dilime erişim (slicing)"
   ]
  },
  {
   "cell_type": "code",
   "execution_count": 30,
   "id": "148abdf8-d949-4de8-b0da-c3b885bebfc4",
   "metadata": {},
   "outputs": [
    {
     "data": {
      "text/plain": [
       "array([[[1, 2],\n",
       "        [3, 4]],\n",
       "\n",
       "       [[5, 6],\n",
       "        [7, 8]]])"
      ]
     },
     "execution_count": 30,
     "metadata": {},
     "output_type": "execute_result"
    }
   ],
   "source": [
    "array_3d"
   ]
  },
  {
   "cell_type": "code",
   "execution_count": 32,
   "id": "6fcce542-f9b1-4c38-874f-3a8c87c91402",
   "metadata": {},
   "outputs": [
    {
     "data": {
      "text/plain": [
       "array([[[1, 2]],\n",
       "\n",
       "       [[5, 6]]])"
      ]
     },
     "execution_count": 32,
     "metadata": {},
     "output_type": "execute_result"
    }
   ],
   "source": [
    "array_3d[:,0:1,:]"
   ]
  },
  {
   "cell_type": "code",
   "execution_count": 33,
   "id": "2ced57e8-9f87-4187-8b03-e1c2c055d0aa",
   "metadata": {},
   "outputs": [
    {
     "data": {
      "text/plain": [
       "array([[[5, 6]]])"
      ]
     },
     "execution_count": 33,
     "metadata": {},
     "output_type": "execute_result"
    }
   ],
   "source": [
    "array_3d[1:,0:1,:]"
   ]
  },
  {
   "cell_type": "markdown",
   "id": "6e0cafbe-2dbd-4cd3-9073-9f8785ff38b8",
   "metadata": {},
   "source": [
    "### 3. Numpy fonksiyonu kullanarak bir, iki ve üç boyutlu arrayler oluşturulur. Arrayler üzerinde indexleme ve dilimleme(slicing) işlemi yapılır "
   ]
  },
  {
   "cell_type": "code",
   "execution_count": 91,
   "id": "90e424f7-32f5-46ee-a75a-cdd609215255",
   "metadata": {},
   "outputs": [
    {
     "name": "stdout",
     "output_type": "stream",
     "text": [
      "Boyut: 1\n",
      "Arange: [1 2 3 4]\n"
     ]
    }
   ],
   "source": [
    "array_1d = np.arange(1, 5, 1)\n",
    "boyut = array_1d.ndim\n",
    "print('Boyut:', boyut)\n",
    "print('Arange:', array_1d)"
   ]
  },
  {
   "cell_type": "code",
   "execution_count": 92,
   "id": "e24aee78-8dd3-4ecb-9d09-bb2fbdef9b8a",
   "metadata": {},
   "outputs": [
    {
     "name": "stdout",
     "output_type": "stream",
     "text": [
      "Boyut: 1\n",
      "Arange:\n",
      " [[ 1  2  3  4]\n",
      " [ 5  6  7  8]\n",
      " [ 9 10 11 12]]\n"
     ]
    }
   ],
   "source": [
    "array_2d = np.arange(1, 13, 1)\n",
    "array_2d.resize(3,4)\n",
    "boyut = array_1d.ndim\n",
    "print('Boyut:', boyut)\n",
    "print('Arange:\\n', array_2d)"
   ]
  },
  {
   "cell_type": "code",
   "execution_count": 93,
   "id": "bfd11f89-c7de-4ffa-a784-b4ae64616c22",
   "metadata": {},
   "outputs": [
    {
     "name": "stdout",
     "output_type": "stream",
     "text": [
      "Boyut: 3\n",
      "Arange:\n",
      " [[[ 1  2  3  4  5]\n",
      "  [ 6  7  8  9 10]\n",
      "  [11 12 13 14 15]\n",
      "  [16 17 18 19 20]]\n",
      "\n",
      " [[21 22 23 24 25]\n",
      "  [26 27 28 29 30]\n",
      "  [31 32 33 34 35]\n",
      "  [36 37 38 39 40]]\n",
      "\n",
      " [[41 42 43 44 45]\n",
      "  [46 47 48 49 50]\n",
      "  [51 52 53 54 55]\n",
      "  [56 57 58 59 60]]]\n"
     ]
    }
   ],
   "source": [
    "array_3d = np.arange(1, 61, 1)\n",
    "array_3d.resize(3,4,5)\n",
    "boyut = array_3d.ndim\n",
    "print('Boyut:', boyut)\n",
    "print('Arange:\\n', array_3d)"
   ]
  },
  {
   "cell_type": "markdown",
   "id": "946a7217-05dd-4cb3-a3d9-0a33f07d7963",
   "metadata": {},
   "source": [
    "### 1D indexleme ve dilimleme(slicing) işlemi"
   ]
  },
  {
   "cell_type": "code",
   "execution_count": 94,
   "id": "6da205ec-2c3c-4dda-9ff1-4caa92a65db0",
   "metadata": {},
   "outputs": [
    {
     "data": {
      "text/plain": [
       "array([1, 2, 3, 4])"
      ]
     },
     "execution_count": 94,
     "metadata": {},
     "output_type": "execute_result"
    }
   ],
   "source": [
    "array_1d"
   ]
  },
  {
   "cell_type": "code",
   "execution_count": 96,
   "id": "c6ce75d6-f50e-4b57-b135-f44ec76528c7",
   "metadata": {},
   "outputs": [
    {
     "data": {
      "text/plain": [
       "3"
      ]
     },
     "execution_count": 96,
     "metadata": {},
     "output_type": "execute_result"
    }
   ],
   "source": [
    "array_1d[2]"
   ]
  },
  {
   "cell_type": "code",
   "execution_count": 97,
   "id": "dbef51b1-e8e4-4af5-9a27-7ab654eadc7e",
   "metadata": {},
   "outputs": [
    {
     "data": {
      "text/plain": [
       "array([3, 4])"
      ]
     },
     "execution_count": 97,
     "metadata": {},
     "output_type": "execute_result"
    }
   ],
   "source": [
    "array_1d[2:]"
   ]
  },
  {
   "cell_type": "markdown",
   "id": "2bc63954-6459-469a-9a86-e55fca3a6986",
   "metadata": {},
   "source": [
    "### 2D indexleme ve dilimleme(slicing) işlemi\n",
    "\\begin{bmatrix}\n",
    "1 & 2 & 3 & 4 \\\\\n",
    "5 & 6 & 7 & 8 \\\\\n",
    "9 & 10 & 11 & 12\n",
    "\\end{bmatrix}\n",
    "\n",
    "\\begin{bmatrix}\n",
    "0,0 & 0,1 & 0,2 & 0,3 \\\\\n",
    "1,0 & 1,1 & 1,2 & 1,3 \\\\\n",
    "2,0 & 2,1 & 2,2 & 2,3\n",
    "\\end{bmatrix}\n",
    "\n"
   ]
  },
  {
   "cell_type": "code",
   "execution_count": 98,
   "id": "bebb2e35-8975-4245-a514-2348e28469af",
   "metadata": {},
   "outputs": [
    {
     "data": {
      "text/plain": [
       "array([[ 1,  2,  3,  4],\n",
       "       [ 5,  6,  7,  8],\n",
       "       [ 9, 10, 11, 12]])"
      ]
     },
     "execution_count": 98,
     "metadata": {},
     "output_type": "execute_result"
    }
   ],
   "source": [
    "array_2d"
   ]
  },
  {
   "cell_type": "code",
   "execution_count": 99,
   "id": "ff7bf6f9-fc3e-41d0-8bfc-0cbbb8d7fe5b",
   "metadata": {},
   "outputs": [
    {
     "data": {
      "text/plain": [
       "6"
      ]
     },
     "execution_count": 99,
     "metadata": {},
     "output_type": "execute_result"
    }
   ],
   "source": [
    "array_2d[1,1]"
   ]
  },
  {
   "cell_type": "code",
   "execution_count": 100,
   "id": "c8847b39-abd7-4a8d-bf0f-ee2fbbb70257",
   "metadata": {},
   "outputs": [
    {
     "data": {
      "text/plain": [
       "12"
      ]
     },
     "execution_count": 100,
     "metadata": {},
     "output_type": "execute_result"
    }
   ],
   "source": [
    "array_2d[2,3]"
   ]
  },
  {
   "cell_type": "code",
   "execution_count": 101,
   "id": "e347884e-3ba3-412b-8bad-ca678b41a34f",
   "metadata": {},
   "outputs": [
    {
     "data": {
      "text/plain": [
       "array([[ 6,  7,  8],\n",
       "       [10, 11, 12]])"
      ]
     },
     "execution_count": 101,
     "metadata": {},
     "output_type": "execute_result"
    }
   ],
   "source": [
    "array_2d[1:,1:]"
   ]
  },
  {
   "cell_type": "code",
   "execution_count": 106,
   "id": "668a6896-9190-46d9-8dd7-4121df4fcfb6",
   "metadata": {},
   "outputs": [
    {
     "data": {
      "text/plain": [
       "array([[ 5,  6],\n",
       "       [ 9, 10]])"
      ]
     },
     "execution_count": 106,
     "metadata": {},
     "output_type": "execute_result"
    }
   ],
   "source": [
    "array_2d[1:,:2]"
   ]
  },
  {
   "cell_type": "markdown",
   "id": "388bdf45-8104-4d2b-bf95-d7d73dda79dc",
   "metadata": {},
   "source": [
    "### 3D indexleme ve dilimleme(slicing) işlemi\n",
    "\\begin{bmatrix}\n",
    "1 & 2 & 3 & 4 & 5 \\\\\n",
    "6 & 7 & 8 & 9 & 10 \\\\\n",
    "11 & 12 & 13 & 14 & 15 \\\\\n",
    "16 & 17 & 18 & 19 & 20\n",
    "\\end{bmatrix} \n",
    "\n",
    "\\begin{bmatrix}\n",
    "21 & 22 & 23 & 24 & 25 \\\\\n",
    "26 & 27 & 28 & 29 & 30 \\\\\n",
    "31 & 32 & 33 & 34 & 35 \\\\\n",
    "36 & 37 & 38 & 39 & 40\n",
    "\\end{bmatrix} \n",
    "\n",
    "\\begin{bmatrix}\n",
    "41 & 42 & 43 & 44 & 45 \\\\\n",
    "46 & 47 & 48 & 49 & 50 \\\\\n",
    "51 & 52 & 53 & 54 & 55 \\\\\n",
    "56 & 57 & 58 & 59 & 60\n",
    "\\end{bmatrix}"
   ]
  },
  {
   "cell_type": "markdown",
   "id": "a1451cd9-13da-46cb-9d1c-7aa52e87cb30",
   "metadata": {},
   "source": [
    "\\begin{bmatrix}\n",
    "0,0,0 & 0,0,1 & 0,0,2 & 0,0,3 & 0,0,4 \\\\\n",
    "0,1,0 & 0,1,1 & 0,1,2 & 0,1,3 & 0,1,4 \\\\\n",
    "0,2,0 & 0,2,1 & 0,2,2 & 0,2,3 & 0,2,4\\\\\n",
    "0,3,0 & 0,3,1 & 0,3,2 & 0,3,3 & 0,3,4\n",
    "\\end{bmatrix} \n",
    "\n",
    "\\begin{bmatrix}\n",
    "1,0,0 & 1,0,1 & 1,0,2 & 1,0,3 & 1,0,4 \\\\\n",
    "1,1,0 & 1,1,1 & 1,1,2 & 1,1,3 & 1,1,4 \\\\\n",
    "1,2,0 & 1,2,1 & 1,2,2 & 1,2,3 & 1,2,4  \\\\\n",
    "1,3,0 & 1,3,1 & 1,3,2 & 1,3,3 & 1,3,4 \n",
    "\\end{bmatrix} \n",
    "\n",
    "\\begin{bmatrix}\n",
    "2,0,0 & 2,0,1 & 2,0,2 & 2,0,3 & 2,0,4 \\\\\n",
    "2,1,0 & 2,1,1 & 2,1,2 & 2,1,3 & 2,1,4 \\\\\n",
    "2,2,0 & 2,2,1 & 2,2,2 & 2,2,3 & 2,2,4  \\\\\n",
    "2,3,0 & 2,3,1 & 2,3,2 & 2,3,3 & 2,3,4 \n",
    "\\end{bmatrix} "
   ]
  },
  {
   "cell_type": "code",
   "execution_count": 110,
   "id": "0245e440-b78d-4061-827f-491dc20a4588",
   "metadata": {},
   "outputs": [
    {
     "data": {
      "text/plain": [
       "array([[[ 1,  2,  3,  4,  5],\n",
       "        [ 6,  7,  8,  9, 10],\n",
       "        [11, 12, 13, 14, 15],\n",
       "        [16, 17, 18, 19, 20]],\n",
       "\n",
       "       [[21, 22, 23, 24, 25],\n",
       "        [26, 27, 28, 29, 30],\n",
       "        [31, 32, 33, 34, 35],\n",
       "        [36, 37, 38, 39, 40]],\n",
       "\n",
       "       [[41, 42, 43, 44, 45],\n",
       "        [46, 47, 48, 49, 50],\n",
       "        [51, 52, 53, 54, 55],\n",
       "        [56, 57, 58, 59, 60]]])"
      ]
     },
     "execution_count": 110,
     "metadata": {},
     "output_type": "execute_result"
    }
   ],
   "source": [
    "array_3d"
   ]
  },
  {
   "cell_type": "code",
   "execution_count": 135,
   "id": "61e4514f-e3f5-49c9-a518-76e9bd9a4c9a",
   "metadata": {},
   "outputs": [
    {
     "data": {
      "text/plain": [
       "60"
      ]
     },
     "execution_count": 135,
     "metadata": {},
     "output_type": "execute_result"
    }
   ],
   "source": [
    "array_3d[2,3,4]"
   ]
  },
  {
   "cell_type": "code",
   "execution_count": 138,
   "id": "d589644a-0ec8-49aa-83e3-b35a16fe7200",
   "metadata": {},
   "outputs": [
    {
     "data": {
      "text/plain": [
       "array([[[21, 22, 23, 24, 25]],\n",
       "\n",
       "       [[41, 42, 43, 44, 45]]])"
      ]
     },
     "execution_count": 138,
     "metadata": {},
     "output_type": "execute_result"
    }
   ],
   "source": [
    "array_3d[1:,0:1,:]"
   ]
  },
  {
   "cell_type": "markdown",
   "id": "e9e08d6e-a4c7-4485-9d5b-5e2e786ce115",
   "metadata": {},
   "source": [
    "### 4. Sıfırlardan oluşan ve birlerden oluşan iki tane iki boyutlu array oluşturulur. Bu arrayler satır ve sütun bazında birleştirilir. "
   ]
  },
  {
   "cell_type": "code",
   "execution_count": 144,
   "id": "4560e72e-b63e-4cf7-bc29-45c0980a5994",
   "metadata": {},
   "outputs": [
    {
     "name": "stdout",
     "output_type": "stream",
     "text": [
      "Array boyut:\n",
      " 2\n",
      "Array:\n",
      " [[0. 0. 0.]\n",
      " [0. 0. 0.]\n",
      " [0. 0. 0.]]\n"
     ]
    }
   ],
   "source": [
    "zero = np.zeros((3,3))\n",
    "print(\"Array boyut:\\n\", zero.ndim)\n",
    "print(\"Array:\\n\", zero)"
   ]
  },
  {
   "cell_type": "code",
   "execution_count": 145,
   "id": "13d40cf2-c718-4060-81e2-ec962cb2496d",
   "metadata": {},
   "outputs": [
    {
     "name": "stdout",
     "output_type": "stream",
     "text": [
      "Array boyut:\n",
      " 2\n",
      "Array:\n",
      " [[1. 1. 1.]\n",
      " [1. 1. 1.]\n",
      " [1. 1. 1.]]\n"
     ]
    }
   ],
   "source": [
    "one = np.ones((3,3))\n",
    "print(\"Array boyut:\\n\", one.ndim)\n",
    "print(\"Array:\\n\", one)"
   ]
  },
  {
   "cell_type": "code",
   "execution_count": 148,
   "id": "683834e8-b0e1-470c-b978-55dda52b7e0a",
   "metadata": {},
   "outputs": [
    {
     "name": "stdout",
     "output_type": "stream",
     "text": [
      "Yatay Birleşim:\n",
      " [[0. 0. 0. 1. 1. 1.]\n",
      " [0. 0. 0. 1. 1. 1.]\n",
      " [0. 0. 0. 1. 1. 1.]]\n"
     ]
    }
   ],
   "source": [
    "yatay_birlesim = np.hstack((zero,one))\n",
    "print('Yatay Birleşim:\\n', yatay_birlesim)"
   ]
  },
  {
   "cell_type": "code",
   "execution_count": 149,
   "id": "1f1a45f7-2e25-4e86-aba9-88064730d3e3",
   "metadata": {},
   "outputs": [
    {
     "name": "stdout",
     "output_type": "stream",
     "text": [
      "Dikey Birleşim:\n",
      " [[0. 0. 0.]\n",
      " [0. 0. 0.]\n",
      " [0. 0. 0.]\n",
      " [1. 1. 1.]\n",
      " [1. 1. 1.]\n",
      " [1. 1. 1.]]\n"
     ]
    }
   ],
   "source": [
    "dikey_birlesim = np.vstack((zero,one))\n",
    "print('Dikey Birleşim:\\n', dikey_birlesim)"
   ]
  },
  {
   "cell_type": "code",
   "execution_count": null,
   "id": "ef8fa1ce-75e5-4360-b5d1-7fb54a389f9a",
   "metadata": {},
   "outputs": [],
   "source": []
  }
 ],
 "metadata": {
  "kernelspec": {
   "display_name": "Python 3 (ipykernel)",
   "language": "python",
   "name": "python3"
  },
  "language_info": {
   "codemirror_mode": {
    "name": "ipython",
    "version": 3
   },
   "file_extension": ".py",
   "mimetype": "text/x-python",
   "name": "python",
   "nbconvert_exporter": "python",
   "pygments_lexer": "ipython3",
   "version": "3.11.7"
  }
 },
 "nbformat": 4,
 "nbformat_minor": 5
}
