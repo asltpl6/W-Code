{
 "cells": [
  {
   "cell_type": "markdown",
   "id": "b8e82c6e-48bb-41d6-a5d2-e8426045a700",
   "metadata": {},
   "source": [
    "### Ödev-1: Kullanıcıdan maaş bilgisini istenir ve bu bilgiye göre maaşından ne kadar vergi kesileceğini hesaplanır. Kullanıcının geliri;\n",
    "* 10000 ve altındaysa maaşından %5 kesinti olur. \n",
    "* 25000 ve altındaysa maaşından %10 kesinti olur. \n",
    "* 45000 ve altındaysa maaşından %25 kesinti olur. \n",
    "* Diğer koşullarda %30 kesinti olur. \n",
    "* Bu durumlara göre kullanıcının yeni maaşı yazdırılır."
   ]
  },
  {
   "cell_type": "code",
   "execution_count": 1,
   "id": "31e9d118-c3d9-4026-9ea3-fab4a39af6df",
   "metadata": {},
   "outputs": [
    {
     "name": "stdin",
     "output_type": "stream",
     "text": [
      "Enter you salary 60000\n"
     ]
    }
   ],
   "source": [
    "salary = int(input(\"Enter you salary\"))"
   ]
  },
  {
   "cell_type": "code",
   "execution_count": 2,
   "id": "39774b44-bc1a-4933-9974-1b1c5a0ee84c",
   "metadata": {},
   "outputs": [
    {
     "name": "stdout",
     "output_type": "stream",
     "text": [
      "42000.0\n"
     ]
    }
   ],
   "source": [
    "if (salary <= 10000):\n",
    "    new_salary = salary - (salary*5)/100\n",
    "    print (new_salary)\n",
    "    \n",
    "elif (salary <= 25000):\n",
    "    new_salary = salary - (salary*10)/100\n",
    "    print (new_salary)\n",
    "    \n",
    "elif (salary <= 55000):\n",
    "    new_salary = salary - (salary*25)/100\n",
    "    print (new_salary)\n",
    "\n",
    "else:\n",
    "    new_salary = salary - (salary*30)/100\n",
    "    print (new_salary)"
   ]
  },
  {
   "cell_type": "markdown",
   "id": "6a45cae5-1893-4197-af23-70d1a96e4afa",
   "metadata": {},
   "source": [
    "### Ödev-2: Kullanıcıdan kullanıcı adı ve şifre oluşturmasını istenir. \n",
    "* Şifrenin uzunluğu altı haneye ulaşmışsa hesabınız oluşturuldu mesajı alınır, \n",
    "* Altı haneden azsa altı haneli şifre oluşturması gerektiğinin mesajı alınır. (Sadece koşul kullanılması yeterli.)"
   ]
  },
  {
   "cell_type": "code",
   "execution_count": 3,
   "id": "db826219-c0f4-4ec9-a60c-53122798b22b",
   "metadata": {},
   "outputs": [
    {
     "name": "stdin",
     "output_type": "stream",
     "text": [
      "Enter username asltpl7\n",
      "Enter password Asli1606*\n"
     ]
    },
    {
     "name": "stdout",
     "output_type": "stream",
     "text": [
      "welcome asltpl7, your account has been created. Your password Asli1606*\n"
     ]
    }
   ],
   "source": [
    "user_name = input(\"Enter username\")\n",
    "password = input(\"Enter password\")\n",
    "pw_len = len(password)\n",
    "\n",
    "if(pw_len < 6):\n",
    "    print(\"your password must be at least 6 six-digit\")\n",
    "else:\n",
    "     print(f\"welcome {user_name}, your account has been created. Your password {password}\")"
   ]
  },
  {
   "cell_type": "markdown",
   "id": "99760859-54d2-4875-8674-65adccc7e9c9",
   "metadata": {},
   "source": [
    "### Ödev-3: Bir önceki örnek geliştirilir. \n",
    "* Kullanıcı girdiği şifre 5 ve 10 hane arasında olmak zorunda. \n",
    "* Eğer bu koşula uyuyorsa \"Hesabınız oluşturuldu.\" mesajı alır. \n",
    "* Koşulu sağlamıyorsa \"Lütfen girdiniz şifre 5 haneden az 10 haneden fazla olmasın!\" uyarısı alır. \n",
    "* Bunu oluştururken kullanıcı istediğimiz şartlarda şifre oluşturana kadar sormaya devam eder."
   ]
  },
  {
   "cell_type": "code",
   "execution_count": 4,
   "id": "089bc50f-9279-443b-860a-f8f7340ffe50",
   "metadata": {},
   "outputs": [
    {
     "name": "stdin",
     "output_type": "stream",
     "text": [
      "Enter username asltpl7\n",
      "Enter password Asli\n"
     ]
    },
    {
     "name": "stdout",
     "output_type": "stream",
     "text": [
      "your password must be at least five and no more than ten-digit\n"
     ]
    },
    {
     "name": "stdin",
     "output_type": "stream",
     "text": [
      "Enter password Asli147852369*\n"
     ]
    },
    {
     "name": "stdout",
     "output_type": "stream",
     "text": [
      "your password must be at least five and no more than ten-digit\n"
     ]
    },
    {
     "name": "stdin",
     "output_type": "stream",
     "text": [
      "Enter password Asli1606*\n"
     ]
    },
    {
     "name": "stdout",
     "output_type": "stream",
     "text": [
      "welcome asltpl7, your account has been created. Your password Asli1606*\n"
     ]
    }
   ],
   "source": [
    "user_name = input(\"Enter username\")\n",
    "while True:\n",
    "    password = input(\"Enter password\")\n",
    "    pw_len = len(password)\n",
    "    if((pw_len >= 5) and (pw_len <= 10)):\n",
    "        print(f\"welcome {user_name}, your account has been created. Your password {password}\")\n",
    "        break\n",
    "    else:\n",
    "        print(\"your password must be at least five and no more than ten-digit\")"
   ]
  },
  {
   "cell_type": "markdown",
   "id": "c74c6bf3-45af-48e4-a963-0250e1d57dc1",
   "metadata": {},
   "source": [
    "### Ödev-4: Kullanıcıdan isim ve şifre isteyeceğiz ve şifre girişi için üç hak verilir.\n",
    "* Eğer önceden tanımlı şifre ile kullanıcıdan gelen şifre aynıysa \"Giriş yapıldı.\" yazar. \n",
    "* Şifre girişi yanlışsa \"Yanlış şifre girildi!\" uyarısı verilsin ve üç yanlış denemede program biter. \n",
    "* Tercihe göre kalan hak bilgisi verilir. "
   ]
  },
  {
   "cell_type": "code",
   "execution_count": 5,
   "id": "3b8a522e-7b18-4d21-9132-c0cf6e0dc686",
   "metadata": {},
   "outputs": [
    {
     "name": "stdin",
     "output_type": "stream",
     "text": [
      "Enter username asltpl7\n",
      "Enter password Asli\n"
     ]
    },
    {
     "name": "stdout",
     "output_type": "stream",
     "text": [
      "your password must be at least five and no more than ten-digit, you have the right to try 2\n"
     ]
    },
    {
     "name": "stdin",
     "output_type": "stream",
     "text": [
      "Enter password Asli1606*\n"
     ]
    },
    {
     "name": "stdout",
     "output_type": "stream",
     "text": [
      "welcome asltpl7, your account has been created. Your password Asli1606*\n"
     ]
    }
   ],
   "source": [
    "right_to_try = 3\n",
    "user_name = input(\"Enter username\")\n",
    "while right_to_try > 0:\n",
    "    password = input(\"Enter password\")\n",
    "    pw_len = len(password)\n",
    "    if((pw_len >= 5) and (pw_len <= 10)):\n",
    "        print(f\"welcome {user_name}, your account has been created. Your password {password}\")\n",
    "        break\n",
    "    else:\n",
    "        right_to_try -=1\n",
    "        print(f\"your password must be at least five and no more than ten-digit, you have the right to try {right_to_try}\")"
   ]
  },
  {
   "cell_type": "code",
   "execution_count": null,
   "id": "cae6e99e-02d6-44f6-8cca-27ab5d0086e9",
   "metadata": {},
   "outputs": [],
   "source": []
  }
 ],
 "metadata": {
  "kernelspec": {
   "display_name": "Python 3 (ipykernel)",
   "language": "python",
   "name": "python3"
  },
  "language_info": {
   "codemirror_mode": {
    "name": "ipython",
    "version": 3
   },
   "file_extension": ".py",
   "mimetype": "text/x-python",
   "name": "python",
   "nbconvert_exporter": "python",
   "pygments_lexer": "ipython3",
   "version": "3.11.7"
  }
 },
 "nbformat": 4,
 "nbformat_minor": 5
}
